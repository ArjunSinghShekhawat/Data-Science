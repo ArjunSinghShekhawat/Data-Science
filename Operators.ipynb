{
 "cells": [
  {
   "cell_type": "markdown",
   "id": "b50b2853-5282-48f5-a201-50357e916cb6",
   "metadata": {},
   "source": [
    "<!-- Operator = In python and any other programming language operator is used to perform a mathamaticle last in programming.\n",
    "There are mutiple types of operator available in python.\n",
    "1.Arithmatic Operator\n",
    "2.Relational Operator\n",
    "3.logical Operator\n",
    "4.bitwise Operator\n",
    "5.Left and Right shieft operator -->\n"
   ]
  },
  {
   "cell_type": "markdown",
   "id": "ae9dd72f-ec4a-49ab-aaca-0d3d9fe70982",
   "metadata": {},
   "source": [
    "1.Arithmatic Operator"
   ]
  },
  {
   "cell_type": "code",
   "execution_count": null,
   "id": "9fc327a9-a840-4818-8752-fc5097926519",
   "metadata": {},
   "outputs": [],
   "source": [
    "1+2"
   ]
  },
  {
   "cell_type": "code",
   "execution_count": 2,
   "id": "c05e4e93-e091-4e4e-ad5b-8a2ae5358f2c",
   "metadata": {},
   "outputs": [
    {
     "data": {
      "text/plain": [
       "-67"
      ]
     },
     "execution_count": 2,
     "metadata": {},
     "output_type": "execute_result"
    }
   ],
   "source": [
    "23-90"
   ]
  },
  {
   "cell_type": "code",
   "execution_count": 3,
   "id": "6baf84f2-a56b-419d-8c73-7114246f0146",
   "metadata": {},
   "outputs": [
    {
     "data": {
      "text/plain": [
       "1495"
      ]
     },
     "execution_count": 3,
     "metadata": {},
     "output_type": "execute_result"
    }
   ],
   "source": [
    "23*65"
   ]
  },
  {
   "cell_type": "code",
   "execution_count": 4,
   "id": "b77a8f5c-d03a-484d-87f6-9d19933df470",
   "metadata": {},
   "outputs": [
    {
     "data": {
      "text/plain": [
       "40.0"
      ]
     },
     "execution_count": 4,
     "metadata": {},
     "output_type": "execute_result"
    }
   ],
   "source": [
    "400/10"
   ]
  },
  {
   "cell_type": "code",
   "execution_count": 5,
   "id": "f17b066d-7a8a-4f61-a956-bd4d9997fd57",
   "metadata": {},
   "outputs": [
    {
     "data": {
      "text/plain": [
       "2"
      ]
     },
     "execution_count": 5,
     "metadata": {},
     "output_type": "execute_result"
    }
   ],
   "source": [
    "12//5"
   ]
  },
  {
   "cell_type": "code",
   "execution_count": 6,
   "id": "51e00382-c5b4-4b0c-8018-ce90bedf5669",
   "metadata": {},
   "outputs": [
    {
     "data": {
      "text/plain": [
       "1024"
      ]
     },
     "execution_count": 6,
     "metadata": {},
     "output_type": "execute_result"
    }
   ],
   "source": [
    "2**10"
   ]
  },
  {
   "cell_type": "code",
   "execution_count": 7,
   "id": "02d210d8-b28d-4223-b76c-190b1ea772d7",
   "metadata": {},
   "outputs": [
    {
     "data": {
      "text/plain": [
       "2"
      ]
     },
     "execution_count": 7,
     "metadata": {},
     "output_type": "execute_result"
    }
   ],
   "source": [
    "12%5"
   ]
  },
  {
   "cell_type": "markdown",
   "id": "1fa299dc-b4ad-40f6-8008-6a4a95ce193d",
   "metadata": {},
   "source": [
    "2.Relational Operator"
   ]
  },
  {
   "cell_type": "code",
   "execution_count": 8,
   "id": "2ddc6934-36cc-49b1-a1fe-f2ef29603bd7",
   "metadata": {},
   "outputs": [
    {
     "data": {
      "text/plain": [
       "True"
      ]
     },
     "execution_count": 8,
     "metadata": {},
     "output_type": "execute_result"
    }
   ],
   "source": [
    "True>False"
   ]
  },
  {
   "cell_type": "code",
   "execution_count": 9,
   "id": "ba03938e-f206-49f4-bf63-9c232014f2d2",
   "metadata": {},
   "outputs": [
    {
     "data": {
      "text/plain": [
       "True"
      ]
     },
     "execution_count": 9,
     "metadata": {},
     "output_type": "execute_result"
    }
   ],
   "source": [
    "False==False"
   ]
  },
  {
   "cell_type": "code",
   "execution_count": 10,
   "id": "795ce132-0acd-47a6-aec9-bb285e821486",
   "metadata": {},
   "outputs": [
    {
     "data": {
      "text/plain": [
       "False"
      ]
     },
     "execution_count": 10,
     "metadata": {},
     "output_type": "execute_result"
    }
   ],
   "source": [
    "True<False"
   ]
  },
  {
   "cell_type": "code",
   "execution_count": 11,
   "id": "75c39c1c-f955-4b77-858a-7d6b3940b87a",
   "metadata": {},
   "outputs": [
    {
     "data": {
      "text/plain": [
       "True"
      ]
     },
     "execution_count": 11,
     "metadata": {},
     "output_type": "execute_result"
    }
   ],
   "source": [
    "True>=False"
   ]
  },
  {
   "cell_type": "code",
   "execution_count": 12,
   "id": "42d82197-501a-4691-aa5c-acf4ff3dac36",
   "metadata": {},
   "outputs": [
    {
     "data": {
      "text/plain": [
       "True"
      ]
     },
     "execution_count": 12,
     "metadata": {},
     "output_type": "execute_result"
    }
   ],
   "source": [
    "False<=True"
   ]
  },
  {
   "cell_type": "markdown",
   "id": "eeedcf26-b948-4abd-83ac-60b3079b2421",
   "metadata": {},
   "source": [
    "3.logical Operator"
   ]
  },
  {
   "cell_type": "code",
   "execution_count": 13,
   "id": "ed0ea74b-17d3-4a4d-b0a2-270ecfa75b70",
   "metadata": {},
   "outputs": [
    {
     "data": {
      "text/plain": [
       "False"
      ]
     },
     "execution_count": 13,
     "metadata": {},
     "output_type": "execute_result"
    }
   ],
   "source": [
    "True and False"
   ]
  },
  {
   "cell_type": "code",
   "execution_count": 14,
   "id": "492156d7-f005-47ba-82ab-3dbdcd4e5984",
   "metadata": {},
   "outputs": [
    {
     "data": {
      "text/plain": [
       "True"
      ]
     },
     "execution_count": 14,
     "metadata": {},
     "output_type": "execute_result"
    }
   ],
   "source": [
    "True and True"
   ]
  },
  {
   "cell_type": "code",
   "execution_count": 15,
   "id": "31c57489-906a-472e-8e65-3a07fa339a5e",
   "metadata": {},
   "outputs": [
    {
     "data": {
      "text/plain": [
       "False"
      ]
     },
     "execution_count": 15,
     "metadata": {},
     "output_type": "execute_result"
    }
   ],
   "source": [
    "False and True"
   ]
  },
  {
   "cell_type": "code",
   "execution_count": 16,
   "id": "d8810fbf-f7a2-4532-8f9b-03f32110fd5c",
   "metadata": {},
   "outputs": [
    {
     "data": {
      "text/plain": [
       "False"
      ]
     },
     "execution_count": 16,
     "metadata": {},
     "output_type": "execute_result"
    }
   ],
   "source": [
    "False and False"
   ]
  },
  {
   "cell_type": "code",
   "execution_count": 17,
   "id": "f803c363-e5eb-4f37-b946-b555f36c77fc",
   "metadata": {},
   "outputs": [
    {
     "data": {
      "text/plain": [
       "True"
      ]
     },
     "execution_count": 17,
     "metadata": {},
     "output_type": "execute_result"
    }
   ],
   "source": [
    "True or True"
   ]
  },
  {
   "cell_type": "code",
   "execution_count": 18,
   "id": "e667bf91-6d49-4067-8c91-a364acf3ec66",
   "metadata": {},
   "outputs": [
    {
     "data": {
      "text/plain": [
       "True"
      ]
     },
     "execution_count": 18,
     "metadata": {},
     "output_type": "execute_result"
    }
   ],
   "source": [
    "True or False"
   ]
  },
  {
   "cell_type": "code",
   "execution_count": 19,
   "id": "3eb7ad53-7884-4c0e-8d6d-d020daf2588e",
   "metadata": {},
   "outputs": [
    {
     "data": {
      "text/plain": [
       "False"
      ]
     },
     "execution_count": 19,
     "metadata": {},
     "output_type": "execute_result"
    }
   ],
   "source": [
    "False or False"
   ]
  },
  {
   "cell_type": "code",
   "execution_count": 20,
   "id": "34a4412f-415f-4935-a784-f081a05c6aea",
   "metadata": {},
   "outputs": [
    {
     "data": {
      "text/plain": [
       "False"
      ]
     },
     "execution_count": 20,
     "metadata": {},
     "output_type": "execute_result"
    }
   ],
   "source": [
    "False or False"
   ]
  },
  {
   "cell_type": "code",
   "execution_count": 21,
   "id": "effdd91a-c4bd-4bf1-8d71-b85c6243f59d",
   "metadata": {},
   "outputs": [
    {
     "data": {
      "text/plain": [
       "False"
      ]
     },
     "execution_count": 21,
     "metadata": {},
     "output_type": "execute_result"
    }
   ],
   "source": [
    "not True"
   ]
  },
  {
   "cell_type": "code",
   "execution_count": 22,
   "id": "67806800-3a36-4127-8242-efeb50355ca1",
   "metadata": {},
   "outputs": [
    {
     "data": {
      "text/plain": [
       "True"
      ]
     },
     "execution_count": 22,
     "metadata": {},
     "output_type": "execute_result"
    }
   ],
   "source": [
    "not False"
   ]
  },
  {
   "cell_type": "code",
   "execution_count": 23,
   "id": "c04398bc-2ea7-4e5c-ba11-77b6f8696702",
   "metadata": {},
   "outputs": [
    {
     "data": {
      "text/plain": [
       "0"
      ]
     },
     "execution_count": 23,
     "metadata": {},
     "output_type": "execute_result"
    }
   ],
   "source": [
    "1 and 0"
   ]
  },
  {
   "cell_type": "code",
   "execution_count": 24,
   "id": "f3fbaf1d-fb57-4258-be8e-4878f56e78a7",
   "metadata": {},
   "outputs": [
    {
     "data": {
      "text/plain": [
       "0"
      ]
     },
     "execution_count": 24,
     "metadata": {},
     "output_type": "execute_result"
    }
   ],
   "source": [
    "0 and 0"
   ]
  },
  {
   "cell_type": "code",
   "execution_count": 25,
   "id": "77d53979-9022-4f82-8b9a-685ffaf8835b",
   "metadata": {},
   "outputs": [
    {
     "data": {
      "text/plain": [
       "1"
      ]
     },
     "execution_count": 25,
     "metadata": {},
     "output_type": "execute_result"
    }
   ],
   "source": [
    "1 or 1"
   ]
  },
  {
   "cell_type": "code",
   "execution_count": 26,
   "id": "8cc885a7-d3b5-4d9d-a85f-8420f62d439a",
   "metadata": {},
   "outputs": [
    {
     "data": {
      "text/plain": [
       "0"
      ]
     },
     "execution_count": 26,
     "metadata": {},
     "output_type": "execute_result"
    }
   ],
   "source": [
    "0 and 1"
   ]
  },
  {
   "cell_type": "code",
   "execution_count": 27,
   "id": "6d263ebc-c06b-4414-a3b9-6250b80f27b6",
   "metadata": {},
   "outputs": [
    {
     "data": {
      "text/plain": [
       "True"
      ]
     },
     "execution_count": 27,
     "metadata": {},
     "output_type": "execute_result"
    }
   ],
   "source": [
    "not 0"
   ]
  },
  {
   "cell_type": "markdown",
   "id": "df7a6be2-ffaf-4ec0-bf20-73298aa215bb",
   "metadata": {},
   "source": [
    "Left and Right shieft operator"
   ]
  },
  {
   "cell_type": "code",
   "execution_count": 28,
   "id": "82e1d0af-ee65-436a-b4b1-621f42ea53c3",
   "metadata": {},
   "outputs": [
    {
     "data": {
      "text/plain": [
       "2"
      ]
     },
     "execution_count": 28,
     "metadata": {},
     "output_type": "execute_result"
    }
   ],
   "source": [
    "10>>2"
   ]
  },
  {
   "cell_type": "code",
   "execution_count": 29,
   "id": "223db18d-48e8-48e8-a229-9cedd631cec4",
   "metadata": {},
   "outputs": [
    {
     "data": {
      "text/plain": [
       "40"
      ]
     },
     "execution_count": 29,
     "metadata": {},
     "output_type": "execute_result"
    }
   ],
   "source": [
    "10<<2"
   ]
  },
  {
   "cell_type": "code",
   "execution_count": 30,
   "id": "0c90c100-3713-4228-8d71-6833f59dcb87",
   "metadata": {},
   "outputs": [
    {
     "data": {
      "text/plain": [
       "'0b1010'"
      ]
     },
     "execution_count": 30,
     "metadata": {},
     "output_type": "execute_result"
    }
   ],
   "source": [
    "bin(10)"
   ]
  },
  {
   "cell_type": "markdown",
   "id": "2f2ed582-0f7b-4ae6-8437-bb6f00ab14ad",
   "metadata": {},
   "source": [
    "4.bitwise Operator"
   ]
  },
  {
   "cell_type": "code",
   "execution_count": 31,
   "id": "087fdbc7-cef5-4126-8848-9b491677f75d",
   "metadata": {},
   "outputs": [
    {
     "data": {
      "text/plain": [
       "10"
      ]
     },
     "execution_count": 31,
     "metadata": {},
     "output_type": "execute_result"
    }
   ],
   "source": [
    "10&11"
   ]
  },
  {
   "cell_type": "code",
   "execution_count": 32,
   "id": "a9c648ff-05bd-4cc1-a6ef-d6fb3b414477",
   "metadata": {},
   "outputs": [
    {
     "data": {
      "text/plain": [
       "90"
      ]
     },
     "execution_count": 32,
     "metadata": {},
     "output_type": "execute_result"
    }
   ],
   "source": [
    "10|90"
   ]
  },
  {
   "cell_type": "code",
   "execution_count": 33,
   "id": "ea794736-0189-499a-8e62-3326791fede1",
   "metadata": {},
   "outputs": [
    {
     "data": {
      "text/plain": [
       "'0b1011010'"
      ]
     },
     "execution_count": 33,
     "metadata": {},
     "output_type": "execute_result"
    }
   ],
   "source": [
    "bin(90)"
   ]
  },
  {
   "cell_type": "code",
   "execution_count": 34,
   "id": "3802885c-394a-42d6-b0ec-f1462a61ed12",
   "metadata": {},
   "outputs": [
    {
     "data": {
      "text/plain": [
       "'0b100010'"
      ]
     },
     "execution_count": 34,
     "metadata": {},
     "output_type": "execute_result"
    }
   ],
   "source": [
    "bin(34)"
   ]
  },
  {
   "cell_type": "code",
   "execution_count": null,
   "id": "b5aa0e61-b961-4bd9-b431-8932adc36f17",
   "metadata": {},
   "outputs": [],
   "source": []
  }
 ],
 "metadata": {
  "kernelspec": {
   "display_name": "Python 3 (ipykernel)",
   "language": "python",
   "name": "python3"
  },
  "language_info": {
   "codemirror_mode": {
    "name": "ipython",
    "version": 3
   },
   "file_extension": ".py",
   "mimetype": "text/x-python",
   "name": "python",
   "nbconvert_exporter": "python",
   "pygments_lexer": "ipython3",
   "version": "3.10.8"
  }
 },
 "nbformat": 4,
 "nbformat_minor": 5
}
