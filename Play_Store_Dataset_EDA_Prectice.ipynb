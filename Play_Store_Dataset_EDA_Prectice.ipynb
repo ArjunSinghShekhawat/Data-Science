{
 "cells": [
  {
   "cell_type": "code",
   "execution_count": 30,
   "id": "51cf2c8c-67ab-4bbb-875c-16385208dfa1",
   "metadata": {},
   "outputs": [],
   "source": [
    "import pandas as pd\n",
    "import numpy as np\n",
    "import seaborn as sns\n",
    "import matplotlib.pyplot as plt\n",
    "%matplotlib inline\n",
    "import warnings\n",
    "warnings.filterwarnings('ignore')"
   ]
  },
  {
   "cell_type": "code",
   "execution_count": 31,
   "id": "d8b4cf4d-9aee-458e-bfbc-19ad255b9a51",
   "metadata": {},
   "outputs": [],
   "source": [
    "df = pd.read_csv('https://raw.githubusercontent.com/krishnaik06/playstore-Dataset/main/googleplaystore.csv')"
   ]
  },
  {
   "cell_type": "code",
   "execution_count": 32,
   "id": "4a3696c7-14e0-4e90-b7d3-118258b40174",
   "metadata": {},
   "outputs": [
    {
     "data": {
      "text/html": [
       "<div>\n",
       "<style scoped>\n",
       "    .dataframe tbody tr th:only-of-type {\n",
       "        vertical-align: middle;\n",
       "    }\n",
       "\n",
       "    .dataframe tbody tr th {\n",
       "        vertical-align: top;\n",
       "    }\n",
       "\n",
       "    .dataframe thead th {\n",
       "        text-align: right;\n",
       "    }\n",
       "</style>\n",
       "<table border=\"1\" class=\"dataframe\">\n",
       "  <thead>\n",
       "    <tr style=\"text-align: right;\">\n",
       "      <th></th>\n",
       "      <th>App</th>\n",
       "      <th>Category</th>\n",
       "      <th>Rating</th>\n",
       "      <th>Reviews</th>\n",
       "      <th>Size</th>\n",
       "      <th>Installs</th>\n",
       "      <th>Type</th>\n",
       "      <th>Price</th>\n",
       "      <th>Content Rating</th>\n",
       "      <th>Genres</th>\n",
       "      <th>Last Updated</th>\n",
       "      <th>Current Ver</th>\n",
       "      <th>Android Ver</th>\n",
       "    </tr>\n",
       "  </thead>\n",
       "  <tbody>\n",
       "    <tr>\n",
       "      <th>0</th>\n",
       "      <td>Photo Editor &amp; Candy Camera &amp; Grid &amp; ScrapBook</td>\n",
       "      <td>ART_AND_DESIGN</td>\n",
       "      <td>4.1</td>\n",
       "      <td>159</td>\n",
       "      <td>19M</td>\n",
       "      <td>10,000+</td>\n",
       "      <td>Free</td>\n",
       "      <td>0</td>\n",
       "      <td>Everyone</td>\n",
       "      <td>Art &amp; Design</td>\n",
       "      <td>January 7, 2018</td>\n",
       "      <td>1.0.0</td>\n",
       "      <td>4.0.3 and up</td>\n",
       "    </tr>\n",
       "    <tr>\n",
       "      <th>1</th>\n",
       "      <td>Coloring book moana</td>\n",
       "      <td>ART_AND_DESIGN</td>\n",
       "      <td>3.9</td>\n",
       "      <td>967</td>\n",
       "      <td>14M</td>\n",
       "      <td>500,000+</td>\n",
       "      <td>Free</td>\n",
       "      <td>0</td>\n",
       "      <td>Everyone</td>\n",
       "      <td>Art &amp; Design;Pretend Play</td>\n",
       "      <td>January 15, 2018</td>\n",
       "      <td>2.0.0</td>\n",
       "      <td>4.0.3 and up</td>\n",
       "    </tr>\n",
       "    <tr>\n",
       "      <th>2</th>\n",
       "      <td>U Launcher Lite – FREE Live Cool Themes, Hide ...</td>\n",
       "      <td>ART_AND_DESIGN</td>\n",
       "      <td>4.7</td>\n",
       "      <td>87510</td>\n",
       "      <td>8.7M</td>\n",
       "      <td>5,000,000+</td>\n",
       "      <td>Free</td>\n",
       "      <td>0</td>\n",
       "      <td>Everyone</td>\n",
       "      <td>Art &amp; Design</td>\n",
       "      <td>August 1, 2018</td>\n",
       "      <td>1.2.4</td>\n",
       "      <td>4.0.3 and up</td>\n",
       "    </tr>\n",
       "    <tr>\n",
       "      <th>3</th>\n",
       "      <td>Sketch - Draw &amp; Paint</td>\n",
       "      <td>ART_AND_DESIGN</td>\n",
       "      <td>4.5</td>\n",
       "      <td>215644</td>\n",
       "      <td>25M</td>\n",
       "      <td>50,000,000+</td>\n",
       "      <td>Free</td>\n",
       "      <td>0</td>\n",
       "      <td>Teen</td>\n",
       "      <td>Art &amp; Design</td>\n",
       "      <td>June 8, 2018</td>\n",
       "      <td>Varies with device</td>\n",
       "      <td>4.2 and up</td>\n",
       "    </tr>\n",
       "    <tr>\n",
       "      <th>4</th>\n",
       "      <td>Pixel Draw - Number Art Coloring Book</td>\n",
       "      <td>ART_AND_DESIGN</td>\n",
       "      <td>4.3</td>\n",
       "      <td>967</td>\n",
       "      <td>2.8M</td>\n",
       "      <td>100,000+</td>\n",
       "      <td>Free</td>\n",
       "      <td>0</td>\n",
       "      <td>Everyone</td>\n",
       "      <td>Art &amp; Design;Creativity</td>\n",
       "      <td>June 20, 2018</td>\n",
       "      <td>1.1</td>\n",
       "      <td>4.4 and up</td>\n",
       "    </tr>\n",
       "    <tr>\n",
       "      <th>...</th>\n",
       "      <td>...</td>\n",
       "      <td>...</td>\n",
       "      <td>...</td>\n",
       "      <td>...</td>\n",
       "      <td>...</td>\n",
       "      <td>...</td>\n",
       "      <td>...</td>\n",
       "      <td>...</td>\n",
       "      <td>...</td>\n",
       "      <td>...</td>\n",
       "      <td>...</td>\n",
       "      <td>...</td>\n",
       "      <td>...</td>\n",
       "    </tr>\n",
       "    <tr>\n",
       "      <th>10836</th>\n",
       "      <td>Sya9a Maroc - FR</td>\n",
       "      <td>FAMILY</td>\n",
       "      <td>4.5</td>\n",
       "      <td>38</td>\n",
       "      <td>53M</td>\n",
       "      <td>5,000+</td>\n",
       "      <td>Free</td>\n",
       "      <td>0</td>\n",
       "      <td>Everyone</td>\n",
       "      <td>Education</td>\n",
       "      <td>July 25, 2017</td>\n",
       "      <td>1.48</td>\n",
       "      <td>4.1 and up</td>\n",
       "    </tr>\n",
       "    <tr>\n",
       "      <th>10837</th>\n",
       "      <td>Fr. Mike Schmitz Audio Teachings</td>\n",
       "      <td>FAMILY</td>\n",
       "      <td>5.0</td>\n",
       "      <td>4</td>\n",
       "      <td>3.6M</td>\n",
       "      <td>100+</td>\n",
       "      <td>Free</td>\n",
       "      <td>0</td>\n",
       "      <td>Everyone</td>\n",
       "      <td>Education</td>\n",
       "      <td>July 6, 2018</td>\n",
       "      <td>1.0</td>\n",
       "      <td>4.1 and up</td>\n",
       "    </tr>\n",
       "    <tr>\n",
       "      <th>10838</th>\n",
       "      <td>Parkinson Exercices FR</td>\n",
       "      <td>MEDICAL</td>\n",
       "      <td>NaN</td>\n",
       "      <td>3</td>\n",
       "      <td>9.5M</td>\n",
       "      <td>1,000+</td>\n",
       "      <td>Free</td>\n",
       "      <td>0</td>\n",
       "      <td>Everyone</td>\n",
       "      <td>Medical</td>\n",
       "      <td>January 20, 2017</td>\n",
       "      <td>1.0</td>\n",
       "      <td>2.2 and up</td>\n",
       "    </tr>\n",
       "    <tr>\n",
       "      <th>10839</th>\n",
       "      <td>The SCP Foundation DB fr nn5n</td>\n",
       "      <td>BOOKS_AND_REFERENCE</td>\n",
       "      <td>4.5</td>\n",
       "      <td>114</td>\n",
       "      <td>Varies with device</td>\n",
       "      <td>1,000+</td>\n",
       "      <td>Free</td>\n",
       "      <td>0</td>\n",
       "      <td>Mature 17+</td>\n",
       "      <td>Books &amp; Reference</td>\n",
       "      <td>January 19, 2015</td>\n",
       "      <td>Varies with device</td>\n",
       "      <td>Varies with device</td>\n",
       "    </tr>\n",
       "    <tr>\n",
       "      <th>10840</th>\n",
       "      <td>iHoroscope - 2018 Daily Horoscope &amp; Astrology</td>\n",
       "      <td>LIFESTYLE</td>\n",
       "      <td>4.5</td>\n",
       "      <td>398307</td>\n",
       "      <td>19M</td>\n",
       "      <td>10,000,000+</td>\n",
       "      <td>Free</td>\n",
       "      <td>0</td>\n",
       "      <td>Everyone</td>\n",
       "      <td>Lifestyle</td>\n",
       "      <td>July 25, 2018</td>\n",
       "      <td>Varies with device</td>\n",
       "      <td>Varies with device</td>\n",
       "    </tr>\n",
       "  </tbody>\n",
       "</table>\n",
       "<p>10841 rows × 13 columns</p>\n",
       "</div>"
      ],
      "text/plain": [
       "                                                     App             Category  \\\n",
       "0         Photo Editor & Candy Camera & Grid & ScrapBook       ART_AND_DESIGN   \n",
       "1                                    Coloring book moana       ART_AND_DESIGN   \n",
       "2      U Launcher Lite – FREE Live Cool Themes, Hide ...       ART_AND_DESIGN   \n",
       "3                                  Sketch - Draw & Paint       ART_AND_DESIGN   \n",
       "4                  Pixel Draw - Number Art Coloring Book       ART_AND_DESIGN   \n",
       "...                                                  ...                  ...   \n",
       "10836                                   Sya9a Maroc - FR               FAMILY   \n",
       "10837                   Fr. Mike Schmitz Audio Teachings               FAMILY   \n",
       "10838                             Parkinson Exercices FR              MEDICAL   \n",
       "10839                      The SCP Foundation DB fr nn5n  BOOKS_AND_REFERENCE   \n",
       "10840      iHoroscope - 2018 Daily Horoscope & Astrology            LIFESTYLE   \n",
       "\n",
       "       Rating Reviews                Size     Installs  Type Price  \\\n",
       "0         4.1     159                 19M      10,000+  Free     0   \n",
       "1         3.9     967                 14M     500,000+  Free     0   \n",
       "2         4.7   87510                8.7M   5,000,000+  Free     0   \n",
       "3         4.5  215644                 25M  50,000,000+  Free     0   \n",
       "4         4.3     967                2.8M     100,000+  Free     0   \n",
       "...       ...     ...                 ...          ...   ...   ...   \n",
       "10836     4.5      38                 53M       5,000+  Free     0   \n",
       "10837     5.0       4                3.6M         100+  Free     0   \n",
       "10838     NaN       3                9.5M       1,000+  Free     0   \n",
       "10839     4.5     114  Varies with device       1,000+  Free     0   \n",
       "10840     4.5  398307                 19M  10,000,000+  Free     0   \n",
       "\n",
       "      Content Rating                     Genres      Last Updated  \\\n",
       "0           Everyone               Art & Design   January 7, 2018   \n",
       "1           Everyone  Art & Design;Pretend Play  January 15, 2018   \n",
       "2           Everyone               Art & Design    August 1, 2018   \n",
       "3               Teen               Art & Design      June 8, 2018   \n",
       "4           Everyone    Art & Design;Creativity     June 20, 2018   \n",
       "...              ...                        ...               ...   \n",
       "10836       Everyone                  Education     July 25, 2017   \n",
       "10837       Everyone                  Education      July 6, 2018   \n",
       "10838       Everyone                    Medical  January 20, 2017   \n",
       "10839     Mature 17+          Books & Reference  January 19, 2015   \n",
       "10840       Everyone                  Lifestyle     July 25, 2018   \n",
       "\n",
       "              Current Ver         Android Ver  \n",
       "0                   1.0.0        4.0.3 and up  \n",
       "1                   2.0.0        4.0.3 and up  \n",
       "2                   1.2.4        4.0.3 and up  \n",
       "3      Varies with device          4.2 and up  \n",
       "4                     1.1          4.4 and up  \n",
       "...                   ...                 ...  \n",
       "10836                1.48          4.1 and up  \n",
       "10837                 1.0          4.1 and up  \n",
       "10838                 1.0          2.2 and up  \n",
       "10839  Varies with device  Varies with device  \n",
       "10840  Varies with device  Varies with device  \n",
       "\n",
       "[10841 rows x 13 columns]"
      ]
     },
     "execution_count": 32,
     "metadata": {},
     "output_type": "execute_result"
    }
   ],
   "source": [
    "df"
   ]
  },
  {
   "cell_type": "code",
   "execution_count": 33,
   "id": "90031864-88f8-46b1-ac94-eaaca5a7eed7",
   "metadata": {},
   "outputs": [
    {
     "data": {
      "text/plain": [
       "Index(['App', 'Category', 'Rating', 'Reviews', 'Size', 'Installs', 'Type',\n",
       "       'Price', 'Content Rating', 'Genres', 'Last Updated', 'Current Ver',\n",
       "       'Android Ver'],\n",
       "      dtype='object')"
      ]
     },
     "execution_count": 33,
     "metadata": {},
     "output_type": "execute_result"
    }
   ],
   "source": [
    "df.columns"
   ]
  },
  {
   "cell_type": "code",
   "execution_count": 34,
   "id": "885eebb2-c738-4eb2-833e-e278634de4bc",
   "metadata": {},
   "outputs": [
    {
     "name": "stdout",
     "output_type": "stream",
     "text": [
      "<class 'pandas.core.frame.DataFrame'>\n",
      "RangeIndex: 10841 entries, 0 to 10840\n",
      "Data columns (total 13 columns):\n",
      " #   Column          Non-Null Count  Dtype  \n",
      "---  ------          --------------  -----  \n",
      " 0   App             10841 non-null  object \n",
      " 1   Category        10841 non-null  object \n",
      " 2   Rating          9367 non-null   float64\n",
      " 3   Reviews         10841 non-null  object \n",
      " 4   Size            10841 non-null  object \n",
      " 5   Installs        10841 non-null  object \n",
      " 6   Type            10840 non-null  object \n",
      " 7   Price           10841 non-null  object \n",
      " 8   Content Rating  10840 non-null  object \n",
      " 9   Genres          10841 non-null  object \n",
      " 10  Last Updated    10841 non-null  object \n",
      " 11  Current Ver     10833 non-null  object \n",
      " 12  Android Ver     10838 non-null  object \n",
      "dtypes: float64(1), object(12)\n",
      "memory usage: 1.1+ MB\n"
     ]
    }
   ],
   "source": [
    "df.info()"
   ]
  },
  {
   "cell_type": "code",
   "execution_count": 35,
   "id": "5a7c9e4b-25df-4bc7-9d71-83950618acb7",
   "metadata": {},
   "outputs": [
    {
     "data": {
      "text/plain": [
       "(10841, 13)"
      ]
     },
     "execution_count": 35,
     "metadata": {},
     "output_type": "execute_result"
    }
   ],
   "source": [
    "df.shape"
   ]
  },
  {
   "cell_type": "code",
   "execution_count": 36,
   "id": "53156e77-0ff6-4247-b949-70789c59058b",
   "metadata": {},
   "outputs": [
    {
     "data": {
      "text/html": [
       "<div>\n",
       "<style scoped>\n",
       "    .dataframe tbody tr th:only-of-type {\n",
       "        vertical-align: middle;\n",
       "    }\n",
       "\n",
       "    .dataframe tbody tr th {\n",
       "        vertical-align: top;\n",
       "    }\n",
       "\n",
       "    .dataframe thead th {\n",
       "        text-align: right;\n",
       "    }\n",
       "</style>\n",
       "<table border=\"1\" class=\"dataframe\">\n",
       "  <thead>\n",
       "    <tr style=\"text-align: right;\">\n",
       "      <th></th>\n",
       "      <th>Rating</th>\n",
       "    </tr>\n",
       "  </thead>\n",
       "  <tbody>\n",
       "    <tr>\n",
       "      <th>count</th>\n",
       "      <td>9367.000000</td>\n",
       "    </tr>\n",
       "    <tr>\n",
       "      <th>mean</th>\n",
       "      <td>4.193338</td>\n",
       "    </tr>\n",
       "    <tr>\n",
       "      <th>std</th>\n",
       "      <td>0.537431</td>\n",
       "    </tr>\n",
       "    <tr>\n",
       "      <th>min</th>\n",
       "      <td>1.000000</td>\n",
       "    </tr>\n",
       "    <tr>\n",
       "      <th>25%</th>\n",
       "      <td>4.000000</td>\n",
       "    </tr>\n",
       "    <tr>\n",
       "      <th>50%</th>\n",
       "      <td>4.300000</td>\n",
       "    </tr>\n",
       "    <tr>\n",
       "      <th>75%</th>\n",
       "      <td>4.500000</td>\n",
       "    </tr>\n",
       "    <tr>\n",
       "      <th>max</th>\n",
       "      <td>19.000000</td>\n",
       "    </tr>\n",
       "  </tbody>\n",
       "</table>\n",
       "</div>"
      ],
      "text/plain": [
       "            Rating\n",
       "count  9367.000000\n",
       "mean      4.193338\n",
       "std       0.537431\n",
       "min       1.000000\n",
       "25%       4.000000\n",
       "50%       4.300000\n",
       "75%       4.500000\n",
       "max      19.000000"
      ]
     },
     "execution_count": 36,
     "metadata": {},
     "output_type": "execute_result"
    }
   ],
   "source": [
    "df.describe()"
   ]
  },
  {
   "cell_type": "code",
   "execution_count": 37,
   "id": "21212f2a-a782-4b1e-95f4-024a1d855fb8",
   "metadata": {},
   "outputs": [
    {
     "data": {
      "text/plain": [
       "App                  0\n",
       "Category             0\n",
       "Rating            1474\n",
       "Reviews              0\n",
       "Size                 0\n",
       "Installs             0\n",
       "Type                 1\n",
       "Price                0\n",
       "Content Rating       1\n",
       "Genres               0\n",
       "Last Updated         0\n",
       "Current Ver          8\n",
       "Android Ver          3\n",
       "dtype: int64"
      ]
     },
     "execution_count": 37,
     "metadata": {},
     "output_type": "execute_result"
    }
   ],
   "source": [
    "df.isnull().sum()"
   ]
  },
  {
   "cell_type": "code",
   "execution_count": 38,
   "id": "d0718f24-6b52-457b-b3f5-0d93caa2f2b1",
   "metadata": {},
   "outputs": [],
   "source": [
    "#Dataset has imblance data set"
   ]
  },
  {
   "cell_type": "code",
   "execution_count": 39,
   "id": "915103f9-bedd-4491-bd11-7c8a4b457613",
   "metadata": {},
   "outputs": [
    {
     "data": {
      "text/html": [
       "<div>\n",
       "<style scoped>\n",
       "    .dataframe tbody tr th:only-of-type {\n",
       "        vertical-align: middle;\n",
       "    }\n",
       "\n",
       "    .dataframe tbody tr th {\n",
       "        vertical-align: top;\n",
       "    }\n",
       "\n",
       "    .dataframe thead th {\n",
       "        text-align: right;\n",
       "    }\n",
       "</style>\n",
       "<table border=\"1\" class=\"dataframe\">\n",
       "  <thead>\n",
       "    <tr style=\"text-align: right;\">\n",
       "      <th></th>\n",
       "      <th>App</th>\n",
       "      <th>Category</th>\n",
       "      <th>Rating</th>\n",
       "      <th>Reviews</th>\n",
       "      <th>Size</th>\n",
       "      <th>Installs</th>\n",
       "      <th>Type</th>\n",
       "      <th>Price</th>\n",
       "      <th>Content Rating</th>\n",
       "      <th>Genres</th>\n",
       "      <th>Last Updated</th>\n",
       "      <th>Current Ver</th>\n",
       "      <th>Android Ver</th>\n",
       "    </tr>\n",
       "  </thead>\n",
       "  <tbody>\n",
       "    <tr>\n",
       "      <th>0</th>\n",
       "      <td>Photo Editor &amp; Candy Camera &amp; Grid &amp; ScrapBook</td>\n",
       "      <td>ART_AND_DESIGN</td>\n",
       "      <td>4.1</td>\n",
       "      <td>159</td>\n",
       "      <td>19M</td>\n",
       "      <td>10,000+</td>\n",
       "      <td>Free</td>\n",
       "      <td>0</td>\n",
       "      <td>Everyone</td>\n",
       "      <td>Art &amp; Design</td>\n",
       "      <td>January 7, 2018</td>\n",
       "      <td>1.0.0</td>\n",
       "      <td>4.0.3 and up</td>\n",
       "    </tr>\n",
       "    <tr>\n",
       "      <th>1</th>\n",
       "      <td>Coloring book moana</td>\n",
       "      <td>ART_AND_DESIGN</td>\n",
       "      <td>3.9</td>\n",
       "      <td>967</td>\n",
       "      <td>14M</td>\n",
       "      <td>500,000+</td>\n",
       "      <td>Free</td>\n",
       "      <td>0</td>\n",
       "      <td>Everyone</td>\n",
       "      <td>Art &amp; Design;Pretend Play</td>\n",
       "      <td>January 15, 2018</td>\n",
       "      <td>2.0.0</td>\n",
       "      <td>4.0.3 and up</td>\n",
       "    </tr>\n",
       "  </tbody>\n",
       "</table>\n",
       "</div>"
      ],
      "text/plain": [
       "                                              App        Category  Rating  \\\n",
       "0  Photo Editor & Candy Camera & Grid & ScrapBook  ART_AND_DESIGN     4.1   \n",
       "1                             Coloring book moana  ART_AND_DESIGN     3.9   \n",
       "\n",
       "  Reviews Size  Installs  Type Price Content Rating  \\\n",
       "0     159  19M   10,000+  Free     0       Everyone   \n",
       "1     967  14M  500,000+  Free     0       Everyone   \n",
       "\n",
       "                      Genres      Last Updated Current Ver   Android Ver  \n",
       "0               Art & Design   January 7, 2018       1.0.0  4.0.3 and up  \n",
       "1  Art & Design;Pretend Play  January 15, 2018       2.0.0  4.0.3 and up  "
      ]
     },
     "execution_count": 39,
     "metadata": {},
     "output_type": "execute_result"
    }
   ],
   "source": [
    "df.head(2)"
   ]
  },
  {
   "cell_type": "code",
   "execution_count": 40,
   "id": "1fa9ef21-ff00-49f6-94e7-9292255f1632",
   "metadata": {},
   "outputs": [
    {
     "data": {
      "text/plain": [
       "0         596\n",
       "1         272\n",
       "2         214\n",
       "3         175\n",
       "4         137\n",
       "         ... \n",
       "342912      1\n",
       "4272        1\n",
       "5517        1\n",
       "4057        1\n",
       "398307      1\n",
       "Name: Reviews, Length: 6002, dtype: int64"
      ]
     },
     "execution_count": 40,
     "metadata": {},
     "output_type": "execute_result"
    }
   ],
   "source": [
    "df['Reviews'].value_counts()"
   ]
  },
  {
   "cell_type": "code",
   "execution_count": 41,
   "id": "105e129c-d01a-48ef-8ba8-c208ce320178",
   "metadata": {},
   "outputs": [
    {
     "ename": "ValueError",
     "evalue": "invalid literal for int() with base 10: '3.0M'",
     "output_type": "error",
     "traceback": [
      "\u001b[0;31m---------------------------------------------------------------------------\u001b[0m",
      "\u001b[0;31mValueError\u001b[0m                                Traceback (most recent call last)",
      "Cell \u001b[0;32mIn[41], line 1\u001b[0m\n\u001b[0;32m----> 1\u001b[0m \u001b[43mdf\u001b[49m\u001b[43m[\u001b[49m\u001b[38;5;124;43m'\u001b[39;49m\u001b[38;5;124;43mReviews\u001b[39;49m\u001b[38;5;124;43m'\u001b[39;49m\u001b[43m]\u001b[49m\u001b[38;5;241;43m.\u001b[39;49m\u001b[43mastype\u001b[49m\u001b[43m(\u001b[49m\u001b[38;5;28;43mint\u001b[39;49m\u001b[43m)\u001b[49m\n",
      "File \u001b[0;32m/opt/conda/lib/python3.10/site-packages/pandas/core/generic.py:6240\u001b[0m, in \u001b[0;36mNDFrame.astype\u001b[0;34m(self, dtype, copy, errors)\u001b[0m\n\u001b[1;32m   6233\u001b[0m     results \u001b[38;5;241m=\u001b[39m [\n\u001b[1;32m   6234\u001b[0m         \u001b[38;5;28mself\u001b[39m\u001b[38;5;241m.\u001b[39miloc[:, i]\u001b[38;5;241m.\u001b[39mastype(dtype, copy\u001b[38;5;241m=\u001b[39mcopy)\n\u001b[1;32m   6235\u001b[0m         \u001b[38;5;28;01mfor\u001b[39;00m i \u001b[38;5;129;01min\u001b[39;00m \u001b[38;5;28mrange\u001b[39m(\u001b[38;5;28mlen\u001b[39m(\u001b[38;5;28mself\u001b[39m\u001b[38;5;241m.\u001b[39mcolumns))\n\u001b[1;32m   6236\u001b[0m     ]\n\u001b[1;32m   6238\u001b[0m \u001b[38;5;28;01melse\u001b[39;00m:\n\u001b[1;32m   6239\u001b[0m     \u001b[38;5;66;03m# else, only a single dtype is given\u001b[39;00m\n\u001b[0;32m-> 6240\u001b[0m     new_data \u001b[38;5;241m=\u001b[39m \u001b[38;5;28;43mself\u001b[39;49m\u001b[38;5;241;43m.\u001b[39;49m\u001b[43m_mgr\u001b[49m\u001b[38;5;241;43m.\u001b[39;49m\u001b[43mastype\u001b[49m\u001b[43m(\u001b[49m\u001b[43mdtype\u001b[49m\u001b[38;5;241;43m=\u001b[39;49m\u001b[43mdtype\u001b[49m\u001b[43m,\u001b[49m\u001b[43m \u001b[49m\u001b[43mcopy\u001b[49m\u001b[38;5;241;43m=\u001b[39;49m\u001b[43mcopy\u001b[49m\u001b[43m,\u001b[49m\u001b[43m \u001b[49m\u001b[43merrors\u001b[49m\u001b[38;5;241;43m=\u001b[39;49m\u001b[43merrors\u001b[49m\u001b[43m)\u001b[49m\n\u001b[1;32m   6241\u001b[0m     \u001b[38;5;28;01mreturn\u001b[39;00m \u001b[38;5;28mself\u001b[39m\u001b[38;5;241m.\u001b[39m_constructor(new_data)\u001b[38;5;241m.\u001b[39m__finalize__(\u001b[38;5;28mself\u001b[39m, method\u001b[38;5;241m=\u001b[39m\u001b[38;5;124m\"\u001b[39m\u001b[38;5;124mastype\u001b[39m\u001b[38;5;124m\"\u001b[39m)\n\u001b[1;32m   6243\u001b[0m \u001b[38;5;66;03m# GH 33113: handle empty frame or series\u001b[39;00m\n",
      "File \u001b[0;32m/opt/conda/lib/python3.10/site-packages/pandas/core/internals/managers.py:450\u001b[0m, in \u001b[0;36mBaseBlockManager.astype\u001b[0;34m(self, dtype, copy, errors)\u001b[0m\n\u001b[1;32m    449\u001b[0m \u001b[38;5;28;01mdef\u001b[39;00m \u001b[38;5;21mastype\u001b[39m(\u001b[38;5;28mself\u001b[39m: T, dtype, copy: \u001b[38;5;28mbool\u001b[39m \u001b[38;5;241m=\u001b[39m \u001b[38;5;28;01mFalse\u001b[39;00m, errors: \u001b[38;5;28mstr\u001b[39m \u001b[38;5;241m=\u001b[39m \u001b[38;5;124m\"\u001b[39m\u001b[38;5;124mraise\u001b[39m\u001b[38;5;124m\"\u001b[39m) \u001b[38;5;241m-\u001b[39m\u001b[38;5;241m>\u001b[39m T:\n\u001b[0;32m--> 450\u001b[0m     \u001b[38;5;28;01mreturn\u001b[39;00m \u001b[38;5;28;43mself\u001b[39;49m\u001b[38;5;241;43m.\u001b[39;49m\u001b[43mapply\u001b[49m\u001b[43m(\u001b[49m\u001b[38;5;124;43m\"\u001b[39;49m\u001b[38;5;124;43mastype\u001b[39;49m\u001b[38;5;124;43m\"\u001b[39;49m\u001b[43m,\u001b[49m\u001b[43m \u001b[49m\u001b[43mdtype\u001b[49m\u001b[38;5;241;43m=\u001b[39;49m\u001b[43mdtype\u001b[49m\u001b[43m,\u001b[49m\u001b[43m \u001b[49m\u001b[43mcopy\u001b[49m\u001b[38;5;241;43m=\u001b[39;49m\u001b[43mcopy\u001b[49m\u001b[43m,\u001b[49m\u001b[43m \u001b[49m\u001b[43merrors\u001b[49m\u001b[38;5;241;43m=\u001b[39;49m\u001b[43merrors\u001b[49m\u001b[43m)\u001b[49m\n",
      "File \u001b[0;32m/opt/conda/lib/python3.10/site-packages/pandas/core/internals/managers.py:352\u001b[0m, in \u001b[0;36mBaseBlockManager.apply\u001b[0;34m(self, f, align_keys, ignore_failures, **kwargs)\u001b[0m\n\u001b[1;32m    350\u001b[0m         applied \u001b[38;5;241m=\u001b[39m b\u001b[38;5;241m.\u001b[39mapply(f, \u001b[38;5;241m*\u001b[39m\u001b[38;5;241m*\u001b[39mkwargs)\n\u001b[1;32m    351\u001b[0m     \u001b[38;5;28;01melse\u001b[39;00m:\n\u001b[0;32m--> 352\u001b[0m         applied \u001b[38;5;241m=\u001b[39m \u001b[38;5;28;43mgetattr\u001b[39;49m\u001b[43m(\u001b[49m\u001b[43mb\u001b[49m\u001b[43m,\u001b[49m\u001b[43m \u001b[49m\u001b[43mf\u001b[49m\u001b[43m)\u001b[49m\u001b[43m(\u001b[49m\u001b[38;5;241;43m*\u001b[39;49m\u001b[38;5;241;43m*\u001b[39;49m\u001b[43mkwargs\u001b[49m\u001b[43m)\u001b[49m\n\u001b[1;32m    353\u001b[0m \u001b[38;5;28;01mexcept\u001b[39;00m (\u001b[38;5;167;01mTypeError\u001b[39;00m, \u001b[38;5;167;01mNotImplementedError\u001b[39;00m):\n\u001b[1;32m    354\u001b[0m     \u001b[38;5;28;01mif\u001b[39;00m \u001b[38;5;129;01mnot\u001b[39;00m ignore_failures:\n",
      "File \u001b[0;32m/opt/conda/lib/python3.10/site-packages/pandas/core/internals/blocks.py:526\u001b[0m, in \u001b[0;36mBlock.astype\u001b[0;34m(self, dtype, copy, errors)\u001b[0m\n\u001b[1;32m    508\u001b[0m \u001b[38;5;124;03m\"\"\"\u001b[39;00m\n\u001b[1;32m    509\u001b[0m \u001b[38;5;124;03mCoerce to the new dtype.\u001b[39;00m\n\u001b[1;32m    510\u001b[0m \n\u001b[0;32m   (...)\u001b[0m\n\u001b[1;32m    522\u001b[0m \u001b[38;5;124;03mBlock\u001b[39;00m\n\u001b[1;32m    523\u001b[0m \u001b[38;5;124;03m\"\"\"\u001b[39;00m\n\u001b[1;32m    524\u001b[0m values \u001b[38;5;241m=\u001b[39m \u001b[38;5;28mself\u001b[39m\u001b[38;5;241m.\u001b[39mvalues\n\u001b[0;32m--> 526\u001b[0m new_values \u001b[38;5;241m=\u001b[39m \u001b[43mastype_array_safe\u001b[49m\u001b[43m(\u001b[49m\u001b[43mvalues\u001b[49m\u001b[43m,\u001b[49m\u001b[43m \u001b[49m\u001b[43mdtype\u001b[49m\u001b[43m,\u001b[49m\u001b[43m \u001b[49m\u001b[43mcopy\u001b[49m\u001b[38;5;241;43m=\u001b[39;49m\u001b[43mcopy\u001b[49m\u001b[43m,\u001b[49m\u001b[43m \u001b[49m\u001b[43merrors\u001b[49m\u001b[38;5;241;43m=\u001b[39;49m\u001b[43merrors\u001b[49m\u001b[43m)\u001b[49m\n\u001b[1;32m    528\u001b[0m new_values \u001b[38;5;241m=\u001b[39m maybe_coerce_values(new_values)\n\u001b[1;32m    529\u001b[0m newb \u001b[38;5;241m=\u001b[39m \u001b[38;5;28mself\u001b[39m\u001b[38;5;241m.\u001b[39mmake_block(new_values)\n",
      "File \u001b[0;32m/opt/conda/lib/python3.10/site-packages/pandas/core/dtypes/astype.py:299\u001b[0m, in \u001b[0;36mastype_array_safe\u001b[0;34m(values, dtype, copy, errors)\u001b[0m\n\u001b[1;32m    296\u001b[0m     \u001b[38;5;28;01mreturn\u001b[39;00m values\u001b[38;5;241m.\u001b[39mcopy()\n\u001b[1;32m    298\u001b[0m \u001b[38;5;28;01mtry\u001b[39;00m:\n\u001b[0;32m--> 299\u001b[0m     new_values \u001b[38;5;241m=\u001b[39m \u001b[43mastype_array\u001b[49m\u001b[43m(\u001b[49m\u001b[43mvalues\u001b[49m\u001b[43m,\u001b[49m\u001b[43m \u001b[49m\u001b[43mdtype\u001b[49m\u001b[43m,\u001b[49m\u001b[43m \u001b[49m\u001b[43mcopy\u001b[49m\u001b[38;5;241;43m=\u001b[39;49m\u001b[43mcopy\u001b[49m\u001b[43m)\u001b[49m\n\u001b[1;32m    300\u001b[0m \u001b[38;5;28;01mexcept\u001b[39;00m (\u001b[38;5;167;01mValueError\u001b[39;00m, \u001b[38;5;167;01mTypeError\u001b[39;00m):\n\u001b[1;32m    301\u001b[0m     \u001b[38;5;66;03m# e.g. astype_nansafe can fail on object-dtype of strings\u001b[39;00m\n\u001b[1;32m    302\u001b[0m     \u001b[38;5;66;03m#  trying to convert to float\u001b[39;00m\n\u001b[1;32m    303\u001b[0m     \u001b[38;5;28;01mif\u001b[39;00m errors \u001b[38;5;241m==\u001b[39m \u001b[38;5;124m\"\u001b[39m\u001b[38;5;124mignore\u001b[39m\u001b[38;5;124m\"\u001b[39m:\n",
      "File \u001b[0;32m/opt/conda/lib/python3.10/site-packages/pandas/core/dtypes/astype.py:230\u001b[0m, in \u001b[0;36mastype_array\u001b[0;34m(values, dtype, copy)\u001b[0m\n\u001b[1;32m    227\u001b[0m     values \u001b[38;5;241m=\u001b[39m values\u001b[38;5;241m.\u001b[39mastype(dtype, copy\u001b[38;5;241m=\u001b[39mcopy)\n\u001b[1;32m    229\u001b[0m \u001b[38;5;28;01melse\u001b[39;00m:\n\u001b[0;32m--> 230\u001b[0m     values \u001b[38;5;241m=\u001b[39m \u001b[43mastype_nansafe\u001b[49m\u001b[43m(\u001b[49m\u001b[43mvalues\u001b[49m\u001b[43m,\u001b[49m\u001b[43m \u001b[49m\u001b[43mdtype\u001b[49m\u001b[43m,\u001b[49m\u001b[43m \u001b[49m\u001b[43mcopy\u001b[49m\u001b[38;5;241;43m=\u001b[39;49m\u001b[43mcopy\u001b[49m\u001b[43m)\u001b[49m\n\u001b[1;32m    232\u001b[0m \u001b[38;5;66;03m# in pandas we don't store numpy str dtypes, so convert to object\u001b[39;00m\n\u001b[1;32m    233\u001b[0m \u001b[38;5;28;01mif\u001b[39;00m \u001b[38;5;28misinstance\u001b[39m(dtype, np\u001b[38;5;241m.\u001b[39mdtype) \u001b[38;5;129;01mand\u001b[39;00m \u001b[38;5;28missubclass\u001b[39m(values\u001b[38;5;241m.\u001b[39mdtype\u001b[38;5;241m.\u001b[39mtype, \u001b[38;5;28mstr\u001b[39m):\n",
      "File \u001b[0;32m/opt/conda/lib/python3.10/site-packages/pandas/core/dtypes/astype.py:170\u001b[0m, in \u001b[0;36mastype_nansafe\u001b[0;34m(arr, dtype, copy, skipna)\u001b[0m\n\u001b[1;32m    166\u001b[0m     \u001b[38;5;28;01mraise\u001b[39;00m \u001b[38;5;167;01mValueError\u001b[39;00m(msg)\n\u001b[1;32m    168\u001b[0m \u001b[38;5;28;01mif\u001b[39;00m copy \u001b[38;5;129;01mor\u001b[39;00m is_object_dtype(arr\u001b[38;5;241m.\u001b[39mdtype) \u001b[38;5;129;01mor\u001b[39;00m is_object_dtype(dtype):\n\u001b[1;32m    169\u001b[0m     \u001b[38;5;66;03m# Explicit copy, or required since NumPy can't view from / to object.\u001b[39;00m\n\u001b[0;32m--> 170\u001b[0m     \u001b[38;5;28;01mreturn\u001b[39;00m \u001b[43marr\u001b[49m\u001b[38;5;241;43m.\u001b[39;49m\u001b[43mastype\u001b[49m\u001b[43m(\u001b[49m\u001b[43mdtype\u001b[49m\u001b[43m,\u001b[49m\u001b[43m \u001b[49m\u001b[43mcopy\u001b[49m\u001b[38;5;241;43m=\u001b[39;49m\u001b[38;5;28;43;01mTrue\u001b[39;49;00m\u001b[43m)\u001b[49m\n\u001b[1;32m    172\u001b[0m \u001b[38;5;28;01mreturn\u001b[39;00m arr\u001b[38;5;241m.\u001b[39mastype(dtype, copy\u001b[38;5;241m=\u001b[39mcopy)\n",
      "\u001b[0;31mValueError\u001b[0m: invalid literal for int() with base 10: '3.0M'"
     ]
    }
   ],
   "source": [
    "df['Reviews'].astype(int)"
   ]
  },
  {
   "cell_type": "code",
   "execution_count": 42,
   "id": "0bf62e63-6ad2-4e46-ad91-c725e57caeaf",
   "metadata": {},
   "outputs": [
    {
     "data": {
      "text/html": [
       "<div>\n",
       "<style scoped>\n",
       "    .dataframe tbody tr th:only-of-type {\n",
       "        vertical-align: middle;\n",
       "    }\n",
       "\n",
       "    .dataframe tbody tr th {\n",
       "        vertical-align: top;\n",
       "    }\n",
       "\n",
       "    .dataframe thead th {\n",
       "        text-align: right;\n",
       "    }\n",
       "</style>\n",
       "<table border=\"1\" class=\"dataframe\">\n",
       "  <thead>\n",
       "    <tr style=\"text-align: right;\">\n",
       "      <th></th>\n",
       "      <th>App</th>\n",
       "      <th>Category</th>\n",
       "      <th>Rating</th>\n",
       "      <th>Reviews</th>\n",
       "      <th>Size</th>\n",
       "      <th>Installs</th>\n",
       "      <th>Type</th>\n",
       "      <th>Price</th>\n",
       "      <th>Content Rating</th>\n",
       "      <th>Genres</th>\n",
       "      <th>Last Updated</th>\n",
       "      <th>Current Ver</th>\n",
       "      <th>Android Ver</th>\n",
       "    </tr>\n",
       "  </thead>\n",
       "  <tbody>\n",
       "    <tr>\n",
       "      <th>10472</th>\n",
       "      <td>Life Made WI-Fi Touchscreen Photo Frame</td>\n",
       "      <td>1.9</td>\n",
       "      <td>19.0</td>\n",
       "      <td>3.0M</td>\n",
       "      <td>1,000+</td>\n",
       "      <td>Free</td>\n",
       "      <td>0</td>\n",
       "      <td>Everyone</td>\n",
       "      <td>NaN</td>\n",
       "      <td>February 11, 2018</td>\n",
       "      <td>1.0.19</td>\n",
       "      <td>4.0 and up</td>\n",
       "      <td>NaN</td>\n",
       "    </tr>\n",
       "  </tbody>\n",
       "</table>\n",
       "</div>"
      ],
      "text/plain": [
       "                                           App Category  Rating Reviews  \\\n",
       "10472  Life Made WI-Fi Touchscreen Photo Frame      1.9    19.0    3.0M   \n",
       "\n",
       "         Size Installs Type     Price Content Rating             Genres  \\\n",
       "10472  1,000+     Free    0  Everyone            NaN  February 11, 2018   \n",
       "\n",
       "      Last Updated Current Ver Android Ver  \n",
       "10472       1.0.19  4.0 and up         NaN  "
      ]
     },
     "execution_count": 42,
     "metadata": {},
     "output_type": "execute_result"
    }
   ],
   "source": [
    "df[df['Reviews']=='3.0M']"
   ]
  },
  {
   "cell_type": "code",
   "execution_count": 43,
   "id": "eab22176-8b26-48a0-95e5-1012803c72dc",
   "metadata": {},
   "outputs": [],
   "source": [
    "df.drop(10472,inplace=True)"
   ]
  },
  {
   "cell_type": "code",
   "execution_count": 44,
   "id": "14f4c2eb-73ab-4598-b4ae-b2de5ce2eda0",
   "metadata": {},
   "outputs": [],
   "source": [
    "df['Reviews'] = df['Reviews'].astype(int)"
   ]
  },
  {
   "cell_type": "code",
   "execution_count": 45,
   "id": "a0eff29b-b89d-468d-9724-fd39ff116277",
   "metadata": {},
   "outputs": [
    {
     "name": "stdout",
     "output_type": "stream",
     "text": [
      "<class 'pandas.core.frame.DataFrame'>\n",
      "Int64Index: 10840 entries, 0 to 10840\n",
      "Data columns (total 13 columns):\n",
      " #   Column          Non-Null Count  Dtype  \n",
      "---  ------          --------------  -----  \n",
      " 0   App             10840 non-null  object \n",
      " 1   Category        10840 non-null  object \n",
      " 2   Rating          9366 non-null   float64\n",
      " 3   Reviews         10840 non-null  int64  \n",
      " 4   Size            10840 non-null  object \n",
      " 5   Installs        10840 non-null  object \n",
      " 6   Type            10839 non-null  object \n",
      " 7   Price           10840 non-null  object \n",
      " 8   Content Rating  10840 non-null  object \n",
      " 9   Genres          10840 non-null  object \n",
      " 10  Last Updated    10840 non-null  object \n",
      " 11  Current Ver     10832 non-null  object \n",
      " 12  Android Ver     10838 non-null  object \n",
      "dtypes: float64(1), int64(1), object(11)\n",
      "memory usage: 1.2+ MB\n"
     ]
    }
   ],
   "source": [
    "df.info()"
   ]
  },
  {
   "cell_type": "code",
   "execution_count": 46,
   "id": "ae56c56e-605c-470b-b5ef-bf3811f77c8f",
   "metadata": {},
   "outputs": [
    {
     "data": {
      "text/plain": [
       "array(['19M', '14M', '8.7M', '25M', '2.8M', '5.6M', '29M', '33M', '3.1M',\n",
       "       '28M', '12M', '20M', '21M', '37M', '2.7M', '5.5M', '17M', '39M',\n",
       "       '31M', '4.2M', '7.0M', '23M', '6.0M', '6.1M', '4.6M', '9.2M',\n",
       "       '5.2M', '11M', '24M', 'Varies with device', '9.4M', '15M', '10M',\n",
       "       '1.2M', '26M', '8.0M', '7.9M', '56M', '57M', '35M', '54M', '201k',\n",
       "       '3.6M', '5.7M', '8.6M', '2.4M', '27M', '2.5M', '16M', '3.4M',\n",
       "       '8.9M', '3.9M', '2.9M', '38M', '32M', '5.4M', '18M', '1.1M',\n",
       "       '2.2M', '4.5M', '9.8M', '52M', '9.0M', '6.7M', '30M', '2.6M',\n",
       "       '7.1M', '3.7M', '22M', '7.4M', '6.4M', '3.2M', '8.2M', '9.9M',\n",
       "       '4.9M', '9.5M', '5.0M', '5.9M', '13M', '73M', '6.8M', '3.5M',\n",
       "       '4.0M', '2.3M', '7.2M', '2.1M', '42M', '7.3M', '9.1M', '55M',\n",
       "       '23k', '6.5M', '1.5M', '7.5M', '51M', '41M', '48M', '8.5M', '46M',\n",
       "       '8.3M', '4.3M', '4.7M', '3.3M', '40M', '7.8M', '8.8M', '6.6M',\n",
       "       '5.1M', '61M', '66M', '79k', '8.4M', '118k', '44M', '695k', '1.6M',\n",
       "       '6.2M', '18k', '53M', '1.4M', '3.0M', '5.8M', '3.8M', '9.6M',\n",
       "       '45M', '63M', '49M', '77M', '4.4M', '4.8M', '70M', '6.9M', '9.3M',\n",
       "       '10.0M', '8.1M', '36M', '84M', '97M', '2.0M', '1.9M', '1.8M',\n",
       "       '5.3M', '47M', '556k', '526k', '76M', '7.6M', '59M', '9.7M', '78M',\n",
       "       '72M', '43M', '7.7M', '6.3M', '334k', '34M', '93M', '65M', '79M',\n",
       "       '100M', '58M', '50M', '68M', '64M', '67M', '60M', '94M', '232k',\n",
       "       '99M', '624k', '95M', '8.5k', '41k', '292k', '11k', '80M', '1.7M',\n",
       "       '74M', '62M', '69M', '75M', '98M', '85M', '82M', '96M', '87M',\n",
       "       '71M', '86M', '91M', '81M', '92M', '83M', '88M', '704k', '862k',\n",
       "       '899k', '378k', '266k', '375k', '1.3M', '975k', '980k', '4.1M',\n",
       "       '89M', '696k', '544k', '525k', '920k', '779k', '853k', '720k',\n",
       "       '713k', '772k', '318k', '58k', '241k', '196k', '857k', '51k',\n",
       "       '953k', '865k', '251k', '930k', '540k', '313k', '746k', '203k',\n",
       "       '26k', '314k', '239k', '371k', '220k', '730k', '756k', '91k',\n",
       "       '293k', '17k', '74k', '14k', '317k', '78k', '924k', '902k', '818k',\n",
       "       '81k', '939k', '169k', '45k', '475k', '965k', '90M', '545k', '61k',\n",
       "       '283k', '655k', '714k', '93k', '872k', '121k', '322k', '1.0M',\n",
       "       '976k', '172k', '238k', '549k', '206k', '954k', '444k', '717k',\n",
       "       '210k', '609k', '308k', '705k', '306k', '904k', '473k', '175k',\n",
       "       '350k', '383k', '454k', '421k', '70k', '812k', '442k', '842k',\n",
       "       '417k', '412k', '459k', '478k', '335k', '782k', '721k', '430k',\n",
       "       '429k', '192k', '200k', '460k', '728k', '496k', '816k', '414k',\n",
       "       '506k', '887k', '613k', '243k', '569k', '778k', '683k', '592k',\n",
       "       '319k', '186k', '840k', '647k', '191k', '373k', '437k', '598k',\n",
       "       '716k', '585k', '982k', '222k', '219k', '55k', '948k', '323k',\n",
       "       '691k', '511k', '951k', '963k', '25k', '554k', '351k', '27k',\n",
       "       '82k', '208k', '913k', '514k', '551k', '29k', '103k', '898k',\n",
       "       '743k', '116k', '153k', '209k', '353k', '499k', '173k', '597k',\n",
       "       '809k', '122k', '411k', '400k', '801k', '787k', '237k', '50k',\n",
       "       '643k', '986k', '97k', '516k', '837k', '780k', '961k', '269k',\n",
       "       '20k', '498k', '600k', '749k', '642k', '881k', '72k', '656k',\n",
       "       '601k', '221k', '228k', '108k', '940k', '176k', '33k', '663k',\n",
       "       '34k', '942k', '259k', '164k', '458k', '245k', '629k', '28k',\n",
       "       '288k', '775k', '785k', '636k', '916k', '994k', '309k', '485k',\n",
       "       '914k', '903k', '608k', '500k', '54k', '562k', '847k', '957k',\n",
       "       '688k', '811k', '270k', '48k', '329k', '523k', '921k', '874k',\n",
       "       '981k', '784k', '280k', '24k', '518k', '754k', '892k', '154k',\n",
       "       '860k', '364k', '387k', '626k', '161k', '879k', '39k', '970k',\n",
       "       '170k', '141k', '160k', '144k', '143k', '190k', '376k', '193k',\n",
       "       '246k', '73k', '658k', '992k', '253k', '420k', '404k', '470k',\n",
       "       '226k', '240k', '89k', '234k', '257k', '861k', '467k', '157k',\n",
       "       '44k', '676k', '67k', '552k', '885k', '1020k', '582k', '619k'],\n",
       "      dtype=object)"
      ]
     },
     "execution_count": 46,
     "metadata": {},
     "output_type": "execute_result"
    }
   ],
   "source": [
    "df['Size'].unique()"
   ]
  },
  {
   "cell_type": "code",
   "execution_count": 48,
   "id": "c4b29060-4dbd-4025-ad3f-9bfdf930739d",
   "metadata": {},
   "outputs": [],
   "source": [
    "df['Size'] = df['Size'].str.replace('M',\"000\")"
   ]
  },
  {
   "cell_type": "code",
   "execution_count": 51,
   "id": "9c1f4156-9033-4022-b4ce-e0ab0a8d26e3",
   "metadata": {},
   "outputs": [
    {
     "data": {
      "text/plain": [
       "array(['19000', '14000', '8.7000', '25000', '2.8000', '5.6000', '29000',\n",
       "       '33000', '3.1000', '28000', '12000', '20000', '21000', '37000',\n",
       "       '2.7000', '5.5000', '17000', '39000', '31000', '4.2000', '7.0000',\n",
       "       '23000', '6.0000', '6.1000', '4.6000', '9.2000', '5.2000', '11000',\n",
       "       '24000', 'Varies with device', '9.4000', '15000', '10000',\n",
       "       '1.2000', '26000', '8.0000', '7.9000', '56000', '57000', '35000',\n",
       "       '54000', '201k', '3.6000', '5.7000', '8.6000', '2.4000', '27000',\n",
       "       '2.5000', '16000', '3.4000', '8.9000', '3.9000', '2.9000', '38000',\n",
       "       '32000', '5.4000', '18000', '1.1000', '2.2000', '4.5000', '9.8000',\n",
       "       '52000', '9.0000', '6.7000', '30000', '2.6000', '7.1000', '3.7000',\n",
       "       '22000', '7.4000', '6.4000', '3.2000', '8.2000', '9.9000',\n",
       "       '4.9000', '9.5000', '5.0000', '5.9000', '13000', '73000', '6.8000',\n",
       "       '3.5000', '4.0000', '2.3000', '7.2000', '2.1000', '42000',\n",
       "       '7.3000', '9.1000', '55000', '23k', '6.5000', '1.5000', '7.5000',\n",
       "       '51000', '41000', '48000', '8.5000', '46000', '8.3000', '4.3000',\n",
       "       '4.7000', '3.3000', '40000', '7.8000', '8.8000', '6.6000',\n",
       "       '5.1000', '61000', '66000', '79k', '8.4000', '118k', '44000',\n",
       "       '695k', '1.6000', '6.2000', '18k', '53000', '1.4000', '3.0000',\n",
       "       '5.8000', '3.8000', '9.6000', '45000', '63000', '49000', '77000',\n",
       "       '4.4000', '4.8000', '70000', '6.9000', '9.3000', '10.0000',\n",
       "       '8.1000', '36000', '84000', '97000', '2.0000', '1.9000', '1.8000',\n",
       "       '5.3000', '47000', '556k', '526k', '76000', '7.6000', '59000',\n",
       "       '9.7000', '78000', '72000', '43000', '7.7000', '6.3000', '334k',\n",
       "       '34000', '93000', '65000', '79000', '100000', '58000', '50000',\n",
       "       '68000', '64000', '67000', '60000', '94000', '232k', '99000',\n",
       "       '624k', '95000', '8.5k', '41k', '292k', '11k', '80000', '1.7000',\n",
       "       '74000', '62000', '69000', '75000', '98000', '85000', '82000',\n",
       "       '96000', '87000', '71000', '86000', '91000', '81000', '92000',\n",
       "       '83000', '88000', '704k', '862k', '899k', '378k', '266k', '375k',\n",
       "       '1.3000', '975k', '980k', '4.1000', '89000', '696k', '544k',\n",
       "       '525k', '920k', '779k', '853k', '720k', '713k', '772k', '318k',\n",
       "       '58k', '241k', '196k', '857k', '51k', '953k', '865k', '251k',\n",
       "       '930k', '540k', '313k', '746k', '203k', '26k', '314k', '239k',\n",
       "       '371k', '220k', '730k', '756k', '91k', '293k', '17k', '74k', '14k',\n",
       "       '317k', '78k', '924k', '902k', '818k', '81k', '939k', '169k',\n",
       "       '45k', '475k', '965k', '90000', '545k', '61k', '283k', '655k',\n",
       "       '714k', '93k', '872k', '121k', '322k', '1.0000', '976k', '172k',\n",
       "       '238k', '549k', '206k', '954k', '444k', '717k', '210k', '609k',\n",
       "       '308k', '705k', '306k', '904k', '473k', '175k', '350k', '383k',\n",
       "       '454k', '421k', '70k', '812k', '442k', '842k', '417k', '412k',\n",
       "       '459k', '478k', '335k', '782k', '721k', '430k', '429k', '192k',\n",
       "       '200k', '460k', '728k', '496k', '816k', '414k', '506k', '887k',\n",
       "       '613k', '243k', '569k', '778k', '683k', '592k', '319k', '186k',\n",
       "       '840k', '647k', '191k', '373k', '437k', '598k', '716k', '585k',\n",
       "       '982k', '222k', '219k', '55k', '948k', '323k', '691k', '511k',\n",
       "       '951k', '963k', '25k', '554k', '351k', '27k', '82k', '208k',\n",
       "       '913k', '514k', '551k', '29k', '103k', '898k', '743k', '116k',\n",
       "       '153k', '209k', '353k', '499k', '173k', '597k', '809k', '122k',\n",
       "       '411k', '400k', '801k', '787k', '237k', '50k', '643k', '986k',\n",
       "       '97k', '516k', '837k', '780k', '961k', '269k', '20k', '498k',\n",
       "       '600k', '749k', '642k', '881k', '72k', '656k', '601k', '221k',\n",
       "       '228k', '108k', '940k', '176k', '33k', '663k', '34k', '942k',\n",
       "       '259k', '164k', '458k', '245k', '629k', '28k', '288k', '775k',\n",
       "       '785k', '636k', '916k', '994k', '309k', '485k', '914k', '903k',\n",
       "       '608k', '500k', '54k', '562k', '847k', '957k', '688k', '811k',\n",
       "       '270k', '48k', '329k', '523k', '921k', '874k', '981k', '784k',\n",
       "       '280k', '24k', '518k', '754k', '892k', '154k', '860k', '364k',\n",
       "       '387k', '626k', '161k', '879k', '39k', '970k', '170k', '141k',\n",
       "       '160k', '144k', '143k', '190k', '376k', '193k', '246k', '73k',\n",
       "       '658k', '992k', '253k', '420k', '404k', '470k', '226k', '240k',\n",
       "       '89k', '234k', '257k', '861k', '467k', '157k', '44k', '676k',\n",
       "       '67k', '552k', '885k', '1020k', '582k', '619k'], dtype=object)"
      ]
     },
     "execution_count": 51,
     "metadata": {},
     "output_type": "execute_result"
    }
   ],
   "source": [
    "df['Size'].unique()"
   ]
  },
  {
   "cell_type": "code",
   "execution_count": 54,
   "id": "74b446f8-e9a4-4356-a0da-d2059e26ceb8",
   "metadata": {},
   "outputs": [],
   "source": [
    "df['Size'] = df['Size'].str.replace('k','')"
   ]
  },
  {
   "cell_type": "code",
   "execution_count": 55,
   "id": "be27d70a-27af-4302-b0f4-64dad4a4ed71",
   "metadata": {},
   "outputs": [
    {
     "data": {
      "text/plain": [
       "array(['19000', '14000', '8.7000', '25000', '2.8000', '5.6000', '29000',\n",
       "       '33000', '3.1000', '28000', '12000', '20000', '21000', '37000',\n",
       "       '2.7000', '5.5000', '17000', '39000', '31000', '4.2000', '7.0000',\n",
       "       '23000', '6.0000', '6.1000', '4.6000', '9.2000', '5.2000', '11000',\n",
       "       '24000', 'Varies with device', '9.4000', '15000', '10000',\n",
       "       '1.2000', '26000', '8.0000', '7.9000', '56000', '57000', '35000',\n",
       "       '54000', '201', '3.6000', '5.7000', '8.6000', '2.4000', '27000',\n",
       "       '2.5000', '16000', '3.4000', '8.9000', '3.9000', '2.9000', '38000',\n",
       "       '32000', '5.4000', '18000', '1.1000', '2.2000', '4.5000', '9.8000',\n",
       "       '52000', '9.0000', '6.7000', '30000', '2.6000', '7.1000', '3.7000',\n",
       "       '22000', '7.4000', '6.4000', '3.2000', '8.2000', '9.9000',\n",
       "       '4.9000', '9.5000', '5.0000', '5.9000', '13000', '73000', '6.8000',\n",
       "       '3.5000', '4.0000', '2.3000', '7.2000', '2.1000', '42000',\n",
       "       '7.3000', '9.1000', '55000', '23', '6.5000', '1.5000', '7.5000',\n",
       "       '51000', '41000', '48000', '8.5000', '46000', '8.3000', '4.3000',\n",
       "       '4.7000', '3.3000', '40000', '7.8000', '8.8000', '6.6000',\n",
       "       '5.1000', '61000', '66000', '79', '8.4000', '118', '44000', '695',\n",
       "       '1.6000', '6.2000', '18', '53000', '1.4000', '3.0000', '5.8000',\n",
       "       '3.8000', '9.6000', '45000', '63000', '49000', '77000', '4.4000',\n",
       "       '4.8000', '70000', '6.9000', '9.3000', '10.0000', '8.1000',\n",
       "       '36000', '84000', '97000', '2.0000', '1.9000', '1.8000', '5.3000',\n",
       "       '47000', '556', '526', '76000', '7.6000', '59000', '9.7000',\n",
       "       '78000', '72000', '43000', '7.7000', '6.3000', '334', '34000',\n",
       "       '93000', '65000', '79000', '100000', '58000', '50000', '68000',\n",
       "       '64000', '67000', '60000', '94000', '232', '99000', '624', '95000',\n",
       "       '8.5', '41', '292', '11', '80000', '1.7000', '74000', '62000',\n",
       "       '69000', '75000', '98000', '85000', '82000', '96000', '87000',\n",
       "       '71000', '86000', '91000', '81000', '92000', '83000', '88000',\n",
       "       '704', '862', '899', '378', '266', '375', '1.3000', '975', '980',\n",
       "       '4.1000', '89000', '696', '544', '525', '920', '779', '853', '720',\n",
       "       '713', '772', '318', '58', '241', '196', '857', '51', '953', '865',\n",
       "       '251', '930', '540', '313', '746', '203', '26', '314', '239',\n",
       "       '371', '220', '730', '756', '91', '293', '17', '74', '14', '317',\n",
       "       '78', '924', '902', '818', '81', '939', '169', '45', '475', '965',\n",
       "       '90000', '545', '61', '283', '655', '714', '93', '872', '121',\n",
       "       '322', '1.0000', '976', '172', '238', '549', '206', '954', '444',\n",
       "       '717', '210', '609', '308', '705', '306', '904', '473', '175',\n",
       "       '350', '383', '454', '421', '70', '812', '442', '842', '417',\n",
       "       '412', '459', '478', '335', '782', '721', '430', '429', '192',\n",
       "       '200', '460', '728', '496', '816', '414', '506', '887', '613',\n",
       "       '243', '569', '778', '683', '592', '319', '186', '840', '647',\n",
       "       '191', '373', '437', '598', '716', '585', '982', '222', '219',\n",
       "       '55', '948', '323', '691', '511', '951', '963', '25', '554', '351',\n",
       "       '27', '82', '208', '913', '514', '551', '29', '103', '898', '743',\n",
       "       '116', '153', '209', '353', '499', '173', '597', '809', '122',\n",
       "       '411', '400', '801', '787', '237', '50', '643', '986', '97', '516',\n",
       "       '837', '780', '961', '269', '20', '498', '600', '749', '642',\n",
       "       '881', '72', '656', '601', '221', '228', '108', '940', '176', '33',\n",
       "       '663', '34', '942', '259', '164', '458', '245', '629', '28', '288',\n",
       "       '775', '785', '636', '916', '994', '309', '485', '914', '903',\n",
       "       '608', '500', '54', '562', '847', '957', '688', '811', '270', '48',\n",
       "       '329', '523', '921', '874', '981', '784', '280', '24', '518',\n",
       "       '754', '892', '154', '860', '364', '387', '626', '161', '879',\n",
       "       '39', '970', '170', '141', '160', '144', '143', '190', '376',\n",
       "       '193', '246', '73', '658', '992', '253', '420', '404', '470',\n",
       "       '226', '240', '89', '234', '257', '861', '467', '157', '44', '676',\n",
       "       '67', '552', '885', '1020', '582', '619'], dtype=object)"
      ]
     },
     "execution_count": 55,
     "metadata": {},
     "output_type": "execute_result"
    }
   ],
   "source": [
    "df['Size'].unique()"
   ]
  },
  {
   "cell_type": "code",
   "execution_count": 58,
   "id": "51ffe1de-0af1-48d7-b301-ddd0dade3c78",
   "metadata": {},
   "outputs": [],
   "source": [
    "df['Size'] = df['Size'].replace('Varies with device',np.nan)"
   ]
  },
  {
   "cell_type": "code",
   "execution_count": 59,
   "id": "24da54ea-f618-45e1-8ca6-642e3c0b8800",
   "metadata": {},
   "outputs": [
    {
     "data": {
      "text/plain": [
       "array(['19000', '14000', '8.7000', '25000', '2.8000', '5.6000', '29000',\n",
       "       '33000', '3.1000', '28000', '12000', '20000', '21000', '37000',\n",
       "       '2.7000', '5.5000', '17000', '39000', '31000', '4.2000', '7.0000',\n",
       "       '23000', '6.0000', '6.1000', '4.6000', '9.2000', '5.2000', '11000',\n",
       "       '24000', nan, '9.4000', '15000', '10000', '1.2000', '26000',\n",
       "       '8.0000', '7.9000', '56000', '57000', '35000', '54000', '201',\n",
       "       '3.6000', '5.7000', '8.6000', '2.4000', '27000', '2.5000', '16000',\n",
       "       '3.4000', '8.9000', '3.9000', '2.9000', '38000', '32000', '5.4000',\n",
       "       '18000', '1.1000', '2.2000', '4.5000', '9.8000', '52000', '9.0000',\n",
       "       '6.7000', '30000', '2.6000', '7.1000', '3.7000', '22000', '7.4000',\n",
       "       '6.4000', '3.2000', '8.2000', '9.9000', '4.9000', '9.5000',\n",
       "       '5.0000', '5.9000', '13000', '73000', '6.8000', '3.5000', '4.0000',\n",
       "       '2.3000', '7.2000', '2.1000', '42000', '7.3000', '9.1000', '55000',\n",
       "       '23', '6.5000', '1.5000', '7.5000', '51000', '41000', '48000',\n",
       "       '8.5000', '46000', '8.3000', '4.3000', '4.7000', '3.3000', '40000',\n",
       "       '7.8000', '8.8000', '6.6000', '5.1000', '61000', '66000', '79',\n",
       "       '8.4000', '118', '44000', '695', '1.6000', '6.2000', '18', '53000',\n",
       "       '1.4000', '3.0000', '5.8000', '3.8000', '9.6000', '45000', '63000',\n",
       "       '49000', '77000', '4.4000', '4.8000', '70000', '6.9000', '9.3000',\n",
       "       '10.0000', '8.1000', '36000', '84000', '97000', '2.0000', '1.9000',\n",
       "       '1.8000', '5.3000', '47000', '556', '526', '76000', '7.6000',\n",
       "       '59000', '9.7000', '78000', '72000', '43000', '7.7000', '6.3000',\n",
       "       '334', '34000', '93000', '65000', '79000', '100000', '58000',\n",
       "       '50000', '68000', '64000', '67000', '60000', '94000', '232',\n",
       "       '99000', '624', '95000', '8.5', '41', '292', '11', '80000',\n",
       "       '1.7000', '74000', '62000', '69000', '75000', '98000', '85000',\n",
       "       '82000', '96000', '87000', '71000', '86000', '91000', '81000',\n",
       "       '92000', '83000', '88000', '704', '862', '899', '378', '266',\n",
       "       '375', '1.3000', '975', '980', '4.1000', '89000', '696', '544',\n",
       "       '525', '920', '779', '853', '720', '713', '772', '318', '58',\n",
       "       '241', '196', '857', '51', '953', '865', '251', '930', '540',\n",
       "       '313', '746', '203', '26', '314', '239', '371', '220', '730',\n",
       "       '756', '91', '293', '17', '74', '14', '317', '78', '924', '902',\n",
       "       '818', '81', '939', '169', '45', '475', '965', '90000', '545',\n",
       "       '61', '283', '655', '714', '93', '872', '121', '322', '1.0000',\n",
       "       '976', '172', '238', '549', '206', '954', '444', '717', '210',\n",
       "       '609', '308', '705', '306', '904', '473', '175', '350', '383',\n",
       "       '454', '421', '70', '812', '442', '842', '417', '412', '459',\n",
       "       '478', '335', '782', '721', '430', '429', '192', '200', '460',\n",
       "       '728', '496', '816', '414', '506', '887', '613', '243', '569',\n",
       "       '778', '683', '592', '319', '186', '840', '647', '191', '373',\n",
       "       '437', '598', '716', '585', '982', '222', '219', '55', '948',\n",
       "       '323', '691', '511', '951', '963', '25', '554', '351', '27', '82',\n",
       "       '208', '913', '514', '551', '29', '103', '898', '743', '116',\n",
       "       '153', '209', '353', '499', '173', '597', '809', '122', '411',\n",
       "       '400', '801', '787', '237', '50', '643', '986', '97', '516', '837',\n",
       "       '780', '961', '269', '20', '498', '600', '749', '642', '881', '72',\n",
       "       '656', '601', '221', '228', '108', '940', '176', '33', '663', '34',\n",
       "       '942', '259', '164', '458', '245', '629', '28', '288', '775',\n",
       "       '785', '636', '916', '994', '309', '485', '914', '903', '608',\n",
       "       '500', '54', '562', '847', '957', '688', '811', '270', '48', '329',\n",
       "       '523', '921', '874', '981', '784', '280', '24', '518', '754',\n",
       "       '892', '154', '860', '364', '387', '626', '161', '879', '39',\n",
       "       '970', '170', '141', '160', '144', '143', '190', '376', '193',\n",
       "       '246', '73', '658', '992', '253', '420', '404', '470', '226',\n",
       "       '240', '89', '234', '257', '861', '467', '157', '44', '676', '67',\n",
       "       '552', '885', '1020', '582', '619'], dtype=object)"
      ]
     },
     "execution_count": 59,
     "metadata": {},
     "output_type": "execute_result"
    }
   ],
   "source": [
    "df['Size'].unique()"
   ]
  },
  {
   "cell_type": "code",
   "execution_count": 60,
   "id": "6da2c707-eceb-4f47-8087-11d6dc7f2731",
   "metadata": {},
   "outputs": [],
   "source": [
    "df['Size'] = df['Size'].astype(float)"
   ]
  },
  {
   "cell_type": "code",
   "execution_count": 61,
   "id": "1a862157-9cff-427b-84f3-24eccc0ae006",
   "metadata": {},
   "outputs": [
    {
     "name": "stdout",
     "output_type": "stream",
     "text": [
      "<class 'pandas.core.frame.DataFrame'>\n",
      "Int64Index: 10840 entries, 0 to 10840\n",
      "Data columns (total 13 columns):\n",
      " #   Column          Non-Null Count  Dtype  \n",
      "---  ------          --------------  -----  \n",
      " 0   App             10840 non-null  object \n",
      " 1   Category        10840 non-null  object \n",
      " 2   Rating          9366 non-null   float64\n",
      " 3   Reviews         10840 non-null  int64  \n",
      " 4   Size            9145 non-null   float64\n",
      " 5   Installs        10840 non-null  object \n",
      " 6   Type            10839 non-null  object \n",
      " 7   Price           10840 non-null  object \n",
      " 8   Content Rating  10840 non-null  object \n",
      " 9   Genres          10840 non-null  object \n",
      " 10  Last Updated    10840 non-null  object \n",
      " 11  Current Ver     10832 non-null  object \n",
      " 12  Android Ver     10838 non-null  object \n",
      "dtypes: float64(2), int64(1), object(10)\n",
      "memory usage: 1.2+ MB\n"
     ]
    }
   ],
   "source": [
    "df.info()"
   ]
  },
  {
   "cell_type": "code",
   "execution_count": 63,
   "id": "702d8f9c-f2b8-453c-830c-f66e1e092740",
   "metadata": {},
   "outputs": [
    {
     "data": {
      "text/plain": [
       "array(['10,000+', '500,000+', '5,000,000+', '50,000,000+', '100,000+',\n",
       "       '50,000+', '1,000,000+', '10,000,000+', '5,000+', '100,000,000+',\n",
       "       '1,000,000,000+', '1,000+', '500,000,000+', '50+', '100+', '500+',\n",
       "       '10+', '1+', '5+', '0+', '0'], dtype=object)"
      ]
     },
     "execution_count": 63,
     "metadata": {},
     "output_type": "execute_result"
    }
   ],
   "source": [
    "df['Installs'].unique()"
   ]
  },
  {
   "cell_type": "code",
   "execution_count": 65,
   "id": "829ccca1-30f3-43c9-80b6-f28110602d4c",
   "metadata": {},
   "outputs": [
    {
     "data": {
      "text/plain": [
       "array(['0', '$4.99', '$3.99', '$6.99', '$1.49', '$2.99', '$7.99', '$5.99',\n",
       "       '$3.49', '$1.99', '$9.99', '$7.49', '$0.99', '$9.00', '$5.49',\n",
       "       '$10.00', '$24.99', '$11.99', '$79.99', '$16.99', '$14.99',\n",
       "       '$1.00', '$29.99', '$12.99', '$2.49', '$10.99', '$1.50', '$19.99',\n",
       "       '$15.99', '$33.99', '$74.99', '$39.99', '$3.95', '$4.49', '$1.70',\n",
       "       '$8.99', '$2.00', '$3.88', '$25.99', '$399.99', '$17.99',\n",
       "       '$400.00', '$3.02', '$1.76', '$4.84', '$4.77', '$1.61', '$2.50',\n",
       "       '$1.59', '$6.49', '$1.29', '$5.00', '$13.99', '$299.99', '$379.99',\n",
       "       '$37.99', '$18.99', '$389.99', '$19.90', '$8.49', '$1.75',\n",
       "       '$14.00', '$4.85', '$46.99', '$109.99', '$154.99', '$3.08',\n",
       "       '$2.59', '$4.80', '$1.96', '$19.40', '$3.90', '$4.59', '$15.46',\n",
       "       '$3.04', '$4.29', '$2.60', '$3.28', '$4.60', '$28.99', '$2.95',\n",
       "       '$2.90', '$1.97', '$200.00', '$89.99', '$2.56', '$30.99', '$3.61',\n",
       "       '$394.99', '$1.26', '$1.20', '$1.04'], dtype=object)"
      ]
     },
     "execution_count": 65,
     "metadata": {},
     "output_type": "execute_result"
    }
   ],
   "source": [
    "df['Price'].unique()"
   ]
  },
  {
   "cell_type": "code",
   "execution_count": 67,
   "id": "db8bc5ab-1c4f-44e6-8e83-6f8cd121999e",
   "metadata": {},
   "outputs": [],
   "source": [
    "char_to_remove = ['+',',','$']\n",
    "col_cleaning = ['Price','Installs']\n",
    "\n",
    "for char in char_to_remove:\n",
    "    for col in col_cleaning:\n",
    "        df[col] = df[col].str.replace(char,'')"
   ]
  },
  {
   "cell_type": "code",
   "execution_count": 127,
   "id": "9c62fc76-28e5-45e7-9b90-55b2524a9d8a",
   "metadata": {},
   "outputs": [
    {
     "data": {
      "text/plain": [
       "array([1.e+04, 5.e+05, 5.e+06, 5.e+07, 1.e+05, 5.e+04, 1.e+06, 1.e+07,\n",
       "       5.e+03, 1.e+08, 1.e+09, 1.e+03, 5.e+08, 5.e+01, 1.e+02, 5.e+02,\n",
       "       1.e+01, 1.e+00, 5.e+00, 0.e+00])"
      ]
     },
     "execution_count": 127,
     "metadata": {},
     "output_type": "execute_result"
    }
   ],
   "source": [
    "df['Installs'].unique()"
   ]
  },
  {
   "cell_type": "code",
   "execution_count": 73,
   "id": "d8a22a6c-c4f0-46c3-a740-fe19a7097fb9",
   "metadata": {},
   "outputs": [
    {
     "data": {
      "text/plain": [
       "str"
      ]
     },
     "execution_count": 73,
     "metadata": {},
     "output_type": "execute_result"
    }
   ],
   "source": [
    "type(df['Price'].unique()[0])"
   ]
  },
  {
   "cell_type": "code",
   "execution_count": 74,
   "id": "adc3fb88-4044-41be-bd13-7367275de1bd",
   "metadata": {},
   "outputs": [],
   "source": [
    "df['Installs'] = df['Installs'].astype(float)\n",
    "df['Price'] = df['Price'].astype(float)"
   ]
  },
  {
   "cell_type": "code",
   "execution_count": 75,
   "id": "16841db3-cb48-4ccb-8347-e978c66e8fa6",
   "metadata": {},
   "outputs": [
    {
     "name": "stdout",
     "output_type": "stream",
     "text": [
      "<class 'pandas.core.frame.DataFrame'>\n",
      "Int64Index: 10840 entries, 0 to 10840\n",
      "Data columns (total 13 columns):\n",
      " #   Column          Non-Null Count  Dtype  \n",
      "---  ------          --------------  -----  \n",
      " 0   App             10840 non-null  object \n",
      " 1   Category        10840 non-null  object \n",
      " 2   Rating          9366 non-null   float64\n",
      " 3   Reviews         10840 non-null  int64  \n",
      " 4   Size            9145 non-null   float64\n",
      " 5   Installs        10840 non-null  float64\n",
      " 6   Type            10839 non-null  object \n",
      " 7   Price           10840 non-null  float64\n",
      " 8   Content Rating  10840 non-null  object \n",
      " 9   Genres          10840 non-null  object \n",
      " 10  Last Updated    10840 non-null  object \n",
      " 11  Current Ver     10832 non-null  object \n",
      " 12  Android Ver     10838 non-null  object \n",
      "dtypes: float64(4), int64(1), object(8)\n",
      "memory usage: 1.2+ MB\n"
     ]
    }
   ],
   "source": [
    "df.info()"
   ]
  },
  {
   "cell_type": "code",
   "execution_count": 76,
   "id": "0fcecdea-3531-4546-b76c-446001c363fd",
   "metadata": {},
   "outputs": [
    {
     "data": {
      "text/plain": [
       "0         January 7, 2018\n",
       "1        January 15, 2018\n",
       "2          August 1, 2018\n",
       "3            June 8, 2018\n",
       "4           June 20, 2018\n",
       "               ...       \n",
       "10836       July 25, 2017\n",
       "10837        July 6, 2018\n",
       "10838    January 20, 2017\n",
       "10839    January 19, 2015\n",
       "10840       July 25, 2018\n",
       "Name: Last Updated, Length: 10840, dtype: object"
      ]
     },
     "execution_count": 76,
     "metadata": {},
     "output_type": "execute_result"
    }
   ],
   "source": [
    "df['Last Updated']"
   ]
  },
  {
   "cell_type": "code",
   "execution_count": 80,
   "id": "bcb156d2-f8af-48e4-a9fa-59cb36facf2a",
   "metadata": {},
   "outputs": [],
   "source": [
    "df['Last Updated'] = pd.to_datetime(df['Last Updated'])\n",
    "df['Date'] = df['Last Updated'].dt.day\n",
    "df['Month'] = df['Last Updated'].dt.month\n",
    "df['Year'] = df['Last Updated'].dt.year"
   ]
  },
  {
   "cell_type": "code",
   "execution_count": 81,
   "id": "5005aae6-b739-4f84-b54f-1dab75cd0572",
   "metadata": {},
   "outputs": [
    {
     "data": {
      "text/html": [
       "<div>\n",
       "<style scoped>\n",
       "    .dataframe tbody tr th:only-of-type {\n",
       "        vertical-align: middle;\n",
       "    }\n",
       "\n",
       "    .dataframe tbody tr th {\n",
       "        vertical-align: top;\n",
       "    }\n",
       "\n",
       "    .dataframe thead th {\n",
       "        text-align: right;\n",
       "    }\n",
       "</style>\n",
       "<table border=\"1\" class=\"dataframe\">\n",
       "  <thead>\n",
       "    <tr style=\"text-align: right;\">\n",
       "      <th></th>\n",
       "      <th>App</th>\n",
       "      <th>Category</th>\n",
       "      <th>Rating</th>\n",
       "      <th>Reviews</th>\n",
       "      <th>Size</th>\n",
       "      <th>Installs</th>\n",
       "      <th>Type</th>\n",
       "      <th>Price</th>\n",
       "      <th>Content Rating</th>\n",
       "      <th>Genres</th>\n",
       "      <th>Last Updated</th>\n",
       "      <th>Current Ver</th>\n",
       "      <th>Android Ver</th>\n",
       "      <th>Date</th>\n",
       "      <th>Month</th>\n",
       "      <th>Year</th>\n",
       "    </tr>\n",
       "  </thead>\n",
       "  <tbody>\n",
       "    <tr>\n",
       "      <th>0</th>\n",
       "      <td>Photo Editor &amp; Candy Camera &amp; Grid &amp; ScrapBook</td>\n",
       "      <td>ART_AND_DESIGN</td>\n",
       "      <td>4.1</td>\n",
       "      <td>159</td>\n",
       "      <td>19000.0</td>\n",
       "      <td>10000.0</td>\n",
       "      <td>Free</td>\n",
       "      <td>0.0</td>\n",
       "      <td>Everyone</td>\n",
       "      <td>Art &amp; Design</td>\n",
       "      <td>2018-01-07</td>\n",
       "      <td>1.0.0</td>\n",
       "      <td>4.0.3 and up</td>\n",
       "      <td>7</td>\n",
       "      <td>1</td>\n",
       "      <td>2018</td>\n",
       "    </tr>\n",
       "    <tr>\n",
       "      <th>1</th>\n",
       "      <td>Coloring book moana</td>\n",
       "      <td>ART_AND_DESIGN</td>\n",
       "      <td>3.9</td>\n",
       "      <td>967</td>\n",
       "      <td>14000.0</td>\n",
       "      <td>500000.0</td>\n",
       "      <td>Free</td>\n",
       "      <td>0.0</td>\n",
       "      <td>Everyone</td>\n",
       "      <td>Art &amp; Design;Pretend Play</td>\n",
       "      <td>2018-01-15</td>\n",
       "      <td>2.0.0</td>\n",
       "      <td>4.0.3 and up</td>\n",
       "      <td>15</td>\n",
       "      <td>1</td>\n",
       "      <td>2018</td>\n",
       "    </tr>\n",
       "    <tr>\n",
       "      <th>2</th>\n",
       "      <td>U Launcher Lite – FREE Live Cool Themes, Hide ...</td>\n",
       "      <td>ART_AND_DESIGN</td>\n",
       "      <td>4.7</td>\n",
       "      <td>87510</td>\n",
       "      <td>8.7</td>\n",
       "      <td>5000000.0</td>\n",
       "      <td>Free</td>\n",
       "      <td>0.0</td>\n",
       "      <td>Everyone</td>\n",
       "      <td>Art &amp; Design</td>\n",
       "      <td>2018-08-01</td>\n",
       "      <td>1.2.4</td>\n",
       "      <td>4.0.3 and up</td>\n",
       "      <td>1</td>\n",
       "      <td>8</td>\n",
       "      <td>2018</td>\n",
       "    </tr>\n",
       "    <tr>\n",
       "      <th>3</th>\n",
       "      <td>Sketch - Draw &amp; Paint</td>\n",
       "      <td>ART_AND_DESIGN</td>\n",
       "      <td>4.5</td>\n",
       "      <td>215644</td>\n",
       "      <td>25000.0</td>\n",
       "      <td>50000000.0</td>\n",
       "      <td>Free</td>\n",
       "      <td>0.0</td>\n",
       "      <td>Teen</td>\n",
       "      <td>Art &amp; Design</td>\n",
       "      <td>2018-06-08</td>\n",
       "      <td>Varies with device</td>\n",
       "      <td>4.2 and up</td>\n",
       "      <td>8</td>\n",
       "      <td>6</td>\n",
       "      <td>2018</td>\n",
       "    </tr>\n",
       "    <tr>\n",
       "      <th>4</th>\n",
       "      <td>Pixel Draw - Number Art Coloring Book</td>\n",
       "      <td>ART_AND_DESIGN</td>\n",
       "      <td>4.3</td>\n",
       "      <td>967</td>\n",
       "      <td>2.8</td>\n",
       "      <td>100000.0</td>\n",
       "      <td>Free</td>\n",
       "      <td>0.0</td>\n",
       "      <td>Everyone</td>\n",
       "      <td>Art &amp; Design;Creativity</td>\n",
       "      <td>2018-06-20</td>\n",
       "      <td>1.1</td>\n",
       "      <td>4.4 and up</td>\n",
       "      <td>20</td>\n",
       "      <td>6</td>\n",
       "      <td>2018</td>\n",
       "    </tr>\n",
       "  </tbody>\n",
       "</table>\n",
       "</div>"
      ],
      "text/plain": [
       "                                                 App        Category  Rating  \\\n",
       "0     Photo Editor & Candy Camera & Grid & ScrapBook  ART_AND_DESIGN     4.1   \n",
       "1                                Coloring book moana  ART_AND_DESIGN     3.9   \n",
       "2  U Launcher Lite – FREE Live Cool Themes, Hide ...  ART_AND_DESIGN     4.7   \n",
       "3                              Sketch - Draw & Paint  ART_AND_DESIGN     4.5   \n",
       "4              Pixel Draw - Number Art Coloring Book  ART_AND_DESIGN     4.3   \n",
       "\n",
       "   Reviews     Size    Installs  Type  Price Content Rating  \\\n",
       "0      159  19000.0     10000.0  Free    0.0       Everyone   \n",
       "1      967  14000.0    500000.0  Free    0.0       Everyone   \n",
       "2    87510      8.7   5000000.0  Free    0.0       Everyone   \n",
       "3   215644  25000.0  50000000.0  Free    0.0           Teen   \n",
       "4      967      2.8    100000.0  Free    0.0       Everyone   \n",
       "\n",
       "                      Genres Last Updated         Current Ver   Android Ver  \\\n",
       "0               Art & Design   2018-01-07               1.0.0  4.0.3 and up   \n",
       "1  Art & Design;Pretend Play   2018-01-15               2.0.0  4.0.3 and up   \n",
       "2               Art & Design   2018-08-01               1.2.4  4.0.3 and up   \n",
       "3               Art & Design   2018-06-08  Varies with device    4.2 and up   \n",
       "4    Art & Design;Creativity   2018-06-20                 1.1    4.4 and up   \n",
       "\n",
       "   Date  Month  Year  \n",
       "0     7      1  2018  \n",
       "1    15      1  2018  \n",
       "2     1      8  2018  \n",
       "3     8      6  2018  \n",
       "4    20      6  2018  "
      ]
     },
     "execution_count": 81,
     "metadata": {},
     "output_type": "execute_result"
    }
   ],
   "source": [
    "df.head()"
   ]
  },
  {
   "cell_type": "code",
   "execution_count": 82,
   "id": "ceed7c01-91a6-409c-8da6-e9d26ed45647",
   "metadata": {},
   "outputs": [
    {
     "name": "stdout",
     "output_type": "stream",
     "text": [
      "<class 'pandas.core.frame.DataFrame'>\n",
      "Int64Index: 10840 entries, 0 to 10840\n",
      "Data columns (total 16 columns):\n",
      " #   Column          Non-Null Count  Dtype         \n",
      "---  ------          --------------  -----         \n",
      " 0   App             10840 non-null  object        \n",
      " 1   Category        10840 non-null  object        \n",
      " 2   Rating          9366 non-null   float64       \n",
      " 3   Reviews         10840 non-null  int64         \n",
      " 4   Size            9145 non-null   float64       \n",
      " 5   Installs        10840 non-null  float64       \n",
      " 6   Type            10839 non-null  object        \n",
      " 7   Price           10840 non-null  float64       \n",
      " 8   Content Rating  10840 non-null  object        \n",
      " 9   Genres          10840 non-null  object        \n",
      " 10  Last Updated    10840 non-null  datetime64[ns]\n",
      " 11  Current Ver     10832 non-null  object        \n",
      " 12  Android Ver     10838 non-null  object        \n",
      " 13  Date            10840 non-null  int64         \n",
      " 14  Month           10840 non-null  int64         \n",
      " 15  Year            10840 non-null  int64         \n",
      "dtypes: datetime64[ns](1), float64(4), int64(4), object(7)\n",
      "memory usage: 1.4+ MB\n"
     ]
    }
   ],
   "source": [
    "df.info()"
   ]
  },
  {
   "cell_type": "code",
   "execution_count": 83,
   "id": "a1ce3fc6-6ae8-4ad9-8ae0-18e1d65419c9",
   "metadata": {},
   "outputs": [],
   "source": [
    "df.drop('Last Updated',axis=1,inplace=True)"
   ]
  },
  {
   "cell_type": "code",
   "execution_count": 85,
   "id": "573004cf-8d5f-48fd-b527-e46fef9004b9",
   "metadata": {},
   "outputs": [
    {
     "name": "stdout",
     "output_type": "stream",
     "text": [
      "<class 'pandas.core.frame.DataFrame'>\n",
      "Int64Index: 10840 entries, 0 to 10840\n",
      "Data columns (total 15 columns):\n",
      " #   Column          Non-Null Count  Dtype  \n",
      "---  ------          --------------  -----  \n",
      " 0   App             10840 non-null  object \n",
      " 1   Category        10840 non-null  object \n",
      " 2   Rating          9366 non-null   float64\n",
      " 3   Reviews         10840 non-null  int64  \n",
      " 4   Size            9145 non-null   float64\n",
      " 5   Installs        10840 non-null  float64\n",
      " 6   Type            10839 non-null  object \n",
      " 7   Price           10840 non-null  float64\n",
      " 8   Content Rating  10840 non-null  object \n",
      " 9   Genres          10840 non-null  object \n",
      " 10  Current Ver     10832 non-null  object \n",
      " 11  Android Ver     10838 non-null  object \n",
      " 12  Date            10840 non-null  int64  \n",
      " 13  Month           10840 non-null  int64  \n",
      " 14  Year            10840 non-null  int64  \n",
      "dtypes: float64(4), int64(4), object(7)\n",
      "memory usage: 1.3+ MB\n"
     ]
    }
   ],
   "source": [
    "df.info()"
   ]
  },
  {
   "cell_type": "code",
   "execution_count": 86,
   "id": "7a380264-b61e-4eb0-b328-f8ef37c5c0b2",
   "metadata": {},
   "outputs": [
    {
     "data": {
      "text/plain": [
       "array(['Everyone', 'Teen', 'Everyone 10+', 'Mature 17+',\n",
       "       'Adults only 18+', 'Unrated'], dtype=object)"
      ]
     },
     "execution_count": 86,
     "metadata": {},
     "output_type": "execute_result"
    }
   ],
   "source": [
    "df['Content Rating'].unique()"
   ]
  },
  {
   "cell_type": "code",
   "execution_count": 88,
   "id": "31dc6ef6-5487-4cfa-a4ee-15a755725e16",
   "metadata": {},
   "outputs": [
    {
     "data": {
      "text/plain": [
       "483"
      ]
     },
     "execution_count": 88,
     "metadata": {},
     "output_type": "execute_result"
    }
   ],
   "source": [
    "df.duplicated().sum()"
   ]
  },
  {
   "cell_type": "code",
   "execution_count": 90,
   "id": "e760d3e3-8926-4fc2-9ef3-5567d3ffab42",
   "metadata": {},
   "outputs": [],
   "source": [
    "df.drop_duplicates('App',keep=\"first\",inplace=True)"
   ]
  },
  {
   "cell_type": "code",
   "execution_count": 91,
   "id": "11c8c3e9-e131-4e9d-8fe2-3d9269e79069",
   "metadata": {},
   "outputs": [
    {
     "data": {
      "text/plain": [
       "0"
      ]
     },
     "execution_count": 91,
     "metadata": {},
     "output_type": "execute_result"
    }
   ],
   "source": [
    "df.duplicated().sum()"
   ]
  },
  {
   "cell_type": "code",
   "execution_count": 92,
   "id": "8148dc6d-2e0d-4cb3-83ef-078160356662",
   "metadata": {},
   "outputs": [
    {
     "data": {
      "text/html": [
       "<div>\n",
       "<style scoped>\n",
       "    .dataframe tbody tr th:only-of-type {\n",
       "        vertical-align: middle;\n",
       "    }\n",
       "\n",
       "    .dataframe tbody tr th {\n",
       "        vertical-align: top;\n",
       "    }\n",
       "\n",
       "    .dataframe thead th {\n",
       "        text-align: right;\n",
       "    }\n",
       "</style>\n",
       "<table border=\"1\" class=\"dataframe\">\n",
       "  <thead>\n",
       "    <tr style=\"text-align: right;\">\n",
       "      <th></th>\n",
       "      <th>App</th>\n",
       "      <th>Category</th>\n",
       "      <th>Rating</th>\n",
       "      <th>Reviews</th>\n",
       "      <th>Size</th>\n",
       "      <th>Installs</th>\n",
       "      <th>Type</th>\n",
       "      <th>Price</th>\n",
       "      <th>Content Rating</th>\n",
       "      <th>Genres</th>\n",
       "      <th>Current Ver</th>\n",
       "      <th>Android Ver</th>\n",
       "      <th>Date</th>\n",
       "      <th>Month</th>\n",
       "      <th>Year</th>\n",
       "    </tr>\n",
       "  </thead>\n",
       "  <tbody>\n",
       "    <tr>\n",
       "      <th>0</th>\n",
       "      <td>Photo Editor &amp; Candy Camera &amp; Grid &amp; ScrapBook</td>\n",
       "      <td>ART_AND_DESIGN</td>\n",
       "      <td>4.1</td>\n",
       "      <td>159</td>\n",
       "      <td>19000.0</td>\n",
       "      <td>10000.0</td>\n",
       "      <td>Free</td>\n",
       "      <td>0.0</td>\n",
       "      <td>Everyone</td>\n",
       "      <td>Art &amp; Design</td>\n",
       "      <td>1.0.0</td>\n",
       "      <td>4.0.3 and up</td>\n",
       "      <td>7</td>\n",
       "      <td>1</td>\n",
       "      <td>2018</td>\n",
       "    </tr>\n",
       "    <tr>\n",
       "      <th>1</th>\n",
       "      <td>Coloring book moana</td>\n",
       "      <td>ART_AND_DESIGN</td>\n",
       "      <td>3.9</td>\n",
       "      <td>967</td>\n",
       "      <td>14000.0</td>\n",
       "      <td>500000.0</td>\n",
       "      <td>Free</td>\n",
       "      <td>0.0</td>\n",
       "      <td>Everyone</td>\n",
       "      <td>Art &amp; Design;Pretend Play</td>\n",
       "      <td>2.0.0</td>\n",
       "      <td>4.0.3 and up</td>\n",
       "      <td>15</td>\n",
       "      <td>1</td>\n",
       "      <td>2018</td>\n",
       "    </tr>\n",
       "    <tr>\n",
       "      <th>2</th>\n",
       "      <td>U Launcher Lite – FREE Live Cool Themes, Hide ...</td>\n",
       "      <td>ART_AND_DESIGN</td>\n",
       "      <td>4.7</td>\n",
       "      <td>87510</td>\n",
       "      <td>8.7</td>\n",
       "      <td>5000000.0</td>\n",
       "      <td>Free</td>\n",
       "      <td>0.0</td>\n",
       "      <td>Everyone</td>\n",
       "      <td>Art &amp; Design</td>\n",
       "      <td>1.2.4</td>\n",
       "      <td>4.0.3 and up</td>\n",
       "      <td>1</td>\n",
       "      <td>8</td>\n",
       "      <td>2018</td>\n",
       "    </tr>\n",
       "    <tr>\n",
       "      <th>3</th>\n",
       "      <td>Sketch - Draw &amp; Paint</td>\n",
       "      <td>ART_AND_DESIGN</td>\n",
       "      <td>4.5</td>\n",
       "      <td>215644</td>\n",
       "      <td>25000.0</td>\n",
       "      <td>50000000.0</td>\n",
       "      <td>Free</td>\n",
       "      <td>0.0</td>\n",
       "      <td>Teen</td>\n",
       "      <td>Art &amp; Design</td>\n",
       "      <td>Varies with device</td>\n",
       "      <td>4.2 and up</td>\n",
       "      <td>8</td>\n",
       "      <td>6</td>\n",
       "      <td>2018</td>\n",
       "    </tr>\n",
       "    <tr>\n",
       "      <th>4</th>\n",
       "      <td>Pixel Draw - Number Art Coloring Book</td>\n",
       "      <td>ART_AND_DESIGN</td>\n",
       "      <td>4.3</td>\n",
       "      <td>967</td>\n",
       "      <td>2.8</td>\n",
       "      <td>100000.0</td>\n",
       "      <td>Free</td>\n",
       "      <td>0.0</td>\n",
       "      <td>Everyone</td>\n",
       "      <td>Art &amp; Design;Creativity</td>\n",
       "      <td>1.1</td>\n",
       "      <td>4.4 and up</td>\n",
       "      <td>20</td>\n",
       "      <td>6</td>\n",
       "      <td>2018</td>\n",
       "    </tr>\n",
       "    <tr>\n",
       "      <th>...</th>\n",
       "      <td>...</td>\n",
       "      <td>...</td>\n",
       "      <td>...</td>\n",
       "      <td>...</td>\n",
       "      <td>...</td>\n",
       "      <td>...</td>\n",
       "      <td>...</td>\n",
       "      <td>...</td>\n",
       "      <td>...</td>\n",
       "      <td>...</td>\n",
       "      <td>...</td>\n",
       "      <td>...</td>\n",
       "      <td>...</td>\n",
       "      <td>...</td>\n",
       "      <td>...</td>\n",
       "    </tr>\n",
       "    <tr>\n",
       "      <th>10836</th>\n",
       "      <td>Sya9a Maroc - FR</td>\n",
       "      <td>FAMILY</td>\n",
       "      <td>4.5</td>\n",
       "      <td>38</td>\n",
       "      <td>53000.0</td>\n",
       "      <td>5000.0</td>\n",
       "      <td>Free</td>\n",
       "      <td>0.0</td>\n",
       "      <td>Everyone</td>\n",
       "      <td>Education</td>\n",
       "      <td>1.48</td>\n",
       "      <td>4.1 and up</td>\n",
       "      <td>25</td>\n",
       "      <td>7</td>\n",
       "      <td>2017</td>\n",
       "    </tr>\n",
       "    <tr>\n",
       "      <th>10837</th>\n",
       "      <td>Fr. Mike Schmitz Audio Teachings</td>\n",
       "      <td>FAMILY</td>\n",
       "      <td>5.0</td>\n",
       "      <td>4</td>\n",
       "      <td>3.6</td>\n",
       "      <td>100.0</td>\n",
       "      <td>Free</td>\n",
       "      <td>0.0</td>\n",
       "      <td>Everyone</td>\n",
       "      <td>Education</td>\n",
       "      <td>1.0</td>\n",
       "      <td>4.1 and up</td>\n",
       "      <td>6</td>\n",
       "      <td>7</td>\n",
       "      <td>2018</td>\n",
       "    </tr>\n",
       "    <tr>\n",
       "      <th>10838</th>\n",
       "      <td>Parkinson Exercices FR</td>\n",
       "      <td>MEDICAL</td>\n",
       "      <td>NaN</td>\n",
       "      <td>3</td>\n",
       "      <td>9.5</td>\n",
       "      <td>1000.0</td>\n",
       "      <td>Free</td>\n",
       "      <td>0.0</td>\n",
       "      <td>Everyone</td>\n",
       "      <td>Medical</td>\n",
       "      <td>1.0</td>\n",
       "      <td>2.2 and up</td>\n",
       "      <td>20</td>\n",
       "      <td>1</td>\n",
       "      <td>2017</td>\n",
       "    </tr>\n",
       "    <tr>\n",
       "      <th>10839</th>\n",
       "      <td>The SCP Foundation DB fr nn5n</td>\n",
       "      <td>BOOKS_AND_REFERENCE</td>\n",
       "      <td>4.5</td>\n",
       "      <td>114</td>\n",
       "      <td>NaN</td>\n",
       "      <td>1000.0</td>\n",
       "      <td>Free</td>\n",
       "      <td>0.0</td>\n",
       "      <td>Mature 17+</td>\n",
       "      <td>Books &amp; Reference</td>\n",
       "      <td>Varies with device</td>\n",
       "      <td>Varies with device</td>\n",
       "      <td>19</td>\n",
       "      <td>1</td>\n",
       "      <td>2015</td>\n",
       "    </tr>\n",
       "    <tr>\n",
       "      <th>10840</th>\n",
       "      <td>iHoroscope - 2018 Daily Horoscope &amp; Astrology</td>\n",
       "      <td>LIFESTYLE</td>\n",
       "      <td>4.5</td>\n",
       "      <td>398307</td>\n",
       "      <td>19000.0</td>\n",
       "      <td>10000000.0</td>\n",
       "      <td>Free</td>\n",
       "      <td>0.0</td>\n",
       "      <td>Everyone</td>\n",
       "      <td>Lifestyle</td>\n",
       "      <td>Varies with device</td>\n",
       "      <td>Varies with device</td>\n",
       "      <td>25</td>\n",
       "      <td>7</td>\n",
       "      <td>2018</td>\n",
       "    </tr>\n",
       "  </tbody>\n",
       "</table>\n",
       "<p>9659 rows × 15 columns</p>\n",
       "</div>"
      ],
      "text/plain": [
       "                                                     App             Category  \\\n",
       "0         Photo Editor & Candy Camera & Grid & ScrapBook       ART_AND_DESIGN   \n",
       "1                                    Coloring book moana       ART_AND_DESIGN   \n",
       "2      U Launcher Lite – FREE Live Cool Themes, Hide ...       ART_AND_DESIGN   \n",
       "3                                  Sketch - Draw & Paint       ART_AND_DESIGN   \n",
       "4                  Pixel Draw - Number Art Coloring Book       ART_AND_DESIGN   \n",
       "...                                                  ...                  ...   \n",
       "10836                                   Sya9a Maroc - FR               FAMILY   \n",
       "10837                   Fr. Mike Schmitz Audio Teachings               FAMILY   \n",
       "10838                             Parkinson Exercices FR              MEDICAL   \n",
       "10839                      The SCP Foundation DB fr nn5n  BOOKS_AND_REFERENCE   \n",
       "10840      iHoroscope - 2018 Daily Horoscope & Astrology            LIFESTYLE   \n",
       "\n",
       "       Rating  Reviews     Size    Installs  Type  Price Content Rating  \\\n",
       "0         4.1      159  19000.0     10000.0  Free    0.0       Everyone   \n",
       "1         3.9      967  14000.0    500000.0  Free    0.0       Everyone   \n",
       "2         4.7    87510      8.7   5000000.0  Free    0.0       Everyone   \n",
       "3         4.5   215644  25000.0  50000000.0  Free    0.0           Teen   \n",
       "4         4.3      967      2.8    100000.0  Free    0.0       Everyone   \n",
       "...       ...      ...      ...         ...   ...    ...            ...   \n",
       "10836     4.5       38  53000.0      5000.0  Free    0.0       Everyone   \n",
       "10837     5.0        4      3.6       100.0  Free    0.0       Everyone   \n",
       "10838     NaN        3      9.5      1000.0  Free    0.0       Everyone   \n",
       "10839     4.5      114      NaN      1000.0  Free    0.0     Mature 17+   \n",
       "10840     4.5   398307  19000.0  10000000.0  Free    0.0       Everyone   \n",
       "\n",
       "                          Genres         Current Ver         Android Ver  \\\n",
       "0                   Art & Design               1.0.0        4.0.3 and up   \n",
       "1      Art & Design;Pretend Play               2.0.0        4.0.3 and up   \n",
       "2                   Art & Design               1.2.4        4.0.3 and up   \n",
       "3                   Art & Design  Varies with device          4.2 and up   \n",
       "4        Art & Design;Creativity                 1.1          4.4 and up   \n",
       "...                          ...                 ...                 ...   \n",
       "10836                  Education                1.48          4.1 and up   \n",
       "10837                  Education                 1.0          4.1 and up   \n",
       "10838                    Medical                 1.0          2.2 and up   \n",
       "10839          Books & Reference  Varies with device  Varies with device   \n",
       "10840                  Lifestyle  Varies with device  Varies with device   \n",
       "\n",
       "       Date  Month  Year  \n",
       "0         7      1  2018  \n",
       "1        15      1  2018  \n",
       "2         1      8  2018  \n",
       "3         8      6  2018  \n",
       "4        20      6  2018  \n",
       "...     ...    ...   ...  \n",
       "10836    25      7  2017  \n",
       "10837     6      7  2018  \n",
       "10838    20      1  2017  \n",
       "10839    19      1  2015  \n",
       "10840    25      7  2018  \n",
       "\n",
       "[9659 rows x 15 columns]"
      ]
     },
     "execution_count": 92,
     "metadata": {},
     "output_type": "execute_result"
    }
   ],
   "source": [
    "df"
   ]
  },
  {
   "cell_type": "code",
   "execution_count": 96,
   "id": "232f27ba-df54-4243-92fb-1433f14fd812",
   "metadata": {},
   "outputs": [],
   "source": [
    "numerical_feature =    [feature for feature in df.columns if df[feature].dtypes!=\"object\"]\n",
    "categorical_feature = [feature for feature in df.columns if df[feature].dtypes==\"object\"]"
   ]
  },
  {
   "cell_type": "code",
   "execution_count": 97,
   "id": "e8909491-7df0-4d94-8984-6062e05438ac",
   "metadata": {},
   "outputs": [
    {
     "name": "stdout",
     "output_type": "stream",
     "text": [
      "The numerical feature will be 8 and list ['Rating', 'Reviews', 'Size', 'Installs', 'Price', 'Date', 'Month', 'Year']\n",
      "The categorical feature will be 7 and list ['App', 'Category', 'Type', 'Content Rating', 'Genres', 'Current Ver', 'Android Ver']\n"
     ]
    }
   ],
   "source": [
    "print(\"The numerical feature will be {} and list {}\".format(len(numerical_feature),numerical_feature))\n",
    "print(\"The categorical feature will be {} and list {}\".format(len(categorical_feature),categorical_feature))"
   ]
  },
  {
   "cell_type": "code",
   "execution_count": null,
   "id": "400b8d6c-d6e8-4913-a78c-5db12d01e586",
   "metadata": {},
   "outputs": [],
   "source": []
  },
  {
   "cell_type": "code",
   "execution_count": 100,
   "id": "c51cfa0a-5086-4171-9fdb-e6435fd0cd01",
   "metadata": {},
   "outputs": [
    {
     "data": {
      "text/plain": [
       "<AxesSubplot: >"
      ]
     },
     "execution_count": 100,
     "metadata": {},
     "output_type": "execute_result"
    },
    {
     "data": {
      "image/png": "[encoded data removed]",
      "text/plain": [
       "<Figure size 640x480 with 1 Axes>"
      ]
     },
     "metadata": {},
     "output_type": "display_data"
    }
   ],
   "source": [
    "df.Category.value_counts().plot(kind='bar')"
   ]
  },
  {
   "cell_type": "code",
   "execution_count": 102,
   "id": "606eb0bd-a314-4365-9b61-673a01a7a510",
   "metadata": {},
   "outputs": [
    {
     "data": {
      "text/plain": [
       "<AxesSubplot: ylabel='Category'>"
      ]
     },
     "execution_count": 102,
     "metadata": {},
     "output_type": "execute_result"
    },
    {
     "data": {
      "image/png": "[encoded data removed]",
      "text/plain": [
       "<Figure size 1000x1500 with 1 Axes>"
      ]
     },
     "metadata": {},
     "output_type": "display_data"
    }
   ],
   "source": [
    "df.Category.value_counts().plot.pie(y = df['Category'],figsize = (10,15),autopct = '%1.1f')"
   ]
  },
  {
   "cell_type": "code",
   "execution_count": 104,
   "id": "2811c309-4304-4be0-b656-a03cd798af4c",
   "metadata": {},
   "outputs": [
    {
     "data": {
      "text/plain": [
       "array([4.1, 3.9, 4.7, 4.5, 4.3, 4.4, 3.8, 4.2, 4.6, 3.2, 4. , nan, 4.8,\n",
       "       4.9, 3.6, 3.7, 3.3, 3.4, 3.5, 3.1, 5. , 2.6, 3. , 1.9, 2.5, 2.8,\n",
       "       2.7, 1. , 2.9, 2.3, 2.2, 1.7, 2. , 1.8, 2.4, 1.6, 2.1, 1.4, 1.5,\n",
       "       1.2])"
      ]
     },
     "execution_count": 104,
     "metadata": {},
     "output_type": "execute_result"
    }
   ],
   "source": [
    "df['Rating'].unique()"
   ]
  },
  {
   "cell_type": "code",
   "execution_count": 105,
   "id": "bfac6e6a-c363-4ec2-9cfd-0b35e81e48f4",
   "metadata": {},
   "outputs": [
    {
     "data": {
      "text/plain": [
       "<AxesSubplot: >"
      ]
     },
     "execution_count": 105,
     "metadata": {},
     "output_type": "execute_result"
    },
    {
     "data": {
      "image/png": "[encoded data removed]",
      "text/plain": [
       "<Figure size 640x480 with 1 Axes>"
      ]
     },
     "metadata": {},
     "output_type": "display_data"
    }
   ],
   "source": [
    "df.Rating.value_counts().plot(kind = 'bar')"
   ]
  },
  {
   "cell_type": "code",
   "execution_count": 107,
   "id": "86a58c6d-a6c7-42cd-8ade-2f458c1d79be",
   "metadata": {},
   "outputs": [
    {
     "data": {
      "text/plain": [
       "<AxesSubplot: ylabel='Rating'>"
      ]
     },
     "execution_count": 107,
     "metadata": {},
     "output_type": "execute_result"
    },
    {
     "data": {
      "image/png": "[encoded data removed]",
      "text/plain": [
       "<Figure size 1000x1300 with 1 Axes>"
      ]
     },
     "metadata": {},
     "output_type": "display_data"
    }
   ],
   "source": [
    "df.Rating.value_counts().plot.pie(y=df['Rating'],figsize=(10,13),autopct = '%1.1f')"
   ]
  },
  {
   "cell_type": "code",
   "execution_count": 109,
   "id": "d61ee5a5-da08-4c4d-a465-119e567a391c",
   "metadata": {},
   "outputs": [
    {
     "data": {
      "text/plain": [
       "8196"
      ]
     },
     "execution_count": 109,
     "metadata": {},
     "output_type": "execute_result"
    }
   ],
   "source": [
    "df.Rating.value_counts().sum()"
   ]
  },
  {
   "cell_type": "code",
   "execution_count": 111,
   "id": "30b2fb30-0693-4dd7-a777-bb07c8a64806",
   "metadata": {},
   "outputs": [],
   "source": [
    "val = 271/8196"
   ]
  },
  {
   "cell_type": "code",
   "execution_count": 113,
   "id": "db175069-cabe-4e1a-976a-ba39ce93a0db",
   "metadata": {},
   "outputs": [
    {
     "data": {
      "text/plain": [
       "3.306490971205466"
      ]
     },
     "execution_count": 113,
     "metadata": {},
     "output_type": "execute_result"
    }
   ],
   "source": [
    "val*100"
   ]
  },
  {
   "cell_type": "code",
   "execution_count": 118,
   "id": "ce44b403-1c8b-4dc1-8765-ca165fc2a50c",
   "metadata": {},
   "outputs": [
    {
     "data": {
      "text/plain": [
       "numpy.float64"
      ]
     },
     "execution_count": 118,
     "metadata": {},
     "output_type": "execute_result"
    }
   ],
   "source": [
    "type(df['Installs'][0])"
   ]
  },
  {
   "cell_type": "code",
   "execution_count": 120,
   "id": "30aaa415-e092-4ca8-920b-d3cdbb932157",
   "metadata": {},
   "outputs": [
    {
     "data": {
      "text/plain": [
       "array([1.e+04, 5.e+05, 5.e+06, 5.e+07, 1.e+05, 5.e+04, 1.e+06, 1.e+07,\n",
       "       5.e+03, 1.e+08, 1.e+09, 1.e+03, 5.e+08, 5.e+01, 1.e+02, 5.e+02,\n",
       "       1.e+01, 1.e+00, 5.e+00, 0.e+00])"
      ]
     },
     "execution_count": 120,
     "metadata": {},
     "output_type": "execute_result"
    }
   ],
   "source": [
    "df['Installs'].unique()"
   ]
  },
  {
   "cell_type": "code",
   "execution_count": 123,
   "id": "fc884c6f-d0db-4d8c-bb11-f10652634929",
   "metadata": {},
   "outputs": [
    {
     "data": {
      "text/html": [
       "<div>\n",
       "<style scoped>\n",
       "    .dataframe tbody tr th:only-of-type {\n",
       "        vertical-align: middle;\n",
       "    }\n",
       "\n",
       "    .dataframe tbody tr th {\n",
       "        vertical-align: top;\n",
       "    }\n",
       "\n",
       "    .dataframe thead th {\n",
       "        text-align: right;\n",
       "    }\n",
       "</style>\n",
       "<table border=\"1\" class=\"dataframe\">\n",
       "  <thead>\n",
       "    <tr style=\"text-align: right;\">\n",
       "      <th></th>\n",
       "      <th>App</th>\n",
       "      <th>Category</th>\n",
       "      <th>Rating</th>\n",
       "      <th>Reviews</th>\n",
       "      <th>Size</th>\n",
       "      <th>Installs</th>\n",
       "      <th>Type</th>\n",
       "      <th>Price</th>\n",
       "      <th>Content Rating</th>\n",
       "      <th>Genres</th>\n",
       "      <th>Current Ver</th>\n",
       "      <th>Android Ver</th>\n",
       "      <th>Date</th>\n",
       "      <th>Month</th>\n",
       "      <th>Year</th>\n",
       "    </tr>\n",
       "  </thead>\n",
       "  <tbody>\n",
       "    <tr>\n",
       "      <th>0</th>\n",
       "      <td>Photo Editor &amp; Candy Camera &amp; Grid &amp; ScrapBook</td>\n",
       "      <td>ART_AND_DESIGN</td>\n",
       "      <td>4.1</td>\n",
       "      <td>159</td>\n",
       "      <td>19000.0</td>\n",
       "      <td>10000.0</td>\n",
       "      <td>Free</td>\n",
       "      <td>0.0</td>\n",
       "      <td>Everyone</td>\n",
       "      <td>Art &amp; Design</td>\n",
       "      <td>1.0.0</td>\n",
       "      <td>4.0.3 and up</td>\n",
       "      <td>7</td>\n",
       "      <td>1</td>\n",
       "      <td>2018</td>\n",
       "    </tr>\n",
       "    <tr>\n",
       "      <th>1</th>\n",
       "      <td>Coloring book moana</td>\n",
       "      <td>ART_AND_DESIGN</td>\n",
       "      <td>3.9</td>\n",
       "      <td>967</td>\n",
       "      <td>14000.0</td>\n",
       "      <td>500000.0</td>\n",
       "      <td>Free</td>\n",
       "      <td>0.0</td>\n",
       "      <td>Everyone</td>\n",
       "      <td>Art &amp; Design;Pretend Play</td>\n",
       "      <td>2.0.0</td>\n",
       "      <td>4.0.3 and up</td>\n",
       "      <td>15</td>\n",
       "      <td>1</td>\n",
       "      <td>2018</td>\n",
       "    </tr>\n",
       "    <tr>\n",
       "      <th>2</th>\n",
       "      <td>U Launcher Lite – FREE Live Cool Themes, Hide ...</td>\n",
       "      <td>ART_AND_DESIGN</td>\n",
       "      <td>4.7</td>\n",
       "      <td>87510</td>\n",
       "      <td>8.7</td>\n",
       "      <td>5000000.0</td>\n",
       "      <td>Free</td>\n",
       "      <td>0.0</td>\n",
       "      <td>Everyone</td>\n",
       "      <td>Art &amp; Design</td>\n",
       "      <td>1.2.4</td>\n",
       "      <td>4.0.3 and up</td>\n",
       "      <td>1</td>\n",
       "      <td>8</td>\n",
       "      <td>2018</td>\n",
       "    </tr>\n",
       "    <tr>\n",
       "      <th>3</th>\n",
       "      <td>Sketch - Draw &amp; Paint</td>\n",
       "      <td>ART_AND_DESIGN</td>\n",
       "      <td>4.5</td>\n",
       "      <td>215644</td>\n",
       "      <td>25000.0</td>\n",
       "      <td>50000000.0</td>\n",
       "      <td>Free</td>\n",
       "      <td>0.0</td>\n",
       "      <td>Teen</td>\n",
       "      <td>Art &amp; Design</td>\n",
       "      <td>Varies with device</td>\n",
       "      <td>4.2 and up</td>\n",
       "      <td>8</td>\n",
       "      <td>6</td>\n",
       "      <td>2018</td>\n",
       "    </tr>\n",
       "    <tr>\n",
       "      <th>4</th>\n",
       "      <td>Pixel Draw - Number Art Coloring Book</td>\n",
       "      <td>ART_AND_DESIGN</td>\n",
       "      <td>4.3</td>\n",
       "      <td>967</td>\n",
       "      <td>2.8</td>\n",
       "      <td>100000.0</td>\n",
       "      <td>Free</td>\n",
       "      <td>0.0</td>\n",
       "      <td>Everyone</td>\n",
       "      <td>Art &amp; Design;Creativity</td>\n",
       "      <td>1.1</td>\n",
       "      <td>4.4 and up</td>\n",
       "      <td>20</td>\n",
       "      <td>6</td>\n",
       "      <td>2018</td>\n",
       "    </tr>\n",
       "  </tbody>\n",
       "</table>\n",
       "</div>"
      ],
      "text/plain": [
       "                                                 App        Category  Rating  \\\n",
       "0     Photo Editor & Candy Camera & Grid & ScrapBook  ART_AND_DESIGN     4.1   \n",
       "1                                Coloring book moana  ART_AND_DESIGN     3.9   \n",
       "2  U Launcher Lite – FREE Live Cool Themes, Hide ...  ART_AND_DESIGN     4.7   \n",
       "3                              Sketch - Draw & Paint  ART_AND_DESIGN     4.5   \n",
       "4              Pixel Draw - Number Art Coloring Book  ART_AND_DESIGN     4.3   \n",
       "\n",
       "   Reviews     Size    Installs  Type  Price Content Rating  \\\n",
       "0      159  19000.0     10000.0  Free    0.0       Everyone   \n",
       "1      967  14000.0    500000.0  Free    0.0       Everyone   \n",
       "2    87510      8.7   5000000.0  Free    0.0       Everyone   \n",
       "3   215644  25000.0  50000000.0  Free    0.0           Teen   \n",
       "4      967      2.8    100000.0  Free    0.0       Everyone   \n",
       "\n",
       "                      Genres         Current Ver   Android Ver  Date  Month  \\\n",
       "0               Art & Design               1.0.0  4.0.3 and up     7      1   \n",
       "1  Art & Design;Pretend Play               2.0.0  4.0.3 and up    15      1   \n",
       "2               Art & Design               1.2.4  4.0.3 and up     1      8   \n",
       "3               Art & Design  Varies with device    4.2 and up     8      6   \n",
       "4    Art & Design;Creativity                 1.1    4.4 and up    20      6   \n",
       "\n",
       "   Year  \n",
       "0  2018  \n",
       "1  2018  \n",
       "2  2018  \n",
       "3  2018  \n",
       "4  2018  "
      ]
     },
     "execution_count": 123,
     "metadata": {},
     "output_type": "execute_result"
    }
   ],
   "source": [
    "df.head()"
   ]
  },
  {
   "cell_type": "code",
   "execution_count": 126,
   "id": "aeca8542-34bc-4ceb-9b0d-74d4e0ddaad7",
   "metadata": {},
   "outputs": [
    {
     "data": {
      "text/plain": [
       "1.000000e+06    1417\n",
       "1.000000e+05    1112\n",
       "1.000000e+04    1031\n",
       "1.000000e+07     937\n",
       "1.000000e+03     888\n",
       "1.000000e+02     710\n",
       "5.000000e+06     607\n",
       "5.000000e+05     505\n",
       "5.000000e+04     469\n",
       "5.000000e+03     468\n",
       "1.000000e+01     385\n",
       "5.000000e+02     328\n",
       "5.000000e+01     204\n",
       "5.000000e+07     202\n",
       "1.000000e+08     188\n",
       "5.000000e+00      82\n",
       "1.000000e+00      67\n",
       "5.000000e+08      24\n",
       "1.000000e+09      20\n",
       "0.000000e+00      15\n",
       "Name: Installs, dtype: int64"
      ]
     },
     "execution_count": 126,
     "metadata": {},
     "output_type": "execute_result"
    }
   ],
   "source": [
    "df['Installs'].value_counts()"
   ]
  },
  {
   "cell_type": "code",
   "execution_count": 128,
   "id": "a802036e-fd10-4a7e-8e11-01052299c302",
   "metadata": {},
   "outputs": [
    {
     "data": {
      "text/html": [
       "<div>\n",
       "<style scoped>\n",
       "    .dataframe tbody tr th:only-of-type {\n",
       "        vertical-align: middle;\n",
       "    }\n",
       "\n",
       "    .dataframe tbody tr th {\n",
       "        vertical-align: top;\n",
       "    }\n",
       "\n",
       "    .dataframe thead th {\n",
       "        text-align: right;\n",
       "    }\n",
       "</style>\n",
       "<table border=\"1\" class=\"dataframe\">\n",
       "  <thead>\n",
       "    <tr style=\"text-align: right;\">\n",
       "      <th></th>\n",
       "      <th>App</th>\n",
       "      <th>Category</th>\n",
       "      <th>Rating</th>\n",
       "      <th>Reviews</th>\n",
       "      <th>Size</th>\n",
       "      <th>Installs</th>\n",
       "      <th>Type</th>\n",
       "      <th>Price</th>\n",
       "      <th>Content Rating</th>\n",
       "      <th>Genres</th>\n",
       "      <th>Current Ver</th>\n",
       "      <th>Android Ver</th>\n",
       "      <th>Date</th>\n",
       "      <th>Month</th>\n",
       "      <th>Year</th>\n",
       "    </tr>\n",
       "  </thead>\n",
       "  <tbody>\n",
       "    <tr>\n",
       "      <th>0</th>\n",
       "      <td>Photo Editor &amp; Candy Camera &amp; Grid &amp; ScrapBook</td>\n",
       "      <td>ART_AND_DESIGN</td>\n",
       "      <td>4.1</td>\n",
       "      <td>159</td>\n",
       "      <td>19000.0</td>\n",
       "      <td>10000.0</td>\n",
       "      <td>Free</td>\n",
       "      <td>0.0</td>\n",
       "      <td>Everyone</td>\n",
       "      <td>Art &amp; Design</td>\n",
       "      <td>1.0.0</td>\n",
       "      <td>4.0.3 and up</td>\n",
       "      <td>7</td>\n",
       "      <td>1</td>\n",
       "      <td>2018</td>\n",
       "    </tr>\n",
       "    <tr>\n",
       "      <th>1</th>\n",
       "      <td>Coloring book moana</td>\n",
       "      <td>ART_AND_DESIGN</td>\n",
       "      <td>3.9</td>\n",
       "      <td>967</td>\n",
       "      <td>14000.0</td>\n",
       "      <td>500000.0</td>\n",
       "      <td>Free</td>\n",
       "      <td>0.0</td>\n",
       "      <td>Everyone</td>\n",
       "      <td>Art &amp; Design;Pretend Play</td>\n",
       "      <td>2.0.0</td>\n",
       "      <td>4.0.3 and up</td>\n",
       "      <td>15</td>\n",
       "      <td>1</td>\n",
       "      <td>2018</td>\n",
       "    </tr>\n",
       "    <tr>\n",
       "      <th>2</th>\n",
       "      <td>U Launcher Lite – FREE Live Cool Themes, Hide ...</td>\n",
       "      <td>ART_AND_DESIGN</td>\n",
       "      <td>4.7</td>\n",
       "      <td>87510</td>\n",
       "      <td>8.7</td>\n",
       "      <td>5000000.0</td>\n",
       "      <td>Free</td>\n",
       "      <td>0.0</td>\n",
       "      <td>Everyone</td>\n",
       "      <td>Art &amp; Design</td>\n",
       "      <td>1.2.4</td>\n",
       "      <td>4.0.3 and up</td>\n",
       "      <td>1</td>\n",
       "      <td>8</td>\n",
       "      <td>2018</td>\n",
       "    </tr>\n",
       "    <tr>\n",
       "      <th>3</th>\n",
       "      <td>Sketch - Draw &amp; Paint</td>\n",
       "      <td>ART_AND_DESIGN</td>\n",
       "      <td>4.5</td>\n",
       "      <td>215644</td>\n",
       "      <td>25000.0</td>\n",
       "      <td>50000000.0</td>\n",
       "      <td>Free</td>\n",
       "      <td>0.0</td>\n",
       "      <td>Teen</td>\n",
       "      <td>Art &amp; Design</td>\n",
       "      <td>Varies with device</td>\n",
       "      <td>4.2 and up</td>\n",
       "      <td>8</td>\n",
       "      <td>6</td>\n",
       "      <td>2018</td>\n",
       "    </tr>\n",
       "    <tr>\n",
       "      <th>4</th>\n",
       "      <td>Pixel Draw - Number Art Coloring Book</td>\n",
       "      <td>ART_AND_DESIGN</td>\n",
       "      <td>4.3</td>\n",
       "      <td>967</td>\n",
       "      <td>2.8</td>\n",
       "      <td>100000.0</td>\n",
       "      <td>Free</td>\n",
       "      <td>0.0</td>\n",
       "      <td>Everyone</td>\n",
       "      <td>Art &amp; Design;Creativity</td>\n",
       "      <td>1.1</td>\n",
       "      <td>4.4 and up</td>\n",
       "      <td>20</td>\n",
       "      <td>6</td>\n",
       "      <td>2018</td>\n",
       "    </tr>\n",
       "    <tr>\n",
       "      <th>...</th>\n",
       "      <td>...</td>\n",
       "      <td>...</td>\n",
       "      <td>...</td>\n",
       "      <td>...</td>\n",
       "      <td>...</td>\n",
       "      <td>...</td>\n",
       "      <td>...</td>\n",
       "      <td>...</td>\n",
       "      <td>...</td>\n",
       "      <td>...</td>\n",
       "      <td>...</td>\n",
       "      <td>...</td>\n",
       "      <td>...</td>\n",
       "      <td>...</td>\n",
       "      <td>...</td>\n",
       "    </tr>\n",
       "    <tr>\n",
       "      <th>95</th>\n",
       "      <td>All of the parking lot - National Park applica...</td>\n",
       "      <td>AUTO_AND_VEHICLES</td>\n",
       "      <td>4.0</td>\n",
       "      <td>1754</td>\n",
       "      <td>14000.0</td>\n",
       "      <td>500000.0</td>\n",
       "      <td>Free</td>\n",
       "      <td>0.0</td>\n",
       "      <td>Everyone</td>\n",
       "      <td>Auto &amp; Vehicles</td>\n",
       "      <td>2.3.4</td>\n",
       "      <td>4.0 and up</td>\n",
       "      <td>2</td>\n",
       "      <td>6</td>\n",
       "      <td>2018</td>\n",
       "    </tr>\n",
       "    <tr>\n",
       "      <th>96</th>\n",
       "      <td>Inquiry Fines and Debits of Vehicles</td>\n",
       "      <td>AUTO_AND_VEHICLES</td>\n",
       "      <td>4.4</td>\n",
       "      <td>2680</td>\n",
       "      <td>2.2</td>\n",
       "      <td>500000.0</td>\n",
       "      <td>Free</td>\n",
       "      <td>0.0</td>\n",
       "      <td>Everyone</td>\n",
       "      <td>Auto &amp; Vehicles</td>\n",
       "      <td>1.03</td>\n",
       "      <td>4.0.3 and up</td>\n",
       "      <td>20</td>\n",
       "      <td>3</td>\n",
       "      <td>2018</td>\n",
       "    </tr>\n",
       "    <tr>\n",
       "      <th>97</th>\n",
       "      <td>Gas Station</td>\n",
       "      <td>AUTO_AND_VEHICLES</td>\n",
       "      <td>4.0</td>\n",
       "      <td>1288</td>\n",
       "      <td>4.5</td>\n",
       "      <td>100000.0</td>\n",
       "      <td>Free</td>\n",
       "      <td>0.0</td>\n",
       "      <td>Everyone</td>\n",
       "      <td>Auto &amp; Vehicles</td>\n",
       "      <td>2.17</td>\n",
       "      <td>4.0 and up</td>\n",
       "      <td>21</td>\n",
       "      <td>4</td>\n",
       "      <td>2018</td>\n",
       "    </tr>\n",
       "    <tr>\n",
       "      <th>98</th>\n",
       "      <td>Hush - Beauty for Everyone</td>\n",
       "      <td>BEAUTY</td>\n",
       "      <td>4.7</td>\n",
       "      <td>18900</td>\n",
       "      <td>17000.0</td>\n",
       "      <td>500000.0</td>\n",
       "      <td>Free</td>\n",
       "      <td>0.0</td>\n",
       "      <td>Everyone</td>\n",
       "      <td>Beauty</td>\n",
       "      <td>6.10.1</td>\n",
       "      <td>5.0 and up</td>\n",
       "      <td>2</td>\n",
       "      <td>8</td>\n",
       "      <td>2018</td>\n",
       "    </tr>\n",
       "    <tr>\n",
       "      <th>99</th>\n",
       "      <td>ipsy: Makeup, Beauty, and Tips</td>\n",
       "      <td>BEAUTY</td>\n",
       "      <td>4.9</td>\n",
       "      <td>49790</td>\n",
       "      <td>14000.0</td>\n",
       "      <td>1000000.0</td>\n",
       "      <td>Free</td>\n",
       "      <td>0.0</td>\n",
       "      <td>Everyone</td>\n",
       "      <td>Beauty</td>\n",
       "      <td>2.3.0</td>\n",
       "      <td>4.1 and up</td>\n",
       "      <td>9</td>\n",
       "      <td>11</td>\n",
       "      <td>2017</td>\n",
       "    </tr>\n",
       "  </tbody>\n",
       "</table>\n",
       "<p>100 rows × 15 columns</p>\n",
       "</div>"
      ],
      "text/plain": [
       "                                                  App           Category  \\\n",
       "0      Photo Editor & Candy Camera & Grid & ScrapBook     ART_AND_DESIGN   \n",
       "1                                 Coloring book moana     ART_AND_DESIGN   \n",
       "2   U Launcher Lite – FREE Live Cool Themes, Hide ...     ART_AND_DESIGN   \n",
       "3                               Sketch - Draw & Paint     ART_AND_DESIGN   \n",
       "4               Pixel Draw - Number Art Coloring Book     ART_AND_DESIGN   \n",
       "..                                                ...                ...   \n",
       "95  All of the parking lot - National Park applica...  AUTO_AND_VEHICLES   \n",
       "96               Inquiry Fines and Debits of Vehicles  AUTO_AND_VEHICLES   \n",
       "97                                        Gas Station  AUTO_AND_VEHICLES   \n",
       "98                         Hush - Beauty for Everyone             BEAUTY   \n",
       "99                     ipsy: Makeup, Beauty, and Tips             BEAUTY   \n",
       "\n",
       "    Rating  Reviews     Size    Installs  Type  Price Content Rating  \\\n",
       "0      4.1      159  19000.0     10000.0  Free    0.0       Everyone   \n",
       "1      3.9      967  14000.0    500000.0  Free    0.0       Everyone   \n",
       "2      4.7    87510      8.7   5000000.0  Free    0.0       Everyone   \n",
       "3      4.5   215644  25000.0  50000000.0  Free    0.0           Teen   \n",
       "4      4.3      967      2.8    100000.0  Free    0.0       Everyone   \n",
       "..     ...      ...      ...         ...   ...    ...            ...   \n",
       "95     4.0     1754  14000.0    500000.0  Free    0.0       Everyone   \n",
       "96     4.4     2680      2.2    500000.0  Free    0.0       Everyone   \n",
       "97     4.0     1288      4.5    100000.0  Free    0.0       Everyone   \n",
       "98     4.7    18900  17000.0    500000.0  Free    0.0       Everyone   \n",
       "99     4.9    49790  14000.0   1000000.0  Free    0.0       Everyone   \n",
       "\n",
       "                       Genres         Current Ver   Android Ver  Date  Month  \\\n",
       "0                Art & Design               1.0.0  4.0.3 and up     7      1   \n",
       "1   Art & Design;Pretend Play               2.0.0  4.0.3 and up    15      1   \n",
       "2                Art & Design               1.2.4  4.0.3 and up     1      8   \n",
       "3                Art & Design  Varies with device    4.2 and up     8      6   \n",
       "4     Art & Design;Creativity                 1.1    4.4 and up    20      6   \n",
       "..                        ...                 ...           ...   ...    ...   \n",
       "95            Auto & Vehicles               2.3.4    4.0 and up     2      6   \n",
       "96            Auto & Vehicles                1.03  4.0.3 and up    20      3   \n",
       "97            Auto & Vehicles                2.17    4.0 and up    21      4   \n",
       "98                     Beauty              6.10.1    5.0 and up     2      8   \n",
       "99                     Beauty               2.3.0    4.1 and up     9     11   \n",
       "\n",
       "    Year  \n",
       "0   2018  \n",
       "1   2018  \n",
       "2   2018  \n",
       "3   2018  \n",
       "4   2018  \n",
       "..   ...  \n",
       "95  2018  \n",
       "96  2018  \n",
       "97  2018  \n",
       "98  2018  \n",
       "99  2017  \n",
       "\n",
       "[100 rows x 15 columns]"
      ]
     },
     "execution_count": 128,
     "metadata": {},
     "output_type": "execute_result"
    }
   ],
   "source": [
    "df.head(100)"
   ]
  },
  {
   "cell_type": "code",
   "execution_count": 129,
   "id": "460fce3f-c9b6-423f-9ddc-e10dd9c21729",
   "metadata": {},
   "outputs": [
    {
     "data": {
      "text/plain": [
       "1000000000.0"
      ]
     },
     "execution_count": 129,
     "metadata": {},
     "output_type": "execute_result"
    }
   ],
   "source": [
    "np.max(df['Installs'])"
   ]
  },
  {
   "cell_type": "code",
   "execution_count": 132,
   "id": "289d2520-3450-481a-95c0-c82fda881d2a",
   "metadata": {},
   "outputs": [],
   "source": [
    "large = df[df['Installs']==max(df['Installs'])]['Category']"
   ]
  },
  {
   "cell_type": "code",
   "execution_count": 133,
   "id": "a06a25dc-53c7-48a2-a6a4-8b1746ee2630",
   "metadata": {},
   "outputs": [],
   "source": [
    "large = list(large)"
   ]
  },
  {
   "cell_type": "code",
   "execution_count": 139,
   "id": "48daad67-0e39-4371-8282-64fd8956ddb1",
   "metadata": {},
   "outputs": [],
   "source": [
    "from scipy import stats"
   ]
  },
  {
   "cell_type": "code",
   "execution_count": 142,
   "id": "419fc95f-764d-4cdc-ad2d-8791c36b4b7d",
   "metadata": {},
   "outputs": [],
   "source": [
    "ans = stats.mode(large)[0]"
   ]
  },
  {
   "cell_type": "code",
   "execution_count": 146,
   "id": "a3e6c5df-9532-4c0b-9ae6-d2a06b459fae",
   "metadata": {},
   "outputs": [],
   "source": [
    "ans = list(ans)"
   ]
  },
  {
   "cell_type": "code",
   "execution_count": 147,
   "id": "5b457703-7678-4d9a-a1a5-d88a9416372b",
   "metadata": {},
   "outputs": [
    {
     "data": {
      "text/plain": [
       "['COMMUNICATION']"
      ]
     },
     "execution_count": 147,
     "metadata": {},
     "output_type": "execute_result"
    }
   ],
   "source": [
    "ans"
   ]
  },
  {
   "cell_type": "code",
   "execution_count": 148,
   "id": "52c1924d-60e1-45ca-90d4-e3549e2f3b29",
   "metadata": {},
   "outputs": [
    {
     "data": {
      "text/html": [
       "<div>\n",
       "<style scoped>\n",
       "    .dataframe tbody tr th:only-of-type {\n",
       "        vertical-align: middle;\n",
       "    }\n",
       "\n",
       "    .dataframe tbody tr th {\n",
       "        vertical-align: top;\n",
       "    }\n",
       "\n",
       "    .dataframe thead th {\n",
       "        text-align: right;\n",
       "    }\n",
       "</style>\n",
       "<table border=\"1\" class=\"dataframe\">\n",
       "  <thead>\n",
       "    <tr style=\"text-align: right;\">\n",
       "      <th></th>\n",
       "      <th>App</th>\n",
       "      <th>Category</th>\n",
       "      <th>Rating</th>\n",
       "      <th>Reviews</th>\n",
       "      <th>Size</th>\n",
       "      <th>Installs</th>\n",
       "      <th>Type</th>\n",
       "      <th>Price</th>\n",
       "      <th>Content Rating</th>\n",
       "      <th>Genres</th>\n",
       "      <th>Current Ver</th>\n",
       "      <th>Android Ver</th>\n",
       "      <th>Date</th>\n",
       "      <th>Month</th>\n",
       "      <th>Year</th>\n",
       "    </tr>\n",
       "  </thead>\n",
       "  <tbody>\n",
       "    <tr>\n",
       "      <th>0</th>\n",
       "      <td>Photo Editor &amp; Candy Camera &amp; Grid &amp; ScrapBook</td>\n",
       "      <td>ART_AND_DESIGN</td>\n",
       "      <td>4.1</td>\n",
       "      <td>159</td>\n",
       "      <td>19000.0</td>\n",
       "      <td>10000.0</td>\n",
       "      <td>Free</td>\n",
       "      <td>0.0</td>\n",
       "      <td>Everyone</td>\n",
       "      <td>Art &amp; Design</td>\n",
       "      <td>1.0.0</td>\n",
       "      <td>4.0.3 and up</td>\n",
       "      <td>7</td>\n",
       "      <td>1</td>\n",
       "      <td>2018</td>\n",
       "    </tr>\n",
       "    <tr>\n",
       "      <th>1</th>\n",
       "      <td>Coloring book moana</td>\n",
       "      <td>ART_AND_DESIGN</td>\n",
       "      <td>3.9</td>\n",
       "      <td>967</td>\n",
       "      <td>14000.0</td>\n",
       "      <td>500000.0</td>\n",
       "      <td>Free</td>\n",
       "      <td>0.0</td>\n",
       "      <td>Everyone</td>\n",
       "      <td>Art &amp; Design;Pretend Play</td>\n",
       "      <td>2.0.0</td>\n",
       "      <td>4.0.3 and up</td>\n",
       "      <td>15</td>\n",
       "      <td>1</td>\n",
       "      <td>2018</td>\n",
       "    </tr>\n",
       "    <tr>\n",
       "      <th>2</th>\n",
       "      <td>U Launcher Lite – FREE Live Cool Themes, Hide ...</td>\n",
       "      <td>ART_AND_DESIGN</td>\n",
       "      <td>4.7</td>\n",
       "      <td>87510</td>\n",
       "      <td>8.7</td>\n",
       "      <td>5000000.0</td>\n",
       "      <td>Free</td>\n",
       "      <td>0.0</td>\n",
       "      <td>Everyone</td>\n",
       "      <td>Art &amp; Design</td>\n",
       "      <td>1.2.4</td>\n",
       "      <td>4.0.3 and up</td>\n",
       "      <td>1</td>\n",
       "      <td>8</td>\n",
       "      <td>2018</td>\n",
       "    </tr>\n",
       "    <tr>\n",
       "      <th>3</th>\n",
       "      <td>Sketch - Draw &amp; Paint</td>\n",
       "      <td>ART_AND_DESIGN</td>\n",
       "      <td>4.5</td>\n",
       "      <td>215644</td>\n",
       "      <td>25000.0</td>\n",
       "      <td>50000000.0</td>\n",
       "      <td>Free</td>\n",
       "      <td>0.0</td>\n",
       "      <td>Teen</td>\n",
       "      <td>Art &amp; Design</td>\n",
       "      <td>Varies with device</td>\n",
       "      <td>4.2 and up</td>\n",
       "      <td>8</td>\n",
       "      <td>6</td>\n",
       "      <td>2018</td>\n",
       "    </tr>\n",
       "    <tr>\n",
       "      <th>4</th>\n",
       "      <td>Pixel Draw - Number Art Coloring Book</td>\n",
       "      <td>ART_AND_DESIGN</td>\n",
       "      <td>4.3</td>\n",
       "      <td>967</td>\n",
       "      <td>2.8</td>\n",
       "      <td>100000.0</td>\n",
       "      <td>Free</td>\n",
       "      <td>0.0</td>\n",
       "      <td>Everyone</td>\n",
       "      <td>Art &amp; Design;Creativity</td>\n",
       "      <td>1.1</td>\n",
       "      <td>4.4 and up</td>\n",
       "      <td>20</td>\n",
       "      <td>6</td>\n",
       "      <td>2018</td>\n",
       "    </tr>\n",
       "    <tr>\n",
       "      <th>...</th>\n",
       "      <td>...</td>\n",
       "      <td>...</td>\n",
       "      <td>...</td>\n",
       "      <td>...</td>\n",
       "      <td>...</td>\n",
       "      <td>...</td>\n",
       "      <td>...</td>\n",
       "      <td>...</td>\n",
       "      <td>...</td>\n",
       "      <td>...</td>\n",
       "      <td>...</td>\n",
       "      <td>...</td>\n",
       "      <td>...</td>\n",
       "      <td>...</td>\n",
       "      <td>...</td>\n",
       "    </tr>\n",
       "    <tr>\n",
       "      <th>10836</th>\n",
       "      <td>Sya9a Maroc - FR</td>\n",
       "      <td>FAMILY</td>\n",
       "      <td>4.5</td>\n",
       "      <td>38</td>\n",
       "      <td>53000.0</td>\n",
       "      <td>5000.0</td>\n",
       "      <td>Free</td>\n",
       "      <td>0.0</td>\n",
       "      <td>Everyone</td>\n",
       "      <td>Education</td>\n",
       "      <td>1.48</td>\n",
       "      <td>4.1 and up</td>\n",
       "      <td>25</td>\n",
       "      <td>7</td>\n",
       "      <td>2017</td>\n",
       "    </tr>\n",
       "    <tr>\n",
       "      <th>10837</th>\n",
       "      <td>Fr. Mike Schmitz Audio Teachings</td>\n",
       "      <td>FAMILY</td>\n",
       "      <td>5.0</td>\n",
       "      <td>4</td>\n",
       "      <td>3.6</td>\n",
       "      <td>100.0</td>\n",
       "      <td>Free</td>\n",
       "      <td>0.0</td>\n",
       "      <td>Everyone</td>\n",
       "      <td>Education</td>\n",
       "      <td>1.0</td>\n",
       "      <td>4.1 and up</td>\n",
       "      <td>6</td>\n",
       "      <td>7</td>\n",
       "      <td>2018</td>\n",
       "    </tr>\n",
       "    <tr>\n",
       "      <th>10838</th>\n",
       "      <td>Parkinson Exercices FR</td>\n",
       "      <td>MEDICAL</td>\n",
       "      <td>NaN</td>\n",
       "      <td>3</td>\n",
       "      <td>9.5</td>\n",
       "      <td>1000.0</td>\n",
       "      <td>Free</td>\n",
       "      <td>0.0</td>\n",
       "      <td>Everyone</td>\n",
       "      <td>Medical</td>\n",
       "      <td>1.0</td>\n",
       "      <td>2.2 and up</td>\n",
       "      <td>20</td>\n",
       "      <td>1</td>\n",
       "      <td>2017</td>\n",
       "    </tr>\n",
       "    <tr>\n",
       "      <th>10839</th>\n",
       "      <td>The SCP Foundation DB fr nn5n</td>\n",
       "      <td>BOOKS_AND_REFERENCE</td>\n",
       "      <td>4.5</td>\n",
       "      <td>114</td>\n",
       "      <td>NaN</td>\n",
       "      <td>1000.0</td>\n",
       "      <td>Free</td>\n",
       "      <td>0.0</td>\n",
       "      <td>Mature 17+</td>\n",
       "      <td>Books &amp; Reference</td>\n",
       "      <td>Varies with device</td>\n",
       "      <td>Varies with device</td>\n",
       "      <td>19</td>\n",
       "      <td>1</td>\n",
       "      <td>2015</td>\n",
       "    </tr>\n",
       "    <tr>\n",
       "      <th>10840</th>\n",
       "      <td>iHoroscope - 2018 Daily Horoscope &amp; Astrology</td>\n",
       "      <td>LIFESTYLE</td>\n",
       "      <td>4.5</td>\n",
       "      <td>398307</td>\n",
       "      <td>19000.0</td>\n",
       "      <td>10000000.0</td>\n",
       "      <td>Free</td>\n",
       "      <td>0.0</td>\n",
       "      <td>Everyone</td>\n",
       "      <td>Lifestyle</td>\n",
       "      <td>Varies with device</td>\n",
       "      <td>Varies with device</td>\n",
       "      <td>25</td>\n",
       "      <td>7</td>\n",
       "      <td>2018</td>\n",
       "    </tr>\n",
       "  </tbody>\n",
       "</table>\n",
       "<p>9659 rows × 15 columns</p>\n",
       "</div>"
      ],
      "text/plain": [
       "                                                     App             Category  \\\n",
       "0         Photo Editor & Candy Camera & Grid & ScrapBook       ART_AND_DESIGN   \n",
       "1                                    Coloring book moana       ART_AND_DESIGN   \n",
       "2      U Launcher Lite – FREE Live Cool Themes, Hide ...       ART_AND_DESIGN   \n",
       "3                                  Sketch - Draw & Paint       ART_AND_DESIGN   \n",
       "4                  Pixel Draw - Number Art Coloring Book       ART_AND_DESIGN   \n",
       "...                                                  ...                  ...   \n",
       "10836                                   Sya9a Maroc - FR               FAMILY   \n",
       "10837                   Fr. Mike Schmitz Audio Teachings               FAMILY   \n",
       "10838                             Parkinson Exercices FR              MEDICAL   \n",
       "10839                      The SCP Foundation DB fr nn5n  BOOKS_AND_REFERENCE   \n",
       "10840      iHoroscope - 2018 Daily Horoscope & Astrology            LIFESTYLE   \n",
       "\n",
       "       Rating  Reviews     Size    Installs  Type  Price Content Rating  \\\n",
       "0         4.1      159  19000.0     10000.0  Free    0.0       Everyone   \n",
       "1         3.9      967  14000.0    500000.0  Free    0.0       Everyone   \n",
       "2         4.7    87510      8.7   5000000.0  Free    0.0       Everyone   \n",
       "3         4.5   215644  25000.0  50000000.0  Free    0.0           Teen   \n",
       "4         4.3      967      2.8    100000.0  Free    0.0       Everyone   \n",
       "...       ...      ...      ...         ...   ...    ...            ...   \n",
       "10836     4.5       38  53000.0      5000.0  Free    0.0       Everyone   \n",
       "10837     5.0        4      3.6       100.0  Free    0.0       Everyone   \n",
       "10838     NaN        3      9.5      1000.0  Free    0.0       Everyone   \n",
       "10839     4.5      114      NaN      1000.0  Free    0.0     Mature 17+   \n",
       "10840     4.5   398307  19000.0  10000000.0  Free    0.0       Everyone   \n",
       "\n",
       "                          Genres         Current Ver         Android Ver  \\\n",
       "0                   Art & Design               1.0.0        4.0.3 and up   \n",
       "1      Art & Design;Pretend Play               2.0.0        4.0.3 and up   \n",
       "2                   Art & Design               1.2.4        4.0.3 and up   \n",
       "3                   Art & Design  Varies with device          4.2 and up   \n",
       "4        Art & Design;Creativity                 1.1          4.4 and up   \n",
       "...                          ...                 ...                 ...   \n",
       "10836                  Education                1.48          4.1 and up   \n",
       "10837                  Education                 1.0          4.1 and up   \n",
       "10838                    Medical                 1.0          2.2 and up   \n",
       "10839          Books & Reference  Varies with device  Varies with device   \n",
       "10840                  Lifestyle  Varies with device  Varies with device   \n",
       "\n",
       "       Date  Month  Year  \n",
       "0         7      1  2018  \n",
       "1        15      1  2018  \n",
       "2         1      8  2018  \n",
       "3         8      6  2018  \n",
       "4        20      6  2018  \n",
       "...     ...    ...   ...  \n",
       "10836    25      7  2017  \n",
       "10837     6      7  2018  \n",
       "10838    20      1  2017  \n",
       "10839    19      1  2015  \n",
       "10840    25      7  2018  \n",
       "\n",
       "[9659 rows x 15 columns]"
      ]
     },
     "execution_count": 148,
     "metadata": {},
     "output_type": "execute_result"
    }
   ],
   "source": [
    "df"
   ]
  },
  {
   "cell_type": "code",
   "execution_count": 153,
   "id": "0b841725-b530-42d2-aebe-fe893bdae15f",
   "metadata": {},
   "outputs": [],
   "source": [
    "app = df[df['Rating']==5.0]['App']"
   ]
  },
  {
   "cell_type": "code",
   "execution_count": 155,
   "id": "310a4d4a-afb8-4291-8ffe-6ea63d64e13a",
   "metadata": {},
   "outputs": [
    {
     "data": {
      "text/plain": [
       "0"
      ]
     },
     "execution_count": 155,
     "metadata": {},
     "output_type": "execute_result"
    }
   ],
   "source": [
    "app.duplicated().sum()"
   ]
  },
  {
   "cell_type": "code",
   "execution_count": 156,
   "id": "40516cb7-1642-4cd7-922f-c5c9f58094be",
   "metadata": {},
   "outputs": [
    {
     "data": {
      "text/plain": [
       "329                    Hojiboy Tojiboyev Life Hacks\n",
       "612                   American Girls Mobile Numbers\n",
       "615                                    Awake Dating\n",
       "633                           Spine- The dating app\n",
       "636      Girls Live Talk - Free Text and Video Chat\n",
       "                            ...                    \n",
       "10721                             Mad Dash Fo' Cash\n",
       "10742                         GKPB FP Online Church\n",
       "10776                              Monster Ride Pro\n",
       "10820                               Fr. Daoud Lamei\n",
       "10837              Fr. Mike Schmitz Audio Teachings\n",
       "Name: App, Length: 271, dtype: object"
      ]
     },
     "execution_count": 156,
     "metadata": {},
     "output_type": "execute_result"
    }
   ],
   "source": []
  },
  {
   "cell_type": "code",
   "execution_count": null,
   "id": "80ef3d22-3375-4fbf-bccb-f57fb3e91ddf",
   "metadata": {},
   "outputs": [],
   "source": []
  }
 ],
 "metadata": {
  "kernelspec": {
   "display_name": "Python 3 (ipykernel)",
   "language": "python",
   "name": "python3"
  },
  "language_info": {
   "codemirror_mode": {
    "name": "ipython",
    "version": 3
   },
   "file_extension": ".py",
   "mimetype": "text/x-python",
   "name": "python",
   "nbconvert_exporter": "python",
   "pygments_lexer": "ipython3",
   "version": "3.10.8"
  }
 },
 "nbformat": 4,
 "nbformat_minor": 5
}
