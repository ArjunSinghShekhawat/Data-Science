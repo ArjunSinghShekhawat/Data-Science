{
 "cells": [
  {
   "cell_type": "code",
   "execution_count": null,
   "id": "8c3fa509-dade-4363-835d-e8a210a6a3f0",
   "metadata": {},
   "outputs": [],
   "source": [
    "\"\"\"\n",
    "Assignment\n",
    "\n",
    "Data Science Masters\n",
    "\n",
    "Q1. What is Min-Max scaling, and how is it used in data preprocessing? Provide an example to illustrate its\n",
    "application.\n",
    "Q2. What is the Unit Vector technique in feature scaling, and how does it differ from Min-Max scaling?\n",
    "Provide an example to illustrate its application.\n",
    "Q3. What is PCA (Principle Component Analysis), and how is it used in dimensionality reduction? Provide an\n",
    "example to illustrate its application.\n",
    "Q4. What is the relationship between PCA and Feature Extraction, and how can PCA be used for Feature\n",
    "Extraction? Provide an example to illustrate this concept.\n",
    "Q5. You are working on a project to build a recommendation system for a food delivery service. The dataset\n",
    "contains features such as price, rating, and delivery time. Explain how you would use Min-Max scaling to\n",
    "preprocess the data.\n",
    "Q6. You are working on a project to build a model to predict stock prices. The dataset contains many\n",
    "features, such as company financial data and market trends. Explain how you would use PCA to reduce the\n",
    "dimensionality of the dataset.\n",
    "Q7. For a dataset containing the following values: [1, 5, 10, 15, 20], perform Min-Max scaling to transform the\n",
    "values to a range of -1 to 1.\n",
    "Q8. For a dataset containing the following features: [height, weight, age, gender, blood pressure], perform\n",
    "Feature Extraction using PCA. How many principal components would you choose to retain, and why?\n",
    "\"\"\""
   ]
  },
  {
   "cell_type": "markdown",
   "id": "e03d8d08-7877-4765-9a90-52f47b2d023e",
   "metadata": {},
   "source": [
    "Q1: Min-Max scaling is a method in data preprocessing that scales features to a specific range, typically [0, 1]. It's used to standardize data, making it comparable. Example: Scaling a dataset of product prices to the range [0, 1] for analysis.\n",
    "\n",
    "Q2: The Unit Vector technique scales features to have a magnitude of 1, preserving their direction. Min-Max scaling scales features to a specific range, modifying both magnitude and direction. Example: Unit Vector scaling used for directional data like GPS coordinates.\n",
    "\n",
    "Q3: PCA (Principal Component Analysis) is a dimensionality reduction technique that identifies orthogonal components capturing the most variance in data. It reduces data complexity. Example: Reducing dimensions of image data while preserving key information.\n",
    "\n",
    "Q4: PCA is a form of feature extraction where it transforms original features into a new set of orthogonal features called principal components. It captures the most variance and retains the most relevant information. Example: Reducing the dimensions of a dataset with many correlated features into a smaller set of uncorrelated components.\n",
    "\n",
    "Q5: For the food delivery recommendation system, you'd use Min-Max scaling to normalize features like price, rating, and delivery time to the range [0, 1]. This ensures each feature has equal weight and doesn't dominate the recommendation process.\n",
    "\n",
    "Q6: In the stock price prediction project, you'd use PCA to reduce the dimensionality of the dataset by extracting the most significant components. The number of principal components to retain would be determined by the explained variance ratio, balancing dimension reduction and information retention.\n",
    "\n",
    "Q7: To perform Min-Max scaling on the dataset [1, 5, 10, 15, 20] to the range of -1 to 1, you can use the formula: -(X_{scaled} = \\frac{X - X_{min}}{X_{max} - X_{min}} \\times 2 - 1\\). This scales the values to [-1, 1].\n",
    "\n",
    "Q8: The number of principal components to retain in PCA depends on the explained variance ratio. You would typically choose the number that retains a significant portion of the total variance, often retaining components that collectively explain 95% or more of the variance. The specific number depends on the data and the trade-off between dimensionality reduction and information preservation."
   ]
  }
 ],
 "metadata": {
  "kernelspec": {
   "display_name": "Python 3 (ipykernel)",
   "language": "python",
   "name": "python3"
  },
  "language_info": {
   "codemirror_mode": {
    "name": "ipython",
    "version": 3
   },
   "file_extension": ".py",
   "mimetype": "text/x-python",
   "name": "python",
   "nbconvert_exporter": "python",
   "pygments_lexer": "ipython3",
   "version": "3.10.8"
  }
 },
 "nbformat": 4,
 "nbformat_minor": 5
}
