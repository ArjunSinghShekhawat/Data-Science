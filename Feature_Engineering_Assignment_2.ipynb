{
 "cells": [
  {
   "cell_type": "code",
   "execution_count": null,
   "id": "ad463d55-00de-4419-b227-c1b55eab27ab",
   "metadata": {},
   "outputs": [],
   "source": [
    "\"\"\"\n",
    "Q1. What is the Filter method in feature selection, and how does it work?\n",
    "Q2. How does the Wrapper method differ from the Filter method in feature selection?\n",
    "Q3. What are some common techniques used in Embedded feature selection methods?\n",
    "Q4. What are some drawbacks of using the Filter method for feature selection?\n",
    "Q5. In which situations would you prefer using the Filter method over the Wrapper method for feature\n",
    "selection?\n",
    "Q6. In a telecom company, you are working on a project to develop a predictive model for customer churn.\n",
    "You are unsure of which features to include in the model because the dataset contains several different\n",
    "ones. Describe how you would choose the most pertinent attributes for the model using the Filter Method.\n",
    "Q7. You are working on a project to predict the outcome of a soccer match. You have a large dataset with\n",
    "many features, including player statistics and team rankings. Explain how you would use the Embedded\n",
    "method to select the most relevant features for the model.\n",
    "Q8. You are working on a project to predict the price of a house based on its features, such as size, location,\n",
    "and age. You have a limited number of features, and you want to ensure that you select the most important\n",
    "ones for the model. Explain how you would use the Wrapper method to select the best set of features for the\n",
    "predictor.\n",
    "\"\"\""
   ]
  },
  {
   "cell_type": "markdown",
   "id": "733a5dc2-4762-4f6f-9f00-a0fa2ff47768",
   "metadata": {},
   "source": [
    "Q1: The Filter method in feature selection evaluates each feature's relevance to the target variable independently using statistical tests or scoring methods, without involving the learning algorithm. Features are ranked based on their scores, and a predefined number or threshold is used to select the top features.\n",
    "\n",
    "Q2: The Wrapper method differs from the Filter method in that it selects features based on their performance within a specific machine learning model. It involves training and evaluating the model with different subsets of features, using techniques like forward selection, backward elimination, or recursive feature elimination (RFE).\n",
    "\n",
    "Q3: Common techniques in Embedded feature selection methods include:\n",
    "- L1 (Lasso) regularization, which encourages sparsity by penalizing the absolute values of feature coefficients.\n",
    "- Decision tree-based algorithms, like Random Forest and Gradient Boosting, that provide feature importance scores.\n",
    "- Recursive feature elimination with cross-validation (RFECV), which iteratively selects features and assesses their importance in a cross-validated setting.\n",
    "\n",
    "Q4: Drawbacks of the Filter method include its inability to consider feature dependencies or their interactions with the model. It might select irrelevant features that, when combined, are meaningful. Additionally, it doesn't optimize features for a specific model, potentially leading to suboptimal performance.\n",
    "\n",
    "Q5: The Filter method is preferred over the Wrapper method when:\n",
    "The dataset is large and computationally expensive.\n",
    "A quick initial feature selection is needed.\n",
    "Feature interactions are not a primary concern.\n",
    "You want to eliminate highly correlated or redundant features efficiently.\n",
    "\n",
    "Q6: To choose pertinent attributes for predicting customer churn using the Filter method:\n",
    "1. Calculate a relevant statistic (e.g., correlation, mutual information) for each feature with the target variable (churn).\n",
    "2. Rank the features based on the statistic.\n",
    "3. Select the top-ranked features that surpass a predefined threshold.\n",
    "\n",
    "Q7: Using the Embedded method for soccer match outcome prediction:\n",
    "1. Employ tree-based algorithms like Random Forest.\n",
    "2. Assess feature importance scores generated during training.\n",
    "3. Select features with high importance scores.\n",
    "4. Iterate and refine as needed based on model performance.\n",
    "\n",
    "Q8: To use the Wrapper method for selecting house price predictor features:\n",
    "1. Begin with a subset of features.\n",
    "2. Train a predictive model using different combinations.\n",
    "3. Use cross-validation to evaluate performance.\n",
    "4. Select the feature set with the best model performance."
   ]
  }
 ],
 "metadata": {
  "kernelspec": {
   "display_name": "Python 3 (ipykernel)",
   "language": "python",
   "name": "python3"
  },
  "language_info": {
   "codemirror_mode": {
    "name": "ipython",
    "version": 3
   },
   "file_extension": ".py",
   "mimetype": "text/x-python",
   "name": "python",
   "nbconvert_exporter": "python",
   "pygments_lexer": "ipython3",
   "version": "3.10.8"
  }
 },
 "nbformat": 4,
 "nbformat_minor": 5
}
