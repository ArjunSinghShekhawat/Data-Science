{
 "cells": [
  {
   "cell_type": "markdown",
   "id": "8ba7b7f1-648c-481a-8a8e-b58f667ea35a",
   "metadata": {},
   "source": [
    "Q1. Explain GET and POST methods."
   ]
  },
  {
   "cell_type": "markdown",
   "id": "3f7c18f5-cc79-403f-ab7e-872da2d718db",
   "metadata": {},
   "source": [
    "Ans:GET -: GET method given the query with link.\n",
    "POST -: POST method given the query with boundle.It is secured way."
   ]
  },
  {
   "cell_type": "code",
   "execution_count": null,
   "id": "ccd67cab-f18b-4674-a299-744540dd7d60",
   "metadata": {},
   "outputs": [],
   "source": []
  },
  {
   "cell_type": "markdown",
   "id": "6d50345e-8749-4984-a98f-60bdfe28e844",
   "metadata": {},
   "source": [
    "Q2. Why is request used in Flask?"
   ]
  },
  {
   "cell_type": "markdown",
   "id": "457c5a5d-35a2-488e-b55b-d28274914239",
   "metadata": {},
   "source": [
    "The request object in Flask handles incoming HTTP requests, providing access to data, methods and session management for web applications."
   ]
  },
  {
   "cell_type": "code",
   "execution_count": null,
   "id": "e75b89cd-0034-44f6-abbe-a3c6f3789da9",
   "metadata": {},
   "outputs": [],
   "source": []
  },
  {
   "cell_type": "markdown",
   "id": "fc0ad665-8a2e-444b-a38b-ad7adf66dca1",
   "metadata": {},
   "source": [
    "Q3. Why is redirect() used in Flask?"
   ]
  },
  {
   "cell_type": "markdown",
   "id": "d84eb7ce-f587-42c5-80c6-3d4476e29d1a",
   "metadata": {},
   "source": [
    "Ans `redirect()` in Flask sends an HTTP redirect response to clients."
   ]
  },
  {
   "cell_type": "code",
   "execution_count": null,
   "id": "34ac37ba-0ea4-441e-817d-e22c680ed655",
   "metadata": {},
   "outputs": [],
   "source": []
  },
  {
   "cell_type": "markdown",
   "id": "85893aa3-f930-42c4-8f71-adcddd0cf69c",
   "metadata": {},
   "source": [
    "Q4. What are templates in Flask? Why is the render_template() function used?"
   ]
  },
  {
   "cell_type": "markdown",
   "id": "298ef8f2-794a-4432-8073-a28b3d229cd7",
   "metadata": {},
   "source": [
    "Templates in Flask are HTML files with placeholders for dynamic content. `render_template()` renders these templates with data to generate dynamic web pages."
   ]
  },
  {
   "cell_type": "code",
   "execution_count": null,
   "id": "d25ebaab-f606-4c50-aa69-9e7ac5b1a4f6",
   "metadata": {},
   "outputs": [],
   "source": []
  },
  {
   "cell_type": "markdown",
   "id": "1a3d8fbb-b497-469b-9715-74079d5b752c",
   "metadata": {},
   "source": [
    "Q5. Create a simple API. Use Postman to test it. Attach the screenshot of the output in the Jupyter Notebook."
   ]
  },
  {
   "cell_type": "markdown",
   "id": "5c69289b-2537-4e7a-8ded-dc65283f4337",
   "metadata": {},
   "source": [
    "ANS:from flask import Flask, jsonify\n",
    "\n",
    "app = Flask(__name__)\n",
    "\n",
    "# Define a route that returns a JSON response\n",
    "@app.route('/api/hello', methods=['GET'])\n",
    "def hello():\n",
    "    return jsonify(message=\"Hello, World!\")\n",
    "\n",
    "if __name__ == '__main__':\n",
    "    app.run(debug=True)\n"
   ]
  },
  {
   "cell_type": "code",
   "execution_count": null,
   "id": "52061f54-617d-4da6-9048-7da94e149cfd",
   "metadata": {},
   "outputs": [],
   "source": []
  }
 ],
 "metadata": {
  "kernelspec": {
   "display_name": "Python 3 (ipykernel)",
   "language": "python",
   "name": "python3"
  },
  "language_info": {
   "codemirror_mode": {
    "name": "ipython",
    "version": 3
   },
   "file_extension": ".py",
   "mimetype": "text/x-python",
   "name": "python",
   "nbconvert_exporter": "python",
   "pygments_lexer": "ipython3",
   "version": "3.10.8"
  }
 },
 "nbformat": 4,
 "nbformat_minor": 5
}
