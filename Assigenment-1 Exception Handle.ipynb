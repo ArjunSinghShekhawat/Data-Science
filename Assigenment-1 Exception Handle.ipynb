{
 "cells": [
  {
   "cell_type": "markdown",
   "id": "df26a00e-e913-40dc-8e6b-c428664db91c",
   "metadata": {},
   "source": [
    "Q1.ans : Exception in python it is used to handle run time error in any application.When we are build any software application and software then between and any part of application occurs run time error so that this application stop at the exception is occurs so that it is used to handle this problem so that our application handle run time error and it is not stop any run time error.\n",
    "\n",
    "Difference Exception and syntax  error.\n",
    "\n",
    "Exception is a run time error and syntax is compile time error.\n",
    "\n"
   ]
  },
  {
   "cell_type": "code",
   "execution_count": null,
   "id": "eae27ee4-2a28-44a0-98d1-20fd5b7898b5",
   "metadata": {},
   "outputs": [],
   "source": []
  },
  {
   "cell_type": "markdown",
   "id": "29a3d475-7e07-4002-8379-c1c66fdda186",
   "metadata": {},
   "source": [
    "Q2.ans : When exception is not handle in any software then the application is stop when Exception and run time error is occure and application is not run after Exception occure."
   ]
  },
  {
   "cell_type": "code",
   "execution_count": 3,
   "id": "e24ec153-2257-46b4-b61a-7587a480e98f",
   "metadata": {},
   "outputs": [
    {
     "name": "stdout",
     "output_type": "stream",
     "text": [
      "Application Closed\n"
     ]
    }
   ],
   "source": [
    "#Example -:\n",
    "import logging\n",
    "logging.basicConfig(filename = 'info.log',level = logging.DEBUG)\n",
    "try:\n",
    "    1/0\n",
    "except ZeroDivisionError as e:\n",
    "    logging.info(e)\n",
    "\n",
    "print(\"Application Closed\")# this statement will be print because handle Exception\n",
    "    "
   ]
  },
  {
   "cell_type": "code",
   "execution_count": null,
   "id": "4b9fb33a-b676-4979-8a6a-dff63a79cc76",
   "metadata": {},
   "outputs": [],
   "source": []
  },
  {
   "cell_type": "markdown",
   "id": "6de2ded7-afc2-4662-8799-5bdd1e29d41a",
   "metadata": {},
   "source": [
    "Q3.ans -:In Python It is used to handle Exception four keyword.\n",
    "1.try\n",
    "2.except\n",
    "3.else\n",
    "4.finally\n",
    "and for catch and handle exception it is used except keyword is used."
   ]
  },
  {
   "cell_type": "code",
   "execution_count": 5,
   "id": "2f24a210-40e0-472a-8f68-d741d613c153",
   "metadata": {},
   "outputs": [],
   "source": [
    "try:\n",
    "    with open(\"logo.jpg\",'r') as f:\n",
    "        f.read()\n",
    "except FileNotFoundError as e:\n",
    "    logging.info(e)"
   ]
  },
  {
   "cell_type": "code",
   "execution_count": null,
   "id": "37b532c3-2513-425f-b099-f0880c1cede7",
   "metadata": {},
   "outputs": [],
   "source": []
  },
  {
   "cell_type": "markdown",
   "id": "ec4eec50-dbc5-4829-9a60-cab689404faf",
   "metadata": {},
   "source": [
    "Q4.ans-: try -> Try keyword is used to define the statement where exception will be occure so that try block throw this exception to except block.\n",
    "\n",
    "else -> else keyword is execute when Exception is not occure in try block and try block successfully execute.\n",
    "\n",
    "finally -> finally block will be execute any condition when exception is occure or not.\n",
    "\n",
    "raise - raise keyword is used to raise the class object and create the class object and call automatically.\n"
   ]
  },
  {
   "cell_type": "code",
   "execution_count": 7,
   "id": "58ebf214-7f58-40b5-ab00-e3c6cd612b7f",
   "metadata": {},
   "outputs": [
    {
     "name": "stdout",
     "output_type": "stream",
     "text": [
      "hello pwskill\n",
      "try block successfully execute:\n",
      "Execute any condition when exception occure or not\n"
     ]
    }
   ],
   "source": [
    "try:\n",
    "    print(\"hello pwskill\")\n",
    "except Exception as e:\n",
    "    logging.info(e)\n",
    "else:\n",
    "    print(\"try block successfully execute:\")\n",
    "finally:\n",
    "    print(\"Execute any condition when exception occure or not\")"
   ]
  },
  {
   "cell_type": "code",
   "execution_count": null,
   "id": "2a4ff97f-ff5d-46fc-8590-e8b5f2aee5c9",
   "metadata": {},
   "outputs": [],
   "source": []
  },
  {
   "cell_type": "code",
   "execution_count": 10,
   "id": "391ffe2a-f926-4e9b-bba9-c77f62629b5a",
   "metadata": {},
   "outputs": [
    {
     "name": "stdin",
     "output_type": "stream",
     "text": [
      "Enter your age : 123\n"
     ]
    }
   ],
   "source": [
    "class AgeExeption(Exception):\n",
    "    def __init__(self,msg):\n",
    "        self.msg = msg\n",
    "\n",
    "def AgeError(age):\n",
    "    if age>75:\n",
    "        raise AgeExeption(\"you can not drive vehical\")\n",
    "    elif age<18 or age<=0:\n",
    "        raise AgeExeption(\"you can not derive vehical\")\n",
    "    else:\n",
    "        print(\"You can derive car\")\n",
    "try:\n",
    "    age = int(input(\"Enter your age :\"))\n",
    "    AgeError(age)\n",
    "except AgeExeption as e:\n",
    "    logging.info(e)"
   ]
  },
  {
   "cell_type": "code",
   "execution_count": null,
   "id": "7c81c6cb-00f2-4f52-8403-066a651ebd77",
   "metadata": {},
   "outputs": [],
   "source": []
  },
  {
   "cell_type": "code",
   "execution_count": null,
   "id": "641587dc-8341-40cf-91f2-7b97b33baad1",
   "metadata": {},
   "outputs": [],
   "source": []
  },
  {
   "cell_type": "markdown",
   "id": "3fa7e990-7321-49e3-a50f-3b709bf46e9f",
   "metadata": {},
   "source": [
    "Q5.ans - Custom Exception means Developers define our Exception and used and this exception developer custamize and derive our needs.\n",
    "\n",
    "Custom Exception need when user develop a application and occure any exception that is not define in python language so that developer create custom exception.\n",
    "    "
   ]
  },
  {
   "cell_type": "code",
   "execution_count": 11,
   "id": "da2c668a-b7d3-4c3d-b009-fff3b2a0e4af",
   "metadata": {},
   "outputs": [
    {
     "name": "stdin",
     "output_type": "stream",
     "text": [
      "Enter your age : 22\n"
     ]
    },
    {
     "name": "stdout",
     "output_type": "stream",
     "text": [
      "You can derive car\n"
     ]
    }
   ],
   "source": [
    "#Example\n",
    "class AgeExeption(Exception):\n",
    "    def __init__(self,msg):\n",
    "        self.msg = msg\n",
    "\n",
    "def AgeError(age):\n",
    "    if age>75:\n",
    "        raise AgeExeption(\"you can not drive vehical\")\n",
    "    elif age<18 or age<=0:\n",
    "        raise AgeExeption(\"you can not derive vehical\")\n",
    "    else:\n",
    "        print(\"You can derive car\")\n",
    "try:\n",
    "    age = int(input(\"Enter your age :\"))\n",
    "    AgeError(age)\n",
    "except AgeExeption as e:\n",
    "    logging.info(e)"
   ]
  },
  {
   "cell_type": "code",
   "execution_count": null,
   "id": "815face3-e202-4f77-8af7-f67a1ab2b1f1",
   "metadata": {},
   "outputs": [],
   "source": []
  },
  {
   "cell_type": "markdown",
   "id": "abdbdbae-71c2-403e-8d6c-e475ec8c45a2",
   "metadata": {},
   "source": [
    "Q6.ans Create a custom Exception and write a code in below."
   ]
  },
  {
   "cell_type": "code",
   "execution_count": 12,
   "id": "3b7847ee-516d-4b08-af03-011d39c2d4fa",
   "metadata": {},
   "outputs": [
    {
     "name": "stdin",
     "output_type": "stream",
     "text": [
      "Enter your age : -11\n"
     ]
    }
   ],
   "source": [
    "class AgeExeption(Exception):\n",
    "    def __init__(self,msg):\n",
    "        self.msg = msg\n",
    "\n",
    "def AgeError(age):\n",
    "    if age>75:\n",
    "        raise AgeExeption(\"you can not drive vehical\")\n",
    "    elif age<18 or age<=0:\n",
    "        raise AgeExeption(\"you can not derive vehical\")\n",
    "    else:\n",
    "        print(\"You can derive car\")\n",
    "try:\n",
    "    age = int(input(\"Enter your age :\"))\n",
    "    AgeError(age)\n",
    "except AgeExeption as e:\n",
    "    logging.info(e)"
   ]
  },
  {
   "cell_type": "code",
   "execution_count": null,
   "id": "562cef22-9028-4e89-b67f-393edf8934fa",
   "metadata": {},
   "outputs": [],
   "source": []
  }
 ],
 "metadata": {
  "kernelspec": {
   "display_name": "Python 3 (ipykernel)",
   "language": "python",
   "name": "python3"
  },
  "language_info": {
   "codemirror_mode": {
    "name": "ipython",
    "version": 3
   },
   "file_extension": ".py",
   "mimetype": "text/x-python",
   "name": "python",
   "nbconvert_exporter": "python",
   "pygments_lexer": "ipython3",
   "version": "3.10.8"
  }
 },
 "nbformat": 4,
 "nbformat_minor": 5
}
