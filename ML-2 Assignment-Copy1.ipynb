{
 "cells": [
  {
   "cell_type": "code",
   "execution_count": 2,
   "id": "f27b906b-4b2b-4d3e-ad5b-b88e0c8b77d0",
   "metadata": {},
   "outputs": [
    {
     "data": {
      "text/plain": [
       "'\\nQ1. Explain the concept of R-squared in linear regression models. How is it calculated, and what does it\\nrepresent?\\nQ2. Define adjusted R-squared and explain how it differs from the regular R-squared.\\nQ3. When is it more appropriate to use adjusted R-squared?\\nQ4. What are RMSE, MSE, and MAE in the context of regression analysis? How are these metrics\\ncalculated, and what do they represent?\\nQ5. Discuss the advantages and disadvantages of using RMSE, MSE, and MAE as evaluation metrics in\\nregression analysis.\\nQ6. Explain the concept of Lasso regularization. How does it differ from Ridge regularization, and when is\\nit more appropriate to use?\\nQ7. How do regularized linear models help to prevent overfitting in machine learning? Provide an\\nexample to illustrate.\\nQ8. Discuss the limitations of regularized linear models and explain why they may not always be the best\\nchoice for regression analysis.\\nQ9. You are comparing the performance of two regression models using different evaluation metrics.\\nModel A has an RMSE of 10, while Model B has an MAE of 8. Which model would you choose as the better\\nperformer, and why? Are there any limitations to your choice of metric?\\nQ10. You are comparing the performance of two regularized linear models using different types of\\nregularization. Model A uses Ridge regularization with a regularization parameter of 0.1, while Model B\\nuses Lasso regularization with a regularization parameter of 0.5. Which model would you choose as the\\nbetter performer, and why? Are there any trade-offs or limitations to your choice of regularization\\nmethod?\\n'"
      ]
     },
     "execution_count": 2,
     "metadata": {},
     "output_type": "execute_result"
    }
   ],
   "source": [
    "\"\"\"\n",
    "Q1. Explain the concept of R-squared in linear regression models. How is it calculated, and what does it\n",
    "represent?\n",
    "Q2. Define adjusted R-squared and explain how it differs from the regular R-squared.\n",
    "Q3. When is it more appropriate to use adjusted R-squared?\n",
    "Q4. What are RMSE, MSE, and MAE in the context of regression analysis? How are these metrics\n",
    "calculated, and what do they represent?\n",
    "Q5. Discuss the advantages and disadvantages of using RMSE, MSE, and MAE as evaluation metrics in\n",
    "regression analysis.\n",
    "Q6. Explain the concept of Lasso regularization. How does it differ from Ridge regularization, and when is\n",
    "it more appropriate to use?\n",
    "Q7. How do regularized linear models help to prevent overfitting in machine learning? Provide an\n",
    "example to illustrate.\n",
    "Q8. Discuss the limitations of regularized linear models and explain why they may not always be the best\n",
    "choice for regression analysis.\n",
    "Q9. You are comparing the performance of two regression models using different evaluation metrics.\n",
    "Model A has an RMSE of 10, while Model B has an MAE of 8. Which model would you choose as the better\n",
    "performer, and why? Are there any limitations to your choice of metric?\n",
    "Q10. You are comparing the performance of two regularized linear models using different types of\n",
    "regularization. Model A uses Ridge regularization with a regularization parameter of 0.1, while Model B\n",
    "uses Lasso regularization with a regularization parameter of 0.5. Which model would you choose as the\n",
    "better performer, and why? Are there any trade-offs or limitations to your choice of regularization\n",
    "method?\n",
    "\"\"\""
   ]
  },
  {
   "cell_type": "markdown",
   "id": "2ea6a053-f194-4dd2-aec3-a836732c1589",
   "metadata": {},
   "source": [
    "Q1. R-squared measures the proportion of variance explained by a regression model. It's calculated from the data and ranges from 0 to 1.\n",
    "\n",
    "Q2. Adjusted R-squared considers the number of predictors and adjusts for model complexity, providing a better fit measure.\n",
    "\n",
    "Q3. Adjusted R-squared is more appropriate when comparing models with different numbers of predictors.\n",
    "\n",
    "Q4. RMSE, MSE, and MAE are regression evaluation metrics. RMSE emphasizes large errors, MSE averages errors, and MAE gives a median error.\n",
    "\n",
    "Q5. Advantages: RMSE and MSE penalize large errors, but MAE is robust. Disadvantages: RMSE and MSE are sensitive to outliers.\n",
    "\n",
    "Q6. Lasso regularization adds a penalty to the absolute values of coefficients, encouraging sparse models. It differs from Ridge, which penalizes the squared coefficients. Lasso is preferred when feature selection is needed.\n",
    "\n",
    "Q7. Regularized linear models like Lasso and Ridge add constraints to prevent overfitting by shrinking coefficients. Example: Lasso reduces less important variables' coefficients to zero.\n",
    "\n",
    "Q8. Limitations of regularized models include potential loss of important features and the need for tuning regularization parameters. They may not be suitable when all features are essential.\n",
    "\n",
    "Q9. Model B with MAE of 8 is chosen because it's more robust to outliers. Limitations: Metric choice should align with the problem.\n",
    "\n",
    "Q10. Model A with Ridge regularization (0.1) is better for a balance between feature selection and model stability. Trade-offs include choosing the right parameter value."
   ]
  },
  {
   "cell_type": "code",
   "execution_count": null,
   "id": "633c7dbb-8d6a-4b7d-b845-87486088c39a",
   "metadata": {},
   "outputs": [],
   "source": []
  },
  {
   "cell_type": "code",
   "execution_count": null,
   "id": "39a30139-7963-4071-9932-5e028aad38d7",
   "metadata": {},
   "outputs": [],
   "source": []
  }
 ],
 "metadata": {
  "kernelspec": {
   "display_name": "Python 3 (ipykernel)",
   "language": "python",
   "name": "python3"
  },
  "language_info": {
   "codemirror_mode": {
    "name": "ipython",
    "version": 3
   },
   "file_extension": ".py",
   "mimetype": "text/x-python",
   "name": "python",
   "nbconvert_exporter": "python",
   "pygments_lexer": "ipython3",
   "version": "3.10.8"
  }
 },
 "nbformat": 4,
 "nbformat_minor": 5
}
