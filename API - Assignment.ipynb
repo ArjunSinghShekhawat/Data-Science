{
 "cells": [
  {
   "cell_type": "markdown",
   "id": "759761f6-2ef7-4fe8-b209-55217fb68698",
   "metadata": {},
   "source": [
    "Q1. What is an API? Give an example, where an API is used in real life."
   ]
  },
  {
   "cell_type": "markdown",
   "id": "e11db248-d0be-41fb-aafc-dc0b25e47071",
   "metadata": {},
   "source": [
    "Api - API stands for Application programming interface.It is used for communicate two different application(same,different).\n",
    "\n",
    "In real world google search is used api (web api) and email login is (web api) used api and any application used api without api any application is not create in present."
   ]
  },
  {
   "cell_type": "code",
   "execution_count": null,
   "id": "b6841336-a36b-4d02-849f-d35acac2f969",
   "metadata": {},
   "outputs": [],
   "source": []
  },
  {
   "cell_type": "markdown",
   "id": "a7a916f2-e00b-40a0-a578-6f6d508adb19",
   "metadata": {},
   "source": [
    "Q2. Give advantages and disadvantages of using API."
   ]
  },
  {
   "cell_type": "markdown",
   "id": "3655fe51-4be4-4f4a-b5ce-3f3dff409fcc",
   "metadata": {},
   "source": [
    "Advantage -: 1.communicate different software application (same language , and different language).\n",
    "2.Access to third party application\n",
    "3.securuty\n",
    "4.scalability\n",
    "\n",
    "Disadvantage -:1.Cost is increase for any software\n",
    "2.Depemdency\n",
    "3.security risk\n"
   ]
  },
  {
   "cell_type": "code",
   "execution_count": null,
   "id": "f761b35f-0984-4760-925b-0528ac7ce853",
   "metadata": {},
   "outputs": [],
   "source": []
  },
  {
   "cell_type": "markdown",
   "id": "e79cf505-519f-47a5-9a18-711a1d5ef723",
   "metadata": {},
   "source": [
    "Q3. What is a Web API? Differentiate between API and Web API."
   ]
  },
  {
   "cell_type": "markdown",
   "id": "b4692410-084b-4724-81a7-34bbd81a1499",
   "metadata": {},
   "source": [
    "Web api means it is used for website and used HTTP protocol.\n",
    "\n",
    "Web api is sub part of api and web api is used for website and used HTTP protocol and other system used api and used TCP/IP protocol."
   ]
  },
  {
   "cell_type": "code",
   "execution_count": null,
   "id": "07cecf4f-c209-4a56-baa7-bb3b3ba3e81d",
   "metadata": {},
   "outputs": [],
   "source": []
  },
  {
   "cell_type": "markdown",
   "id": "0d2a3b6e-bcc3-4cc4-a7a3-2060155868c7",
   "metadata": {},
   "source": [
    "Q4. Explain REST and SOAP Architecture. Mention shortcomings of SOAP."
   ]
  },
  {
   "cell_type": "markdown",
   "id": "82877b5d-0a42-4148-a3b2-05f29970b5eb",
   "metadata": {},
   "source": [
    "Rest - Rest is mostly used for website and used HTTP protocol.\n",
    "Soap - Soap is mostly used for within a system and between system communication and used TCP/IP protocol.\n",
    "\n",
    "REST - rest is simple to used , flexible, not stateless , and secured but as compare SOAP less, used HTTP protocol.\n",
    "\n",
    "SOAP - soap is hard to used , secured , flexible ,stateless,and used TCP/IP protocol.\n",
    "\n",
    "\n",
    "SOAP - \n",
    "1.hard to used\n",
    "2.Performance Overhead:"
   ]
  },
  {
   "cell_type": "code",
   "execution_count": null,
   "id": "04f4b48b-3188-43f6-b3ee-43b865e2179d",
   "metadata": {},
   "outputs": [],
   "source": []
  },
  {
   "cell_type": "markdown",
   "id": "db2d4608-bb06-4149-bbd6-220062c5c360",
   "metadata": {},
   "source": [
    "Q5. Differentiate between REST and SOAP."
   ]
  },
  {
   "cell_type": "markdown",
   "id": "26a32400-633f-4261-995b-c277cb736a54",
   "metadata": {},
   "source": [
    "REST - rest is simple to used , flexible, not stateless , and secured but as compare SOAP less, used HTTP protocol.\n",
    "\n",
    "SOAP - soap is hard to used , secured , flexible ,stateless,and used TCP/IP protocol."
   ]
  },
  {
   "cell_type": "code",
   "execution_count": null,
   "id": "774c0797-9959-4920-b90a-8761ab8ff28a",
   "metadata": {},
   "outputs": [],
   "source": []
  }
 ],
 "metadata": {
  "kernelspec": {
   "display_name": "Python 3 (ipykernel)",
   "language": "python",
   "name": "python3"
  },
  "language_info": {
   "codemirror_mode": {
    "name": "ipython",
    "version": 3
   },
   "file_extension": ".py",
   "mimetype": "text/x-python",
   "name": "python",
   "nbconvert_exporter": "python",
   "pygments_lexer": "ipython3",
   "version": "3.10.8"
  }
 },
 "nbformat": 4,
 "nbformat_minor": 5
}
