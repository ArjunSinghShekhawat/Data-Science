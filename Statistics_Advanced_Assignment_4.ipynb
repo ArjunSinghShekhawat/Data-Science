{
 "cells": [
  {
   "cell_type": "code",
   "execution_count": null,
   "id": "11800b4b-0fa8-4075-b97f-bb572ed2572b",
   "metadata": {},
   "outputs": [],
   "source": [
    "\"\"\"\n",
    "Q1: What is the difference between a t-test and a z-test? Provide an example scenario where you would\n",
    "use each type of test.\n",
    "Q2: Differentiate between one-tailed and two-tailed tests.\n",
    "Q3: Explain the concept of Type 1 and Type 2 errors in hypothesis testing. Provide an example scenario for\n",
    "each type of error.\n",
    "Q4: Explain Bayes's theorem with an example.\n",
    "Q5: What is a confidence interval? How to calculate the confidence interval, explain with an example.\n",
    "Q6. Use Bayes' Theorem to calculate the probability of an event occurring given prior knowledge of the\n",
    "event's probability and new evidence. Provide a sample problem and solution.\n",
    "Q7. Calculate the 95% confidence interval for a sample of data with a mean of 50 and a standard deviation\n",
    "of 5. Interpret the results.\n",
    "Q8. What is the margin of error in a confidence interval? How does sample size affect the margin of error?\n",
    "Provide an example of a scenario where a larger sample size would result in a smaller margin of error.\n",
    "Q9. Calculate the z-score for a data point with a value of 75, a population mean of 70, and a population\n",
    "standard deviation of 5. Interpret the results.\n",
    "Q10. In a study of the effectiveness of a new weight loss drug, a sample of 50 participants lost an average\n",
    "of 6 pounds with a standard deviation of 2.5 pounds. Conduct a hypothesis test to determine if the drug is\n",
    "significantly effective at a 95% confidence level using a t-test.\n",
    "Q11. In a survey of 500 people, 65% reported being satisfied with their current job. Calculate the 95%\n",
    "confidence interval for the true proportion of people who are satisfied with their job.\n",
    "Q12. A researcher is testing the effectiveness of two different teaching methods on student performance.\n",
    "Sample A has a mean score of 85 with a standard deviation of 6, while sample B has a mean score of 82\n",
    "with a standard deviation of 5. Conduct a hypothesis test to determine if the two teaching methods have a\n",
    "significant difference in student performance using a t-test with a significance level of 0.01.\n",
    "Q13. A population has a mean of 60 and a standard deviation of 8. A sample of 50 observations has a mean\n",
    "of 65. Calculate the 90% confidence interval for the true population mean.\n",
    "Q14. In a study of the effects of caffeine on reaction time, a sample of 30 participants had an average\n",
    "reaction time of 0.25 seconds with a standard deviation of 0.05 seconds. Conduct a hypothesis test to\n",
    "determine if the caffeine has a significant effect on reaction time at a 90% confidence level using a t-test.\"\"\""
   ]
  },
  {
   "cell_type": "markdown",
   "id": "82bf20c3-3619-4be2-8d92-7fe2d312ba07",
   "metadata": {},
   "source": [
    "Q1: A t-test is used when the population standard deviation is unknown, and a z-test is used when the population standard deviation is known. For example, a t-test can be used to compare the means of two groups when testing a new drug's effectiveness, while a z-test can be used to analyze a large sample's mean test scores when the population standard deviation is known.\n",
    "\n",
    "Q2: A one-tailed test examines the relationship in one direction (e.g., greater than or less than), while a two-tailed test looks for a relationship in both directions (e.g., not equal to). For instance, in a one-tailed test, you might check if a new product's sales are significantly higher than a certain level, while a two-tailed test could assess if a coin is fair (not biased in either direction).\n",
    "\n",
    "Q3: Type 1 error occurs when a true null hypothesis is rejected, while Type 2 error happens when a false null hypothesis is not rejected. For example, in medical testing, a Type 1 error could lead to unnecessary treatment, and a Type 2 error might result in a missed diagnosis.\n",
    "\n",
    "Q4: Bayes's theorem calculates conditional probabilities. Given prior knowledge and new evidence, it updates the probability of an event. Example: Assessing the probability of having a certain disease based on a positive test result.\n",
    "\n",
    "Q5: A confidence interval is a range of values that likely contains a population parameter with a specified level of confidence. To calculate it, you use the sample data, margin of error, and a confidence level. For example, a 95% confidence interval for the average height of students in a class.\n",
    "\n",
    "Q6: Bayes' Theorem is used to update the probability of an event based on prior knowledge and new evidence. For instance, calculating the probability of a patient having a specific disease given their symptoms and the prevalence of the disease in the population.\n",
    "\n",
    "Q7: The 95% confidence interval for a sample with a mean of 50 and a standard deviation of 5 would range from 47.5 to 52.5. It means that there's a 95% probability that the true population mean falls within this interval.\n",
    "\n",
    "Q8: The margin of error quantifies the uncertainty in a sample estimate. A larger sample size decreases the margin of error, improving the estimate's precision. For example, a poll with 1,000 participants will have a smaller margin of error compared to one with 100 participants.\n",
    "\n",
    "Q9: The z-score for a data point with a value of 75, a population mean of 70, and a population standard deviation of 5 is 1. Interpretation: The data point is 1 standard deviation above the population mean.\n",
    "\n",
    "Q10: To determine the drug's effectiveness, conduct a t-test with a significance level of 0.05 (95% confidence). Calculate the t-statistic, compare it to the critical value from the t-distribution, and check if it's significant.\n",
    "\n",
    "Q11: The 95% confidence interval for the true proportion of people satisfied with their job is approximately 60.38% to 69.62%. This means we are 95% confident that the true proportion falls within this range.\n",
    "\n",
    "Q12: Conduct a two-sample t-test to compare the means of samples A and B. Calculate the t-statistic, compare it to the critical value from the t-distribution, and determine if there's a significant difference in student performance.\n",
    "\n",
    "Q13: The 90% confidence interval for the true population mean is approximately 62.58 to 67.42. This means we are 90% confident that the true mean falls within this range.\n",
    "\n",
    "Q14: Conduct a t-test to assess if caffeine has a significant effect on reaction time at a 90% confidence level. Calculate the t-statistic, compare it to the critical value from the t-distribution, and determine if caffeine has a significant effect on reaction time."
   ]
  }
 ],
 "metadata": {
  "kernelspec": {
   "display_name": "Python 3 (ipykernel)",
   "language": "python",
   "name": "python3"
  },
  "language_info": {
   "codemirror_mode": {
    "name": "ipython",
    "version": 3
   },
   "file_extension": ".py",
   "mimetype": "text/x-python",
   "name": "python",
   "nbconvert_exporter": "python",
   "pygments_lexer": "ipython3",
   "version": "3.10.8"
  }
 },
 "nbformat": 4,
 "nbformat_minor": 5
}
