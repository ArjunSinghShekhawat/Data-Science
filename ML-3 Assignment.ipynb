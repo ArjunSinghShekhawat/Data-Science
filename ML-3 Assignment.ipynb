{
 "cells": [
  {
   "cell_type": "code",
   "execution_count": null,
   "id": "582d95ca-8f47-4ae3-b665-842ca082fa87",
   "metadata": {},
   "outputs": [],
   "source": [
    "\"\"\"\n",
    "Q1. What is Ridge Regression, and how does it differ from ordinary least squares regression?\n",
    "Q2. What are the assumptions of Ridge Regression?\n",
    "Q3. How do you select the value of the tuning parameter (lambda) in Ridge Regression?\n",
    "Q4. Can Ridge Regression be used for feature selection? If yes, how?\n",
    "Q5. How does the Ridge Regression model perform in the presence of multicollinearity?\n",
    "Q6. Can Ridge Regression handle both categorical and continuous independent variables?\n",
    "Q7. How do you interpret the coefficients of Ridge Regression?\n",
    "Q8. Can Ridge Regression be used for time-series data analysis? If yes, how?\n",
    "\"\"\""
   ]
  },
  {
   "cell_type": "markdown",
   "id": "c1206224-6acb-4d15-b9bd-e94961c6ea5e",
   "metadata": {},
   "source": [
    "Q1. Ridge Regression adds a regularization term (L2) to OLS, preventing overfitting by shrinking coefficients. It's different due to regularization.\n",
    "\n",
    "Q2. Ridge Regression assumptions are similar to OLS: linearity, independence, constant variance, and normally distributed residuals.\n",
    "\n",
    "Q3. Cross-validation helps select the lambda value in Ridge Regression, balancing model complexity and performance.\n",
    "\n",
    "Q4. Yes, Ridge Regression can aid feature selection by shrinking less relevant features' coefficients toward zero.\n",
    "\n",
    "Q5. Ridge Regression mitigates multicollinearity by reducing the impact of correlated variables on coefficients.\n",
    "\n",
    "Q6. Ridge Regression can handle both categorical and continuous independent variables, but categorical variables may need encoding.\n",
    "\n",
    "Q7. Coefficients in Ridge Regression represent variable importance, but their interpretation is in terms of reduced impact due to regularization.\n",
    "\n",
    "Q8. Yes, Ridge Regression can be applied to time-series data with suitable modifications, like lags and trends."
   ]
  }
 ],
 "metadata": {
  "kernelspec": {
   "display_name": "Python 3 (ipykernel)",
   "language": "python",
   "name": "python3"
  },
  "language_info": {
   "codemirror_mode": {
    "name": "ipython",
    "version": 3
   },
   "file_extension": ".py",
   "mimetype": "text/x-python",
   "name": "python",
   "nbconvert_exporter": "python",
   "pygments_lexer": "ipython3",
   "version": "3.10.8"
  }
 },
 "nbformat": 4,
 "nbformat_minor": 5
}
