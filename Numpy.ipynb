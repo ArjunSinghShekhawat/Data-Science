{
 "cells": [
  {
   "cell_type": "code",
   "execution_count": 5,
   "id": "791d4a8c-df48-4f18-ba00-6bfba0262f21",
   "metadata": {},
   "outputs": [],
   "source": [
    "import numpy as np"
   ]
  },
  {
   "cell_type": "code",
   "execution_count": 2,
   "id": "c23a3483-27bf-498a-9372-96b65f485615",
   "metadata": {},
   "outputs": [],
   "source": [
    "l = [1,2,3,4,5]"
   ]
  },
  {
   "cell_type": "code",
   "execution_count": 3,
   "id": "2d882e20-cb78-4d36-a229-2cb712f9e2ec",
   "metadata": {},
   "outputs": [
    {
     "data": {
      "text/plain": [
       "array([1, 2, 3, 4, 5])"
      ]
     },
     "execution_count": 3,
     "metadata": {},
     "output_type": "execute_result"
    }
   ],
   "source": [
    "np.array(l)"
   ]
  },
  {
   "cell_type": "code",
   "execution_count": 4,
   "id": "606d0ad6-3d2d-4186-ba7f-870236e377d7",
   "metadata": {},
   "outputs": [
    {
     "data": {
      "text/plain": [
       "array([1, 2, 3, 4, 5])"
      ]
     },
     "execution_count": 4,
     "metadata": {},
     "output_type": "execute_result"
    }
   ],
   "source": [
    "np.asarray(l)"
   ]
  },
  {
   "cell_type": "code",
   "execution_count": 5,
   "id": "988d2c0c-629f-40ac-8f06-318b17a8211f",
   "metadata": {},
   "outputs": [
    {
     "data": {
      "text/plain": [
       "array([1, 2, 3, 4, 5])"
      ]
     },
     "execution_count": 5,
     "metadata": {},
     "output_type": "execute_result"
    }
   ],
   "source": [
    "np.asanyarray(l)"
   ]
  },
  {
   "cell_type": "code",
   "execution_count": 6,
   "id": "f4e358bf-0a13-42d6-90b5-41f80113639b",
   "metadata": {},
   "outputs": [
    {
     "data": {
      "text/plain": [
       "matrix([[1, 2, 3, 4, 5]])"
      ]
     },
     "execution_count": 6,
     "metadata": {},
     "output_type": "execute_result"
    }
   ],
   "source": [
    "np.matrix(l)"
   ]
  },
  {
   "cell_type": "code",
   "execution_count": 7,
   "id": "cd049cab-b95d-4d9c-a4ac-b064a400761d",
   "metadata": {},
   "outputs": [],
   "source": [
    "#matrix is sub part of array class"
   ]
  },
  {
   "cell_type": "code",
   "execution_count": 8,
   "id": "692c57ae-91ea-4d1b-8327-4a5830c1c0bc",
   "metadata": {},
   "outputs": [],
   "source": [
    "l1 = [1,2,3,4,5]"
   ]
  },
  {
   "cell_type": "code",
   "execution_count": 9,
   "id": "494dd052-f666-4dc7-be18-43a004493527",
   "metadata": {},
   "outputs": [],
   "source": [
    "a = np.array(l1)"
   ]
  },
  {
   "cell_type": "code",
   "execution_count": 21,
   "id": "7628d48d-5078-403b-8c74-e3b651b30c51",
   "metadata": {},
   "outputs": [],
   "source": [
    "c = a#slow copy"
   ]
  },
  {
   "cell_type": "code",
   "execution_count": 11,
   "id": "c413219b-2285-4ddc-97d5-e8ecdb841a8d",
   "metadata": {},
   "outputs": [
    {
     "data": {
      "text/plain": [
       "array([1, 2, 3, 4, 5])"
      ]
     },
     "execution_count": 11,
     "metadata": {},
     "output_type": "execute_result"
    }
   ],
   "source": [
    "c"
   ]
  },
  {
   "cell_type": "code",
   "execution_count": 12,
   "id": "b25cac2c-cb2d-4668-a54e-87d4784b7032",
   "metadata": {},
   "outputs": [],
   "source": [
    "c[0]=101"
   ]
  },
  {
   "cell_type": "code",
   "execution_count": 13,
   "id": "6e259d25-728a-4956-a07c-93eb89ce1afa",
   "metadata": {},
   "outputs": [
    {
     "data": {
      "text/plain": [
       "array([101,   2,   3,   4,   5])"
      ]
     },
     "execution_count": 13,
     "metadata": {},
     "output_type": "execute_result"
    }
   ],
   "source": [
    "c"
   ]
  },
  {
   "cell_type": "code",
   "execution_count": 14,
   "id": "d5af68c2-6fb2-4c9d-b92e-fe4de6707a37",
   "metadata": {},
   "outputs": [
    {
     "data": {
      "text/plain": [
       "array([101,   2,   3,   4,   5])"
      ]
     },
     "execution_count": 14,
     "metadata": {},
     "output_type": "execute_result"
    }
   ],
   "source": [
    "a"
   ]
  },
  {
   "cell_type": "code",
   "execution_count": 20,
   "id": "1d15358e-d606-4f6d-b070-1a6982116eb1",
   "metadata": {},
   "outputs": [],
   "source": [
    "d = a.copy()#deep copy"
   ]
  },
  {
   "cell_type": "code",
   "execution_count": 16,
   "id": "95a41ac5-19c7-47bf-b92d-c6c2b92effea",
   "metadata": {},
   "outputs": [
    {
     "data": {
      "text/plain": [
       "array([101,   2,   3,   4,   5])"
      ]
     },
     "execution_count": 16,
     "metadata": {},
     "output_type": "execute_result"
    }
   ],
   "source": [
    "d"
   ]
  },
  {
   "cell_type": "code",
   "execution_count": 17,
   "id": "11119fad-fd50-476d-8f67-a3d249e8cd8f",
   "metadata": {},
   "outputs": [],
   "source": [
    "d[1] = 99"
   ]
  },
  {
   "cell_type": "code",
   "execution_count": 18,
   "id": "202e13e4-f99d-49fc-8a0d-1331377dd44d",
   "metadata": {},
   "outputs": [
    {
     "data": {
      "text/plain": [
       "array([101,  99,   3,   4,   5])"
      ]
     },
     "execution_count": 18,
     "metadata": {},
     "output_type": "execute_result"
    }
   ],
   "source": [
    "d"
   ]
  },
  {
   "cell_type": "code",
   "execution_count": 19,
   "id": "b320c120-1f49-4aaa-899d-82f724590c6f",
   "metadata": {},
   "outputs": [
    {
     "data": {
      "text/plain": [
       "array([101,   2,   3,   4,   5])"
      ]
     },
     "execution_count": 19,
     "metadata": {},
     "output_type": "execute_result"
    }
   ],
   "source": [
    "a"
   ]
  },
  {
   "cell_type": "code",
   "execution_count": 22,
   "id": "a75d2cbb-40d8-4388-b84f-59b868775704",
   "metadata": {},
   "outputs": [
    {
     "data": {
      "text/plain": [
       "array([[ True, False, False, False, False],\n",
       "       [False,  True, False, False, False],\n",
       "       [False, False,  True, False, False],\n",
       "       [False, False, False,  True, False],\n",
       "       [False, False, False, False,  True]])"
      ]
     },
     "execution_count": 22,
     "metadata": {},
     "output_type": "execute_result"
    }
   ],
   "source": [
    "np.fromfunction(lambda i,j:i==j,(5,5))"
   ]
  },
  {
   "cell_type": "code",
   "execution_count": 23,
   "id": "6d1f8480-7211-4c62-974a-3646ab5d2c38",
   "metadata": {},
   "outputs": [
    {
     "data": {
      "text/plain": [
       "array([[ 0.,  0.,  0.,  0.,  0.],\n",
       "       [ 0.,  1.,  2.,  3.,  4.],\n",
       "       [ 0.,  2.,  4.,  6.,  8.],\n",
       "       [ 0.,  3.,  6.,  9., 12.],\n",
       "       [ 0.,  4.,  8., 12., 16.]])"
      ]
     },
     "execution_count": 23,
     "metadata": {},
     "output_type": "execute_result"
    }
   ],
   "source": [
    "np.fromfunction(lambda i,j:i*j,(5,5))"
   ]
  },
  {
   "cell_type": "code",
   "execution_count": 24,
   "id": "e5a43979-f10d-4450-b690-aeaa717427ea",
   "metadata": {},
   "outputs": [],
   "source": [
    "iterable = (i*i for i in range(5))"
   ]
  },
  {
   "cell_type": "code",
   "execution_count": 26,
   "id": "fd01c083-ec75-4c41-9930-69d1c66b3d76",
   "metadata": {},
   "outputs": [
    {
     "data": {
      "text/plain": [
       "array([ 0,  1,  4,  9, 16])"
      ]
     },
     "execution_count": 26,
     "metadata": {},
     "output_type": "execute_result"
    }
   ],
   "source": [
    "np.fromiter(iterable,int)"
   ]
  },
  {
   "cell_type": "code",
   "execution_count": 27,
   "id": "1b89f4ee-6a52-4677-ae05-d046edb560ae",
   "metadata": {},
   "outputs": [
    {
     "data": {
      "text/plain": [
       "array([1., 2., 3., 4., 5., 6.])"
      ]
     },
     "execution_count": 27,
     "metadata": {},
     "output_type": "execute_result"
    }
   ],
   "source": [
    "np.fromstring('1 2 3 4 5 6',sep = ' ')"
   ]
  },
  {
   "cell_type": "code",
   "execution_count": 28,
   "id": "70c72e60-f927-4e73-9b26-9085d5ce9a83",
   "metadata": {},
   "outputs": [
    {
     "data": {
      "text/plain": [
       "array([1., 2., 3., 4., 5.])"
      ]
     },
     "execution_count": 28,
     "metadata": {},
     "output_type": "execute_result"
    }
   ],
   "source": [
    "np.fromstring('1,2,3,4,5',sep = ',')"
   ]
  },
  {
   "cell_type": "code",
   "execution_count": 29,
   "id": "3266c9f9-928f-4b1f-83bc-1b1529e45182",
   "metadata": {},
   "outputs": [],
   "source": [
    "arr = np.array([1,2,3,4,5])"
   ]
  },
  {
   "cell_type": "code",
   "execution_count": 30,
   "id": "c03cd0ae-d288-4d1a-8488-7b0b0696e89e",
   "metadata": {},
   "outputs": [
    {
     "data": {
      "text/plain": [
       "array([1, 2, 3, 4, 5])"
      ]
     },
     "execution_count": 30,
     "metadata": {},
     "output_type": "execute_result"
    }
   ],
   "source": [
    "arr"
   ]
  },
  {
   "cell_type": "code",
   "execution_count": 31,
   "id": "b0efae7f-01bf-4702-ae75-2eeaafa39c84",
   "metadata": {},
   "outputs": [],
   "source": [
    "arr1 = np.array([[1,2,3,4,5],[6,7,8,9,10]])"
   ]
  },
  {
   "cell_type": "code",
   "execution_count": 32,
   "id": "a4b811ba-5957-45c4-9e39-3e41c59040c3",
   "metadata": {},
   "outputs": [
    {
     "data": {
      "text/plain": [
       "array([[ 1,  2,  3,  4,  5],\n",
       "       [ 6,  7,  8,  9, 10]])"
      ]
     },
     "execution_count": 32,
     "metadata": {},
     "output_type": "execute_result"
    }
   ],
   "source": [
    "arr1"
   ]
  },
  {
   "cell_type": "code",
   "execution_count": 33,
   "id": "1ba2ddc4-6846-4ce5-952f-a036aeff0a1c",
   "metadata": {},
   "outputs": [
    {
     "data": {
      "text/plain": [
       "1"
      ]
     },
     "execution_count": 33,
     "metadata": {},
     "output_type": "execute_result"
    }
   ],
   "source": [
    "arr.ndim"
   ]
  },
  {
   "cell_type": "code",
   "execution_count": 34,
   "id": "dbdedc51-567b-41d6-8adc-1161c49016e5",
   "metadata": {},
   "outputs": [
    {
     "data": {
      "text/plain": [
       "2"
      ]
     },
     "execution_count": 34,
     "metadata": {},
     "output_type": "execute_result"
    }
   ],
   "source": [
    "arr1.ndim"
   ]
  },
  {
   "cell_type": "code",
   "execution_count": 35,
   "id": "35785fa6-126f-4572-8ad4-7f56846ba0fb",
   "metadata": {},
   "outputs": [
    {
     "data": {
      "text/plain": [
       "5"
      ]
     },
     "execution_count": 35,
     "metadata": {},
     "output_type": "execute_result"
    }
   ],
   "source": [
    "arr.size"
   ]
  },
  {
   "cell_type": "code",
   "execution_count": 36,
   "id": "ac09f850-5895-4795-b038-dcecae3298d6",
   "metadata": {},
   "outputs": [
    {
     "data": {
      "text/plain": [
       "10"
      ]
     },
     "execution_count": 36,
     "metadata": {},
     "output_type": "execute_result"
    }
   ],
   "source": [
    "arr1.size"
   ]
  },
  {
   "cell_type": "code",
   "execution_count": 37,
   "id": "2e471268-6f4f-4fa5-a05e-f4d64ba4aaa3",
   "metadata": {},
   "outputs": [
    {
     "data": {
      "text/plain": [
       "(5,)"
      ]
     },
     "execution_count": 37,
     "metadata": {},
     "output_type": "execute_result"
    }
   ],
   "source": [
    "arr.shape"
   ]
  },
  {
   "cell_type": "code",
   "execution_count": 38,
   "id": "7f15d415-cd1c-4369-9883-4957fe5eda84",
   "metadata": {},
   "outputs": [
    {
     "data": {
      "text/plain": [
       "(2, 5)"
      ]
     },
     "execution_count": 38,
     "metadata": {},
     "output_type": "execute_result"
    }
   ],
   "source": [
    "arr1.shape"
   ]
  },
  {
   "cell_type": "code",
   "execution_count": 41,
   "id": "2d8eacf3-430c-4086-a25a-f4b781d2bf0f",
   "metadata": {},
   "outputs": [
    {
     "data": {
      "text/plain": [
       "dtype('int64')"
      ]
     },
     "execution_count": 41,
     "metadata": {},
     "output_type": "execute_result"
    }
   ],
   "source": [
    "arr.dtype"
   ]
  },
  {
   "cell_type": "code",
   "execution_count": 42,
   "id": "0351bec7-68b2-4fce-ad8e-3b03838e086f",
   "metadata": {},
   "outputs": [
    {
     "data": {
      "text/plain": [
       "dtype('int64')"
      ]
     },
     "execution_count": 42,
     "metadata": {},
     "output_type": "execute_result"
    }
   ],
   "source": [
    "arr1.dtype"
   ]
  },
  {
   "cell_type": "code",
   "execution_count": 43,
   "id": "bf18be42-d1a2-4eda-888d-1e49460dd5cb",
   "metadata": {},
   "outputs": [
    {
     "data": {
      "text/plain": [
       "range(0, 5)"
      ]
     },
     "execution_count": 43,
     "metadata": {},
     "output_type": "execute_result"
    }
   ],
   "source": [
    "range(5)"
   ]
  },
  {
   "cell_type": "code",
   "execution_count": 44,
   "id": "b7a56b5f-91af-4273-9f28-46b3d48308dd",
   "metadata": {},
   "outputs": [
    {
     "data": {
      "text/plain": [
       "[0, 1, 2, 3, 4]"
      ]
     },
     "execution_count": 44,
     "metadata": {},
     "output_type": "execute_result"
    }
   ],
   "source": [
    "list(range(5))"
   ]
  },
  {
   "cell_type": "code",
   "execution_count": 45,
   "id": "86865025-9e9f-4408-938a-bec5e0c0b0d5",
   "metadata": {},
   "outputs": [
    {
     "ename": "TypeError",
     "evalue": "'float' object cannot be interpreted as an integer",
     "output_type": "error",
     "traceback": [
      "\u001b[0;31m---------------------------------------------------------------------------\u001b[0m",
      "\u001b[0;31mTypeError\u001b[0m                                 Traceback (most recent call last)",
      "Cell \u001b[0;32mIn[45], line 1\u001b[0m\n\u001b[0;32m----> 1\u001b[0m \u001b[38;5;28mlist\u001b[39m(\u001b[38;5;28;43mrange\u001b[39;49m\u001b[43m(\u001b[49m\u001b[38;5;241;43m0.5\u001b[39;49m\u001b[43m,\u001b[49m\u001b[38;5;241;43m5\u001b[39;49m\u001b[43m)\u001b[49m)\n",
      "\u001b[0;31mTypeError\u001b[0m: 'float' object cannot be interpreted as an integer"
     ]
    }
   ],
   "source": [
    "list(range(0.5,5))"
   ]
  },
  {
   "cell_type": "code",
   "execution_count": 49,
   "id": "25755041-81a9-4e2f-8fbe-6044d78a7022",
   "metadata": {},
   "outputs": [
    {
     "data": {
      "text/plain": [
       "array([0.5, 0.7, 0.9, 1.1, 1.3, 1.5, 1.7, 1.9, 2.1, 2.3, 2.5, 2.7, 2.9])"
      ]
     },
     "execution_count": 49,
     "metadata": {},
     "output_type": "execute_result"
    }
   ],
   "source": [
    "np.arange(0.5,3,0.2)"
   ]
  },
  {
   "cell_type": "code",
   "execution_count": 50,
   "id": "24048271-5ca9-415d-95eb-fd6bed0eed83",
   "metadata": {},
   "outputs": [
    {
     "data": {
      "text/plain": [
       "array([ 1.   ,  1.375,  1.75 ,  2.125,  2.5  ,  2.875,  3.25 ,  3.625,\n",
       "        4.   ,  4.375,  4.75 ,  5.125,  5.5  ,  5.875,  6.25 ,  6.625,\n",
       "        7.   ,  7.375,  7.75 ,  8.125,  8.5  ,  8.875,  9.25 ,  9.625,\n",
       "       10.   ])"
      ]
     },
     "execution_count": 50,
     "metadata": {},
     "output_type": "execute_result"
    }
   ],
   "source": [
    "np.linspace(1,10,25)"
   ]
  },
  {
   "cell_type": "code",
   "execution_count": 7,
   "id": "0caa98cd-9a9d-4625-a54a-c2e72f623223",
   "metadata": {},
   "outputs": [
    {
     "data": {
      "text/plain": [
       "array([   2.        ,    2.59367911,    3.36358566,    4.36203093,\n",
       "          5.65685425,    7.33603235,    9.51365692,   12.3376866 ,\n",
       "         16.        ,   20.74943287,   26.90868529,   34.89624745,\n",
       "         45.254834  ,   58.68825877,   76.10925536,   98.70149283,\n",
       "        128.        ,  165.995463  ,  215.2694823 ,  279.16997956,\n",
       "        362.03867197,  469.50607012,  608.87404288,  789.61194261,\n",
       "       1024.        ])"
      ]
     },
     "execution_count": 7,
     "metadata": {},
     "output_type": "execute_result"
    }
   ],
   "source": [
    "np.logspace(1,10,25,base = 2)"
   ]
  },
  {
   "cell_type": "code",
   "execution_count": 8,
   "id": "bb498208-42c1-48dd-aa78-510ddacab5b0",
   "metadata": {},
   "outputs": [
    {
     "data": {
      "text/plain": [
       "array([0., 0., 0., 0., 0.])"
      ]
     },
     "execution_count": 8,
     "metadata": {},
     "output_type": "execute_result"
    }
   ],
   "source": [
    "np.zeros(5)"
   ]
  },
  {
   "cell_type": "code",
   "execution_count": 9,
   "id": "efc06b1b-57df-4c01-8b11-e3457f5d2f7e",
   "metadata": {},
   "outputs": [
    {
     "data": {
      "text/plain": [
       "array([[0., 0., 0., 0., 0.],\n",
       "       [0., 0., 0., 0., 0.],\n",
       "       [0., 0., 0., 0., 0.]])"
      ]
     },
     "execution_count": 9,
     "metadata": {},
     "output_type": "execute_result"
    }
   ],
   "source": [
    "np.zeros((3,5))"
   ]
  },
  {
   "cell_type": "code",
   "execution_count": 10,
   "id": "dd374560-3b24-42fa-8239-c9727848c3e0",
   "metadata": {},
   "outputs": [
    {
     "data": {
      "text/plain": [
       "array([[[0., 0., 0., 0., 0.],\n",
       "        [0., 0., 0., 0., 0.],\n",
       "        [0., 0., 0., 0., 0.]],\n",
       "\n",
       "       [[0., 0., 0., 0., 0.],\n",
       "        [0., 0., 0., 0., 0.],\n",
       "        [0., 0., 0., 0., 0.]],\n",
       "\n",
       "       [[0., 0., 0., 0., 0.],\n",
       "        [0., 0., 0., 0., 0.],\n",
       "        [0., 0., 0., 0., 0.]],\n",
       "\n",
       "       [[0., 0., 0., 0., 0.],\n",
       "        [0., 0., 0., 0., 0.],\n",
       "        [0., 0., 0., 0., 0.]]])"
      ]
     },
     "execution_count": 10,
     "metadata": {},
     "output_type": "execute_result"
    }
   ],
   "source": [
    "np.zeros((4,3,5))"
   ]
  },
  {
   "cell_type": "code",
   "execution_count": 11,
   "id": "2806ed1c-f054-472d-b834-483081ead0e2",
   "metadata": {},
   "outputs": [
    {
     "data": {
      "text/plain": [
       "array([[[[0., 0.],\n",
       "         [0., 0.],\n",
       "         [0., 0.]],\n",
       "\n",
       "        [[0., 0.],\n",
       "         [0., 0.],\n",
       "         [0., 0.]],\n",
       "\n",
       "        [[0., 0.],\n",
       "         [0., 0.],\n",
       "         [0., 0.]],\n",
       "\n",
       "        [[0., 0.],\n",
       "         [0., 0.],\n",
       "         [0., 0.]]],\n",
       "\n",
       "\n",
       "       [[[0., 0.],\n",
       "         [0., 0.],\n",
       "         [0., 0.]],\n",
       "\n",
       "        [[0., 0.],\n",
       "         [0., 0.],\n",
       "         [0., 0.]],\n",
       "\n",
       "        [[0., 0.],\n",
       "         [0., 0.],\n",
       "         [0., 0.]],\n",
       "\n",
       "        [[0., 0.],\n",
       "         [0., 0.],\n",
       "         [0., 0.]]],\n",
       "\n",
       "\n",
       "       [[[0., 0.],\n",
       "         [0., 0.],\n",
       "         [0., 0.]],\n",
       "\n",
       "        [[0., 0.],\n",
       "         [0., 0.],\n",
       "         [0., 0.]],\n",
       "\n",
       "        [[0., 0.],\n",
       "         [0., 0.],\n",
       "         [0., 0.]],\n",
       "\n",
       "        [[0., 0.],\n",
       "         [0., 0.],\n",
       "         [0., 0.]]],\n",
       "\n",
       "\n",
       "       [[[0., 0.],\n",
       "         [0., 0.],\n",
       "         [0., 0.]],\n",
       "\n",
       "        [[0., 0.],\n",
       "         [0., 0.],\n",
       "         [0., 0.]],\n",
       "\n",
       "        [[0., 0.],\n",
       "         [0., 0.],\n",
       "         [0., 0.]],\n",
       "\n",
       "        [[0., 0.],\n",
       "         [0., 0.],\n",
       "         [0., 0.]]],\n",
       "\n",
       "\n",
       "       [[[0., 0.],\n",
       "         [0., 0.],\n",
       "         [0., 0.]],\n",
       "\n",
       "        [[0., 0.],\n",
       "         [0., 0.],\n",
       "         [0., 0.]],\n",
       "\n",
       "        [[0., 0.],\n",
       "         [0., 0.],\n",
       "         [0., 0.]],\n",
       "\n",
       "        [[0., 0.],\n",
       "         [0., 0.],\n",
       "         [0., 0.]]]])"
      ]
     },
     "execution_count": 11,
     "metadata": {},
     "output_type": "execute_result"
    }
   ],
   "source": [
    "np.zeros((5,4,3,2))"
   ]
  },
  {
   "cell_type": "code",
   "execution_count": 13,
   "id": "8f71063c-15c4-4632-8f72-2918330c30cd",
   "metadata": {},
   "outputs": [
    {
     "data": {
      "text/plain": [
       "array([1., 1., 1., 1., 1.])"
      ]
     },
     "execution_count": 13,
     "metadata": {},
     "output_type": "execute_result"
    }
   ],
   "source": [
    "np.ones(5)"
   ]
  },
  {
   "cell_type": "code",
   "execution_count": 15,
   "id": "fbead360-5852-49b9-bade-14e234beecbb",
   "metadata": {},
   "outputs": [
    {
     "data": {
      "text/plain": [
       "array([[5., 5., 5., 5., 5.],\n",
       "       [5., 5., 5., 5., 5.],\n",
       "       [5., 5., 5., 5., 5.]])"
      ]
     },
     "execution_count": 15,
     "metadata": {},
     "output_type": "execute_result"
    }
   ],
   "source": [
    "np.ones((3,5))*5"
   ]
  },
  {
   "cell_type": "code",
   "execution_count": 16,
   "id": "eaf0b426-9274-4420-a5b0-f8b6e5e089e0",
   "metadata": {},
   "outputs": [
    {
     "data": {
      "text/plain": [
       "array([[6., 6., 6., 6., 6.],\n",
       "       [6., 6., 6., 6., 6.],\n",
       "       [6., 6., 6., 6., 6.]])"
      ]
     },
     "execution_count": 16,
     "metadata": {},
     "output_type": "execute_result"
    }
   ],
   "source": [
    "np.ones((3,5))*6"
   ]
  },
  {
   "cell_type": "code",
   "execution_count": 18,
   "id": "3fb91fd7-731d-499c-903b-7bf7543b93c5",
   "metadata": {},
   "outputs": [
    {
     "data": {
      "text/plain": [
       "array([[1., 0., 0., 0., 0.],\n",
       "       [0., 1., 0., 0., 0.],\n",
       "       [0., 0., 1., 0., 0.],\n",
       "       [0., 0., 0., 1., 0.],\n",
       "       [0., 0., 0., 0., 1.]])"
      ]
     },
     "execution_count": 18,
     "metadata": {},
     "output_type": "execute_result"
    }
   ],
   "source": [
    "np.eye(5)"
   ]
  },
  {
   "cell_type": "code",
   "execution_count": 20,
   "id": "7eca3987-e35f-44a3-bdc6-bc4f475112cc",
   "metadata": {},
   "outputs": [
    {
     "data": {
      "text/plain": [
       "array([[4.64323706e-310, 0.00000000e+000, 6.90707695e-310,\n",
       "        6.90707587e-310, 6.90707692e-310, 6.90707587e-310],\n",
       "       [6.90707644e-310, 6.90707693e-310, 6.90707692e-310,\n",
       "        6.90707699e-310, 6.90707702e-310, 6.90707702e-310],\n",
       "       [6.90707695e-310, 6.90707690e-310, 6.90707702e-310,\n",
       "        6.90707587e-310, 6.90707702e-310, 6.90707703e-310]])"
      ]
     },
     "execution_count": 20,
     "metadata": {},
     "output_type": "execute_result"
    }
   ],
   "source": [
    "np.empty((3,6))"
   ]
  },
  {
   "cell_type": "code",
   "execution_count": 21,
   "id": "cac497c5-ebf4-4f8e-9313-a41634e24ff3",
   "metadata": {},
   "outputs": [],
   "source": [
    "import pandas as pd"
   ]
  },
  {
   "cell_type": "code",
   "execution_count": 23,
   "id": "880e8400-e828-404b-9f46-258d0c139bc4",
   "metadata": {},
   "outputs": [
    {
     "data": {
      "text/plain": [
       "array([[ 0.36622375, -0.52734854,  0.18936613, -0.02085647],\n",
       "       [ 1.03172832, -0.20382563, -0.24169636,  0.53459232],\n",
       "       [-0.08782359,  0.89836994, -1.13068472,  0.61858892]])"
      ]
     },
     "execution_count": 23,
     "metadata": {},
     "output_type": "execute_result"
    }
   ],
   "source": [
    "np.random.randn(3,4)"
   ]
  },
  {
   "cell_type": "code",
   "execution_count": 29,
   "id": "4e9dab5e-4b8e-4c14-b398-27cc716f9bb0",
   "metadata": {},
   "outputs": [],
   "source": [
    "arr = np.random.rand(3,4)"
   ]
  },
  {
   "cell_type": "code",
   "execution_count": 25,
   "id": "9fb8f8eb-73a2-441e-9a4f-ef0d2d6cb39d",
   "metadata": {},
   "outputs": [
    {
     "data": {
      "text/plain": [
       "array([34, 83, 65, 87, 62,  4, 23, 87, 82, 71,  5,  4, 28, 12, 26, 10, 83,\n",
       "       33, 49, 23])"
      ]
     },
     "execution_count": 25,
     "metadata": {},
     "output_type": "execute_result"
    }
   ],
   "source": [
    "np.random.randint(1,100,20)"
   ]
  },
  {
   "cell_type": "code",
   "execution_count": 26,
   "id": "08af4ea0-a19c-4da1-a4ce-d75c07cba5da",
   "metadata": {},
   "outputs": [],
   "source": [
    "df = np.random.randint(1,100,500)"
   ]
  },
  {
   "cell_type": "code",
   "execution_count": 27,
   "id": "bfe34530-6e21-416b-9ebd-3b3278e2006e",
   "metadata": {},
   "outputs": [],
   "source": [
    "df1 = pd.DataFrame(df)"
   ]
  },
  {
   "cell_type": "code",
   "execution_count": 28,
   "id": "a3aeda3a-3392-4fa2-a798-f2c2677aceae",
   "metadata": {},
   "outputs": [
    {
     "data": {
      "text/html": [
       "<div>\n",
       "<style scoped>\n",
       "    .dataframe tbody tr th:only-of-type {\n",
       "        vertical-align: middle;\n",
       "    }\n",
       "\n",
       "    .dataframe tbody tr th {\n",
       "        vertical-align: top;\n",
       "    }\n",
       "\n",
       "    .dataframe thead th {\n",
       "        text-align: right;\n",
       "    }\n",
       "</style>\n",
       "<table border=\"1\" class=\"dataframe\">\n",
       "  <thead>\n",
       "    <tr style=\"text-align: right;\">\n",
       "      <th></th>\n",
       "      <th>0</th>\n",
       "    </tr>\n",
       "  </thead>\n",
       "  <tbody>\n",
       "    <tr>\n",
       "      <th>0</th>\n",
       "      <td>52</td>\n",
       "    </tr>\n",
       "    <tr>\n",
       "      <th>1</th>\n",
       "      <td>71</td>\n",
       "    </tr>\n",
       "    <tr>\n",
       "      <th>2</th>\n",
       "      <td>41</td>\n",
       "    </tr>\n",
       "    <tr>\n",
       "      <th>3</th>\n",
       "      <td>79</td>\n",
       "    </tr>\n",
       "    <tr>\n",
       "      <th>4</th>\n",
       "      <td>34</td>\n",
       "    </tr>\n",
       "    <tr>\n",
       "      <th>...</th>\n",
       "      <td>...</td>\n",
       "    </tr>\n",
       "    <tr>\n",
       "      <th>495</th>\n",
       "      <td>67</td>\n",
       "    </tr>\n",
       "    <tr>\n",
       "      <th>496</th>\n",
       "      <td>1</td>\n",
       "    </tr>\n",
       "    <tr>\n",
       "      <th>497</th>\n",
       "      <td>45</td>\n",
       "    </tr>\n",
       "    <tr>\n",
       "      <th>498</th>\n",
       "      <td>38</td>\n",
       "    </tr>\n",
       "    <tr>\n",
       "      <th>499</th>\n",
       "      <td>20</td>\n",
       "    </tr>\n",
       "  </tbody>\n",
       "</table>\n",
       "<p>500 rows × 1 columns</p>\n",
       "</div>"
      ],
      "text/plain": [
       "      0\n",
       "0    52\n",
       "1    71\n",
       "2    41\n",
       "3    79\n",
       "4    34\n",
       "..   ..\n",
       "495  67\n",
       "496   1\n",
       "497  45\n",
       "498  38\n",
       "499  20\n",
       "\n",
       "[500 rows x 1 columns]"
      ]
     },
     "execution_count": 28,
     "metadata": {},
     "output_type": "execute_result"
    }
   ],
   "source": [
    "df1"
   ]
  },
  {
   "cell_type": "code",
   "execution_count": 30,
   "id": "4dfdec33-81d8-4f89-8e0f-e36ecec1f7fe",
   "metadata": {},
   "outputs": [
    {
     "data": {
      "text/plain": [
       "array([[0.62903953, 0.32398425, 0.48420711, 0.55952897],\n",
       "       [0.67528915, 0.36160681, 0.05033819, 0.50350984],\n",
       "       [0.31866769, 0.5790053 , 0.41135432, 0.18543495]])"
      ]
     },
     "execution_count": 30,
     "metadata": {},
     "output_type": "execute_result"
    }
   ],
   "source": [
    "arr"
   ]
  },
  {
   "cell_type": "code",
   "execution_count": 33,
   "id": "f2897140-c758-42dc-8ef8-114989dbafd7",
   "metadata": {},
   "outputs": [],
   "source": [
    "arr = arr.reshape(6,2)"
   ]
  },
  {
   "cell_type": "code",
   "execution_count": 37,
   "id": "28aca996-de26-441f-bde0-9e6801c2e6fb",
   "metadata": {},
   "outputs": [
    {
     "data": {
      "text/plain": [
       "0.559528973271584"
      ]
     },
     "execution_count": 37,
     "metadata": {},
     "output_type": "execute_result"
    }
   ],
   "source": [
    "arr[1][1]"
   ]
  },
  {
   "cell_type": "code",
   "execution_count": 35,
   "id": "951f55bb-1ddd-4e0b-8bc8-0129d3593f00",
   "metadata": {},
   "outputs": [
    {
     "data": {
      "text/plain": [
       "array([[0.62903953, 0.32398425],\n",
       "       [0.48420711, 0.55952897],\n",
       "       [0.67528915, 0.36160681],\n",
       "       [0.05033819, 0.50350984],\n",
       "       [0.31866769, 0.5790053 ],\n",
       "       [0.41135432, 0.18543495]])"
      ]
     },
     "execution_count": 35,
     "metadata": {},
     "output_type": "execute_result"
    }
   ],
   "source": [
    "arr"
   ]
  },
  {
   "cell_type": "code",
   "execution_count": 41,
   "id": "6e568472-0066-4f35-a231-5cc9ae844d32",
   "metadata": {},
   "outputs": [
    {
     "data": {
      "text/plain": [
       "array([0.36160681, 0.50350984, 0.5790053 ])"
      ]
     },
     "execution_count": 41,
     "metadata": {},
     "output_type": "execute_result"
    }
   ],
   "source": [
    "arr[2:5,1]"
   ]
  },
  {
   "cell_type": "code",
   "execution_count": 42,
   "id": "91e5a0b2-2fb8-430c-9628-1409a548b0d6",
   "metadata": {},
   "outputs": [
    {
     "data": {
      "text/plain": [
       "array([[0.62903953, 0.32398425],\n",
       "       [0.48420711, 0.55952897],\n",
       "       [0.67528915, 0.36160681],\n",
       "       [0.05033819, 0.50350984],\n",
       "       [0.31866769, 0.5790053 ],\n",
       "       [0.41135432, 0.18543495]])"
      ]
     },
     "execution_count": 42,
     "metadata": {},
     "output_type": "execute_result"
    }
   ],
   "source": [
    "arr"
   ]
  },
  {
   "cell_type": "code",
   "execution_count": 46,
   "id": "d06a0726-47e0-4e92-b9d0-a663e910eaaf",
   "metadata": {},
   "outputs": [
    {
     "data": {
      "text/plain": [
       "array([0.62903953, 0.55952897, 0.67528915, 0.50350984, 0.5790053 ])"
      ]
     },
     "execution_count": 46,
     "metadata": {},
     "output_type": "execute_result"
    }
   ],
   "source": [
    "arr[arr>0.5]"
   ]
  },
  {
   "cell_type": "code",
   "execution_count": 47,
   "id": "c7bebca1-d6b6-495d-95e0-a255ed26f2d9",
   "metadata": {},
   "outputs": [],
   "source": [
    "arr = np.random.randint(1,100,20)"
   ]
  },
  {
   "cell_type": "code",
   "execution_count": 48,
   "id": "2a3daa96-aaa3-48d0-804b-d98e5fb8e3d2",
   "metadata": {},
   "outputs": [
    {
     "data": {
      "text/plain": [
       "array([17, 47, 40, 31,  2, 39, 43, 62, 26, 60, 84, 55, 92, 41, 47, 70,  2,\n",
       "       88, 75, 37])"
      ]
     },
     "execution_count": 48,
     "metadata": {},
     "output_type": "execute_result"
    }
   ],
   "source": [
    "arr"
   ]
  },
  {
   "cell_type": "code",
   "execution_count": 51,
   "id": "06fcb09c-32f9-4baa-9fe7-a5e516eda961",
   "metadata": {},
   "outputs": [],
   "source": [
    "arr = arr.reshape(5,4)"
   ]
  },
  {
   "cell_type": "code",
   "execution_count": 52,
   "id": "7f2cc624-3c80-4746-be20-70aea619b425",
   "metadata": {},
   "outputs": [
    {
     "data": {
      "text/plain": [
       "array([[17, 47, 40, 31],\n",
       "       [ 2, 39, 43, 62],\n",
       "       [26, 60, 84, 55],\n",
       "       [92, 41, 47, 70],\n",
       "       [ 2, 88, 75, 37]])"
      ]
     },
     "execution_count": 52,
     "metadata": {},
     "output_type": "execute_result"
    }
   ],
   "source": [
    "arr"
   ]
  },
  {
   "cell_type": "code",
   "execution_count": 55,
   "id": "8b32b5dc-370b-44e0-b126-7795ceb31294",
   "metadata": {},
   "outputs": [
    {
     "data": {
      "text/plain": [
       "array([[60, 84],\n",
       "       [41, 47]])"
      ]
     },
     "execution_count": 55,
     "metadata": {},
     "output_type": "execute_result"
    }
   ],
   "source": [
    "arr[2:4,1:3]"
   ]
  },
  {
   "cell_type": "code",
   "execution_count": 57,
   "id": "41cf763f-d776-4da8-94b2-901734cb4390",
   "metadata": {},
   "outputs": [],
   "source": [
    "arr[0][0] = 10000"
   ]
  },
  {
   "cell_type": "code",
   "execution_count": 58,
   "id": "a0f1f40e-1a82-44ac-99e8-11f614f61f3e",
   "metadata": {},
   "outputs": [
    {
     "data": {
      "text/plain": [
       "array([[10000,    47,    40,    31],\n",
       "       [    2,    39,    43,    62],\n",
       "       [   26,    60,    84,    55],\n",
       "       [   92,    41,    47,    70],\n",
       "       [    2,    88,    75,    37]])"
      ]
     },
     "execution_count": 58,
     "metadata": {},
     "output_type": "execute_result"
    }
   ],
   "source": [
    "arr"
   ]
  },
  {
   "cell_type": "code",
   "execution_count": 3,
   "id": "0eb3c044-2888-41cb-805b-a691b281dfd5",
   "metadata": {},
   "outputs": [],
   "source": [
    "import numpy as np\n",
    "arr1 = np.random.randint(1,100,(3,3))"
   ]
  },
  {
   "cell_type": "code",
   "execution_count": 4,
   "id": "22068214-cecb-4562-8e8a-b2dfc40af120",
   "metadata": {},
   "outputs": [],
   "source": [
    "arr2 = np.random.randint(1,100,(3,3))"
   ]
  },
  {
   "cell_type": "code",
   "execution_count": 62,
   "id": "bd515187-10d8-4218-ba54-716ac60d1852",
   "metadata": {},
   "outputs": [
    {
     "data": {
      "text/plain": [
       "array([[66,  7, 37],\n",
       "       [79, 41, 52],\n",
       "       [36, 11, 20]])"
      ]
     },
     "execution_count": 62,
     "metadata": {},
     "output_type": "execute_result"
    }
   ],
   "source": [
    "arr1"
   ]
  },
  {
   "cell_type": "code",
   "execution_count": 63,
   "id": "b08ed826-b1da-441e-b605-5188cc090a30",
   "metadata": {},
   "outputs": [
    {
     "data": {
      "text/plain": [
       "array([[69, 76, 86],\n",
       "       [11, 81, 40],\n",
       "       [40, 54, 89]])"
      ]
     },
     "execution_count": 63,
     "metadata": {},
     "output_type": "execute_result"
    }
   ],
   "source": [
    "arr2"
   ]
  },
  {
   "cell_type": "code",
   "execution_count": 64,
   "id": "cc2a3ca0-e6c6-4c5a-a6a1-0a5ea0ebb156",
   "metadata": {},
   "outputs": [
    {
     "data": {
      "text/plain": [
       "array([[135,  83, 123],\n",
       "       [ 90, 122,  92],\n",
       "       [ 76,  65, 109]])"
      ]
     },
     "execution_count": 64,
     "metadata": {},
     "output_type": "execute_result"
    }
   ],
   "source": [
    "arr1+arr2"
   ]
  },
  {
   "cell_type": "code",
   "execution_count": 65,
   "id": "989ee948-82f7-418c-a985-3da0180d3d65",
   "metadata": {},
   "outputs": [
    {
     "data": {
      "text/plain": [
       "array([[4554,  532, 3182],\n",
       "       [ 869, 3321, 2080],\n",
       "       [1440,  594, 1780]])"
      ]
     },
     "execution_count": 65,
     "metadata": {},
     "output_type": "execute_result"
    }
   ],
   "source": [
    "arr1*arr2"
   ]
  },
  {
   "cell_type": "code",
   "execution_count": 66,
   "id": "9fba2bcb-862a-4d66-9498-1c8558414974",
   "metadata": {},
   "outputs": [
    {
     "data": {
      "text/plain": [
       "array([[0.95652174, 0.09210526, 0.43023256],\n",
       "       [7.18181818, 0.50617284, 1.3       ],\n",
       "       [0.9       , 0.2037037 , 0.2247191 ]])"
      ]
     },
     "execution_count": 66,
     "metadata": {},
     "output_type": "execute_result"
    }
   ],
   "source": [
    "arr1/arr2"
   ]
  },
  {
   "cell_type": "code",
   "execution_count": 67,
   "id": "4c4ec96e-3381-45a1-88d7-149e60fc9b2e",
   "metadata": {},
   "outputs": [
    {
     "name": "stderr",
     "output_type": "stream",
     "text": [
      "/tmp/ipykernel_5475/1510032488.py:1: RuntimeWarning: divide by zero encountered in divide\n",
      "  arr1/0\n"
     ]
    },
    {
     "data": {
      "text/plain": [
       "array([[inf, inf, inf],\n",
       "       [inf, inf, inf],\n",
       "       [inf, inf, inf]])"
      ]
     },
     "execution_count": 67,
     "metadata": {},
     "output_type": "execute_result"
    }
   ],
   "source": [
    "arr1/0"
   ]
  },
  {
   "cell_type": "code",
   "execution_count": 69,
   "id": "2dd19488-c7c3-4c81-83d5-2af06af153f3",
   "metadata": {},
   "outputs": [
    {
     "data": {
      "text/plain": [
       "array([[ 6111,  7581,  9249],\n",
       "       [ 7982, 12133, 13062],\n",
       "       [ 3405,  4707,  5316]])"
      ]
     },
     "execution_count": 69,
     "metadata": {},
     "output_type": "execute_result"
    }
   ],
   "source": [
    "arr1@arr2"
   ]
  },
  {
   "cell_type": "code",
   "execution_count": 70,
   "id": "0e8fd271-3708-404c-b3e8-c81e28c9d39c",
   "metadata": {},
   "outputs": [
    {
     "data": {
      "text/plain": [
       "array([[166, 107, 137],\n",
       "       [179, 141, 152],\n",
       "       [136, 111, 120]])"
      ]
     },
     "execution_count": 70,
     "metadata": {},
     "output_type": "execute_result"
    }
   ],
   "source": [
    "arr1+100"
   ]
  },
  {
   "cell_type": "code",
   "execution_count": 71,
   "id": "b131a254-0374-47cc-b743-b8f2b5fe08b6",
   "metadata": {},
   "outputs": [
    {
     "data": {
      "text/plain": [
       "array([[66,  7, 37],\n",
       "       [79, 41, 52],\n",
       "       [36, 11, 20]])"
      ]
     },
     "execution_count": 71,
     "metadata": {},
     "output_type": "execute_result"
    }
   ],
   "source": [
    "arr1"
   ]
  },
  {
   "cell_type": "code",
   "execution_count": 72,
   "id": "66021da3-9c5f-43c9-b14e-ac44627bb5e4",
   "metadata": {},
   "outputs": [
    {
     "data": {
      "text/plain": [
       "array([[0., 0., 0., 0.],\n",
       "       [0., 0., 0., 0.],\n",
       "       [0., 0., 0., 0.],\n",
       "       [0., 0., 0., 0.]])"
      ]
     },
     "execution_count": 72,
     "metadata": {},
     "output_type": "execute_result"
    }
   ],
   "source": [
    "np.zeros((4,4))"
   ]
  },
  {
   "cell_type": "code",
   "execution_count": 6,
   "id": "3494e090-644d-4e10-be83-509e43a6b7bd",
   "metadata": {},
   "outputs": [],
   "source": [
    "row = np.array([1,2,3])"
   ]
  },
  {
   "cell_type": "code",
   "execution_count": 79,
   "id": "a6e4d58d-5e77-4ee0-8af6-501fc0c29d3b",
   "metadata": {},
   "outputs": [
    {
     "data": {
      "text/plain": [
       "array([1, 2, 3])"
      ]
     },
     "execution_count": 79,
     "metadata": {},
     "output_type": "execute_result"
    }
   ],
   "source": [
    "row"
   ]
  },
  {
   "cell_type": "code",
   "execution_count": 7,
   "id": "230ab57c-2e32-452a-a1a2-d36a71c2b2f7",
   "metadata": {},
   "outputs": [
    {
     "data": {
      "text/plain": [
       "array([[63, 84, 86],\n",
       "       [16, 89, 95],\n",
       "       [50, 44, 24]])"
      ]
     },
     "execution_count": 7,
     "metadata": {},
     "output_type": "execute_result"
    }
   ],
   "source": [
    "arr1+row"
   ]
  },
  {
   "cell_type": "code",
   "execution_count": 8,
   "id": "8a6d6e4b-a221-41d3-a2ce-1177601312f9",
   "metadata": {},
   "outputs": [
    {
     "data": {
      "text/plain": [
       "array([[62, 82, 83],\n",
       "       [15, 87, 92],\n",
       "       [49, 42, 21]])"
      ]
     },
     "execution_count": 8,
     "metadata": {},
     "output_type": "execute_result"
    }
   ],
   "source": [
    "arr1"
   ]
  },
  {
   "cell_type": "code",
   "execution_count": 12,
   "id": "c85c1df1-483a-4c73-8512-f6c3bebc53b6",
   "metadata": {},
   "outputs": [],
   "source": [
    "row = np.array([[1,2,3]])"
   ]
  },
  {
   "cell_type": "code",
   "execution_count": 10,
   "id": "be8b721d-acb7-4b12-9baa-e5bf5d4bb5e2",
   "metadata": {},
   "outputs": [
    {
     "data": {
      "text/plain": [
       "array([1, 2, 3])"
      ]
     },
     "execution_count": 10,
     "metadata": {},
     "output_type": "execute_result"
    }
   ],
   "source": [
    "row"
   ]
  },
  {
   "cell_type": "code",
   "execution_count": 13,
   "id": "61347dd1-aa21-4d8b-8836-653a80a9ce5a",
   "metadata": {},
   "outputs": [
    {
     "data": {
      "text/plain": [
       "array([[63, 83, 84],\n",
       "       [17, 89, 94],\n",
       "       [52, 45, 24]])"
      ]
     },
     "execution_count": 13,
     "metadata": {},
     "output_type": "execute_result"
    }
   ],
   "source": [
    "arr1+row.T"
   ]
  },
  {
   "cell_type": "code",
   "execution_count": 14,
   "id": "3a51bf34-0dc4-4c94-8471-6edcd3dbf67e",
   "metadata": {},
   "outputs": [
    {
     "data": {
      "text/plain": [
       "array([[62, 82, 83],\n",
       "       [15, 87, 92],\n",
       "       [49, 42, 21]])"
      ]
     },
     "execution_count": 14,
     "metadata": {},
     "output_type": "execute_result"
    }
   ],
   "source": [
    "arr1"
   ]
  },
  {
   "cell_type": "code",
   "execution_count": 15,
   "id": "41ce942b-d68b-4274-84d3-fde5d66c0e45",
   "metadata": {},
   "outputs": [
    {
     "data": {
      "text/plain": [
       "array([[14, 53, 73],\n",
       "       [51, 99, 78],\n",
       "       [79, 32, 28]])"
      ]
     },
     "execution_count": 15,
     "metadata": {},
     "output_type": "execute_result"
    }
   ],
   "source": [
    "arr2"
   ]
  },
  {
   "cell_type": "code",
   "execution_count": 16,
   "id": "cb864f6d-305e-4f3a-b41b-5cfcc0dc3b63",
   "metadata": {},
   "outputs": [
    {
     "data": {
      "text/plain": [
       "array([[ 15,  55,  76],\n",
       "       [ 52, 101,  81],\n",
       "       [ 80,  34,  31]])"
      ]
     },
     "execution_count": 16,
     "metadata": {},
     "output_type": "execute_result"
    }
   ],
   "source": [
    "arr2+row"
   ]
  },
  {
   "cell_type": "code",
   "execution_count": 17,
   "id": "dce6587a-4180-4b4b-a870-9f8d4f330272",
   "metadata": {},
   "outputs": [],
   "source": [
    "arr = np.random.randint(1,100,(3,4))"
   ]
  },
  {
   "cell_type": "code",
   "execution_count": 18,
   "id": "e619e94e-3566-44e4-9f8c-c89eed319de2",
   "metadata": {},
   "outputs": [
    {
     "data": {
      "text/plain": [
       "array([[73, 94, 77, 91],\n",
       "       [43, 68, 57, 25],\n",
       "       [79, 29, 66, 20]])"
      ]
     },
     "execution_count": 18,
     "metadata": {},
     "output_type": "execute_result"
    }
   ],
   "source": [
    "arr"
   ]
  },
  {
   "cell_type": "code",
   "execution_count": 19,
   "id": "efcd8ca1-6bfe-4e61-ac6c-67078e19ed2a",
   "metadata": {},
   "outputs": [
    {
     "data": {
      "text/plain": [
       "array([[1.86332286, 1.97312785, 1.88649073, 1.95904139],\n",
       "       [1.63346846, 1.83250891, 1.75587486, 1.39794001],\n",
       "       [1.89762709, 1.462398  , 1.81954394, 1.30103   ]])"
      ]
     },
     "execution_count": 19,
     "metadata": {},
     "output_type": "execute_result"
    }
   ],
   "source": [
    "np.log10(arr)"
   ]
  },
  {
   "cell_type": "code",
   "execution_count": 20,
   "id": "00717880-cc0d-4e9f-b1ab-f8b808b70f0c",
   "metadata": {},
   "outputs": [
    {
     "data": {
      "text/plain": [
       "array([[5329, 8836, 5929, 8281],\n",
       "       [1849, 4624, 3249,  625],\n",
       "       [6241,  841, 4356,  400]])"
      ]
     },
     "execution_count": 20,
     "metadata": {},
     "output_type": "execute_result"
    }
   ],
   "source": [
    "np.square(arr)"
   ]
  },
  {
   "cell_type": "code",
   "execution_count": 22,
   "id": "9029f1cd-a3ee-46e0-805c-7fcc8df3773e",
   "metadata": {},
   "outputs": [],
   "source": [
    "arr = np.random.randint(1,100,(3,4))"
   ]
  },
  {
   "cell_type": "code",
   "execution_count": 23,
   "id": "233b8302-db6f-4c0d-a42e-e9285a234087",
   "metadata": {},
   "outputs": [
    {
     "data": {
      "text/plain": [
       "array([[52, 39, 23, 52],\n",
       "       [21, 84, 38, 70],\n",
       "       [57, 49, 23,  7]])"
      ]
     },
     "execution_count": 23,
     "metadata": {},
     "output_type": "execute_result"
    }
   ],
   "source": [
    "arr"
   ]
  },
  {
   "cell_type": "code",
   "execution_count": 24,
   "id": "61e47bdf-6f33-4267-90d0-ee700d77c22b",
   "metadata": {},
   "outputs": [
    {
     "data": {
      "text/plain": [
       "array([[52, 21, 57],\n",
       "       [39, 84, 49],\n",
       "       [23, 38, 23],\n",
       "       [52, 70,  7]])"
      ]
     },
     "execution_count": 24,
     "metadata": {},
     "output_type": "execute_result"
    }
   ],
   "source": [
    "arr.T"
   ]
  },
  {
   "cell_type": "code",
   "execution_count": 25,
   "id": "309af2b1-26b9-4b4a-979c-ed83715d4975",
   "metadata": {},
   "outputs": [
    {
     "data": {
      "text/plain": [
       "array([[52, 39, 23, 52],\n",
       "       [21, 84, 38, 70],\n",
       "       [57, 49, 23,  7]])"
      ]
     },
     "execution_count": 25,
     "metadata": {},
     "output_type": "execute_result"
    }
   ],
   "source": [
    "arr"
   ]
  },
  {
   "cell_type": "code",
   "execution_count": 28,
   "id": "63a870fa-ba88-486f-a11d-80d6eaf21606",
   "metadata": {},
   "outputs": [
    {
     "data": {
      "text/plain": [
       "array([[52, 39],\n",
       "       [23, 52],\n",
       "       [21, 84],\n",
       "       [38, 70],\n",
       "       [57, 49],\n",
       "       [23,  7]])"
      ]
     },
     "execution_count": 28,
     "metadata": {},
     "output_type": "execute_result"
    }
   ],
   "source": [
    "arr.reshape(6,2)"
   ]
  },
  {
   "cell_type": "code",
   "execution_count": 29,
   "id": "5e7158fa-09ff-478f-b613-996c5765300c",
   "metadata": {},
   "outputs": [
    {
     "data": {
      "text/plain": [
       "array([[52, 39, 23, 52],\n",
       "       [21, 84, 38, 70],\n",
       "       [57, 49, 23,  7]])"
      ]
     },
     "execution_count": 29,
     "metadata": {},
     "output_type": "execute_result"
    }
   ],
   "source": [
    "arr"
   ]
  },
  {
   "cell_type": "code",
   "execution_count": 31,
   "id": "20448af7-b2f7-4bd0-bc94-f938b584dded",
   "metadata": {},
   "outputs": [],
   "source": [
    "arr  = arr.flatten()"
   ]
  },
  {
   "cell_type": "code",
   "execution_count": 32,
   "id": "10ab8ec8-1ba2-452d-9340-e77069382e34",
   "metadata": {},
   "outputs": [
    {
     "data": {
      "text/plain": [
       "array([52, 39, 23, 52, 21, 84, 38, 70, 57, 49, 23,  7])"
      ]
     },
     "execution_count": 32,
     "metadata": {},
     "output_type": "execute_result"
    }
   ],
   "source": [
    "arr"
   ]
  },
  {
   "cell_type": "code",
   "execution_count": 33,
   "id": "873e1a9f-8368-43a3-90ab-88765034d05e",
   "metadata": {},
   "outputs": [
    {
     "data": {
      "text/plain": [
       "array([[52],\n",
       "       [39],\n",
       "       [23],\n",
       "       [52],\n",
       "       [21],\n",
       "       [84],\n",
       "       [38],\n",
       "       [70],\n",
       "       [57],\n",
       "       [49],\n",
       "       [23],\n",
       "       [ 7]])"
      ]
     },
     "execution_count": 33,
     "metadata": {},
     "output_type": "execute_result"
    }
   ],
   "source": [
    "np.expand_dims(arr,axis = 1)"
   ]
  },
  {
   "cell_type": "code",
   "execution_count": 35,
   "id": "f1e8665c-747a-48e6-8e25-0818ebf7d7b7",
   "metadata": {},
   "outputs": [
    {
     "data": {
      "text/plain": [
       "array([[52, 39, 23, 52, 21, 84, 38, 70, 57, 49, 23,  7]])"
      ]
     },
     "execution_count": 35,
     "metadata": {},
     "output_type": "execute_result"
    }
   ],
   "source": [
    "np.expand_dims(arr,axis = 0)"
   ]
  },
  {
   "cell_type": "code",
   "execution_count": 36,
   "id": "4e83825a-766d-4d29-a2b1-1062d2e760fe",
   "metadata": {},
   "outputs": [],
   "source": [
    "arr1  = np.array([[1],[2],[3]])"
   ]
  },
  {
   "cell_type": "code",
   "execution_count": 37,
   "id": "0cacd726-2fe2-4fe6-99a7-baf2e77ff3e6",
   "metadata": {},
   "outputs": [
    {
     "data": {
      "text/plain": [
       "array([[1],\n",
       "       [2],\n",
       "       [3]])"
      ]
     },
     "execution_count": 37,
     "metadata": {},
     "output_type": "execute_result"
    }
   ],
   "source": [
    "arr1"
   ]
  },
  {
   "cell_type": "code",
   "execution_count": 38,
   "id": "6cdba0c8-a0b6-4558-a042-772447c421e1",
   "metadata": {},
   "outputs": [
    {
     "data": {
      "text/plain": [
       "array([1, 2, 3])"
      ]
     },
     "execution_count": 38,
     "metadata": {},
     "output_type": "execute_result"
    }
   ],
   "source": [
    "arr1.squeeze()"
   ]
  },
  {
   "cell_type": "code",
   "execution_count": 39,
   "id": "d26d57d5-b6f8-47c6-823d-5f65eb002230",
   "metadata": {},
   "outputs": [
    {
     "data": {
      "text/plain": [
       "array([52, 52, 52, 39, 39, 39, 23, 23, 23, 52, 52, 52, 21, 21, 21, 84, 84,\n",
       "       84, 38, 38, 38, 70, 70, 70, 57, 57, 57, 49, 49, 49, 23, 23, 23,  7,\n",
       "        7,  7])"
      ]
     },
     "execution_count": 39,
     "metadata": {},
     "output_type": "execute_result"
    }
   ],
   "source": [
    "np.repeat(arr,3)"
   ]
  },
  {
   "cell_type": "code",
   "execution_count": 40,
   "id": "14fcca41-69c7-4390-965a-08aa1f8846b2",
   "metadata": {},
   "outputs": [
    {
     "data": {
      "text/plain": [
       "array([49, 23,  7, 52, 39, 23, 52, 21, 84, 38, 70, 57])"
      ]
     },
     "execution_count": 40,
     "metadata": {},
     "output_type": "execute_result"
    }
   ],
   "source": [
    "np.roll(arr,3)"
   ]
  },
  {
   "cell_type": "code",
   "execution_count": 41,
   "id": "e094a56a-7532-4293-8790-bcdf2827a387",
   "metadata": {},
   "outputs": [
    {
     "data": {
      "text/plain": [
       "array([[52,  0,  0,  0,  0,  0,  0,  0,  0,  0,  0,  0],\n",
       "       [ 0, 39,  0,  0,  0,  0,  0,  0,  0,  0,  0,  0],\n",
       "       [ 0,  0, 23,  0,  0,  0,  0,  0,  0,  0,  0,  0],\n",
       "       [ 0,  0,  0, 52,  0,  0,  0,  0,  0,  0,  0,  0],\n",
       "       [ 0,  0,  0,  0, 21,  0,  0,  0,  0,  0,  0,  0],\n",
       "       [ 0,  0,  0,  0,  0, 84,  0,  0,  0,  0,  0,  0],\n",
       "       [ 0,  0,  0,  0,  0,  0, 38,  0,  0,  0,  0,  0],\n",
       "       [ 0,  0,  0,  0,  0,  0,  0, 70,  0,  0,  0,  0],\n",
       "       [ 0,  0,  0,  0,  0,  0,  0,  0, 57,  0,  0,  0],\n",
       "       [ 0,  0,  0,  0,  0,  0,  0,  0,  0, 49,  0,  0],\n",
       "       [ 0,  0,  0,  0,  0,  0,  0,  0,  0,  0, 23,  0],\n",
       "       [ 0,  0,  0,  0,  0,  0,  0,  0,  0,  0,  0,  7]])"
      ]
     },
     "execution_count": 41,
     "metadata": {},
     "output_type": "execute_result"
    }
   ],
   "source": [
    "np.diag(arr)"
   ]
  },
  {
   "cell_type": "code",
   "execution_count": 42,
   "id": "1f6fd49e-7fa5-4b62-9935-7d9104fd07ca",
   "metadata": {},
   "outputs": [],
   "source": [
    "arr1 = np.random.randint(1,100,(3,3))"
   ]
  },
  {
   "cell_type": "code",
   "execution_count": 43,
   "id": "2abcba1f-16a5-4c2d-8f81-f167aeb917cd",
   "metadata": {},
   "outputs": [],
   "source": [
    "arr2 = np.random.randint(1,100,(3,3))"
   ]
  },
  {
   "cell_type": "code",
   "execution_count": 44,
   "id": "6666d1d4-3b42-4fa3-a399-a01b60225e20",
   "metadata": {},
   "outputs": [
    {
     "data": {
      "text/plain": [
       "array([[81, 82, 58],\n",
       "       [55, 45, 71],\n",
       "       [22, 69,  7]])"
      ]
     },
     "execution_count": 44,
     "metadata": {},
     "output_type": "execute_result"
    }
   ],
   "source": [
    "arr1"
   ]
  },
  {
   "cell_type": "code",
   "execution_count": 45,
   "id": "5a3986b0-b3b5-4620-930e-a977dc678671",
   "metadata": {},
   "outputs": [
    {
     "data": {
      "text/plain": [
       "array([[32, 59, 38],\n",
       "       [81, 14, 29],\n",
       "       [57, 27, 93]])"
      ]
     },
     "execution_count": 45,
     "metadata": {},
     "output_type": "execute_result"
    }
   ],
   "source": [
    "arr2"
   ]
  },
  {
   "cell_type": "code",
   "execution_count": 46,
   "id": "5e8b0a5c-b0f4-49f9-8f68-8dc43898fc67",
   "metadata": {},
   "outputs": [
    {
     "data": {
      "text/plain": [
       "array([[113, 141,  96],\n",
       "       [136,  59, 100],\n",
       "       [ 79,  96, 100]])"
      ]
     },
     "execution_count": 46,
     "metadata": {},
     "output_type": "execute_result"
    }
   ],
   "source": [
    "arr1+arr2"
   ]
  },
  {
   "cell_type": "code",
   "execution_count": 47,
   "id": "878c356f-375f-4945-a7b5-0df5617a24ca",
   "metadata": {},
   "outputs": [
    {
     "data": {
      "text/plain": [
       "array([[2592, 4838, 2204],\n",
       "       [4455,  630, 2059],\n",
       "       [1254, 1863,  651]])"
      ]
     },
     "execution_count": 47,
     "metadata": {},
     "output_type": "execute_result"
    }
   ],
   "source": [
    "arr1*arr2"
   ]
  },
  {
   "cell_type": "code",
   "execution_count": 48,
   "id": "03a2162d-135b-406b-9d68-f3355b5f817c",
   "metadata": {},
   "outputs": [
    {
     "data": {
      "text/plain": [
       "array([[2.53125   , 1.38983051, 1.52631579],\n",
       "       [0.67901235, 3.21428571, 2.44827586],\n",
       "       [0.38596491, 2.55555556, 0.07526882]])"
      ]
     },
     "execution_count": 48,
     "metadata": {},
     "output_type": "execute_result"
    }
   ],
   "source": [
    "arr1/arr2"
   ]
  },
  {
   "cell_type": "code",
   "execution_count": 49,
   "id": "4450eeb1-0676-413d-b816-6430ae9bef4e",
   "metadata": {},
   "outputs": [
    {
     "data": {
      "text/plain": [
       "array([[17, 23, 20],\n",
       "       [55,  3, 13],\n",
       "       [22, 15,  7]])"
      ]
     },
     "execution_count": 49,
     "metadata": {},
     "output_type": "execute_result"
    }
   ],
   "source": [
    "arr1%arr2"
   ]
  },
  {
   "cell_type": "code",
   "execution_count": 50,
   "id": "b01aafa8-1bf8-46e7-a159-69da1ba07934",
   "metadata": {},
   "outputs": [
    {
     "name": "stderr",
     "output_type": "stream",
     "text": [
      "/tmp/ipykernel_6347/1510032488.py:1: RuntimeWarning: divide by zero encountered in divide\n",
      "  arr1/0\n"
     ]
    },
    {
     "data": {
      "text/plain": [
       "array([[inf, inf, inf],\n",
       "       [inf, inf, inf],\n",
       "       [inf, inf, inf]])"
      ]
     },
     "execution_count": 50,
     "metadata": {},
     "output_type": "execute_result"
    }
   ],
   "source": [
    "arr1/0"
   ]
  },
  {
   "cell_type": "code",
   "execution_count": 51,
   "id": "ba07a125-75f2-4eca-9268-e55901cec6a5",
   "metadata": {},
   "outputs": [
    {
     "data": {
      "text/plain": [
       "array([[ 0, 18, 34],\n",
       "       [17, 12,  5],\n",
       "       [16,  1,  5]])"
      ]
     },
     "execution_count": 51,
     "metadata": {},
     "output_type": "execute_result"
    }
   ],
   "source": [
    "arr1&arr2"
   ]
  },
  {
   "cell_type": "code",
   "execution_count": 52,
   "id": "b2ced048-0d4a-4578-8171-251fd755a107",
   "metadata": {},
   "outputs": [
    {
     "data": {
      "text/plain": [
       "array([[113, 123,  62],\n",
       "       [119,  47,  95],\n",
       "       [ 63,  95,  95]])"
      ]
     },
     "execution_count": 52,
     "metadata": {},
     "output_type": "execute_result"
    }
   ],
   "source": [
    "arr1|arr2"
   ]
  },
  {
   "cell_type": "code",
   "execution_count": 53,
   "id": "26de0ef8-eb52-4c5e-8bb2-15b33ba0feb4",
   "metadata": {},
   "outputs": [
    {
     "data": {
      "text/plain": [
       "array([[-82, -83, -59],\n",
       "       [-56, -46, -72],\n",
       "       [-23, -70,  -8]])"
      ]
     },
     "execution_count": 53,
     "metadata": {},
     "output_type": "execute_result"
    }
   ],
   "source": [
    "~arr1"
   ]
  },
  {
   "cell_type": "code",
   "execution_count": 54,
   "id": "f0d6eb9e-d1e6-4b10-9dea-f1f4b2bd76db",
   "metadata": {},
   "outputs": [
    {
     "data": {
      "text/plain": [
       "array([[ True,  True,  True],\n",
       "       [False,  True,  True],\n",
       "       [False,  True, False]])"
      ]
     },
     "execution_count": 54,
     "metadata": {},
     "output_type": "execute_result"
    }
   ],
   "source": [
    "arr1>arr2"
   ]
  },
  {
   "cell_type": "code",
   "execution_count": 55,
   "id": "22406847-bcde-48ef-ab59-ff80398a196c",
   "metadata": {},
   "outputs": [
    {
     "data": {
      "text/plain": [
       "array([81, 82, 58, 45, 71, 69])"
      ]
     },
     "execution_count": 55,
     "metadata": {},
     "output_type": "execute_result"
    }
   ],
   "source": [
    "arr1[arr1>arr2]"
   ]
  },
  {
   "cell_type": "code",
   "execution_count": 56,
   "id": "97cfe436-9a1b-47db-8585-d4c4d59adfa6",
   "metadata": {},
   "outputs": [],
   "source": [
    "arr = np.array(['arjun','manjeet','kalu'])"
   ]
  },
  {
   "cell_type": "code",
   "execution_count": 57,
   "id": "5ab8d075-2b2c-4fec-9185-e75d9e0a949f",
   "metadata": {},
   "outputs": [
    {
     "data": {
      "text/plain": [
       "array(['ARJUN', 'MANJEET', 'KALU'], dtype='<U7')"
      ]
     },
     "execution_count": 57,
     "metadata": {},
     "output_type": "execute_result"
    }
   ],
   "source": [
    "np.char.upper(arr)"
   ]
  },
  {
   "cell_type": "code",
   "execution_count": 59,
   "id": "81119799-656e-45c9-8f64-f7908f08691d",
   "metadata": {},
   "outputs": [
    {
     "data": {
      "text/plain": [
       "array(list(['arjun']), dtype=object)"
      ]
     },
     "execution_count": 59,
     "metadata": {},
     "output_type": "execute_result"
    }
   ],
   "source": [
    "np.char.split(arr[0])"
   ]
  },
  {
   "cell_type": "code",
   "execution_count": 63,
   "id": "4139a346-35a3-4a5d-b7f9-ac032347eca3",
   "metadata": {},
   "outputs": [
    {
     "data": {
      "text/plain": [
       "array([[6561, 6724, 3364],\n",
       "       [3025, 2025, 5041],\n",
       "       [ 484, 4761,   49]])"
      ]
     },
     "execution_count": 63,
     "metadata": {},
     "output_type": "execute_result"
    }
   ],
   "source": [
    "np.power(arr1,2)"
   ]
  },
  {
   "cell_type": "code",
   "execution_count": 65,
   "id": "8f1e8b61-b7a6-416f-be2a-8f57188fac5c",
   "metadata": {},
   "outputs": [
    {
     "data": {
      "text/plain": [
       "54.44444444444444"
      ]
     },
     "execution_count": 65,
     "metadata": {},
     "output_type": "execute_result"
    }
   ],
   "source": [
    "np.mean(arr1)"
   ]
  },
  {
   "cell_type": "code",
   "execution_count": 66,
   "id": "30e3a581-ad18-4196-9a26-dc0e83c73142",
   "metadata": {},
   "outputs": [
    {
     "data": {
      "text/plain": [
       "58.0"
      ]
     },
     "execution_count": 66,
     "metadata": {},
     "output_type": "execute_result"
    }
   ],
   "source": [
    "np.median(arr1)"
   ]
  },
  {
   "cell_type": "code",
   "execution_count": 67,
   "id": "2366f68b-69a0-4ade-88cd-bd57a174cec4",
   "metadata": {},
   "outputs": [
    {
     "data": {
      "text/plain": [
       "82"
      ]
     },
     "execution_count": 67,
     "metadata": {},
     "output_type": "execute_result"
    }
   ],
   "source": [
    "np.max(arr1)"
   ]
  },
  {
   "cell_type": "code",
   "execution_count": 68,
   "id": "8e91d2e4-ce17-4869-81db-76728c5b4583",
   "metadata": {},
   "outputs": [
    {
     "data": {
      "text/plain": [
       "7"
      ]
     },
     "execution_count": 68,
     "metadata": {},
     "output_type": "execute_result"
    }
   ],
   "source": [
    "np.min(arr1)"
   ]
  },
  {
   "cell_type": "code",
   "execution_count": 69,
   "id": "290b1b06-b91f-4e30-b2cb-ac817d4f59bd",
   "metadata": {},
   "outputs": [
    {
     "data": {
      "text/plain": [
       "array([[6561, 6724, 3364],\n",
       "       [3025, 2025, 5041],\n",
       "       [ 484, 4761,   49]])"
      ]
     },
     "execution_count": 69,
     "metadata": {},
     "output_type": "execute_result"
    }
   ],
   "source": [
    "np.square(arr1)"
   ]
  },
  {
   "cell_type": "code",
   "execution_count": 70,
   "id": "b4375b5a-e502-4c80-91f2-f6abaefc9b91",
   "metadata": {},
   "outputs": [],
   "source": [
    "#sort"
   ]
  },
  {
   "cell_type": "code",
   "execution_count": 71,
   "id": "1dd7b495-ed63-4264-9411-94b8ec8a30e4",
   "metadata": {},
   "outputs": [],
   "source": [
    "arr = np.array([1,43,56,23,54,3,767,89,6,78,56,87,9])"
   ]
  },
  {
   "cell_type": "code",
   "execution_count": 73,
   "id": "8dfdc7ed-0583-4b04-b211-52c728ac3c2b",
   "metadata": {},
   "outputs": [
    {
     "data": {
      "text/plain": [
       "array([  1,  43,  56,  23,  54,   3, 767,  89,   6,  78,  56,  87,   9])"
      ]
     },
     "execution_count": 73,
     "metadata": {},
     "output_type": "execute_result"
    }
   ],
   "source": [
    "arr"
   ]
  },
  {
   "cell_type": "code",
   "execution_count": 74,
   "id": "36427b6f-1bc9-4d51-a271-9930523d536e",
   "metadata": {},
   "outputs": [
    {
     "data": {
      "text/plain": [
       "array([  1,   3,   6,   9,  23,  43,  54,  56,  56,  78,  87,  89, 767])"
      ]
     },
     "execution_count": 74,
     "metadata": {},
     "output_type": "execute_result"
    }
   ],
   "source": [
    "np.sort(arr)"
   ]
  },
  {
   "cell_type": "code",
   "execution_count": null,
   "id": "86084bfd-5afb-4c64-85de-3d0389b52374",
   "metadata": {},
   "outputs": [],
   "source": [
    "np.searchsorted(arr,2)"
   ]
  },
  {
   "cell_type": "code",
   "execution_count": null,
   "id": "5ca9100a-f90d-401c-9021-c14b349574cf",
   "metadata": {},
   "outputs": [],
   "source": []
  }
 ],
 "metadata": {
  "kernelspec": {
   "display_name": "Python 3 (ipykernel)",
   "language": "python",
   "name": "python3"
  },
  "language_info": {
   "codemirror_mode": {
    "name": "ipython",
    "version": 3
   },
   "file_extension": ".py",
   "mimetype": "text/x-python",
   "name": "python",
   "nbconvert_exporter": "python",
   "pygments_lexer": "ipython3",
   "version": "3.10.8"
  }
 },
 "nbformat": 4,
 "nbformat_minor": 5
}
