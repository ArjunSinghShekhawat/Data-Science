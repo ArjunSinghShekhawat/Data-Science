{
 "cells": [
  {
   "cell_type": "markdown",
   "id": "a91d93b0-2d3d-42e4-9da6-a32126949b85",
   "metadata": {},
   "source": [
    "If Else"
   ]
  },
  {
   "cell_type": "markdown",
   "id": "07210f92-b54d-441b-9025-a034cd84903d",
   "metadata": {},
   "source": [
    "Q1.You are adult or Not"
   ]
  },
  {
   "cell_type": "code",
   "execution_count": 1,
   "id": "cb49d0bb-793f-4946-97d3-995712c67c97",
   "metadata": {},
   "outputs": [
    {
     "name": "stdin",
     "output_type": "stream",
     "text": [
      "Enter age  12\n"
     ]
    },
    {
     "name": "stdout",
     "output_type": "stream",
     "text": [
      "You are not adult\n"
     ]
    }
   ],
   "source": [
    "age = int(input(\"Enter age \"))\n",
    "if age>=18:\n",
    "    print(\"You are adult\")\n",
    "else :\n",
    "    print(\"You are not adult\")"
   ]
  },
  {
   "cell_type": "code",
   "execution_count": 2,
   "id": "26c75fbd-fa00-4626-a27e-caea109bade9",
   "metadata": {},
   "outputs": [
    {
     "name": "stdin",
     "output_type": "stream",
     "text": [
      "Enter age  32\n"
     ]
    },
    {
     "name": "stdout",
     "output_type": "stream",
     "text": [
      "You are adult\n"
     ]
    }
   ],
   "source": [
    "age = int(input(\"Enter age \"))\n",
    "if age>=18:\n",
    "    print(\"You are adult\")\n",
    "else :\n",
    "    print(\"You are not adult\")"
   ]
  },
  {
   "cell_type": "markdown",
   "id": "fb00ce85-945e-4249-b734-fb9cd44b29f9",
   "metadata": {},
   "source": [
    "Q2.Even or Odd"
   ]
  },
  {
   "cell_type": "code",
   "execution_count": 1,
   "id": "ac98187d-366d-44e5-b2b0-aeb29fac236c",
   "metadata": {},
   "outputs": [
    {
     "name": "stdin",
     "output_type": "stream",
     "text": [
      "Enter the number 21\n"
     ]
    },
    {
     "name": "stdout",
     "output_type": "stream",
     "text": [
      "Odd\n"
     ]
    }
   ],
   "source": [
    "num = int(input(\"Enter the number\"))\n",
    "if num&1:\n",
    "    print(\"Odd\")\n",
    "else:\n",
    "    print(\"Even\")"
   ]
  },
  {
   "cell_type": "code",
   "execution_count": 2,
   "id": "03b9b00e-9408-4b8d-9a3e-1bd8014bcc74",
   "metadata": {},
   "outputs": [
    {
     "name": "stdin",
     "output_type": "stream",
     "text": [
      "Enter the number 22\n"
     ]
    },
    {
     "name": "stdout",
     "output_type": "stream",
     "text": [
      "Even\n"
     ]
    }
   ],
   "source": [
    "num = int(input(\"Enter the number\"))\n",
    "if num&1:\n",
    "    print(\"Odd\")\n",
    "else:\n",
    "    print(\"Even\")"
   ]
  },
  {
   "cell_type": "markdown",
   "id": "8c091048-1d47-4ba1-8133-b966e7f337d7",
   "metadata": {},
   "source": [
    "Q3. Grade "
   ]
  },
  {
   "cell_type": "code",
   "execution_count": 3,
   "id": "9f08e1ff-096f-4294-857d-0bc4c6bd6b84",
   "metadata": {},
   "outputs": [
    {
     "name": "stdin",
     "output_type": "stream",
     "text": [
      "Enter Marks 45\n"
     ]
    },
    {
     "name": "stdout",
     "output_type": "stream",
     "text": [
      "Grade E\n"
     ]
    }
   ],
   "source": [
    "marks = int(input(\"Enter Marks\"))\n",
    "\n",
    "if marks>=90 and marks<=100:\n",
    "    print(\"Grade A++\")\n",
    "elif marks>=80 and marks<90:\n",
    "    print(\"Grade A\")\n",
    "elif marks>=70 and marks<80:\n",
    "    print(\"Grade B\")\n",
    "elif marks>=60 and marks<70:\n",
    "    print(\"Grade C\")\n",
    "elif marks>=50 and marks<60:\n",
    "    print(\"Grade D\")\n",
    "elif marks>=36 and marks<50:\n",
    "    print(\"Grade E\")\n",
    "else:\n",
    "    print(\"fail\")\n",
    "    "
   ]
  },
  {
   "cell_type": "code",
   "execution_count": 1,
   "id": "2d772625-54a4-4cd5-a940-c91bfc7a4b7f",
   "metadata": {},
   "outputs": [
    {
     "name": "stdin",
     "output_type": "stream",
     "text": [
      "Enter Marks 21\n"
     ]
    },
    {
     "name": "stdout",
     "output_type": "stream",
     "text": [
      "fail\n"
     ]
    }
   ],
   "source": [
    "marks = int(input(\"Enter Marks\"))\n",
    "\n",
    "if marks>=90 and marks<=100:\n",
    "    print(\"Grade A++\")\n",
    "elif marks>=80 and marks<90:\n",
    "    print(\"Grade A\")\n",
    "elif marks>=70 and marks<80:\n",
    "    print(\"Grade B\")\n",
    "elif marks>=60 and marks<70:\n",
    "    print(\"Grade C\")\n",
    "elif marks>=50 and marks<60:\n",
    "    print(\"Grade D\")\n",
    "elif marks>=36 and marks<50:\n",
    "    print(\"Grade E\")\n",
    "else:\n",
    "    print(\"fail\")\n",
    "    "
   ]
  },
  {
   "cell_type": "markdown",
   "id": "3170a677-ec3e-4e3c-bc3b-68fda7a828b4",
   "metadata": {},
   "source": [
    "Loop"
   ]
  },
  {
   "cell_type": "markdown",
   "id": "36050310-c872-4194-a2eb-c576efaae0be",
   "metadata": {},
   "source": [
    "Counting Print"
   ]
  },
  {
   "cell_type": "code",
   "execution_count": 2,
   "id": "61a9f45a-59a8-432f-af1f-f39213831832",
   "metadata": {},
   "outputs": [
    {
     "name": "stdin",
     "output_type": "stream",
     "text": [
      "Enter the number  12\n"
     ]
    },
    {
     "name": "stdout",
     "output_type": "stream",
     "text": [
      "0\n",
      "1\n",
      "2\n",
      "3\n",
      "4\n",
      "5\n",
      "6\n",
      "7\n",
      "8\n",
      "9\n",
      "10\n",
      "11\n"
     ]
    }
   ],
   "source": [
    "num = int(input(\"Enter the number \"))\n",
    "i = 0\n",
    "\n",
    "while i<num:\n",
    "    print(i)\n",
    "    i = i+1"
   ]
  },
  {
   "cell_type": "markdown",
   "id": "e0c29e4b-d45c-46ed-8035-878232ab5870",
   "metadata": {},
   "source": [
    "Table"
   ]
  },
  {
   "cell_type": "code",
   "execution_count": 4,
   "id": "edc79ab6-fc97-4c95-9a52-c71bbe33faf7",
   "metadata": {},
   "outputs": [
    {
     "name": "stdin",
     "output_type": "stream",
     "text": [
      "Enter Number For print Table 2\n"
     ]
    },
    {
     "name": "stdout",
     "output_type": "stream",
     "text": [
      "2\n",
      "4\n",
      "6\n",
      "8\n",
      "10\n",
      "12\n",
      "14\n",
      "16\n",
      "18\n",
      "20\n"
     ]
    }
   ],
   "source": [
    "num = int(input(\"Enter Number For print Table\"))\n",
    "i = 1\n",
    "\n",
    "while i<=10:\n",
    "    print(num*i)\n",
    "    i = i+1"
   ]
  },
  {
   "cell_type": "code",
   "execution_count": 5,
   "id": "e80c8ef1-74cf-4b58-9a04-721f780c487c",
   "metadata": {},
   "outputs": [
    {
     "name": "stdin",
     "output_type": "stream",
     "text": [
      "Enter Number For print Table 4\n"
     ]
    },
    {
     "name": "stdout",
     "output_type": "stream",
     "text": [
      "4\n",
      "8\n",
      "12\n",
      "16\n",
      "20\n",
      "24\n",
      "28\n",
      "32\n",
      "36\n",
      "40\n"
     ]
    }
   ],
   "source": [
    "num = int(input(\"Enter Number For print Table\"))\n",
    "i = 1\n",
    "\n",
    "while i<=10:\n",
    "    print(num*i)\n",
    "    i = i+1"
   ]
  },
  {
   "cell_type": "markdown",
   "id": "bed994a8-ec36-4101-8453-53b06ebd5c0b",
   "metadata": {},
   "source": [
    "Name Print"
   ]
  },
  {
   "cell_type": "code",
   "execution_count": 1,
   "id": "63c89d76-68c7-4e78-8d8a-5205ac3d8962",
   "metadata": {},
   "outputs": [
    {
     "name": "stdout",
     "output_type": "stream",
     "text": [
      "Love babber\n",
      "Love babber\n",
      "Love babber\n",
      "Love babber\n",
      "Love babber\n"
     ]
    }
   ],
   "source": [
    "i=1\n",
    "\n",
    "while i<=5:\n",
    "    print(\"Love babber\")\n",
    "    i = i+1"
   ]
  },
  {
   "cell_type": "markdown",
   "id": "961b101c-3ebf-480c-aa8e-893f51d35570",
   "metadata": {},
   "source": [
    "break"
   ]
  },
  {
   "cell_type": "markdown",
   "id": "fdc1544c-d892-4dfd-9235-5f8886fe886b",
   "metadata": {},
   "source": [
    "Continue"
   ]
  },
  {
   "cell_type": "code",
   "execution_count": null,
   "id": "f67c0410-cf17-4e52-a9bb-9fb2a40fbcc1",
   "metadata": {},
   "outputs": [],
   "source": []
  }
 ],
 "metadata": {
  "kernelspec": {
   "display_name": "Python 3 (ipykernel)",
   "language": "python",
   "name": "python3"
  },
  "language_info": {
   "codemirror_mode": {
    "name": "ipython",
    "version": 3
   },
   "file_extension": ".py",
   "mimetype": "text/x-python",
   "name": "python",
   "nbconvert_exporter": "python",
   "pygments_lexer": "ipython3",
   "version": "3.10.8"
  }
 },
 "nbformat": 4,
 "nbformat_minor": 5
}
