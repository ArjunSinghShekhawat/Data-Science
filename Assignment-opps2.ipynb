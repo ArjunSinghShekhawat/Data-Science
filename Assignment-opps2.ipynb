{
 "cells": [
  {
   "cell_type": "markdown",
   "id": "a9d688c1-3fdb-444f-9666-88e2e40a88cf",
   "metadata": {},
   "source": [
    "Q1. What is Abstraction in OOps? Explain with an example."
   ]
  },
  {
   "cell_type": "markdown",
   "id": "f72ff3c9-fbf1-4c98-96e1-67f34f226b4e",
   "metadata": {},
   "source": [
    "Ans. Abstraction in oops means create a template of any project and show the essential feature to user this concept is called abstraction."
   ]
  },
  {
   "cell_type": "code",
   "execution_count": 3,
   "id": "29b6c274-381f-4219-9d5a-136d4e1e5d7d",
   "metadata": {},
   "outputs": [
    {
     "name": "stdout",
     "output_type": "stream",
     "text": [
      "25 assignments is available :\n",
      "45 assignments is available :\n",
      "your score is 250\n",
      "your score is 350\n"
     ]
    }
   ],
   "source": [
    "import abc\n",
    "class pwskill:\n",
    "    @abc.abstractmethod\n",
    "    def assignment(self):\n",
    "        pass\n",
    "    @abc.abstractmethod\n",
    "    def score(self):\n",
    "        pass\n",
    "    \n",
    "class dev1(pwskill):\n",
    "    def assignment(self):\n",
    "        print(\"25 assignments is available :\")\n",
    "    def score(self):\n",
    "        print(\"your score is 250\")\n",
    "        \n",
    "class dev2(pwskill):\n",
    "    def assignment(self):\n",
    "        print(\"45 assignments is available :\")\n",
    "    def score(self):\n",
    "        print(\"your score is 350\")\n",
    "dev1 = dev1()\n",
    "dev2 = dev2()\n",
    "\n",
    "dev1.assignment()\n",
    "dev2.assignment()\n",
    "dev1.score()\n",
    "dev2.score()\n",
    "    "
   ]
  },
  {
   "cell_type": "code",
   "execution_count": null,
   "id": "bd46c6be-fb3a-4087-af7d-d8d4d888e310",
   "metadata": {},
   "outputs": [],
   "source": []
  },
  {
   "cell_type": "markdown",
   "id": "a0556bd2-a892-4a72-b7e0-7f260abce619",
   "metadata": {},
   "source": [
    "Q2. Differentiate between Abstraction and Encapsulation. Explain with an example."
   ]
  },
  {
   "cell_type": "markdown",
   "id": "8240a36a-501c-4bbe-ab3a-85af291e2704",
   "metadata": {},
   "source": [
    "Ans. Abstraction in oops means create a template of any project and show the essential feature to user this concept is called abstraction.\n",
    "\n",
    "Encapsutation - Encapsulation means hide the variable to other user is not access is called encapsulation.\n",
    "\n",
    "Abstraction ->\n",
    "amazon.com more feature are available but any user does not access all feature because amazon.com company used abstraction and shoe essential feature to user.\n",
    "\n",
    "Encapsulation -> Banking application used encapsulation more.Any user balance is private so that used encapsulation."
   ]
  },
  {
   "cell_type": "code",
   "execution_count": null,
   "id": "01f49166-680f-4609-832f-bacc4535fc51",
   "metadata": {},
   "outputs": [],
   "source": []
  },
  {
   "cell_type": "markdown",
   "id": "b9a96a01-68bc-404a-b7a9-01cb6d6848a6",
   "metadata": {},
   "source": [
    "Q3. What is abc module in python? Why is it used?"
   ]
  },
  {
   "cell_type": "markdown",
   "id": "39372cd2-a036-4079-ace3-8f87d969f394",
   "metadata": {},
   "source": [
    "abc module in python used to achieve abstraction concept."
   ]
  },
  {
   "cell_type": "code",
   "execution_count": null,
   "id": "3d937430-5843-441e-aae0-303755a917be",
   "metadata": {},
   "outputs": [],
   "source": []
  },
  {
   "cell_type": "markdown",
   "id": "d75bcfd6-0441-4a2d-a283-52cd729fb9bc",
   "metadata": {},
   "source": [
    "Q4. How can we achieve data abstraction?"
   ]
  },
  {
   "cell_type": "markdown",
   "id": "211c36a9-9f00-47a6-868c-886eacee7b29",
   "metadata": {},
   "source": [
    "Ans: using abc module and abstractionmethod function achieve abstraction in python."
   ]
  },
  {
   "cell_type": "code",
   "execution_count": null,
   "id": "a1f9457e-28ad-4c94-9280-377615e9143b",
   "metadata": {},
   "outputs": [],
   "source": []
  },
  {
   "cell_type": "markdown",
   "id": "58286f50-c532-41ae-abf3-cec4b82e6de9",
   "metadata": {},
   "source": [
    "Q5. Can we create an instance of an abstract class? Explain your answer."
   ]
  },
  {
   "cell_type": "markdown",
   "id": "2b0bd500-36d0-4cd8-8be7-de7695465602",
   "metadata": {},
   "source": [
    "ans. No abstract class will be not create instance."
   ]
  },
  {
   "cell_type": "code",
   "execution_count": null,
   "id": "cd829141-6165-43da-861b-3ac90d7343ee",
   "metadata": {},
   "outputs": [],
   "source": []
  }
 ],
 "metadata": {
  "kernelspec": {
   "display_name": "Python 3 (ipykernel)",
   "language": "python",
   "name": "python3"
  },
  "language_info": {
   "codemirror_mode": {
    "name": "ipython",
    "version": 3
   },
   "file_extension": ".py",
   "mimetype": "text/x-python",
   "name": "python",
   "nbconvert_exporter": "python",
   "pygments_lexer": "ipython3",
   "version": "3.10.8"
  }
 },
 "nbformat": 4,
 "nbformat_minor": 5
}
