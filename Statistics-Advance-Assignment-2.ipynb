{
 "cells": [
  {
   "cell_type": "code",
   "execution_count": null,
   "id": "0b46eb0b-b6ad-4adb-98be-d1fda10090b5",
   "metadata": {},
   "outputs": [],
   "source": [
    "\"\"\"\n",
    "Q1: What are the Probability Mass Function (PMF) and Probability Density Function (PDF)? Explain with\n",
    "an example.\n",
    "Q2: What is Cumulative Density Function (CDF)? Explain with an example. Why CDF is used?\n",
    "Q3: What are some examples of situations where the normal distribution might be used as a model?\n",
    "Explain how the parameters of the normal distribution relate to the shape of the distribution.\n",
    "Q4: Explain the importance of Normal Distribution. Give a few real-life examples of Normal\n",
    "Distribution.\n",
    "Q5: What is Bernaulli Distribution? Give an Example. What is the difference between Bernoulli\n",
    "Distribution and Binomial Distribution?\n",
    "Q6. Consider a dataset with a mean of 50 and a standard deviation of 10. If we assume that the dataset\n",
    "is normally distributed, what is the probability that a randomly selected observation will be greater\n",
    "than 60? Use the appropriate formula and show your calculations.\n",
    "Q7: Explain uniform Distribution with an example.\n",
    "Q8: What is the z score? State the importance of the z score.\n",
    "Q9: What is Central Limit Theorem? State the significance of the Central Limit Theorem.\n",
    "Q10: State the assumptions of the Central Limit Theorem.\n",
    "\"\"\""
   ]
  },
  {
   "cell_type": "markdown",
   "id": "79e05965-08ce-4071-a13c-ad86d598ade1",
   "metadata": {},
   "source": [
    "Q1: The Probability Mass Function (PMF) is used for discrete random variables, providing the probability of each possible outcome. The Probability Density Function (PDF) is for continuous random variables, offering the probability density at a specific point. For example, a PMF would describe the probabilities of rolling a 1, 2, 3, etc., on a fair six-sided die, while a PDF would describe the likelihood of obtaining a specific height in a population, assuming height is normally distributed.\n",
    "\n",
    "Q2: The Cumulative Density Function (CDF) gives the cumulative probability that a random variable is less than or equal to a specific value. CDF is used to find probabilities and percentiles. For example, in a normal distribution, the CDF can tell you the probability that a randomly selected value is less than a certain threshold. It's essential for understanding the distribution's cumulative behavior.\n",
    "\n",
    "Q3: The normal distribution is used as a model in situations where data naturally cluster around a central value with a symmetrical and bell-shaped curve. Examples include human height, IQ scores, and errors in measurements. The parameters, mean (μ) and standard deviation (σ), determine the center and spread of the distribution. A higher μ shifts the distribution right, while a higher σ widens it.\n",
    "\n",
    "Q4: The normal distribution is vital because it describes a wide range of natural phenomena, simplifies statistical analysis, and underpins many statistical methods. Real-life examples include the distribution of heights in a population, IQ scores, and errors in scientific measurements. It's crucial for hypothesis testing, quality control, and making predictions.\n",
    "\n",
    "Q5: The Bernoulli Distribution models a binary outcome with two possible values, typically labeled as 0 and 1 (success or failure). For example, it can represent the outcome of a single coin flip, where 1 is heads (success) and 0 is tails (failure). The key difference from the Binomial Distribution is that Bernoulli deals with a single trial, while Binomial deals with multiple independent trials.\n",
    "\n",
    "Q6: To find the probability of a normally distributed observation being greater than 60 with a mean (μ) of 50 and a standard deviation (σ) of 10, you can use the z-score formula: Z = (X - μ) / σ. Z = (60 - 50) / 10 = 1. Plug this z-score into a z-table or calculator to find the probability. In this case, P(Z > 1) is about 0.1587, which means there's a 15.87% chance that a randomly selected observation will be greater than 60.\n",
    "\n",
    "Q7: A Uniform Distribution has constant probability across an interval. For example, when rolling a fair six-sided die, each number (1, 2, 3, 4, 5, 6) has an equal chance of 1/6. It's used when all outcomes are equally likely.\n",
    "\n",
    "Q8: The z-score measures how many standard deviations a data point is from the mean. It's important for standardizing and comparing data across different normal distributions. A z-score of 1, for instance, means a data point is 1 standard deviation above the mean.\n",
    "\n",
    "Q9: The Central Limit Theorem (CLT) states that the distribution of the sample means of large, independent, random samples from any population approaches a normal distribution. This allows for the use of normal distribution-based statistical methods in various applications, even when the original data isn't normally distributed.\n",
    "\n",
    "Q10: CLT assumptions:\n",
    "Random Sampling: Samples are selected randomly and independently.\n",
    "Sample Size: Samples should be sufficiently large (typically n > 30) for the CLT to apply.\n",
    "Independence: Samples should be drawn without replacement or with replacement if the population is large relative to the sample size."
   ]
  }
 ],
 "metadata": {
  "kernelspec": {
   "display_name": "Python 3 (ipykernel)",
   "language": "python",
   "name": "python3"
  },
  "language_info": {
   "codemirror_mode": {
    "name": "ipython",
    "version": 3
   },
   "file_extension": ".py",
   "mimetype": "text/x-python",
   "name": "python",
   "nbconvert_exporter": "python",
   "pygments_lexer": "ipython3",
   "version": "3.10.8"
  }
 },
 "nbformat": 4,
 "nbformat_minor": 5
}
