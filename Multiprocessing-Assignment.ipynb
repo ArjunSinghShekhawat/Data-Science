{
 "cells": [
  {
   "cell_type": "markdown",
   "id": "a2af66a4-64d7-4b2a-bf63-23a1127e4f6a",
   "metadata": {},
   "source": [
    "Q1. What is multiprocessing in python? Why is it useful?"
   ]
  },
  {
   "cell_type": "markdown",
   "id": "bf18fc5b-147f-4a8e-b428-e2d915fab8f9",
   "metadata": {},
   "source": [
    "ans.\n",
    "Multiprocessing in Python is a technique to create and manage multiple processes, enabling parallel execution, improving performance, and utilizing multicore CPUs"
   ]
  },
  {
   "cell_type": "code",
   "execution_count": null,
   "id": "eef23e10-9e0b-4fed-8835-3ecc3d5ab116",
   "metadata": {},
   "outputs": [],
   "source": []
  },
  {
   "cell_type": "markdown",
   "id": "2781236b-14a4-4d00-b8d2-620bcd5fd2ce",
   "metadata": {},
   "source": [
    "Q2. What are the differences between multiprocessing and multithreading?"
   ]
  },
  {
   "cell_type": "markdown",
   "id": "f14b66ba-ed13-48aa-8316-89143a029266",
   "metadata": {},
   "source": [
    "ans.Multiprocessing uses multiple processes, separate memory spaces, and is suitable for CPU-bound tasks. Multithreading uses threads, shared memory, and suits I/O-bound tasks."
   ]
  },
  {
   "cell_type": "code",
   "execution_count": null,
   "id": "6a6a2e2b-7ae5-4c02-9d97-72e7c817d0fa",
   "metadata": {},
   "outputs": [],
   "source": []
  },
  {
   "cell_type": "markdown",
   "id": "06813a75-8e9d-439a-88fa-fbedeb9ac6ba",
   "metadata": {},
   "source": [
    "Q3. Write a python code to create a process using the multiprocessing module."
   ]
  },
  {
   "cell_type": "code",
   "execution_count": 3,
   "id": "62831a3b-d475-4872-a3c9-d96f48907f14",
   "metadata": {},
   "outputs": [
    {
     "name": "stdout",
     "output_type": "stream",
     "text": [
      "Worker process is executing.\n",
      "Main process is done.\n"
     ]
    }
   ],
   "source": [
    "import multiprocessing\n",
    "\n",
    "# Function to be executed in the new process\n",
    "def worker_function():\n",
    "    print(\"Worker process is executing.\")\n",
    "\n",
    "if __name__ == \"__main__\":\n",
    "    # Create a new process\n",
    "    new_process = multiprocessing.Process(target=worker_function)\n",
    "\n",
    "    # Start the process\n",
    "    new_process.start()\n",
    "\n",
    "    # Wait for the process to finish\n",
    "    new_process.join()\n",
    "\n",
    "    print(\"Main process is done.\")\n"
   ]
  },
  {
   "cell_type": "code",
   "execution_count": null,
   "id": "6bd533ce-857b-4345-a0a7-49a69e5405ce",
   "metadata": {},
   "outputs": [],
   "source": []
  },
  {
   "cell_type": "markdown",
   "id": "a1973542-5556-4466-8189-680755e92588",
   "metadata": {},
   "source": [
    "Q4. What is a multiprocessing pool in python? Why is it used?"
   ]
  },
  {
   "cell_type": "markdown",
   "id": "61eebfdd-c396-40d2-b5a0-0d1d6caf746b",
   "metadata": {},
   "source": [
    "A multiprocessing pool in Python, provided by the `multiprocessing` module, is a pool of worker processes used for parallel execution of functions, particularly useful for CPU-bound tasks, to enhance performance."
   ]
  },
  {
   "cell_type": "code",
   "execution_count": null,
   "id": "48c361f6-c55a-4956-bf62-710cdaa06973",
   "metadata": {},
   "outputs": [],
   "source": []
  },
  {
   "cell_type": "markdown",
   "id": "b838a2bf-8b71-4625-88a7-fbdc373ba90d",
   "metadata": {},
   "source": [
    "Q5. How can we create a pool of worker processes in python using the multiprocessing module?"
   ]
  },
  {
   "cell_type": "code",
   "execution_count": 4,
   "id": "0839d977-bc77-45aa-8ed3-289add564333",
   "metadata": {},
   "outputs": [
    {
     "name": "stdout",
     "output_type": "stream",
     "text": [
      "Results: [1, 4, 9, 16, 25]\n"
     ]
    }
   ],
   "source": [
    "import multiprocessing\n",
    "\n",
    "# Function to be executed by worker processes\n",
    "def worker_function(x):\n",
    "    return x * x\n",
    "\n",
    "if __name__ == \"__main__\":\n",
    "    # Create a Pool with a specified number of worker processes \n",
    "    pool = multiprocessing.Pool(processes=4)\n",
    "\n",
    "    # Define a list of inputs for the worker function\n",
    "    inputs = [1, 2, 3, 4, 5]\n",
    "\n",
    "    # Use the pool to parallelize the execution of the worker function\n",
    "    results = pool.map(worker_function, inputs)\n",
    "\n",
    "    # Close the pool to prevent further tasks from being submitted\n",
    "    pool.close()\n",
    "\n",
    "    # Wait for all worker processes to complete\n",
    "    pool.join()\n",
    "\n",
    "    # Print the results\n",
    "    print(\"Results:\", results)\n"
   ]
  },
  {
   "cell_type": "code",
   "execution_count": null,
   "id": "d645b58d-2aad-4de2-b234-9560f3e10533",
   "metadata": {},
   "outputs": [],
   "source": []
  },
  {
   "cell_type": "markdown",
   "id": "5dcf058d-299d-4ea5-a8eb-b25a13799d20",
   "metadata": {},
   "source": [
    "Q6. Write a python program to create 4 processes, each process should print a different number using the\n",
    "multiprocessing module in python."
   ]
  },
  {
   "cell_type": "code",
   "execution_count": 5,
   "id": "4b8cc1c8-aab7-4f59-8901-e44020fc1e90",
   "metadata": {},
   "outputs": [
    {
     "name": "stdout",
     "output_type": "stream",
     "text": [
      "Process 1: 1\n",
      "Process 2: 2\n",
      "Process 3: 3\n",
      "Process 4: 4\n",
      "All processes have finished.\n"
     ]
    }
   ],
   "source": [
    "import multiprocessing\n",
    "\n",
    "# Function to print a number\n",
    "def print_number(number):\n",
    "    print(f\"Process {number}: {number}\")\n",
    "\n",
    "if __name__ == \"__main__\":\n",
    "    # Create four processes\n",
    "    processes = []\n",
    "\n",
    "    for i in range(1, 5):\n",
    "        process = multiprocessing.Process(target=print_number, args=(i,))\n",
    "        processes.append(process)\n",
    "\n",
    "    # Start the processes\n",
    "    for process in processes:\n",
    "        process.start()\n",
    "\n",
    "    # Wait for all processes to finish\n",
    "    for process in processes:\n",
    "        process.join()\n",
    "\n",
    "    print(\"All processes have finished.\")\n"
   ]
  },
  {
   "cell_type": "code",
   "execution_count": null,
   "id": "8bcdac15-ec97-4835-84ed-fa5a45b4def8",
   "metadata": {},
   "outputs": [],
   "source": []
  }
 ],
 "metadata": {
  "kernelspec": {
   "display_name": "Python 3 (ipykernel)",
   "language": "python",
   "name": "python3"
  },
  "language_info": {
   "codemirror_mode": {
    "name": "ipython",
    "version": 3
   },
   "file_extension": ".py",
   "mimetype": "text/x-python",
   "name": "python",
   "nbconvert_exporter": "python",
   "pygments_lexer": "ipython3",
   "version": "3.10.8"
  }
 },
 "nbformat": 4,
 "nbformat_minor": 5
}
