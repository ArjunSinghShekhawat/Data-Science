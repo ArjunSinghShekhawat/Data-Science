{
 "cells": [
  {
   "cell_type": "markdown",
   "id": "d02ec674-9f75-4a25-9400-94d0f246893b",
   "metadata": {},
   "source": [
    "Mutable-: Mutability means any data is type allow at a perticular index re-assignment operation this data type is called mutable like list is a mutable data type in which you are re-assignment at a perticular index.\n"
   ]
  },
  {
   "cell_type": "markdown",
   "id": "26bf4896-8891-4fba-8305-6e9ae6818002",
   "metadata": {},
   "source": [
    "Imutability-: Imutability means any data type is not allow  re-assignment operation at a perticular index this data type is called imutable like string is imutable data type in which re-assignment at a perticular index is not allowed"
   ]
  },
  {
   "cell_type": "code",
   "execution_count": 1,
   "id": "207a2e00-7c4c-45de-b970-d778c7db31b4",
   "metadata": {},
   "outputs": [],
   "source": [
    "name = \"arjun\""
   ]
  },
  {
   "cell_type": "code",
   "execution_count": 2,
   "id": "e2b9a845-d875-4b9d-98f2-5ef705b0d4cb",
   "metadata": {},
   "outputs": [
    {
     "data": {
      "text/plain": [
       "'arjun'"
      ]
     },
     "execution_count": 2,
     "metadata": {},
     "output_type": "execute_result"
    }
   ],
   "source": [
    "name"
   ]
  },
  {
   "cell_type": "code",
   "execution_count": 3,
   "id": "0d532c09-5249-4963-af44-03ab714985ab",
   "metadata": {},
   "outputs": [
    {
     "data": {
      "text/plain": [
       "str"
      ]
     },
     "execution_count": 3,
     "metadata": {},
     "output_type": "execute_result"
    }
   ],
   "source": [
    "type(name)"
   ]
  },
  {
   "cell_type": "markdown",
   "id": "3457543c-5ad2-4691-a746-4cfb8f49e6f4",
   "metadata": {},
   "source": [
    "Foward indexing"
   ]
  },
  {
   "cell_type": "markdown",
   "id": "17433490-5c5b-4440-8fa1-4a5eb912c08d",
   "metadata": {},
   "source": [
    "name[1]"
   ]
  },
  {
   "cell_type": "code",
   "execution_count": 5,
   "id": "73f43aa8-044c-46da-a817-ef24f09ace31",
   "metadata": {},
   "outputs": [
    {
     "data": {
      "text/plain": [
       "'a'"
      ]
     },
     "execution_count": 5,
     "metadata": {},
     "output_type": "execute_result"
    }
   ],
   "source": [
    "name[0]"
   ]
  },
  {
   "cell_type": "markdown",
   "id": "7fd8d1fd-4cd8-4b60-9734-94192b5a297e",
   "metadata": {},
   "source": [
    "Backword Indexing"
   ]
  },
  {
   "cell_type": "code",
   "execution_count": 6,
   "id": "b8a27479-280d-4771-9a47-396a08504386",
   "metadata": {},
   "outputs": [
    {
     "data": {
      "text/plain": [
       "'n'"
      ]
     },
     "execution_count": 6,
     "metadata": {},
     "output_type": "execute_result"
    }
   ],
   "source": [
    "name[-1]"
   ]
  },
  {
   "cell_type": "code",
   "execution_count": 7,
   "id": "94dd9fa4-cc7b-46db-abb5-460dcfc7e48f",
   "metadata": {},
   "outputs": [
    {
     "data": {
      "text/plain": [
       "'u'"
      ]
     },
     "execution_count": 7,
     "metadata": {},
     "output_type": "execute_result"
    }
   ],
   "source": [
    "name[-2]"
   ]
  },
  {
   "cell_type": "markdown",
   "id": "b0aa7119-4b95-4e6b-b09e-8f1fb5a62fde",
   "metadata": {},
   "source": [
    "re-assignment at a perticular index is not allow in string"
   ]
  },
  {
   "cell_type": "code",
   "execution_count": 8,
   "id": "6776322f-c826-43c8-8901-b85380fd7a18",
   "metadata": {},
   "outputs": [
    {
     "ename": "TypeError",
     "evalue": "'str' object does not support item assignment",
     "output_type": "error",
     "traceback": [
      "\u001b[0;31m---------------------------------------------------------------------------\u001b[0m",
      "\u001b[0;31mTypeError\u001b[0m                                 Traceback (most recent call last)",
      "Cell \u001b[0;32mIn[8], line 1\u001b[0m\n\u001b[0;32m----> 1\u001b[0m \u001b[43mname\u001b[49m\u001b[43m[\u001b[49m\u001b[38;5;241;43m0\u001b[39;49m\u001b[43m]\u001b[49m \u001b[38;5;241m=\u001b[39m \u001b[38;5;124m'\u001b[39m\u001b[38;5;124mz\u001b[39m\u001b[38;5;124m'\u001b[39m\n",
      "\u001b[0;31mTypeError\u001b[0m: 'str' object does not support item assignment"
     ]
    }
   ],
   "source": [
    "name[0] = 'z'#error"
   ]
  },
  {
   "cell_type": "code",
   "execution_count": 9,
   "id": "ebc9f8a7-0382-4857-9fd7-0d53dd14a69c",
   "metadata": {},
   "outputs": [],
   "source": [
    "list1 = [1,2,3,'data science']"
   ]
  },
  {
   "cell_type": "code",
   "execution_count": 10,
   "id": "f27b3c0f-5d3c-4c6b-8e29-d2e2593d14d5",
   "metadata": {},
   "outputs": [
    {
     "data": {
      "text/plain": [
       "[1, 2, 3, 'data science']"
      ]
     },
     "execution_count": 10,
     "metadata": {},
     "output_type": "execute_result"
    }
   ],
   "source": [
    "list1"
   ]
  },
  {
   "cell_type": "code",
   "execution_count": 11,
   "id": "7259b08e-ddc4-474b-ba28-814064cfb3d9",
   "metadata": {},
   "outputs": [
    {
     "data": {
      "text/plain": [
       "list"
      ]
     },
     "execution_count": 11,
     "metadata": {},
     "output_type": "execute_result"
    }
   ],
   "source": [
    "type(list1)"
   ]
  },
  {
   "cell_type": "markdown",
   "id": "4f1d9cb9-2e62-47ce-8e2c-3eaf2acf6852",
   "metadata": {},
   "source": [
    "Foward indexing"
   ]
  },
  {
   "cell_type": "code",
   "execution_count": 13,
   "id": "bd3955d7-6af7-492b-9dac-47f0c816f6cc",
   "metadata": {},
   "outputs": [
    {
     "data": {
      "text/plain": [
       "1"
      ]
     },
     "execution_count": 13,
     "metadata": {},
     "output_type": "execute_result"
    }
   ],
   "source": [
    "list1[0]"
   ]
  },
  {
   "cell_type": "code",
   "execution_count": 14,
   "id": "64ba8bee-b180-4330-8e61-10040bd53c7d",
   "metadata": {},
   "outputs": [
    {
     "data": {
      "text/plain": [
       "'data science'"
      ]
     },
     "execution_count": 14,
     "metadata": {},
     "output_type": "execute_result"
    }
   ],
   "source": [
    "list1[3]"
   ]
  },
  {
   "cell_type": "markdown",
   "id": "fba1da4c-1195-44b0-bfd8-c1ed19d7aa3b",
   "metadata": {},
   "source": [
    "Backword indexing"
   ]
  },
  {
   "cell_type": "code",
   "execution_count": 15,
   "id": "22a0d7a9-7deb-41e7-8cba-e8fad54db65b",
   "metadata": {},
   "outputs": [
    {
     "data": {
      "text/plain": [
       "'data science'"
      ]
     },
     "execution_count": 15,
     "metadata": {},
     "output_type": "execute_result"
    }
   ],
   "source": [
    "list1[-1]"
   ]
  },
  {
   "cell_type": "code",
   "execution_count": 16,
   "id": "73154bfc-d336-4c77-abc2-59c7ea4bc94e",
   "metadata": {},
   "outputs": [
    {
     "data": {
      "text/plain": [
       "2"
      ]
     },
     "execution_count": 16,
     "metadata": {},
     "output_type": "execute_result"
    }
   ],
   "source": [
    "list1[-3]"
   ]
  },
  {
   "cell_type": "markdown",
   "id": "baeca549-de28-4545-af6f-1dad05d06779",
   "metadata": {},
   "source": [
    "re-assignment at a perticular index is allowed in list"
   ]
  },
  {
   "cell_type": "code",
   "execution_count": 17,
   "id": "954f9f58-af1f-4c9c-99a7-8c641de28bda",
   "metadata": {},
   "outputs": [],
   "source": [
    "list1[-2] = 'java with dsa'"
   ]
  },
  {
   "cell_type": "code",
   "execution_count": 18,
   "id": "43333b7b-849b-48cd-84ef-c7d819d788d7",
   "metadata": {},
   "outputs": [
    {
     "data": {
      "text/plain": [
       "[1, 2, 'java with dsa', 'data science']"
      ]
     },
     "execution_count": 18,
     "metadata": {},
     "output_type": "execute_result"
    }
   ],
   "source": [
    "list1"
   ]
  },
  {
   "cell_type": "markdown",
   "id": "a5ac03d2-ed57-485c-808f-ba8bb0a702fe",
   "metadata": {},
   "source": [
    "<!-- Str = Str is imutable data type.\n",
    "list = list is mutable data type. -->"
   ]
  },
  {
   "cell_type": "markdown",
   "id": "84e188e6-ff2c-4529-98ea-a8bc2b4b34ff",
   "metadata": {},
   "source": []
  }
 ],
 "metadata": {
  "kernelspec": {
   "display_name": "Python 3 (ipykernel)",
   "language": "python",
   "name": "python3"
  },
  "language_info": {
   "codemirror_mode": {
    "name": "ipython",
    "version": 3
   },
   "file_extension": ".py",
   "mimetype": "text/x-python",
   "name": "python",
   "nbconvert_exporter": "python",
   "pygments_lexer": "ipython3",
   "version": "3.10.8"
  }
 },
 "nbformat": 4,
 "nbformat_minor": 5
}
