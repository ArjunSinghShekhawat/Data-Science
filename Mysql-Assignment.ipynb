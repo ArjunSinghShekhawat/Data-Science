{
 "cells": [
  {
   "cell_type": "code",
   "execution_count": null,
   "id": "2336a04b-98ba-4d13-a5bf-66389a372fc9",
   "metadata": {},
   "outputs": [],
   "source": [
    "                                 #questions\n",
    "#Q1. What is a database? Differentiate between SQL and NoSQL databases.\n",
    "#Q2. What is DDL? Explain why CREATE, DROP, ALTER, and TRUNCATE are used with an example.\n",
    "#Q3. What is DML? Explain INSERT, UPDATE, and DELETE with an example.\n",
    "#Q4. What is DQL? Explain SELECT with an example.\n",
    "#Q5. Explain Primary Key and Foreign Key.\n",
    "#Q6. Write a python code to connect MySQL to python. Explain the cursor() and execute() method.\n",
    "#Q7. Give the order of execution of SQL clauses in an SQL query.\n",
    "\n",
    "\n",
    "\n",
    "\"\"\"Q1. A database is a structured collection of data. SQL databases use structured query language, while NoSQL databases use various data models like document, key-value, or graph.\n",
    "\n",
    "Q2. DDL (Data Definition Language) is used for database schema operations. CREATE creates a new table, DROP deletes it, ALTER modifies its structure, and TRUNCATE removes all rows. Example: `CREATE TABLE Users (ID INT, Name VARCHAR(255));`\n",
    "\n",
    "Q3. DML (Data Manipulation Language) is used for data operations. INSERT adds records, UPDATE modifies them, and DELETE removes records. Example: `INSERT INTO Users (ID, Name) VALUES (1, 'John');`\n",
    "\n",
    "Q4. DQL (Data Query Language) is used to retrieve data. SELECT fetches data from a table. Example: `SELECT * FROM Users WHERE Name = 'John';`\n",
    "\n",
    "Q5. Primary Key uniquely identifies records in a table. Foreign Key links a column in one table to the Primary Key in another, establishing referential integrity.\n",
    "\n",
    "Q6. Python MySQL connection code:\n",
    "```python\n",
    "import mysql.connector\n",
    "\n",
    "# Establish connection\n",
    "conn = mysql.connector.connect(user='username', password='password', host='localhost', database='mydb')\n",
    "\n",
    "# Create a cursor object\n",
    "cursor = conn.cursor()\n",
    "\n",
    "# Execute SQL queries\n",
    "cursor.execute(\"SELECT * FROM Users\")\n",
    "data = cursor.fetchall()\n",
    "\n",
    "# Close cursor and connection\n",
    "cursor.close()\n",
    "conn.close()\n",
    "```\n",
    "\n",
    "Q7. SQL query execution order: \n",
    "1. FROM\n",
    "2. WHERE\n",
    "3. GROUP BY\n",
    "4. HAVING\n",
    "5. SELECT\n",
    "6. ORDER BY\"\"\""
   ]
  }
 ],
 "metadata": {
  "kernelspec": {
   "display_name": "Python 3 (ipykernel)",
   "language": "python",
   "name": "python3"
  },
  "language_info": {
   "codemirror_mode": {
    "name": "ipython",
    "version": 3
   },
   "file_extension": ".py",
   "mimetype": "text/x-python",
   "name": "python",
   "nbconvert_exporter": "python",
   "pygments_lexer": "ipython3",
   "version": "3.10.8"
  }
 },
 "nbformat": 4,
 "nbformat_minor": 5
}
