{
 "cells": [
  {
   "cell_type": "markdown",
   "id": "79c46b41-7222-473c-9232-242af1ff78eb",
   "metadata": {},
   "source": [
    "1.what is multithreading in python? hy is it used? Name the module used to handle threads in python"
   ]
  },
  {
   "cell_type": "markdown",
   "id": "9d01ef40-87c5-431b-aec0-4e64f084cb10",
   "metadata": {},
   "source": [
    "Multithreading in Python is a concurrent execution technique using multiple threads. It's used for parallelism and improving program performance. The threading module is used to handle threads in Python."
   ]
  },
  {
   "cell_type": "code",
   "execution_count": null,
   "id": "ee6b2a31-9bf5-4d3e-87ef-f4c8977a1bce",
   "metadata": {},
   "outputs": [],
   "source": []
  },
  {
   "cell_type": "markdown",
   "id": "c902d0ef-8c0e-4c59-8154-7c590b238115",
   "metadata": {},
   "source": [
    "Q2 .why threading module used? write the use of the following functions\n",
    "\n",
    "1.activeCount \n",
    "\n",
    "2. currentThread\n",
    "\n",
    "3. enumerate"
   ]
  },
  {
   "cell_type": "markdown",
   "id": "1bae8b67-13ad-457e-b8fd-b89065721131",
   "metadata": {},
   "source": [
    "ANS.The threading module in Python is used to create and manage threads.\n",
    "\n",
    "activeCount: Returns the number of currently active threads.\n",
    "\n",
    "currentThread: Returns the current thread object.\n",
    "\n",
    "enumerate: Returns a list of all active Thread objects, useful for monitoring and managing concurrent threads."
   ]
  },
  {
   "cell_type": "code",
   "execution_count": null,
   "id": "88df13eb-aab3-444b-bc4f-f78295d7c17f",
   "metadata": {},
   "outputs": [],
   "source": []
  },
  {
   "cell_type": "markdown",
   "id": "3f73cfa2-f2b9-4dcf-9801-ea781c4e089d",
   "metadata": {},
   "source": [
    "Q3. Explain the following functions\n",
    " run,\n",
    " start,\n",
    " join,\n",
    " isAlive"
   ]
  },
  {
   "cell_type": "markdown",
   "id": "faf6ed6b-979b-4bc6-93e4-36038f942881",
   "metadata": {},
   "source": [
    "run: This method defines the behavior of a thread when it's started and is overridden in a custom thread class to specify its functionality.\n",
    "\n",
    "start: Initiates the execution of a thread, calling its run method in a new thread of control.\n",
    "\n",
    "join: Blocks the program's execution until the thread it's called on has completed its execution.\n",
    "\n",
    "isAlive: Returns True if a thread is currently executing, indicating its active status; otherwise, it returns False."
   ]
  },
  {
   "cell_type": "code",
   "execution_count": null,
   "id": "ddaa53c2-ef7c-4d28-9870-162ad4cb36c4",
   "metadata": {},
   "outputs": [],
   "source": []
  },
  {
   "cell_type": "markdown",
   "id": "a32ccd66-e447-403b-81c6-37df45df33f7",
   "metadata": {},
   "source": [
    "4. rite a python program to create two threads. Thread one must print the list of squares and thread\n",
    "two must print the list of cubes"
   ]
  },
  {
   "cell_type": "code",
   "execution_count": 1,
   "id": "7c6e44be-688b-4323-b237-e2107e92b9f6",
   "metadata": {},
   "outputs": [
    {
     "name": "stdout",
     "output_type": "stream",
     "text": [
      "Square of 1: 1\n",
      "Square of 2: 4\n",
      "Square of 3: 9\n",
      "Square of 4: 16\n",
      "Square of 5: 25\n",
      "Cube of 1: 1\n",
      "Cube of 2: 8\n",
      "Cube of 3: 27\n",
      "Cube of 4: 64\n",
      "Cube of 5: 125\n",
      "Both threads have finished.\n"
     ]
    }
   ],
   "source": [
    "import threading\n",
    "\n",
    "# Function to print squares of numbers\n",
    "def print_squares():\n",
    "    for i in range(1, 6):\n",
    "        print(f\"Square of {i}: {i*i}\")\n",
    "\n",
    "# Function to print cubes of numbers\n",
    "def print_cubes():\n",
    "    for i in range(1, 6):\n",
    "        print(f\"Cube of {i}: {i*i*i}\")\n",
    "\n",
    "# Create two thread objects\n",
    "thread1 = threading.Thread(target=print_squares)\n",
    "thread2 = threading.Thread(target=print_cubes)\n",
    "\n",
    "# Start both threads\n",
    "thread1.start()\n",
    "thread2.start()\n",
    "\n",
    "# Wait for both threads to finish\n",
    "thread1.join()\n",
    "thread2.join()\n",
    "\n",
    "print(\"Both threads have finished.\")\n"
   ]
  },
  {
   "cell_type": "code",
   "execution_count": null,
   "id": "5af21444-7510-466a-aad4-b95ff5f4f661",
   "metadata": {},
   "outputs": [],
   "source": []
  },
  {
   "cell_type": "markdown",
   "id": "61f190e8-a315-4fa4-a771-717af012ad1c",
   "metadata": {},
   "source": [
    "5. State advantages and disadvantages of multithreading"
   ]
  },
  {
   "cell_type": "markdown",
   "id": "3610f7a1-1eae-4659-9862-3b3d71161a88",
   "metadata": {},
   "source": [
    "ans. Advantage\n",
    "1.Improved Performance:\n",
    "    \n",
    "2.Responsiveness: \n",
    "    \n",
    "3.Resource Sharing\n",
    "\n",
    "4.efficiency\n",
    "\n",
    "Disadvantage\n",
    "\n",
    "1.Increased Memory Usag\n",
    "\n",
    "2.Complexity: "
   ]
  },
  {
   "cell_type": "code",
   "execution_count": null,
   "id": "45dc2192-8dc3-40b2-94e0-56c2f7a51408",
   "metadata": {},
   "outputs": [],
   "source": []
  },
  {
   "cell_type": "markdown",
   "id": "ae68af5e-9b92-4158-ae07-ec48e195d34f",
   "metadata": {},
   "source": [
    "6. Explain deadlocks and race conditions."
   ]
  },
  {
   "cell_type": "markdown",
   "id": "5d391dca-802e-41f8-988b-732c3e468593",
   "metadata": {},
   "source": [
    "ans.Deadlock is a situation where multiple threads or processes are blocked, each waiting for the other to release a resource. Race conditions are unpredictable outcomes caused by concurrent, unsynchronized access to shared data."
   ]
  }
 ],
 "metadata": {
  "kernelspec": {
   "display_name": "Python 3 (ipykernel)",
   "language": "python",
   "name": "python3"
  },
  "language_info": {
   "codemirror_mode": {
    "name": "ipython",
    "version": 3
   },
   "file_extension": ".py",
   "mimetype": "text/x-python",
   "name": "python",
   "nbconvert_exporter": "python",
   "pygments_lexer": "ipython3",
   "version": "3.10.8"
  }
 },
 "nbformat": 4,
 "nbformat_minor": 5
}
