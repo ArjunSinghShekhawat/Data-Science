{
 "cells": [
  {
   "cell_type": "code",
   "execution_count": null,
   "id": "73fe43ba-41cd-4708-8535-35e36eae1b1b",
   "metadata": {},
   "outputs": [],
   "source": [
    "\"\"\"\n",
    "Q1. Pearson correlation coefficient is a measure of the linear relationship between two variables. Suppose\n",
    "you have collected data on the amount of time students spend studying for an exam and their final exam\n",
    "scores. Calculate the Pearson correlation coefficient between these two variables and interpret the result.\n",
    "Q2. Spearman's rank correlation is a measure of the monotonic relationship between two variables.\n",
    "Suppose you have collected data on the amount of sleep individuals get each night and their overall job\n",
    "satisfaction level on a scale of 1 to 10. Calculate the Spearman's rank correlation between these two\n",
    "variables and interpret the result.\n",
    "Q3. Suppose you are conducting a study to examine the relationship between the number of hours of\n",
    "exercise per week and body mass index (BMI) in a sample of adults. You collected data on both variables\n",
    "for 50 participants. Calculate the Pearson correlation coefficient and the Spearman's rank correlation\n",
    "between these two variables and compare the results.\n",
    "Q4. A researcher is interested in examining the relationship between the number of hours individuals\n",
    "spend watching television per day and their level of physical activity. The researcher collected data on\n",
    "both variables from a sample of 50 participants. Calculate the Pearson correlation coefficient between\n",
    "these two variables.\n",
    "Q5. A survey was conducted to examine the relationship between age and preference for a particular\n",
    "brand of soft drink. The survey results are shown below:\n",
    "Age(Years)\n",
    "25 Coke\n",
    "42 Pepsi\n",
    "37\n",
    "19\n",
    "31\n",
    "28\n",
    "\n",
    "Mountain dew\n",
    "Coke\n",
    "Pepsi\n",
    "Coke\n",
    "\n",
    "Q6. A company is interested in examining the relationship between the number of sales calls made per day\n",
    "and the number of sales made per week. The company collected data on both variables from a sample of\n",
    "30 sales representatives. Calculate the Pearson correlation coefficient between these two variables.\n",
    "\"\"\""
   ]
  },
  {
   "cell_type": "markdown",
   "id": "9a86f8b6-51c8-4484-96f6-5b346cad88a9",
   "metadata": {},
   "source": [
    "Q1: The Pearson correlation coefficient quantifies the linear relationship between study time and exam scores. A positive coefficient close to 1 indicates a strong positive linear correlation, implying that more study time leads to higher exam scores.\n",
    "\n",
    "Q2: Spearman's rank correlation assesses the monotonic relationship between sleep and job satisfaction. A positive coefficient close to 1 implies a strong positive monotonic correlation, suggesting that as sleep increases, job satisfaction tends to increase.\n",
    "\n",
    "Q3: Comparing Pearson and Spearman correlations in the exercise-BMI study would reveal if the relationship is linear (Pearson) or monotonic (Spearman). Higher Pearson but lower Spearman would indicate a linear relationship with some outliers.\n",
    "\n",
    "Q4: Calculate the Pearson correlation between TV hours and physical activity levels to understand their linear relationship. A positive coefficient suggests more TV watching is associated with less physical activity, and vice versa.\n",
    "\n",
    "Q6: Calculate the Pearson correlation coefficient between sales calls and sales made per week. A positive coefficient close to 1 suggests a strong positive linear correlation, indicating more sales calls are associated with higher weekly sales."
   ]
  }
 ],
 "metadata": {
  "kernelspec": {
   "display_name": "Python 3 (ipykernel)",
   "language": "python",
   "name": "python3"
  },
  "language_info": {
   "codemirror_mode": {
    "name": "ipython",
    "version": 3
   },
   "file_extension": ".py",
   "mimetype": "text/x-python",
   "name": "python",
   "nbconvert_exporter": "python",
   "pygments_lexer": "ipython3",
   "version": "3.10.8"
  }
 },
 "nbformat": 4,
 "nbformat_minor": 5
}
