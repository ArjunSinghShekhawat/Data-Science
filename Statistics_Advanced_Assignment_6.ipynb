{
 "cells": [
  {
   "cell_type": "code",
   "execution_count": null,
   "id": "eac9b550-a560-473c-9f5a-aa6f38bcf91f",
   "metadata": {},
   "outputs": [],
   "source": [
    "\"\"\"\n",
    "Q1. Explain the assumptions required to use ANOVA and provide examples of violations that could impact\n",
    "the validity of the results.\n",
    "Q2. What are the three types of ANOVA, and in what situations would each be used?\n",
    "Q3. What is the partitioning of variance in ANOVA, and why is it important to understand this concept?\n",
    "Q4. How would you calculate the total sum of squares (SST), explained sum of squares (SSE), and residual\n",
    "sum of squares (SSR) in a one-way ANOVA using Python?\n",
    "Q5. In a two-way ANOVA, how would you calculate the main effects and interaction effects using Python?\n",
    "Q6. Suppose you conducted a one-way ANOVA and obtained an F-statistic of 5.23 and a p-value of 0.02.\n",
    "What can you conclude about the differences between the groups, and how would you interpret these\n",
    "results?\n",
    "Q7. In a repeated measures ANOVA, how would you handle missing data, and what are the potential\n",
    "consequences of using different methods to handle missing data?\n",
    "Q8. What are some common post-hoc tests used after ANOVA, and when would you use each one? Provide\n",
    "an example of a situation where a post-hoc test might be necessary.\n",
    "Q9. A researcher wants to compare the mean weight loss of three diets: A, B, and C. They collect data from\n",
    "50 participants who were randomly assigned to one of the diets. Conduct a one-way ANOVA using Python\n",
    "to determine if there are any significant differences between the mean weight loss of the three diets.\n",
    "Report the F-statistic and p-value, and interpret the results.\n",
    "Q10. A company wants to know if there are any significant differences in the average time it takes to\n",
    "complete a task using three different software programs: Program A, Program B, and Program C. They\n",
    "randomly assign 30 employees to one of the programs and record the time it takes each employee to\n",
    "complete the task. Conduct a two-way ANOVA using Python to determine if there are any main effects or\n",
    "interaction effects between the software programs and employee experience level (novice vs.\n",
    "experienced). Report the F-statistics and p-values, and interpret the results.\n",
    "Q11. An educational researcher is interested in whether a new teaching method improves student test\n",
    "scores. They randomly assign 100 students to either the control group (traditional teaching method) or the\n",
    "experimental group (new teaching method) and administer a test at the end of the semester. Conduct a\n",
    "two-sample t-test using Python to determine if there are any significant differences in test scores\n",
    "between the two groups. If the results are significant, follow up with a post-hoc test to determine which\n",
    "group(s) differ significantly from each other.\n",
    "Q12. A researcher wants to know if there are any significant differences in the average daily sales of three\n",
    "retail stores: Store A, Store B, and Store C. They randomly select 30 days and record the sales for each store\n",
    "on those days. Conduct a repeated measures ANOVA using Python to determine if there are any\n",
    "\n",
    "significant differences in sales between the three stores. If the results are significant,\n",
    "\"\"\""
   ]
  },
  {
   "cell_type": "markdown",
   "id": "c0487723-44e9-442e-bf46-619d0b03301f",
   "metadata": {},
   "source": [
    "Q1: Assumptions for ANOVA include the normality of residuals, homogeneity of variances, and independence of observations. Violations could be skewed data, unequal variances, or correlated observations.\n",
    "\n",
    "Q2: The three types of ANOVA are one-way (single factor), two-way (two factors), and repeated measures (within-subjects). One-way ANOVA is used when comparing multiple groups. Two-way ANOVA assesses the influence of two factors on a response variable. Repeated measures ANOVA analyzes data from repeated measurements on the same subjects.\n",
    "\n",
    "Q3: The partitioning of variance in ANOVA separates the total variability into components due to different sources. Understanding this concept helps identify the sources of variation and assess their significance.\n",
    "\n",
    "Q4: To calculate SST, you sum the squared differences between each data point and the overall mean. To find SSE, sum the squared differences between data points and their group means. SSR is the difference between SST and SSE.\n",
    "\n",
    "Q5: In a two-way ANOVA, you calculate main effects for each factor separately and an interaction effect by considering the joint influence of the two factors. Python libraries like SciPy or statsmodels can help with these calculations.\n",
    "\n",
    "Q6: An F-statistic of 5.23 with a p-value of 0.02 suggests there are significant differences between groups. The low p-value indicates that the observed differences are unlikely due to random chance.\n",
    "\n",
    "Q7: Handling missing data in repeated measures ANOVA depends on the nature and extent of the missingness. Common methods include listwise deletion, imputation, or modeling. The choice can affect results and bias the analysis.\n",
    "\n",
    "Q8: Common post-hoc tests include Tukey's HSD, Bonferroni, and Scheffé tests. Use these tests when ANOVA reveals significant group differences. For example, Tukey's HSD is used when you have three or more groups and need to compare all possible pairs.\n",
    "\n",
    "Q9: To conduct a one-way ANOVA in Python, use libraries like SciPy or statsmodels. After running the analysis, report the F-statistic and p-value. If the p-value is less than the chosen significance level, there are significant differences between the diets.\n",
    "\n",
    "Q10: To conduct a two-way ANOVA in Python, you can use libraries like SciPy or statsmodels. Report the F-statistics and p-values for the main effects and interaction effect. Interpret the results based on whether the p-values are less than the chosen significance level.\n",
    "\n",
    "Q11: Conduct a two-sample t-test in Python to compare test scores between the control and experimental groups. If the results are significant, perform a post-hoc test like Tukey's HSD to identify which group(s) differ significantly.\n",
    "\n",
    "Q12: Use repeated measures ANOVA in Python to determine if there are significant differences in daily sales between the three stores. If the results are significant, follow up with post-hoc tests to identify which stores differ significantly from each other."
   ]
  }
 ],
 "metadata": {
  "kernelspec": {
   "display_name": "Python 3 (ipykernel)",
   "language": "python",
   "name": "python3"
  },
  "language_info": {
   "codemirror_mode": {
    "name": "ipython",
    "version": 3
   },
   "file_extension": ".py",
   "mimetype": "text/x-python",
   "name": "python",
   "nbconvert_exporter": "python",
   "pygments_lexer": "ipython3",
   "version": "3.10.8"
  }
 },
 "nbformat": 4,
 "nbformat_minor": 5
}
