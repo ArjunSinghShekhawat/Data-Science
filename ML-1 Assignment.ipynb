{
 "cells": [
  {
   "cell_type": "code",
   "execution_count": null,
   "id": "36c96b59-dd56-4804-96f0-ad3e78ccab5f",
   "metadata": {},
   "outputs": [],
   "source": [
    "\"\"\"\n",
    "Q1. Explain the difference between simple linear regression and multiple linear regression. Provide an\n",
    "example of each.\n",
    "Q2. Discuss the assumptions of linear regression. How can you check whether these assumptions hold in\n",
    "a given dataset?\n",
    "Q3. How do you interpret the slope and intercept in a linear regression model? Provide an example using\n",
    "a real-world scenario.\n",
    "Q4. Explain the concept of gradient descent. How is it used in machine learning?\n",
    "Q5. Describe the multiple linear regression model. How does it differ from simple linear regression?\n",
    "Q6. Explain the concept of multicollinearity in multiple linear regression. How can you detect and\n",
    "address this issue?\n",
    "Q7. Describe the polynomial regression model. How is it different from linear regression?\n",
    "Q8. What are the advantages and disadvantages of polynomial regression compared to linear\n",
    "regression? In what situations would you prefer to use polynomial regression?\n",
    "\"\"\""
   ]
  },
  {
   "cell_type": "markdown",
   "id": "ceda02ce-9cb6-4759-9872-07d7f327117b",
   "metadata": {},
   "source": [
    "Q1. Simple linear regression has one independent variable, while multiple linear regression has more than one. Example: Simple - predicting weight from height. Multiple - predicting house price from size, bedrooms, and location.\n",
    "\n",
    "Q2. Linear regression assumptions: Linearity, independence, homoscedasticity, normality of residuals, and no multicollinearity. Check with plots and tests.\n",
    "\n",
    "Q3. In a linear regression model, the slope represents the change in the dependent variable for a one-unit change in the independent variable, while the intercept is the value when the independent variable is zero. Example: In a salary prediction model, the slope indicates the increase in salary for each additional year of experience, and the intercept is the expected salary for someone with no experience.\n",
    "\n",
    "Q4. Gradient descent is an optimization algorithm used in machine learning to find the best model parameters by iteratively adjusting them in the direction of steepest descent. It minimizes the model's error.\n",
    "\n",
    "Q5. Multiple linear regression involves multiple independent variables to predict a dependent variable, while simple linear regression uses only one independent variable for prediction.\n",
    "\n",
    "Q6. Multicollinearity in multiple linear regression is when independent variables are highly correlated, making it challenging to distinguish their individual effects. Detect with correlation or VIF tests and address by removing or combining variables.\n",
    "\n",
    "Q7. Polynomial regression models relationships as higher-degree polynomial equations, allowing for curved patterns, unlike linear regression that assumes a straight line.\n",
    "\n",
    "Q8. Advantages of polynomial regression: Captures nonlinear relationships. Disadvantages: Prone to overfitting, complex interpretation. Use when data suggests a nonlinear pattern or theory supports it."
   ]
  }
 ],
 "metadata": {
  "kernelspec": {
   "display_name": "Python 3 (ipykernel)",
   "language": "python",
   "name": "python3"
  },
  "language_info": {
   "codemirror_mode": {
    "name": "ipython",
    "version": 3
   },
   "file_extension": ".py",
   "mimetype": "text/x-python",
   "name": "python",
   "nbconvert_exporter": "python",
   "pygments_lexer": "ipython3",
   "version": "3.10.8"
  }
 },
 "nbformat": 4,
 "nbformat_minor": 5
}
