{
 "cells": [
  {
   "cell_type": "markdown",
   "id": "f003198b-1f8b-43c3-8b63-80eba7e642c9",
   "metadata": {},
   "source": [
    "Q7. Create a DataFrame using multiple Series. Explain with an example."
   ]
  },
  {
   "cell_type": "code",
   "execution_count": 1,
   "id": "e57a7e25-cad9-4b92-8274-a959e8a0955c",
   "metadata": {},
   "outputs": [],
   "source": [
    "import pandas as pd"
   ]
  },
  {
   "cell_type": "code",
   "execution_count": 2,
   "id": "0a8583e2-de34-44dd-8ecc-64bad68fa256",
   "metadata": {},
   "outputs": [],
   "source": [
    "s1 = ['Alice','Bob','Claire']"
   ]
  },
  {
   "cell_type": "code",
   "execution_count": 7,
   "id": "6f71b894-5286-4947-99ec-a31b0ca20a70",
   "metadata": {},
   "outputs": [],
   "source": [
    "s2 = [34,56,43]"
   ]
  },
  {
   "cell_type": "code",
   "execution_count": 4,
   "id": "f9e8e7a3-a87a-433c-b721-245ac4280b2f",
   "metadata": {},
   "outputs": [],
   "source": [
    "s3 = ['Female','Male','Female']"
   ]
  },
  {
   "cell_type": "code",
   "execution_count": 5,
   "id": "1c76c707-5384-4891-8cd4-3666b59caa8f",
   "metadata": {},
   "outputs": [],
   "source": [
    "Name = pd.Series(s1)"
   ]
  },
  {
   "cell_type": "code",
   "execution_count": 8,
   "id": "418ee1a2-a872-400d-b10f-3dae89822ca7",
   "metadata": {},
   "outputs": [],
   "source": [
    "Age = pd.Series(s2)"
   ]
  },
  {
   "cell_type": "code",
   "execution_count": 9,
   "id": "8a871502-0877-48af-85c2-76c75f0dd880",
   "metadata": {},
   "outputs": [],
   "source": [
    "Gender = pd.Series(s3)"
   ]
  },
  {
   "cell_type": "code",
   "execution_count": 10,
   "id": "c7234d1d-f4b8-4713-9210-386fcc63faa2",
   "metadata": {},
   "outputs": [],
   "source": [
    "l1 = [Name,Age,Gender]"
   ]
  },
  {
   "cell_type": "code",
   "execution_count": 11,
   "id": "414b3c73-5f8b-448f-972f-7a8e983a6c6a",
   "metadata": {},
   "outputs": [],
   "source": [
    "df = pd.DataFrame(l1)"
   ]
  },
  {
   "cell_type": "code",
   "execution_count": 12,
   "id": "013ff420-b688-4ffc-b610-b7e42ad1eacb",
   "metadata": {},
   "outputs": [
    {
     "data": {
      "text/html": [
       "<div>\n",
       "<style scoped>\n",
       "    .dataframe tbody tr th:only-of-type {\n",
       "        vertical-align: middle;\n",
       "    }\n",
       "\n",
       "    .dataframe tbody tr th {\n",
       "        vertical-align: top;\n",
       "    }\n",
       "\n",
       "    .dataframe thead th {\n",
       "        text-align: right;\n",
       "    }\n",
       "</style>\n",
       "<table border=\"1\" class=\"dataframe\">\n",
       "  <thead>\n",
       "    <tr style=\"text-align: right;\">\n",
       "      <th></th>\n",
       "      <th>0</th>\n",
       "      <th>1</th>\n",
       "      <th>2</th>\n",
       "    </tr>\n",
       "  </thead>\n",
       "  <tbody>\n",
       "    <tr>\n",
       "      <th>0</th>\n",
       "      <td>Alice</td>\n",
       "      <td>Bob</td>\n",
       "      <td>Claire</td>\n",
       "    </tr>\n",
       "    <tr>\n",
       "      <th>1</th>\n",
       "      <td>34</td>\n",
       "      <td>56</td>\n",
       "      <td>43</td>\n",
       "    </tr>\n",
       "    <tr>\n",
       "      <th>2</th>\n",
       "      <td>Female</td>\n",
       "      <td>Male</td>\n",
       "      <td>Female</td>\n",
       "    </tr>\n",
       "  </tbody>\n",
       "</table>\n",
       "</div>"
      ],
      "text/plain": [
       "        0     1       2\n",
       "0   Alice   Bob  Claire\n",
       "1      34    56      43\n",
       "2  Female  Male  Female"
      ]
     },
     "execution_count": 12,
     "metadata": {},
     "output_type": "execute_result"
    }
   ],
   "source": [
    "df"
   ]
  },
  {
   "cell_type": "code",
   "execution_count": null,
   "id": "294735de-aa0b-482b-b8d3-6906d884f3aa",
   "metadata": {},
   "outputs": [],
   "source": []
  }
 ],
 "metadata": {
  "kernelspec": {
   "display_name": "Python 3 (ipykernel)",
   "language": "python",
   "name": "python3"
  },
  "language_info": {
   "codemirror_mode": {
    "name": "ipython",
    "version": 3
   },
   "file_extension": ".py",
   "mimetype": "text/x-python",
   "name": "python",
   "nbconvert_exporter": "python",
   "pygments_lexer": "ipython3",
   "version": "3.10.8"
  }
 },
 "nbformat": 4,
 "nbformat_minor": 5
}
