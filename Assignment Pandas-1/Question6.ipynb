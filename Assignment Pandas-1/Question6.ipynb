{
 "cells": [
  {
   "cell_type": "markdown",
   "id": "39e44655-a697-4f0c-9cfd-0ba5defa1153",
   "metadata": {},
   "source": [
    "Q6. Which of the following is mutable in nature Series, DataFrame, Panel?"
   ]
  },
  {
   "cell_type": "markdown",
   "id": "421b6729-387d-4092-b280-f2cfd5a0917b",
   "metadata": {},
   "source": [
    "A pandas Series is mutable.A pandas DataFrame is also mutable."
   ]
  },
  {
   "cell_type": "markdown",
   "id": "5d23e4b9-6295-48ad-9a56-80856e0f9eab",
   "metadata": {},
   "source": [
    "Penal is depricate in pandas"
   ]
  },
  {
   "cell_type": "code",
   "execution_count": null,
   "id": "35153393-cdc2-4e7d-b154-a0781f34b5c1",
   "metadata": {},
   "outputs": [],
   "source": []
  }
 ],
 "metadata": {
  "kernelspec": {
   "display_name": "Python 3 (ipykernel)",
   "language": "python",
   "name": "python3"
  },
  "language_info": {
   "codemirror_mode": {
    "name": "ipython",
    "version": 3
   },
   "file_extension": ".py",
   "mimetype": "text/x-python",
   "name": "python",
   "nbconvert_exporter": "python",
   "pygments_lexer": "ipython3",
   "version": "3.10.8"
  }
 },
 "nbformat": 4,
 "nbformat_minor": 5
}
