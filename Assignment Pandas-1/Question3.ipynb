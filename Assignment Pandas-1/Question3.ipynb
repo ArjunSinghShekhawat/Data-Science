{
 "cells": [
  {
   "cell_type": "markdown",
   "id": "daa3b084-40f1-48f5-aebf-6f46058d8489",
   "metadata": {},
   "source": [
    "Q3. Create a Pandas DataFrame that contains the following data:\n",
    "\n",
    "Name\n",
    "Alice\n",
    "Bob\n",
    "Claire\n",
    "\n",
    "Age\n",
    "25\n",
    "30\n",
    "27\n",
    "\n",
    "Gender\n",
    "Female\n",
    "Male\n",
    "Female"
   ]
  },
  {
   "cell_type": "code",
   "execution_count": 1,
   "id": "81b74ed7-88d2-480f-90db-b565395fa291",
   "metadata": {},
   "outputs": [],
   "source": [
    "import pandas as pd"
   ]
  },
  {
   "cell_type": "code",
   "execution_count": 14,
   "id": "28623c09-35c9-4163-83b0-b78b7e102aae",
   "metadata": {},
   "outputs": [],
   "source": [
    "s1 = ['Alice','Bob','Claire']"
   ]
  },
  {
   "cell_type": "code",
   "execution_count": 15,
   "id": "511c6bdb-7a74-49ec-95e4-123b9d2d491b",
   "metadata": {},
   "outputs": [],
   "source": [
    "s1 = ['Alice','Bob','Claire']"
   ]
  },
  {
   "cell_type": "code",
   "execution_count": 16,
   "id": "5e1dc565-8652-4452-b290-297d5332ed37",
   "metadata": {},
   "outputs": [],
   "source": [
    "s3 = ['Female','Male','Female']"
   ]
  },
  {
   "cell_type": "code",
   "execution_count": 17,
   "id": "b480e739-ef87-43cc-b515-343398f60e1c",
   "metadata": {},
   "outputs": [],
   "source": [
    "Name = pd.Series(s1)"
   ]
  },
  {
   "cell_type": "code",
   "execution_count": 18,
   "id": "630d686c-3527-4cb5-9a86-fb6f07345191",
   "metadata": {},
   "outputs": [],
   "source": [
    "Age = pd.Series(s2)"
   ]
  },
  {
   "cell_type": "code",
   "execution_count": 19,
   "id": "a97c14db-f5d4-44f6-843b-93b6ec0794e2",
   "metadata": {},
   "outputs": [],
   "source": [
    "Gender = pd.Series(s3)"
   ]
  },
  {
   "cell_type": "code",
   "execution_count": 20,
   "id": "838a2245-78f5-4dcf-a061-f192a7921a9e",
   "metadata": {},
   "outputs": [],
   "source": [
    "l1 = [Name,Age,Gender]"
   ]
  },
  {
   "cell_type": "code",
   "execution_count": 21,
   "id": "d23339d3-2d0b-4eb1-b69d-2a2efbbc9ef9",
   "metadata": {},
   "outputs": [],
   "source": [
    "df = pd.DataFrame(l1)"
   ]
  },
  {
   "cell_type": "code",
   "execution_count": 22,
   "id": "0e8288c6-cb8e-475c-a3bf-5dc8dfb0b1c8",
   "metadata": {},
   "outputs": [
    {
     "data": {
      "text/html": [
       "<div>\n",
       "<style scoped>\n",
       "    .dataframe tbody tr th:only-of-type {\n",
       "        vertical-align: middle;\n",
       "    }\n",
       "\n",
       "    .dataframe tbody tr th {\n",
       "        vertical-align: top;\n",
       "    }\n",
       "\n",
       "    .dataframe thead th {\n",
       "        text-align: right;\n",
       "    }\n",
       "</style>\n",
       "<table border=\"1\" class=\"dataframe\">\n",
       "  <thead>\n",
       "    <tr style=\"text-align: right;\">\n",
       "      <th></th>\n",
       "      <th>0</th>\n",
       "      <th>1</th>\n",
       "      <th>2</th>\n",
       "    </tr>\n",
       "  </thead>\n",
       "  <tbody>\n",
       "    <tr>\n",
       "      <th>0</th>\n",
       "      <td>Alice</td>\n",
       "      <td>Bob</td>\n",
       "      <td>Claire</td>\n",
       "    </tr>\n",
       "    <tr>\n",
       "      <th>1</th>\n",
       "      <td>25</td>\n",
       "      <td>30</td>\n",
       "      <td>27</td>\n",
       "    </tr>\n",
       "    <tr>\n",
       "      <th>2</th>\n",
       "      <td>Female</td>\n",
       "      <td>Male</td>\n",
       "      <td>Female</td>\n",
       "    </tr>\n",
       "  </tbody>\n",
       "</table>\n",
       "</div>"
      ],
      "text/plain": [
       "        0     1       2\n",
       "0   Alice   Bob  Claire\n",
       "1      25    30      27\n",
       "2  Female  Male  Female"
      ]
     },
     "execution_count": 22,
     "metadata": {},
     "output_type": "execute_result"
    }
   ],
   "source": [
    "df"
   ]
  },
  {
   "cell_type": "markdown",
   "id": "3d359c63-1433-4e66-8080-464419e5abf2",
   "metadata": {},
   "source": [
    "Next way"
   ]
  },
  {
   "cell_type": "code",
   "execution_count": 24,
   "id": "8e6fcc36-42bf-469f-96a1-2440dd2f0bfd",
   "metadata": {},
   "outputs": [],
   "source": [
    "df = pd.DataFrame({\"Name\":['Alice','Bob','Claire'],\"Age\":[25,30,27],\"Gender\":['Female','Male','Female']})"
   ]
  },
  {
   "cell_type": "code",
   "execution_count": 25,
   "id": "0bd62a5d-248e-47f1-b304-406edc206dda",
   "metadata": {},
   "outputs": [
    {
     "data": {
      "text/html": [
       "<div>\n",
       "<style scoped>\n",
       "    .dataframe tbody tr th:only-of-type {\n",
       "        vertical-align: middle;\n",
       "    }\n",
       "\n",
       "    .dataframe tbody tr th {\n",
       "        vertical-align: top;\n",
       "    }\n",
       "\n",
       "    .dataframe thead th {\n",
       "        text-align: right;\n",
       "    }\n",
       "</style>\n",
       "<table border=\"1\" class=\"dataframe\">\n",
       "  <thead>\n",
       "    <tr style=\"text-align: right;\">\n",
       "      <th></th>\n",
       "      <th>Name</th>\n",
       "      <th>Age</th>\n",
       "      <th>Gender</th>\n",
       "    </tr>\n",
       "  </thead>\n",
       "  <tbody>\n",
       "    <tr>\n",
       "      <th>0</th>\n",
       "      <td>Alice</td>\n",
       "      <td>25</td>\n",
       "      <td>Female</td>\n",
       "    </tr>\n",
       "    <tr>\n",
       "      <th>1</th>\n",
       "      <td>Bob</td>\n",
       "      <td>30</td>\n",
       "      <td>Male</td>\n",
       "    </tr>\n",
       "    <tr>\n",
       "      <th>2</th>\n",
       "      <td>Claire</td>\n",
       "      <td>27</td>\n",
       "      <td>Female</td>\n",
       "    </tr>\n",
       "  </tbody>\n",
       "</table>\n",
       "</div>"
      ],
      "text/plain": [
       "     Name  Age  Gender\n",
       "0   Alice   25  Female\n",
       "1     Bob   30    Male\n",
       "2  Claire   27  Female"
      ]
     },
     "execution_count": 25,
     "metadata": {},
     "output_type": "execute_result"
    }
   ],
   "source": [
    "df"
   ]
  },
  {
   "cell_type": "code",
   "execution_count": 26,
   "id": "e641ba78-4a9b-4331-8b54-0980c6060406",
   "metadata": {},
   "outputs": [
    {
     "data": {
      "text/plain": [
       "0     Alice\n",
       "1       Bob\n",
       "2    Claire\n",
       "Name: Name, dtype: object"
      ]
     },
     "execution_count": 26,
     "metadata": {},
     "output_type": "execute_result"
    }
   ],
   "source": [
    "df['Name']"
   ]
  },
  {
   "cell_type": "code",
   "execution_count": null,
   "id": "f6ee9281-ea75-43d9-9095-f7161621e755",
   "metadata": {},
   "outputs": [],
   "source": []
  }
 ],
 "metadata": {
  "kernelspec": {
   "display_name": "Python 3 (ipykernel)",
   "language": "python",
   "name": "python3"
  },
  "language_info": {
   "codemirror_mode": {
    "name": "ipython",
    "version": 3
   },
   "file_extension": ".py",
   "mimetype": "text/x-python",
   "name": "python",
   "nbconvert_exporter": "python",
   "pygments_lexer": "ipython3",
   "version": "3.10.8"
  }
 },
 "nbformat": 4,
 "nbformat_minor": 5
}
