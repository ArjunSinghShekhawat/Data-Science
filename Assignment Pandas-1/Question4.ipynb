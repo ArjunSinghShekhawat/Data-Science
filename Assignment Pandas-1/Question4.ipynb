{
 "cells": [
  {
   "cell_type": "markdown",
   "id": "fa147cd4-3e9d-46da-81ba-5fc267394755",
   "metadata": {},
   "source": [
    "Q4. What is ‘DataFrame’ in pandas and how is it different from pandas.series? Explain with an example."
   ]
  },
  {
   "cell_type": "markdown",
   "id": "e3087d73-867b-4398-b5ae-5facc843056c",
   "metadata": {},
   "source": [
    "Ans - DataFrame in pandas the combinations of multiple series is called dataframe.\n",
    "Series - Series in pandas single row and column value is called series."
   ]
  }
 ],
 "metadata": {
  "kernelspec": {
   "display_name": "Python 3 (ipykernel)",
   "language": "python",
   "name": "python3"
  },
  "language_info": {
   "codemirror_mode": {
    "name": "ipython",
    "version": 3
   },
   "file_extension": ".py",
   "mimetype": "text/x-python",
   "name": "python",
   "nbconvert_exporter": "python",
   "pygments_lexer": "ipython3",
   "version": "3.10.8"
  }
 },
 "nbformat": 4,
 "nbformat_minor": 5
}
