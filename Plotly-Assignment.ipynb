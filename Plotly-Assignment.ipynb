{
 "cells": [
  {
   "cell_type": "code",
   "execution_count": 2,
   "id": "247891a1-dc74-49e7-881c-90bdf5bffbfe",
   "metadata": {},
   "outputs": [
    {
     "data": {
      "text/plain": [
       "'\\nQ1. Load the \"titanic\" dataset using the load_dataset function of seaborn. Use Plotly express to plot a\\nscatter plot for age and fare columns in the titanic dataset.\\nQ2. Using the tips dataset in the Plotly library, plot a box plot using Plotly express.\\nQ3. Using the tips dataset in the Plotly library, Plot a histogram for x= \"sex\" and y=\"total_bill\" column in\\nthe tips dataset. Also, use the \"smoker\" column with the pattern_shape parameter and the \"day\"\\ncolumn with the color parameter.\\nQ4. Using the iris dataset in the Plotly library, Plot a scatter matrix plot, using the \"species\" column for\\nthe color parameter.\\nNote: Use \"sepal_length\", \"sepal_width\", \"petal_length\", \"petal_width\" columns only with the\\ndimensions parameter.\\nQ5. What is Distplot? Using Plotly express, plot a distplot.\\n'"
      ]
     },
     "execution_count": 2,
     "metadata": {},
     "output_type": "execute_result"
    }
   ],
   "source": [
    "\"\"\"\n",
    "Q1. Load the \"titanic\" dataset using the load_dataset function of seaborn. Use Plotly express to plot a\n",
    "scatter plot for age and fare columns in the titanic dataset.\n",
    "Q2. Using the tips dataset in the Plotly library, plot a box plot using Plotly express.\n",
    "Q3. Using the tips dataset in the Plotly library, Plot a histogram for x= \"sex\" and y=\"total_bill\" column in\n",
    "the tips dataset. Also, use the \"smoker\" column with the pattern_shape parameter and the \"day\"\n",
    "column with the color parameter.\n",
    "Q4. Using the iris dataset in the Plotly library, Plot a scatter matrix plot, using the \"species\" column for\n",
    "the color parameter.\n",
    "Note: Use \"sepal_length\", \"sepal_width\", \"petal_length\", \"petal_width\" columns only with the\n",
    "dimensions parameter.\n",
    "Q5. What is Distplot? Using Plotly express, plot a distplot.\n",
    "\"\"\""
   ]
  },
  {
   "cell_type": "markdown",
   "id": "c4b99779-00b7-42c8-8562-dbf11d93f9ed",
   "metadata": {},
   "source": [
    "Q1. To load the \"titanic\" dataset and create a scatter plot using Plotly Express, you can use the following Python code:\n",
    "\n",
    "```python\n",
    "import seaborn as sns\n",
    "import plotly.express as px\n",
    "\n",
    "titanic = sns.load_dataset(\"titanic\")\n",
    "scatter_plot = px.scatter(titanic, x=\"age\", y=\"fare\")\n",
    "scatter_plot.show()\n",
    "```\n",
    "\n",
    "Q2. To create a box plot for the \"tips\" dataset using Plotly Express:\n",
    "\n",
    "```python\n",
    "import plotly.express as px\n",
    "\n",
    "tips = px.data.tips()\n",
    "box_plot = px.box(tips, x=\"day\", y=\"total_bill\")\n",
    "box_plot.show()\n",
    "```\n",
    "\n",
    "Q3. To create a histogram for the \"tips\" dataset with customizations using Plotly Express:\n",
    "\n",
    "```python\n",
    "import plotly.express as px\n",
    "\n",
    "tips = px.data.tips()\n",
    "histogram = px.histogram(tips, x=\"sex\", y=\"total_bill\", color=\"smoker\", pattern_shape=\"smoker\", color_discrete_sequence=[\"red\", \"blue\"], facet_col=\"day\")\n",
    "histogram.show()\n",
    "```\n",
    "\n",
    "Q4. To create a scatter matrix plot using the \"iris\" dataset in Plotly Express:\n",
    "\n",
    "```python\n",
    "import plotly.express as px\n",
    "\n",
    "iris = px.data.iris()\n",
    "scatter_matrix = px.scatter_matrix(iris, dimensions=[\"sepal_length\", \"sepal_width\", \"petal_length\", \"petal_width\"], color=\"species\")\n",
    "scatter_matrix.show()\n",
    "```\n",
    "\n",
    "Q5. A Distplot (Distribution Plot) is a graphical representation that combines a histogram and a kernel density estimate to provide a visual representation of the distribution of a dataset. It helps to understand the underlying probability distribution of the data. In simple terms, it shows how the data is spread out and where it's concentrated. Using Plotly Express, you can create a distplot to visualize data distributions and patterns."
   ]
  },
  {
   "cell_type": "code",
   "execution_count": null,
   "id": "f8fcddc8-be5d-4463-bd2f-c48c0e958d1a",
   "metadata": {},
   "outputs": [],
   "source": []
  }
 ],
 "metadata": {
  "kernelspec": {
   "display_name": "Python 3 (ipykernel)",
   "language": "python",
   "name": "python3"
  },
  "language_info": {
   "codemirror_mode": {
    "name": "ipython",
    "version": 3
   },
   "file_extension": ".py",
   "mimetype": "text/x-python",
   "name": "python",
   "nbconvert_exporter": "python",
   "pygments_lexer": "ipython3",
   "version": "3.10.8"
  }
 },
 "nbformat": 4,
 "nbformat_minor": 5
}
