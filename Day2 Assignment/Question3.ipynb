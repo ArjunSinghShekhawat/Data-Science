{
 "cells": [
  {
   "cell_type": "markdown",
   "id": "94f46086-3746-4d55-97eb-d648232c0004",
   "metadata": {},
   "source": [
    "In python and any other programming language we are convert one data type to another data type using the concept of type casting.\n"
   ]
  },
  {
   "cell_type": "code",
   "execution_count": 1,
   "id": "725223cb-19a1-4540-9646-66fbd11e34ff",
   "metadata": {},
   "outputs": [],
   "source": [
    "marks = int('120')"
   ]
  },
  {
   "cell_type": "code",
   "execution_count": 2,
   "id": "4e9e7354-047f-4206-9466-4553ad57d566",
   "metadata": {},
   "outputs": [
    {
     "data": {
      "text/plain": [
       "int"
      ]
     },
     "execution_count": 2,
     "metadata": {},
     "output_type": "execute_result"
    }
   ],
   "source": [
    "type(marks)"
   ]
  },
  {
   "cell_type": "code",
   "execution_count": 4,
   "id": "1909c025-be68-4e4f-8f56-a8bdc6297fb5",
   "metadata": {},
   "outputs": [],
   "source": [
    "per = int(98.896)"
   ]
  },
  {
   "cell_type": "code",
   "execution_count": 5,
   "id": "998842d4-36f5-4cb7-8596-c80903d01795",
   "metadata": {},
   "outputs": [
    {
     "data": {
      "text/plain": [
       "int"
      ]
     },
     "execution_count": 5,
     "metadata": {},
     "output_type": "execute_result"
    }
   ],
   "source": [
    "type(per)"
   ]
  },
  {
   "cell_type": "code",
   "execution_count": null,
   "id": "7f95b313-e7a8-4335-8a48-1a78713d43e8",
   "metadata": {},
   "outputs": [],
   "source": []
  }
 ],
 "metadata": {
  "kernelspec": {
   "display_name": "Python 3 (ipykernel)",
   "language": "python",
   "name": "python3"
  },
  "language_info": {
   "codemirror_mode": {
    "name": "ipython",
    "version": 3
   },
   "file_extension": ".py",
   "mimetype": "text/x-python",
   "name": "python",
   "nbconvert_exporter": "python",
   "pygments_lexer": "ipython3",
   "version": "3.10.8"
  }
 },
 "nbformat": 4,
 "nbformat_minor": 5
}
