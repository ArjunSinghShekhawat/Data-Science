{
 "cells": [
  {
   "cell_type": "code",
   "execution_count": null,
   "id": "54e73cf6-aebd-4193-886d-ee77ecbfe42a",
   "metadata": {},
   "outputs": [],
   "source": [
    "#create a variable name ,name and assign your full name and print them."
   ]
  },
  {
   "cell_type": "code",
   "execution_count": 1,
   "id": "33f12695-86d0-41c4-ac4d-38b741c73a4f",
   "metadata": {},
   "outputs": [],
   "source": [
    "name = \"arjun singh shekhawat\""
   ]
  },
  {
   "cell_type": "code",
   "execution_count": 2,
   "id": "b41bf639-55d2-453e-8d77-e932d1d43896",
   "metadata": {},
   "outputs": [
    {
     "name": "stdout",
     "output_type": "stream",
     "text": [
      "arjun singh shekhawat\n"
     ]
    }
   ],
   "source": [
    "print(name)"
   ]
  },
  {
   "cell_type": "code",
   "execution_count": 3,
   "id": "db08396f-3081-4ebd-b06a-a431d728e2e8",
   "metadata": {},
   "outputs": [
    {
     "name": "stdout",
     "output_type": "stream",
     "text": [
      "<class 'str'>\n"
     ]
    }
   ],
   "source": [
    "print(type(name))"
   ]
  }
 ],
 "metadata": {
  "kernelspec": {
   "display_name": "Python 3 (ipykernel)",
   "language": "python",
   "name": "python3"
  },
  "language_info": {
   "codemirror_mode": {
    "name": "ipython",
    "version": 3
   },
   "file_extension": ".py",
   "mimetype": "text/x-python",
   "name": "python",
   "nbconvert_exporter": "python",
   "pygments_lexer": "ipython3",
   "version": "3.10.8"
  }
 },
 "nbformat": 4,
 "nbformat_minor": 5
}
