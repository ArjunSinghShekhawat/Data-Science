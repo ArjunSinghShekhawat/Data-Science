{
 "cells": [
  {
   "cell_type": "markdown",
   "id": "7b944955-1762-43d8-916e-3a4c3aabd2ad",
   "metadata": {},
   "source": [
    "In python there are two way for comment any ststement\n",
    "1. Single line comment\n",
    "2. Multi-line comment\n",
    "in python commenet is most important part perform that means comment is used to write notes for perticular steps and function working .\n"
   ]
  },
  {
   "cell_type": "code",
   "execution_count": null,
   "id": "deec8c49-0ded-4643-b591-612ed3a7794e",
   "metadata": {},
   "outputs": [
    {
     "data": {
      "text/plain": [
       "'\\nthis is multi line comment \\n\\n'"
      ]
     },
     "execution_count": 1,
     "metadata": {},
     "output_type": "execute_result"
    }
   ],
   "source": [
    "#single line comment\n",
    "\"\"\"\n",
    "this is multi line comment \n",
    "\n",
    "\"\"\""
   ]
  }
 ],
 "metadata": {
  "kernelspec": {
   "display_name": "Python 3 (ipykernel)",
   "language": "python",
   "name": "python3"
  },
  "language_info": {
   "codemirror_mode": {
    "name": "ipython",
    "version": 3
   },
   "file_extension": ".py",
   "mimetype": "text/x-python",
   "name": "python",
   "nbconvert_exporter": "python",
   "pygments_lexer": "ipython3",
   "version": "3.10.8"
  }
 },
 "nbformat": 4,
 "nbformat_minor": 5
}
