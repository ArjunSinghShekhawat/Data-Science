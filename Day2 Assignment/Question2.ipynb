{
 "cells": [
  {
   "cell_type": "markdown",
   "id": "170e603d-5ed0-4ef2-bb62-c13ac2f2b0ef",
   "metadata": {},
   "source": [
    "Variable -> variable is a container and memory allocation which is used to store multiple types of values.\n",
    "There are two types of variable available.\n",
    "1. local variable\n",
    "2. global variable\n"
   ]
  },
  {
   "cell_type": "code",
   "execution_count": 1,
   "id": "9a5efa56-b8f2-41bc-a2a5-a02026d6d9da",
   "metadata": {},
   "outputs": [],
   "source": [
    "a = 10 #assignment "
   ]
  },
  {
   "cell_type": "code",
   "execution_count": 2,
   "id": "816eed6d-84fc-48bd-975f-0976bf5b929e",
   "metadata": {},
   "outputs": [
    {
     "data": {
      "text/plain": [
       "10"
      ]
     },
     "execution_count": 2,
     "metadata": {},
     "output_type": "execute_result"
    }
   ],
   "source": [
    "a"
   ]
  },
  {
   "cell_type": "code",
   "execution_count": 4,
   "id": "b78fc3e4-78f4-4c41-8fb1-0c25d02c0c60",
   "metadata": {},
   "outputs": [],
   "source": [
    "b #declare"
   ]
  }
 ],
 "metadata": {
  "kernelspec": {
   "display_name": "Python 3 (ipykernel)",
   "language": "python",
   "name": "python3"
  },
  "language_info": {
   "codemirror_mode": {
    "name": "ipython",
    "version": 3
   },
   "file_extension": ".py",
   "mimetype": "text/x-python",
   "name": "python",
   "nbconvert_exporter": "python",
   "pygments_lexer": "ipython3",
   "version": "3.10.8"
  }
 },
 "nbformat": 4,
 "nbformat_minor": 5
}
