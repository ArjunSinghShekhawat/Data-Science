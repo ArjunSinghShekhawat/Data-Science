{
 "cells": [
  {
   "cell_type": "code",
   "execution_count": 1,
   "id": "7a123f61-acb9-4afc-abd2-90e29c9d57b5",
   "metadata": {},
   "outputs": [],
   "source": [
    "#create a variable is_student and assign boolean value if student True other than False"
   ]
  },
  {
   "cell_type": "code",
   "execution_count": 2,
   "id": "55310379-bf95-43ed-8068-538966940f72",
   "metadata": {},
   "outputs": [],
   "source": [
    "is_student = True"
   ]
  },
  {
   "cell_type": "code",
   "execution_count": 3,
   "id": "e53a90f4-4899-49f9-9012-3ab00c472e4d",
   "metadata": {},
   "outputs": [
    {
     "name": "stdout",
     "output_type": "stream",
     "text": [
      "I am student True\n"
     ]
    }
   ],
   "source": [
    "print(\"I am student\",is_student)"
   ]
  },
  {
   "cell_type": "code",
   "execution_count": null,
   "id": "f49258c2-928f-4747-963f-5877a09427ff",
   "metadata": {},
   "outputs": [],
   "source": []
  }
 ],
 "metadata": {
  "kernelspec": {
   "display_name": "Python 3 (ipykernel)",
   "language": "python",
   "name": "python3"
  },
  "language_info": {
   "codemirror_mode": {
    "name": "ipython",
    "version": 3
   },
   "file_extension": ".py",
   "mimetype": "text/x-python",
   "name": "python",
   "nbconvert_exporter": "python",
   "pygments_lexer": "ipython3",
   "version": "3.10.8"
  }
 },
 "nbformat": 4,
 "nbformat_minor": 5
}
