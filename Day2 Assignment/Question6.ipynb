{
 "cells": [
  {
   "cell_type": "code",
   "execution_count": null,
   "id": "9527f681-f071-4a9b-a582-02ac358db99d",
   "metadata": {},
   "outputs": [],
   "source": [
    "#variable namming convention -> 1. variable name start with _,alphabet.\n",
    "#variable name follow camal case,pascal case and snak case namming convention.\n",
    "#variable can not contain any special case charactor's like @,!,#,$,%.\n"
   ]
  },
  {
   "cell_type": "code",
   "execution_count": 1,
   "id": "eb762865-fde0-4d74-b36e-34b20e596a9c",
   "metadata": {},
   "outputs": [],
   "source": [
    "age = 25"
   ]
  },
  {
   "cell_type": "code",
   "execution_count": 2,
   "id": "a1053c09-7f2e-4ef0-b837-c9d8e5593184",
   "metadata": {},
   "outputs": [
    {
     "data": {
      "text/plain": [
       "25"
      ]
     },
     "execution_count": 2,
     "metadata": {},
     "output_type": "execute_result"
    }
   ],
   "source": [
    "age"
   ]
  },
  {
   "cell_type": "code",
   "execution_count": 3,
   "id": "73118d9f-d911-4819-be05-2cf9fedcef57",
   "metadata": {},
   "outputs": [],
   "source": [
    "Age = 25"
   ]
  },
  {
   "cell_type": "code",
   "execution_count": 4,
   "id": "d52454ec-eb1b-4ada-9c15-17ff90aec352",
   "metadata": {},
   "outputs": [
    {
     "data": {
      "text/plain": [
       "25"
      ]
     },
     "execution_count": 4,
     "metadata": {},
     "output_type": "execute_result"
    }
   ],
   "source": [
    "Age"
   ]
  },
  {
   "cell_type": "code",
   "execution_count": null,
   "id": "fc82234e-d8f4-4d77-82a1-9163667ecab9",
   "metadata": {},
   "outputs": [],
   "source": []
  }
 ],
 "metadata": {
  "kernelspec": {
   "display_name": "Python 3 (ipykernel)",
   "language": "python",
   "name": "python3"
  },
  "language_info": {
   "codemirror_mode": {
    "name": "ipython",
    "version": 3
   },
   "file_extension": ".py",
   "mimetype": "text/x-python",
   "name": "python",
   "nbconvert_exporter": "python",
   "pygments_lexer": "ipython3",
   "version": "3.10.8"
  }
 },
 "nbformat": 4,
 "nbformat_minor": 5
}
