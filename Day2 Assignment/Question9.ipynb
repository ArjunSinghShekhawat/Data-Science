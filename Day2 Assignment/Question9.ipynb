{
 "cells": [
  {
   "cell_type": "code",
   "execution_count": null,
   "id": "fc685ac4-999a-4dfd-95ac-94afc8460ad4",
   "metadata": {},
   "outputs": [],
   "source": [
    "#print \"hello world!\" and extract \"world\"."
   ]
  },
  {
   "cell_type": "code",
   "execution_count": 1,
   "id": "fedd36c3-942b-4d06-bf61-09dbb0e4c94d",
   "metadata": {},
   "outputs": [],
   "source": [
    "str1 = \"hellow world!\""
   ]
  },
  {
   "cell_type": "code",
   "execution_count": 2,
   "id": "f9049c9c-3625-4a3f-9774-cad853e44617",
   "metadata": {},
   "outputs": [
    {
     "data": {
      "text/plain": [
       "'hellow world!'"
      ]
     },
     "execution_count": 2,
     "metadata": {},
     "output_type": "execute_result"
    }
   ],
   "source": [
    "str1"
   ]
  },
  {
   "cell_type": "code",
   "execution_count": 3,
   "id": "ed18ac69-707d-4bc8-86dd-c55f0800d3fc",
   "metadata": {},
   "outputs": [
    {
     "data": {
      "text/plain": [
       "'world'"
      ]
     },
     "execution_count": 3,
     "metadata": {},
     "output_type": "execute_result"
    }
   ],
   "source": [
    "str1[7:12:1]"
   ]
  },
  {
   "cell_type": "code",
   "execution_count": null,
   "id": "ab7379e5-6080-461d-afc8-c6cac412379e",
   "metadata": {},
   "outputs": [],
   "source": []
  }
 ],
 "metadata": {
  "kernelspec": {
   "display_name": "Python 3 (ipykernel)",
   "language": "python",
   "name": "python3"
  },
  "language_info": {
   "codemirror_mode": {
    "name": "ipython",
    "version": 3
   },
   "file_extension": ".py",
   "mimetype": "text/x-python",
   "name": "python",
   "nbconvert_exporter": "python",
   "pygments_lexer": "ipython3",
   "version": "3.10.8"
  }
 },
 "nbformat": 4,
 "nbformat_minor": 5
}
