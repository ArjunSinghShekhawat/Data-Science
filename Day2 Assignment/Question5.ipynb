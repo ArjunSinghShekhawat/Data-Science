{
 "cells": [
  {
   "cell_type": "code",
   "execution_count": 1,
   "id": "bd93231a-8766-4521-837d-556d4eee1b2c",
   "metadata": {},
   "outputs": [],
   "source": [
    "#complex number -> the combination of real and imaginary number is called complex number \n",
    "_vector = 12+89j"
   ]
  },
  {
   "cell_type": "code",
   "execution_count": 2,
   "id": "561af883-ecff-44b2-8734-830113b4274c",
   "metadata": {},
   "outputs": [
    {
     "data": {
      "text/plain": [
       "(12+89j)"
      ]
     },
     "execution_count": 2,
     "metadata": {},
     "output_type": "execute_result"
    }
   ],
   "source": [
    "_vector"
   ]
  },
  {
   "cell_type": "code",
   "execution_count": 3,
   "id": "8584173e-2122-4c4e-89fd-3937116d860d",
   "metadata": {},
   "outputs": [
    {
     "data": {
      "text/plain": [
       "12.0"
      ]
     },
     "execution_count": 3,
     "metadata": {},
     "output_type": "execute_result"
    }
   ],
   "source": [
    "_vector.real"
   ]
  },
  {
   "cell_type": "code",
   "execution_count": 4,
   "id": "72b3753e-14ef-498d-a1ec-923bcd4b6bad",
   "metadata": {},
   "outputs": [
    {
     "data": {
      "text/plain": [
       "89.0"
      ]
     },
     "execution_count": 4,
     "metadata": {},
     "output_type": "execute_result"
    }
   ],
   "source": [
    "_vector.imag"
   ]
  },
  {
   "cell_type": "code",
   "execution_count": null,
   "id": "2d571e03-c9fd-4426-bbfd-5aa70119cce0",
   "metadata": {},
   "outputs": [],
   "source": []
  }
 ],
 "metadata": {
  "kernelspec": {
   "display_name": "Python 3 (ipykernel)",
   "language": "python",
   "name": "python3"
  },
  "language_info": {
   "codemirror_mode": {
    "name": "ipython",
    "version": 3
   },
   "file_extension": ".py",
   "mimetype": "text/x-python",
   "name": "python",
   "nbconvert_exporter": "python",
   "pygments_lexer": "ipython3",
   "version": "3.10.8"
  }
 },
 "nbformat": 4,
 "nbformat_minor": 5
}
