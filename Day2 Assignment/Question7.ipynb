{
 "cells": [
  {
   "cell_type": "code",
   "execution_count": null,
   "id": "5d4f3836-8568-4edd-be2d-dd54f3aa72c1",
   "metadata": {},
   "outputs": [],
   "source": [
    "#variable name price and assign the value 9.99 and given the type of variable"
   ]
  },
  {
   "cell_type": "code",
   "execution_count": 1,
   "id": "0b644ec3-151b-4d88-9cb4-d0c06d39d6e5",
   "metadata": {},
   "outputs": [],
   "source": [
    "price = 9.99"
   ]
  },
  {
   "cell_type": "code",
   "execution_count": 2,
   "id": "b4613bfb-6a17-45ce-aa11-730997f13fd4",
   "metadata": {},
   "outputs": [
    {
     "data": {
      "text/plain": [
       "9.99"
      ]
     },
     "execution_count": 2,
     "metadata": {},
     "output_type": "execute_result"
    }
   ],
   "source": [
    "price"
   ]
  },
  {
   "cell_type": "code",
   "execution_count": 3,
   "id": "6655df0b-7870-4dfd-a340-baa15a789212",
   "metadata": {},
   "outputs": [
    {
     "data": {
      "text/plain": [
       "float"
      ]
     },
     "execution_count": 3,
     "metadata": {},
     "output_type": "execute_result"
    }
   ],
   "source": [
    "type(price)"
   ]
  }
 ],
 "metadata": {
  "kernelspec": {
   "display_name": "Python 3 (ipykernel)",
   "language": "python",
   "name": "python3"
  },
  "language_info": {
   "codemirror_mode": {
    "name": "ipython",
    "version": 3
   },
   "file_extension": ".py",
   "mimetype": "text/x-python",
   "name": "python",
   "nbconvert_exporter": "python",
   "pygments_lexer": "ipython3",
   "version": "3.10.8"
  }
 },
 "nbformat": 4,
 "nbformat_minor": 5
}
