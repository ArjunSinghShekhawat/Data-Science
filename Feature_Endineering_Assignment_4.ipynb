{
 "cells": [
  {
   "cell_type": "code",
   "execution_count": null,
   "id": "9cb5a4bd-b5d0-41dd-86f0-1768c8ba61a3",
   "metadata": {},
   "outputs": [],
   "source": [
    "\"\"\"\n",
    "Q1. What is data encoding? How is it useful in data science?\n",
    "Q2. What is nominal encoding? Provide an example of how you would use it in a real-world scenario.\n",
    "Q3. In what situations is nominal encoding preferred over one-hot encoding? Provide a practical example.\n",
    "Q4. Suppose you have a dataset containing categorical data with 5 unique values. Which encoding\n",
    "technique would you use to transform this data into a format suitable for machine learning algorithms?\n",
    "Explain why you made this choice.\n",
    "Q5. In a machine learning project, you have a dataset with 1000 rows and 5 columns. Two of the columns\n",
    "are categorical, and the remaining three columns are numerical. If you were to use nominal encoding to\n",
    "transform the categorical data, how many new columns would be created? Show your calculations.\n",
    "Q6. You are working with a dataset containing information about different types of animals, including their\n",
    "species, habitat, and diet. Which encoding technique would you use to transform the categorical data into\n",
    "a format suitable for machine learning algorithms? Justify your answer.\n",
    "Q7.You are working on a project that involves predicting customer churn for a telecommunications\n",
    "company. You have a dataset with 5 features, including the customer's gender, age, contract type,\n",
    "monthly charges, and tenure. Which encoding technique(s) would you use to transform the categorical\n",
    "data into numerical data? Provide a step-by-step explanation of how you would implement the encoding.\n",
    "\"\"\""
   ]
  },
  {
   "cell_type": "markdown",
   "id": "7df25129-6a24-47b6-9930-c395aaf108b1",
   "metadata": {},
   "source": [
    "Q1: Data encoding is the process of converting categorical data (text-based) into numerical format for machine learning. It's useful for algorithms that require numerical input, allowing data science models to work with categorical features.\n",
    "\n",
    "Q2: Nominal encoding assigns a unique numerical value to each category without imposing any ordinal relationship. Example: Encoding different car models (Toyota, Honda, Ford) as 1, 2, 3.\n",
    "\n",
    "Q3: Nominal encoding is preferred over one-hot encoding when categories don't have a hierarchical relationship or when dealing with high-cardinality data. Example: Colors of products in an e-commerce catalog.\n",
    "\n",
    "Q4: To transform data with 5 unique values into a format suitable for machine learning, nominal encoding is a suitable choice. It doesn't introduce excessive dimensionality and is straightforward for small categorical data.\n",
    "\n",
    "Q5: Nominal encoding creates \\(N-1\\) new columns for \\(N\\) unique categories. In this case, with 5 unique values, it would generate 4 new columns.\n",
    "\n",
    "Q6: For the dataset on animals, nominal encoding is suitable for species, habitat, and diet, as these categories don't imply any order or hierarchy. It preserves category information effectively.\n",
    "\n",
    "Q7: To transform categorical data into numerical data for the customer churn dataset:\n",
    "1. For the \"gender\" feature, use binary encoding (0 for one category, 1 for the other).\n",
    "2. \"Contract type\" can be encoded using nominal encoding (1, 2, 3, etc., for different contract types) if they are non-ordinal.\n",
    "3. Leave the numerical features \"age,\" \"monthly charges,\" and \"tenure\" as they are since they are already in numerical format."
   ]
  }
 ],
 "metadata": {
  "kernelspec": {
   "display_name": "Python 3 (ipykernel)",
   "language": "python",
   "name": "python3"
  },
  "language_info": {
   "codemirror_mode": {
    "name": "ipython",
    "version": 3
   },
   "file_extension": ".py",
   "mimetype": "text/x-python",
   "name": "python",
   "nbconvert_exporter": "python",
   "pygments_lexer": "ipython3",
   "version": "3.10.8"
  }
 },
 "nbformat": 4,
 "nbformat_minor": 5
}
