{
 "cells": [
  {
   "cell_type": "markdown",
   "id": "01bb36d2-f757-41a3-9954-eeb092bf9adb",
   "metadata": {},
   "source": [
    "Q1- Explain the following with an Examples\n",
    "1) Artificial Intelligence\n",
    "2) Machine Learning,\n",
    "3) Deep Learning"
   ]
  },
  {
   "cell_type": "markdown",
   "id": "0297f0d3-49d3-4f39-a0be-ec5343663aa4",
   "metadata": {},
   "source": [
    "Answer 1-:"
   ]
  },
  {
   "cell_type": "markdown",
   "id": "149ed0d0-e011-4ddf-9086-3b4d8dd36d58",
   "metadata": {},
   "source": [
    "\n",
    "1.Artificial Intelligence - AI is a smart application that can perform its own task without any human intervention ex- robots,self derive car alexa etc."
   ]
  },
  {
   "cell_type": "markdown",
   "id": "85cf7005-e4b9-4594-8e3a-cebc423d23e5",
   "metadata": {},
   "source": [
    "2.Machine Learning - Ml is a subset of AI. It provides statstool to analyze and visualize , predictive models forcasting."
   ]
  },
  {
   "cell_type": "markdown",
   "id": "9042f92b-49c4-4674-adaa-af2c72d9f932",
   "metadata": {},
   "source": [
    "3.Deep Learning - DL is used to mimic the human brain. like object dedectitation etc."
   ]
  },
  {
   "cell_type": "markdown",
   "id": "1c951a67-d615-4ec3-b97a-569a317abdb4",
   "metadata": {},
   "source": [
    "Q2- What is supervised learninig List some Examples of supervised learning."
   ]
  },
  {
   "cell_type": "markdown",
   "id": "474a082b-e40c-443d-ab89-e4a8a8d8fc58",
   "metadata": {},
   "source": [
    "Answer 2-:"
   ]
  },
  {
   "cell_type": "markdown",
   "id": "0026f644-c286-4e7c-b7ae-d88a60abfef2",
   "metadata": {},
   "source": [
    "Supervised learning  = Supervised learning is divided two part.\n",
    "\n",
    "1.Classification  \n",
    "\n",
    "2.Regression"
   ]
  },
  {
   "cell_type": "markdown",
   "id": "1a633afc-2aa8-4d63-bd36-93376bd4e371",
   "metadata": {},
   "source": [
    "1.Classification - In which output is dependent on the input data and output and output will be categorical formate."
   ]
  },
  {
   "cell_type": "markdown",
   "id": "0016386c-bf8f-4baf-9ad6-c2c8f4b43fcf",
   "metadata": {},
   "source": [
    "2.Regression - In which output is dependent on input data but output feature will be continues formate."
   ]
  },
  {
   "cell_type": "markdown",
   "id": "67147621-54a0-4331-acc3-c624be4c17b8",
   "metadata": {},
   "source": [
    "Example - > student exam marks and play hours increase then marks decrease and study increase then exam marks increase is a real world example of classification supervised learning."
   ]
  },
  {
   "cell_type": "markdown",
   "id": "0f4a8273-e06a-4968-9095-731b6a29ee3d",
   "metadata": {},
   "source": [
    "Example - House prediction is best example of Regresion supervised learning."
   ]
  },
  {
   "cell_type": "markdown",
   "id": "22a24fad-69fb-496b-9683-4f52cb51018f",
   "metadata": {},
   "source": [
    "Q3- What is unsupervised learning List some Examples of unsupervised learning."
   ]
  },
  {
   "cell_type": "markdown",
   "id": "c8c9ac82-9d2a-4039-a8a7-6f55ff6988b3",
   "metadata": {},
   "source": [
    "Answer 3-:"
   ]
  },
  {
   "cell_type": "markdown",
   "id": "ad52bb37-2b5d-4b74-a914-390e8da4c12d",
   "metadata": {},
   "source": [
    "unsupervised learning - In which learning no output data produce.In which learning make cluster of similar data set and make decision."
   ]
  },
  {
   "cell_type": "markdown",
   "id": "0d832655-f566-4167-b8c4-16a0357d2023",
   "metadata": {},
   "source": [
    "Example - Sell a watches and given coupen code then check the cluster and where the cluster of data is large and salary and expenditure both are mode to given a coupen code of purchase watches this is example of unsupervised learning."
   ]
  },
  {
   "cell_type": "markdown",
   "id": "b8551ace-b3b7-438c-827b-4c268c8aca6b",
   "metadata": {},
   "source": [
    "Q4- What is the difference between AI, ML, DL, and DS?"
   ]
  },
  {
   "cell_type": "markdown",
   "id": "79f8c6e2-e61a-430f-b7fc-3d8a2d8ed7cb",
   "metadata": {},
   "source": [
    "Answer 4-:"
   ]
  },
  {
   "cell_type": "markdown",
   "id": "4dbbc489-1365-4718-a99f-b5d4595c84c1",
   "metadata": {},
   "source": [
    "AI = AI is a complete application which is perform without human intervention.\n",
    "\n",
    "ML = ML is a subset of AI so that it is provides statstool to anayize , visualize to predictive models forcasting.\n",
    "\n",
    "DS = DS is work in all factors like AI,ML,DL."
   ]
  },
  {
   "cell_type": "markdown",
   "id": "b9bec716-3b2d-46ea-b359-8be2ea3a271b",
   "metadata": {},
   "source": [
    "Q5- What are the main differences between supervised, unsupervised, and semi-supervised learning."
   ]
  },
  {
   "cell_type": "markdown",
   "id": "79f2932c-90bc-4dc3-a8da-dd2d1a1cc156",
   "metadata": {},
   "source": [
    "Answer 5-:"
   ]
  },
  {
   "cell_type": "markdown",
   "id": "47197553-3b74-4d5c-a4a2-955a1be02587",
   "metadata": {},
   "source": [
    "Supervised learning   = Output.\n",
    "\n",
    "Unsupervised learning = No Output\n",
    "\n",
    "Semi - Supervised = Combination of supervised and unsupervised learning."
   ]
  },
  {
   "cell_type": "markdown",
   "id": "6b7254fd-99eb-443c-a436-848aacc34ebe",
   "metadata": {},
   "source": [
    "Q6- What is train, test and validation split Explain the importance of each term."
   ]
  },
  {
   "cell_type": "markdown",
   "id": "488116e1-0d2d-4e98-bab5-2b95d2655e3a",
   "metadata": {},
   "source": [
    "Answer 6-:"
   ]
  },
  {
   "cell_type": "markdown",
   "id": "b275edca-9849-469d-8933-5a00c6ab7811",
   "metadata": {},
   "source": [
    "Train Data - we will train our model.\n",
    "\n",
    "Validation Data - Hyper tuning of the model.\n",
    "\n",
    "Test Data - Model will be test.\n",
    "\n",
    "Importance - :\n",
    "    \n",
    "Train Data is used to train the our model.\n",
    "\n",
    "Validation Data is used to increase the accuracy of our model.\n",
    "\n",
    "Test Data is used to test the our model."
   ]
  },
  {
   "cell_type": "markdown",
   "id": "26fd5ce7-48d9-4de8-a504-224926d5dea7",
   "metadata": {},
   "source": [
    "Q7- How can unsupervised learning be used in anomaly detection."
   ]
  },
  {
   "cell_type": "markdown",
   "id": "f3697925-07b4-4038-a53f-5e50d977e7c5",
   "metadata": {},
   "source": [
    "Answer 7-:"
   ]
  },
  {
   "cell_type": "markdown",
   "id": "843aa3a9-c875-44ce-904b-55a7a2560475",
   "metadata": {},
   "source": [
    "Unsupervised learning can be used in anomaly detection by allowing the algorithm to learn patterns and characteristics of normal data without requiring labeled examples of anomalies. \n",
    "\n",
    "Data Representation:\n",
    "    \n",
    "Select an Unsupervised Algorithm:\n",
    "    \n",
    "Train the Model:\n",
    "    \n",
    "Anomaly Detection:"
   ]
  },
  {
   "cell_type": "markdown",
   "id": "8cfdafd2-09be-47c9-804f-820505dc42bf",
   "metadata": {},
   "source": [
    "Q8- List down some commonly used supervised learning algorithms and unsupervised learning\n",
    "algorithms."
   ]
  },
  {
   "cell_type": "markdown",
   "id": "1bb8fd3a-3bd7-4511-84e2-935b169636b3",
   "metadata": {},
   "source": [
    "Answer 8-:"
   ]
  },
  {
   "cell_type": "markdown",
   "id": "39139c3c-4654-47fd-9e7b-1686a7b08040",
   "metadata": {},
   "source": [
    "Supervised Learning Algorithms:\n",
    "\n",
    "Linear Regression\n",
    "\n",
    "Logistic Regression\n",
    "\n",
    "Decision Trees\n",
    "\n",
    "Random Forest\n",
    "\n",
    "Support Vector Machines (SVM)\n",
    "\n",
    "k-Nearest Neighbors (k-NN)\n",
    "\n",
    "Naive Bayes\n",
    "\n",
    "Gradient Boosting (e.g., XGBoost, LightGBM)\n",
    "\n",
    "Neural Networks (Deep Learning)\n",
    "\n",
    "Linear Discriminant Analysis (LDA)\n",
    "\n",
    "Unsupervised Learning Algorithms:\n",
    "\n",
    "K-Means Clustering\n",
    "\n",
    "Hierarchical Clustering\n",
    "\n",
    "DBSCAN (Density-Based Spatial Clustering of Applications with Noise)\n",
    "\n",
    "Gaussian Mixture Models (GMM)\n",
    "\n",
    "Principal Component Analysis (PCA)\n",
    "\n",
    "t-Distributed Stochastic Neighbor Embedding (t-SNE)\n",
    "\n",
    "\n",
    "\n",
    "\n",
    "\n"
   ]
  },
  {
   "cell_type": "code",
   "execution_count": null,
   "id": "9855cce0-bb12-4484-88bd-103bb598b3a4",
   "metadata": {},
   "outputs": [],
   "source": []
  }
 ],
 "metadata": {
  "kernelspec": {
   "display_name": "Python 3 (ipykernel)",
   "language": "python",
   "name": "python3"
  },
  "language_info": {
   "codemirror_mode": {
    "name": "ipython",
    "version": 3
   },
   "file_extension": ".py",
   "mimetype": "text/x-python",
   "name": "python",
   "nbconvert_exporter": "python",
   "pygments_lexer": "ipython3",
   "version": "3.10.8"
  }
 },
 "nbformat": 4,
 "nbformat_minor": 5
}
