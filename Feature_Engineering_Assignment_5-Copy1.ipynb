{
 "cells": [
  {
   "cell_type": "code",
   "execution_count": null,
   "id": "2b41bc9f-b77a-4c07-aee4-5da9614a6928",
   "metadata": {},
   "outputs": [],
   "source": [
    "\"\"\"\n",
    "Q1. What is the difference between Ordinal Encoding and Label Encoding? Provide an example of when you\n",
    "might choose one over the other.\n",
    "Q2. Explain how Target Guided Ordinal Encoding works and provide an example of when you might use it in\n",
    "a machine learning project.\n",
    "Q3. Define covariance and explain why it is important in statistical analysis. How is covariance calculated?\n",
    "Q4. For a dataset with the following categorical variables: Color (red, green, blue), Size (small, medium,\n",
    "large), and Material (wood, metal, plastic), perform label encoding using Python's scikit-learn library.\n",
    "Show your code and explain the output.\n",
    "Q5. Calculate the covariance matrix for the following variables in a dataset: Age, Income, and Education\n",
    "level. Interpret the results.\n",
    "Q6. You are working on a machine learning project with a dataset containing several categorical\n",
    "variables, including \"Gender\" (Male/Female), \"Education Level\" (High School/Bachelor's/Master's/PhD),\n",
    "and \"Employment Status\" (Unemployed/Part-Time/Full-Time). Which encoding method would you use for\n",
    "each variable, and why?\n",
    "Q7. You are analyzing a dataset with two continuous variables, \"Temperature\" and \"Humidity\", and two\n",
    "categorical variables, \"Weather Condition\" (Sunny/Cloudy/Rainy) and \"Wind Direction\" (North/South/\n",
    "East/West). Calculate the covariance between each pair of variables and interpret the results.\n",
    "\"\"\""
   ]
  },
  {
   "cell_type": "markdown",
   "id": "bb08f044-5fe5-46ac-82af-a242a74e6450",
   "metadata": {},
   "source": [
    "Q1: Ordinal Encoding assigns numerical values based on the order or rank of categories. Label Encoding assigns arbitrary numerical labels to categories. Use Ordinal Encoding for ordered categories like education levels (low, medium, high) and Label Encoding when there's no inherent order, like city names.\n",
    "\n",
    "Q2: Target Guided Ordinal Encoding maps categories based on their relationship with the target variable. For example, encoding customer credit scores as ordinal values (poor, fair, good) based on their default risk.\n",
    "\n",
    "Q3: Covariance measures the degree to which two random variables change together. It's important for understanding the relationship between variables. Covariance is calculated using the formula: \\(\\text{Cov}(X, Y) = \\frac{\\sum{(X_i - \\bar{X})(Y_i - \\bar{Y})}}{n - 1}\\).\n",
    "\n",
    "Q4: Here's an example of label encoding in Python using scikit-learn:\n",
    "\n",
    "\n",
    "from sklearn.preprocessing import LabelEncoder\n",
    "\n",
    "data = ['red', 'green', 'blue', 'small', 'medium', 'large', 'wood', 'metal', 'plastic']\n",
    "encoder = LabelEncoder()\n",
    "encoded_data = encoder.fit_transform(data)\n",
    "print(encoded_data)\n",
    "\n",
    "\n",
    "The output will be a list of numerical labels for each category in the same order as the input data.\n",
    "\n",
    "Q5: Calculating the covariance matrix for Age, Income, and Education Level in a dataset shows how these variables co-vary. Interpretation depends on the values, but positive values indicate a positive relationship, while negative values indicate a negative relationship.\n",
    "\n",
    "Q6: Encoding method selection for each variable:\n",
    "- \"Gender\": Label Encoding (binary, 0 or 1) because there's no ordinal relationship.\n",
    "- \"Education Level\": Ordinal Encoding (e.g., 1 for High School, 2 for Bachelor's) as it has a natural order.\n",
    "- \"Employment Status\": Nominal Encoding (unique labels, 1 for Unemployed, 2 for Part-Time) because there's no ordinal relationship.\n",
    "\n",
    "Q7: Calculate covariance between pairs:\n",
    "- \"Temperature\" and \"Humidity\": Positive covariance indicates they tend to increase together in similar conditions.\n",
    "- \"Weather Condition\" and \"Wind Direction\": Covariance depends on the specific dataset and how these variables are related; interpretation varies."
   ]
  }
 ],
 "metadata": {
  "kernelspec": {
   "display_name": "Python 3 (ipykernel)",
   "language": "python",
   "name": "python3"
  },
  "language_info": {
   "codemirror_mode": {
    "name": "ipython",
    "version": 3
   },
   "file_extension": ".py",
   "mimetype": "text/x-python",
   "name": "python",
   "nbconvert_exporter": "python",
   "pygments_lexer": "ipython3",
   "version": "3.10.8"
  }
 },
 "nbformat": 4,
 "nbformat_minor": 5
}
