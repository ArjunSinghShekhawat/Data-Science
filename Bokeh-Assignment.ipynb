{
 "cells": [
  {
   "cell_type": "code",
   "execution_count": null,
   "id": "9a904e3c-a6c5-42eb-a396-6701385685e6",
   "metadata": {},
   "outputs": [],
   "source": [
    "\"\"\"\n",
    "Q1. How can you create a Bokeh plot using Python code?\n",
    "Q2. What are glyphs in Bokeh, and how can you add them to a Bokeh plot? Explain with an example.\n",
    "Q3. How can you customize the appearance of a Bokeh plot, including the axes, title, and legend?\n",
    "Q4. What is a Bokeh server, and how can you use it to create interactive plots that can be updated in\n",
    "real time?\n",
    "Q5. How can you embed a Bokeh plot into a web page or dashboard using Flask or Django?\n",
    "\"\"\""
   ]
  },
  {
   "cell_type": "markdown",
   "id": "ae980edc-6c7f-47fb-9771-f11e34ca2652",
   "metadata": {},
   "source": [
    "Q1. To create a Bokeh plot in Python, you can use the Bokeh library. Here's a basic example of creating a scatter plot:\n",
    "\n",
    "```python\n",
    "from bokeh.plotting import figure, show\n",
    "\n",
    "plot = figure(plot_width=400, plot_height=400)\n",
    "plot.circle([1, 2, 3, 4, 5], [6, 7, 2, 4, 5])\n",
    "\n",
    "show(plot)\n",
    "```\n",
    "\n",
    "Q2. Glyphs in Bokeh are the visual elements of a plot, such as circles, lines, or bars. You can add them using methods like `circle()`, `line()`, or `rect()` on a figure object. For example, to add a circle glyph to a plot:\n",
    "\n",
    "```python\n",
    "plot.circle(x=[1, 2, 3], y=[4, 5, 6])\n",
    "```\n",
    "\n",
    "Q3. You can customize a Bokeh plot by using various attributes and methods. For instance, to customize axes, title, and legend:\n",
    "\n",
    "```python\n",
    "plot.xaxis.axis_label = \"X-axis Label\"\n",
    "plot.yaxis.axis_label = \"Y-axis Label\"\n",
    "plot.title.text = \"Customized Bokeh Plot\"\n",
    "plot.legend.title = \"Legend Title\"\n",
    "```\n",
    "\n",
    "Q4. A Bokeh server is a tool for creating interactive web applications with Bokeh. It allows you to update plots in real-time. To use it, you define a function that sets up your plot, and the server automatically updates the plot as users interact with it. You can run a Bokeh server application with the `bokeh serve` command.\n",
    "\n",
    "Q5. To embed a Bokeh plot into a web page or dashboard using Flask or Django, you need to create a Bokeh plot, save it as an HTML file, and then include this HTML file in your web application template. You can generate the HTML file using `output_file()` or `save()` in Bokeh and then render it within your Flask or Django template to display the plot on a web page or dashboard."
   ]
  },
  {
   "cell_type": "code",
   "execution_count": null,
   "id": "8cb524c3-43fd-410b-bf19-e5be815585d9",
   "metadata": {},
   "outputs": [],
   "source": []
  }
 ],
 "metadata": {
  "kernelspec": {
   "display_name": "Python 3 (ipykernel)",
   "language": "python",
   "name": "python3"
  },
  "language_info": {
   "codemirror_mode": {
    "name": "ipython",
    "version": 3
   },
   "file_extension": ".py",
   "mimetype": "text/x-python",
   "name": "python",
   "nbconvert_exporter": "python",
   "pygments_lexer": "ipython3",
   "version": "3.10.8"
  }
 },
 "nbformat": 4,
 "nbformat_minor": 5
}
