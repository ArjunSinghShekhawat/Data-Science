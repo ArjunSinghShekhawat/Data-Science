{
 "cells": [
  {
   "cell_type": "markdown",
   "id": "36f4424d-f623-46bd-b63c-048d07103632",
   "metadata": {},
   "source": [
    "Variable - Variable is a container in which store multiple data in simple term variable is a container and memory location."
   ]
  },
  {
   "cell_type": "code",
   "execution_count": 1,
   "id": "99b856e9-47f2-4c60-bb63-ab54b99ab7d0",
   "metadata": {},
   "outputs": [],
   "source": [
    "age = 21"
   ]
  },
  {
   "cell_type": "code",
   "execution_count": 2,
   "id": "002c8e28-f5e9-414e-b71b-bc881303929a",
   "metadata": {},
   "outputs": [
    {
     "data": {
      "text/plain": [
       "21"
      ]
     },
     "execution_count": 2,
     "metadata": {},
     "output_type": "execute_result"
    }
   ],
   "source": [
    "age"
   ]
  },
  {
   "cell_type": "code",
   "execution_count": 3,
   "id": "1215bb99-eac2-4794-8efa-67e67d3ae9b8",
   "metadata": {},
   "outputs": [
    {
     "data": {
      "text/plain": [
       "int"
      ]
     },
     "execution_count": 3,
     "metadata": {},
     "output_type": "execute_result"
    }
   ],
   "source": [
    "type(age)"
   ]
  },
  {
   "cell_type": "code",
   "execution_count": 4,
   "id": "244c8f6b-44de-4059-abb1-54ad45480ad6",
   "metadata": {},
   "outputs": [],
   "source": [
    "marks = 98.54"
   ]
  },
  {
   "cell_type": "code",
   "execution_count": 5,
   "id": "e34de147-5625-47cd-9afc-12fa4a83d113",
   "metadata": {},
   "outputs": [
    {
     "data": {
      "text/plain": [
       "98.54"
      ]
     },
     "execution_count": 5,
     "metadata": {},
     "output_type": "execute_result"
    }
   ],
   "source": [
    "marks"
   ]
  },
  {
   "cell_type": "code",
   "execution_count": 6,
   "id": "2d0bb58e-590d-48c8-a0fc-be02f61efa93",
   "metadata": {},
   "outputs": [
    {
     "data": {
      "text/plain": [
       "float"
      ]
     },
     "execution_count": 6,
     "metadata": {},
     "output_type": "execute_result"
    }
   ],
   "source": [
    "type(marks)"
   ]
  },
  {
   "cell_type": "code",
   "execution_count": 7,
   "id": "2fbc97fd-1919-4189-940b-327cd82b39f6",
   "metadata": {},
   "outputs": [],
   "source": [
    "name = \"arjun singh\""
   ]
  },
  {
   "cell_type": "code",
   "execution_count": 8,
   "id": "504a0ff1-7c74-42ba-9669-cc42fdfa23ec",
   "metadata": {},
   "outputs": [
    {
     "data": {
      "text/plain": [
       "'arjun singh'"
      ]
     },
     "execution_count": 8,
     "metadata": {},
     "output_type": "execute_result"
    }
   ],
   "source": [
    "name"
   ]
  },
  {
   "cell_type": "code",
   "execution_count": 9,
   "id": "8571bfd2-49ef-46bb-a7c5-21fd60b1e7be",
   "metadata": {},
   "outputs": [
    {
     "data": {
      "text/plain": [
       "str"
      ]
     },
     "execution_count": 9,
     "metadata": {},
     "output_type": "execute_result"
    }
   ],
   "source": [
    "type(name)"
   ]
  },
  {
   "cell_type": "code",
   "execution_count": 10,
   "id": "0498b051-9328-47f7-b594-97572f3c5267",
   "metadata": {},
   "outputs": [],
   "source": [
    "isPrime = True"
   ]
  },
  {
   "cell_type": "code",
   "execution_count": 11,
   "id": "d18a8a05-97f5-4eb8-bffd-91f56d7036c4",
   "metadata": {},
   "outputs": [
    {
     "data": {
      "text/plain": [
       "True"
      ]
     },
     "execution_count": 11,
     "metadata": {},
     "output_type": "execute_result"
    }
   ],
   "source": [
    "isPrime"
   ]
  },
  {
   "cell_type": "code",
   "execution_count": 12,
   "id": "f0b1b251-0133-4be6-9b85-5d43adca5428",
   "metadata": {},
   "outputs": [
    {
     "data": {
      "text/plain": [
       "bool"
      ]
     },
     "execution_count": 12,
     "metadata": {},
     "output_type": "execute_result"
    }
   ],
   "source": [
    "type(isPrime)"
   ]
  },
  {
   "cell_type": "code",
   "execution_count": 13,
   "id": "2ec62861-1507-462c-ba1b-e65c05dcfaeb",
   "metadata": {},
   "outputs": [
    {
     "data": {
      "text/plain": [
       "1"
      ]
     },
     "execution_count": 13,
     "metadata": {},
     "output_type": "execute_result"
    }
   ],
   "source": [
    "True+False"
   ]
  },
  {
   "cell_type": "code",
   "execution_count": 14,
   "id": "80223a41-556c-4447-a3bd-8397b0f6e93b",
   "metadata": {},
   "outputs": [
    {
     "data": {
      "text/plain": [
       "2"
      ]
     },
     "execution_count": 14,
     "metadata": {},
     "output_type": "execute_result"
    }
   ],
   "source": [
    "True+True"
   ]
  },
  {
   "cell_type": "code",
   "execution_count": 15,
   "id": "bcd9bc48-c1ed-4d78-807b-a85652ae892b",
   "metadata": {},
   "outputs": [
    {
     "data": {
      "text/plain": [
       "-1"
      ]
     },
     "execution_count": 15,
     "metadata": {},
     "output_type": "execute_result"
    }
   ],
   "source": [
    "False-True"
   ]
  },
  {
   "cell_type": "code",
   "execution_count": 16,
   "id": "e5429f81-538f-4a8d-a1ba-76f5e63c02ff",
   "metadata": {},
   "outputs": [
    {
     "data": {
      "text/plain": [
       "0"
      ]
     },
     "execution_count": 16,
     "metadata": {},
     "output_type": "execute_result"
    }
   ],
   "source": [
    "False - False"
   ]
  },
  {
   "cell_type": "code",
   "execution_count": 17,
   "id": "36761f66-2953-4165-b610-103d43526a7e",
   "metadata": {},
   "outputs": [
    {
     "ename": "ZeroDivisionError",
     "evalue": "division by zero",
     "output_type": "error",
     "traceback": [
      "\u001b[0;31m---------------------------------------------------------------------------\u001b[0m",
      "\u001b[0;31mZeroDivisionError\u001b[0m                         Traceback (most recent call last)",
      "Cell \u001b[0;32mIn[17], line 1\u001b[0m\n\u001b[0;32m----> 1\u001b[0m \u001b[38;5;28;43;01mTrue\u001b[39;49;00m\u001b[38;5;241;43m/\u001b[39;49m\u001b[38;5;28;43;01mFalse\u001b[39;49;00m\u001b[38;5;66;03m#zero division error\u001b[39;00m\n",
      "\u001b[0;31mZeroDivisionError\u001b[0m: division by zero"
     ]
    }
   ],
   "source": [
    "True/False#zero division error"
   ]
  },
  {
   "cell_type": "code",
   "execution_count": 18,
   "id": "7e1b618f-061a-4683-aaad-7eda59d41de1",
   "metadata": {},
   "outputs": [
    {
     "data": {
      "text/plain": [
       "0"
      ]
     },
     "execution_count": 18,
     "metadata": {},
     "output_type": "execute_result"
    }
   ],
   "source": [
    "True*False"
   ]
  },
  {
   "cell_type": "code",
   "execution_count": 19,
   "id": "510d9ca1-2f8f-41b5-b1dd-c623625849b3",
   "metadata": {},
   "outputs": [],
   "source": [
    "vector1 = 12+9j"
   ]
  },
  {
   "cell_type": "code",
   "execution_count": 20,
   "id": "88dea761-5b7d-49da-aab0-7f996225ad73",
   "metadata": {},
   "outputs": [
    {
     "data": {
      "text/plain": [
       "(12+9j)"
      ]
     },
     "execution_count": 20,
     "metadata": {},
     "output_type": "execute_result"
    }
   ],
   "source": [
    "vector1"
   ]
  },
  {
   "cell_type": "code",
   "execution_count": 21,
   "id": "b5a431e4-7cb9-4efe-8f90-860fcd1cd816",
   "metadata": {},
   "outputs": [
    {
     "data": {
      "text/plain": [
       "12.0"
      ]
     },
     "execution_count": 21,
     "metadata": {},
     "output_type": "execute_result"
    }
   ],
   "source": [
    "vector1.real"
   ]
  },
  {
   "cell_type": "code",
   "execution_count": 23,
   "id": "e7543b01-4283-4829-b236-ad350fd62b66",
   "metadata": {},
   "outputs": [
    {
     "data": {
      "text/plain": [
       "9.0"
      ]
     },
     "execution_count": 23,
     "metadata": {},
     "output_type": "execute_result"
    }
   ],
   "source": [
    "vector1.imag"
   ]
  },
  {
   "cell_type": "code",
   "execution_count": 24,
   "id": "0e3aece0-2fca-4309-a6e1-dfe56080bdd1",
   "metadata": {},
   "outputs": [
    {
     "data": {
      "text/plain": [
       "complex"
      ]
     },
     "execution_count": 24,
     "metadata": {},
     "output_type": "execute_result"
    }
   ],
   "source": [
    "type(vector1)"
   ]
  },
  {
   "cell_type": "code",
   "execution_count": 25,
   "id": "25211d83-97fa-4ee2-b902-0c8eb3de88c1",
   "metadata": {},
   "outputs": [],
   "source": [
    "vector2 = complex(12,32)"
   ]
  },
  {
   "cell_type": "code",
   "execution_count": 26,
   "id": "a351f115-8eb9-4e59-a870-3b223a9ddd64",
   "metadata": {},
   "outputs": [
    {
     "data": {
      "text/plain": [
       "(12+32j)"
      ]
     },
     "execution_count": 26,
     "metadata": {},
     "output_type": "execute_result"
    }
   ],
   "source": [
    "vector2"
   ]
  },
  {
   "cell_type": "code",
   "execution_count": 28,
   "id": "118a2d63-015e-4b9f-badb-66b7359ed29b",
   "metadata": {},
   "outputs": [
    {
     "data": {
      "text/plain": [
       "12.0"
      ]
     },
     "execution_count": 28,
     "metadata": {},
     "output_type": "execute_result"
    }
   ],
   "source": [
    "vector2.real"
   ]
  },
  {
   "cell_type": "code",
   "execution_count": 29,
   "id": "eb188bca-3745-4a6c-956d-86f8533af92d",
   "metadata": {},
   "outputs": [],
   "source": [
    "vector3  = complex(8)"
   ]
  },
  {
   "cell_type": "code",
   "execution_count": 30,
   "id": "b1ea02d0-fb13-4b83-aba0-0a2673a285bc",
   "metadata": {},
   "outputs": [
    {
     "data": {
      "text/plain": [
       "(8+0j)"
      ]
     },
     "execution_count": 30,
     "metadata": {},
     "output_type": "execute_result"
    }
   ],
   "source": [
    "vector3"
   ]
  },
  {
   "cell_type": "code",
   "execution_count": 31,
   "id": "1f2f9ba2-2a46-46fc-8704-31a95d2b3d9c",
   "metadata": {},
   "outputs": [
    {
     "data": {
      "text/plain": [
       "0.0"
      ]
     },
     "execution_count": 31,
     "metadata": {},
     "output_type": "execute_result"
    }
   ],
   "source": [
    "vector3.imag"
   ]
  },
  {
   "cell_type": "code",
   "execution_count": 32,
   "id": "718adc8f-a27f-4074-899e-22cfc252be0d",
   "metadata": {},
   "outputs": [],
   "source": [
    "a,b,c = \"arjun\",21,89.54"
   ]
  },
  {
   "cell_type": "code",
   "execution_count": 33,
   "id": "e1babe35-4219-4a81-8900-dc8a7169b755",
   "metadata": {},
   "outputs": [
    {
     "data": {
      "text/plain": [
       "'arjun'"
      ]
     },
     "execution_count": 33,
     "metadata": {},
     "output_type": "execute_result"
    }
   ],
   "source": [
    "a"
   ]
  },
  {
   "cell_type": "code",
   "execution_count": 34,
   "id": "2d4f0557-eab7-4ddb-ba2a-5ee5fe0fed7e",
   "metadata": {},
   "outputs": [
    {
     "name": "stdout",
     "output_type": "stream",
     "text": [
      "arjun 21 89.54\n"
     ]
    }
   ],
   "source": [
    "print(a,b,c)"
   ]
  },
  {
   "cell_type": "code",
   "execution_count": 35,
   "id": "9b283986-6acd-438a-b108-34ac166a716e",
   "metadata": {},
   "outputs": [],
   "source": [
    "list1 = [1,\"java\",89+8j]"
   ]
  },
  {
   "cell_type": "code",
   "execution_count": 36,
   "id": "fc9fa305-bbb8-47b8-807f-c62c005dccc7",
   "metadata": {},
   "outputs": [],
   "source": [
    "p,q,r = list1"
   ]
  },
  {
   "cell_type": "code",
   "execution_count": 37,
   "id": "48c63490-19c4-4700-8be4-af922baa3b0e",
   "metadata": {},
   "outputs": [
    {
     "name": "stdout",
     "output_type": "stream",
     "text": [
      "1 java (89+8j)\n"
     ]
    }
   ],
   "source": [
    "print(p,q,r)"
   ]
  },
  {
   "cell_type": "code",
   "execution_count": 38,
   "id": "2d6423e4-8472-4a7e-b8a3-486bb5dd1fcf",
   "metadata": {},
   "outputs": [
    {
     "data": {
      "text/plain": [
       "3"
      ]
     },
     "execution_count": 38,
     "metadata": {},
     "output_type": "execute_result"
    }
   ],
   "source": [
    "int('3')"
   ]
  },
  {
   "cell_type": "code",
   "execution_count": 39,
   "id": "2a7b81a4-dc9f-4495-b953-eef770b5fee5",
   "metadata": {},
   "outputs": [
    {
     "data": {
      "text/plain": [
       "int"
      ]
     },
     "execution_count": 39,
     "metadata": {},
     "output_type": "execute_result"
    }
   ],
   "source": [
    "type(int('3'))"
   ]
  },
  {
   "cell_type": "code",
   "execution_count": 40,
   "id": "d4a9f288-1754-47cc-a457-30e164025f52",
   "metadata": {},
   "outputs": [
    {
     "data": {
      "text/plain": [
       "32655"
      ]
     },
     "execution_count": 40,
     "metadata": {},
     "output_type": "execute_result"
    }
   ],
   "source": [
    "int(32655.565)"
   ]
  },
  {
   "cell_type": "markdown",
   "id": "e0bdc140-c1f7-4454-9caf-75b5f633dafd",
   "metadata": {},
   "source": [
    "Global variable"
   ]
  },
  {
   "cell_type": "code",
   "execution_count": 41,
   "id": "9fc2c57f-8d6d-42de-9998-9ba22d52478e",
   "metadata": {},
   "outputs": [],
   "source": [
    "num = 10\n",
    "def test():\n",
    "    num = 100\n",
    "    print(100)\n",
    "\n",
    "    "
   ]
  },
  {
   "cell_type": "code",
   "execution_count": 42,
   "id": "7afd1855-f829-4151-9159-801e18a04377",
   "metadata": {},
   "outputs": [
    {
     "name": "stdout",
     "output_type": "stream",
     "text": [
      "100\n",
      "10\n"
     ]
    }
   ],
   "source": [
    "test()\n",
    "print(num)"
   ]
  },
  {
   "cell_type": "code",
   "execution_count": 43,
   "id": "f0f3c631-1958-4cc3-b084-99189957a6dc",
   "metadata": {},
   "outputs": [],
   "source": [
    "num = 10\n",
    "def test():\n",
    "    global num\n",
    "    num = 100\n",
    "    print(100)\n",
    "\n",
    "    "
   ]
  },
  {
   "cell_type": "code",
   "execution_count": 44,
   "id": "e99c456f-948a-48f7-aabc-8f4c3a665bc9",
   "metadata": {},
   "outputs": [
    {
     "name": "stdout",
     "output_type": "stream",
     "text": [
      "100\n",
      "100\n"
     ]
    }
   ],
   "source": [
    "test()\n",
    "print(num)"
   ]
  },
  {
   "cell_type": "code",
   "execution_count": 45,
   "id": "16af5a1b-faaf-4015-b629-95dea35bff17",
   "metadata": {},
   "outputs": [],
   "source": [
    "x=y=z=1000"
   ]
  },
  {
   "cell_type": "code",
   "execution_count": 46,
   "id": "9d1b79ec-8fe5-4fcb-b87d-01c8d518c7ee",
   "metadata": {},
   "outputs": [
    {
     "name": "stdout",
     "output_type": "stream",
     "text": [
      "1000 1000 1000\n"
     ]
    }
   ],
   "source": [
    "print(x,y,z)"
   ]
  },
  {
   "cell_type": "markdown",
   "id": "861a103b-138f-4e79-afd5-d0719568db85",
   "metadata": {},
   "source": [
    "Variable namming convension"
   ]
  },
  {
   "cell_type": "markdown",
   "id": "26a09feb-fec0-4701-a643-a7974b52f6a0",
   "metadata": {},
   "source": [
    "\n",
    "<!-- 1.Variable name always start with alphabet and underscore.\n",
    "2.Variable name can not be start with numeric ,and special cheractor.\n",
    "3.Variable name in python is case sensetive.\n",
    "4.In python reserved keyword is not used for variable name\n",
    " -->"
   ]
  },
  {
   "cell_type": "code",
   "execution_count": 47,
   "id": "5fafc5bc-e7aa-403b-97a2-0fe338baba84",
   "metadata": {},
   "outputs": [],
   "source": [
    "var1 = \"java\""
   ]
  },
  {
   "cell_type": "code",
   "execution_count": 48,
   "id": "35d1da9b-0581-4109-909e-46ecfc15a532",
   "metadata": {},
   "outputs": [],
   "source": [
    "var2 = \"dsa\""
   ]
  },
  {
   "cell_type": "code",
   "execution_count": 49,
   "id": "6b909a31-6e46-441e-aa4d-0e98b1799bfc",
   "metadata": {},
   "outputs": [],
   "source": [
    "var3 = 34"
   ]
  },
  {
   "cell_type": "code",
   "execution_count": 50,
   "id": "a7eebcb6-8468-4ec5-ada1-9477fd99c694",
   "metadata": {},
   "outputs": [
    {
     "ename": "TypeError",
     "evalue": "can only concatenate str (not \"int\") to str",
     "output_type": "error",
     "traceback": [
      "\u001b[0;31m---------------------------------------------------------------------------\u001b[0m",
      "\u001b[0;31mTypeError\u001b[0m                                 Traceback (most recent call last)",
      "Cell \u001b[0;32mIn[50], line 1\u001b[0m\n\u001b[0;32m----> 1\u001b[0m \u001b[43mvar1\u001b[49m\u001b[38;5;241;43m+\u001b[39;49m\u001b[43mvar3\u001b[49m\n",
      "\u001b[0;31mTypeError\u001b[0m: can only concatenate str (not \"int\") to str"
     ]
    }
   ],
   "source": [
    "var1+var3#different data types"
   ]
  },
  {
   "cell_type": "code",
   "execution_count": 52,
   "id": "78133367-dd0f-4238-b9f1-b9ca460eb63e",
   "metadata": {},
   "outputs": [
    {
     "data": {
      "text/plain": [
       "'java dsa'"
      ]
     },
     "execution_count": 52,
     "metadata": {},
     "output_type": "execute_result"
    }
   ],
   "source": [
    "var1+\" \"+var2"
   ]
  },
  {
   "cell_type": "code",
   "execution_count": null,
   "id": "92096f8f-6b78-4694-ac0d-dc0a779346ad",
   "metadata": {},
   "outputs": [],
   "source": []
  }
 ],
 "metadata": {
  "kernelspec": {
   "display_name": "Python 3 (ipykernel)",
   "language": "python",
   "name": "python3"
  },
  "language_info": {
   "codemirror_mode": {
    "name": "ipython",
    "version": 3
   },
   "file_extension": ".py",
   "mimetype": "text/x-python",
   "name": "python",
   "nbconvert_exporter": "python",
   "pygments_lexer": "ipython3",
   "version": "3.10.8"
  }
 },
 "nbformat": 4,
 "nbformat_minor": 5
}
