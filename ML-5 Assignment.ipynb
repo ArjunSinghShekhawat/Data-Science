{
 "cells": [
  {
   "cell_type": "code",
   "execution_count": null,
   "id": "ce6bd6bb-5a95-42de-90b3-c0b805d9b1a5",
   "metadata": {},
   "outputs": [],
   "source": [
    "\"\"\"\n",
    "Q1. What is Elastic Net Regression and how does it differ from other regression techniques?\n",
    "Q2. How do you choose the optimal values of the regularization parameters for Elastic Net Regression?\n",
    "Q3. What are the advantages and disadvantages of Elastic Net Regression?\n",
    "Q4. What are some common use cases for Elastic Net Regression?\n",
    "Q5. How do you interpret the coefficients in Elastic Net Regression?\n",
    "Q6. How do you handle missing values when using Elastic Net Regression?\n",
    "Q7. How do you use Elastic Net Regression for feature selection?\n",
    "Q8. How do you pickle and unpickle a trained Elastic Net Regression model in Python?\n",
    "Q9. What is the purpose of pickling a model in machine learning?\n",
    "\"\"\""
   ]
  },
  {
   "cell_type": "markdown",
   "id": "aadae8b7-c04f-42a6-a876-5961f3afe324",
   "metadata": {},
   "source": [
    "Q1. Elastic Net Regression combines L1 (Lasso) and L2 (Ridge) regularization, balancing feature selection and correlation handling.\n",
    "\n",
    "Q2. Optimal alpha and l1_ratio values in Elastic Net are chosen through cross-validation, finding the best trade-off.\n",
    "\n",
    "Q3. Advantages: Balances Lasso and Ridge benefits. Disadvantages: Complexity and two hyperparameters.\n",
    "\n",
    "Q4. Elastic Net suits scenarios with many features, multicollinearity, and the need for feature selection.\n",
    "\n",
    "Q5. Coefficients in Elastic Net signify variable importance, with zero indicating excluded features and non-zero as selected.\n",
    "\n",
    "Q6. Handle missing values by imputation or consider using methods that can handle them, like scikit-learn's ElasticNetCV.\n",
    "\n",
    "Q7. Use Elastic Net's feature selection property by setting l1_ratio to favor L1 regularization, which encourages sparsity.\n",
    "\n",
    "Q8. Pickle a trained Elastic Net model in Python with the `pickle` module, and unpickle it for later use.\n",
    "\n",
    "Q9. Pickling a model in machine learning serves to save and store the trained model for future use or sharing."
   ]
  }
 ],
 "metadata": {
  "kernelspec": {
   "display_name": "Python 3 (ipykernel)",
   "language": "python",
   "name": "python3"
  },
  "language_info": {
   "codemirror_mode": {
    "name": "ipython",
    "version": 3
   },
   "file_extension": ".py",
   "mimetype": "text/x-python",
   "name": "python",
   "nbconvert_exporter": "python",
   "pygments_lexer": "ipython3",
   "version": "3.10.8"
  }
 },
 "nbformat": 4,
 "nbformat_minor": 5
}
